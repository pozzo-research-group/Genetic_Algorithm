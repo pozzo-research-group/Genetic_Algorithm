{
 "cells": [
  {
   "cell_type": "code",
   "execution_count": 1,
   "id": "07369a1b",
   "metadata": {},
   "outputs": [
    {
     "name": "stderr",
     "output_type": "stream",
     "text": [
      "INFO: Using numpy backend\n"
     ]
    }
   ],
   "source": [
    "from head import opentrons_Euclidian \n",
    "import pandas as pd\n",
    "import numpy as np\n",
    "from scipy.spatial import distance\n",
    "from sklearn.gaussian_process import GaussianProcessRegressor\n",
    "from sklearn.linear_model import LinearRegression\n",
    "import matplotlib.pyplot as plt"
   ]
  },
  {
   "cell_type": "code",
   "execution_count": 2,
   "id": "a686a611",
   "metadata": {},
   "outputs": [],
   "source": [
    "class Simulator:\n",
    "    def __init__(self):\n",
    "        self.domain = np.linspace(-5,5,num=100)\n",
    "        \n",
    "    def load_data(self):\n",
    "        for i in range(0,9):\n",
    "            df = pd.read_excel('Training Data/Spectra_Itr' + str(i) + '.xlsx')\n",
    "            df = df.dropna(axis=1)\n",
    "            df = df.drop(columns = ['Wavelength'])\n",
    "            array = np.asarray(df)\n",
    "            array = array.T\n",
    "            if i == 0:\n",
    "                array_all = array\n",
    "            else:\n",
    "                array_all = np.vstack((array_all, array))\n",
    "        self.y = array_all\n",
    "        \n",
    "        for i in range(0,9):\n",
    "            df = pd.read_csv('Training Data/Volumes_Itr' + str(i) + '.csv')\n",
    "            df = df.dropna(axis=1)\n",
    "            df = df.drop(columns = ['Unnamed: 0'])\n",
    "            array = np.asarray(df)\n",
    "            if array.shape[0] == 16:\n",
    "                array = array[0:-1,:]\n",
    "            if i == 0:\n",
    "                array_all = array\n",
    "            else:\n",
    "                array_all = np.vstack((array_all, array))\n",
    "        array_all = array_all[:,1:]\n",
    "        self.x = array_all\n",
    "        \n",
    "    def train_model(self):\n",
    "        self.lr = LinearRegression().fit(self.x, self.y)\n",
    "        print(self.lr.score(self.x, self.y))\n",
    "        \n",
    "    def predict(self,x):\n",
    "        return self.lr.predict(x)\n",
    "        \n",
    "    def generate(self, mu, sig):\n",
    "        scale = 1/(np.sqrt(2*np.pi)*sig)\n",
    "        return scale*np.exp(-np.power(self.domain - mu, 2.) / (2 * np.power(sig, 2.)))\n",
    "    \n",
    "    def process_batch(self, Cb, fname):\n",
    "        out = []\n",
    "        for c in Cb:\n",
    "            out.append(self.generate(*c))\n",
    "        out = np.asarray(out)\n",
    "        df = pd.DataFrame(out.T, index=self.domain)\n",
    "        df.to_excel(fname, engine='openpyxl')\n",
    "        return \n",
    "    \n",
    "    def process_batch_2(self, Cb, fname):\n",
    "        df = self.predict(Cb)\n",
    "        df = pd.DataFrame(df.T, columns = ['CTAB', 'GC', 'AG', 'AA'])\n",
    "        df.to_excel(fname, engine='openpyxl')\n",
    "        return \n",
    "    \n",
    "    def make_target(self, ct):\n",
    "        return self.domain, self.generate(*ct)"
   ]
  },
  {
   "cell_type": "code",
   "execution_count": 3,
   "id": "f6667ea9",
   "metadata": {},
   "outputs": [
    {
     "name": "stdout",
     "output_type": "stream",
     "text": [
      "0.4364560360939898\n"
     ]
    }
   ],
   "source": [
    "sim = Simulator()\n",
    "sim.load_data()\n",
    "sim.train_model()"
   ]
  },
  {
   "cell_type": "code",
   "execution_count": 4,
   "id": "23cc8774",
   "metadata": {},
   "outputs": [
    {
     "data": {
      "text/plain": [
       "[<matplotlib.lines.Line2D at 0x7fee538a85b0>]"
      ]
     },
     "execution_count": 4,
     "metadata": {},
     "output_type": "execute_result"
    },
    {
     "data": {
      "image/png": "[encoded data removed]",
      "text/plain": [
       "<Figure size 432x288 with 1 Axes>"
      ]
     },
     "metadata": {
      "needs_background": "light"
     },
     "output_type": "display_data"
    }
   ],
   "source": [
    "plt.plot(np.linspace(400,900,101).reshape(-1,1), sim.predict(np.array([400,200,100,50,125]).reshape(1,-1)).reshape(-1,1))"
   ]
  },
  {
   "cell_type": "code",
   "execution_count": 5,
   "id": "6d43b8a0",
   "metadata": {},
   "outputs": [],
   "source": [
    "CTAB = [20,450]\n",
    "GC = [20,350]\n",
    "AG = [20,150]\n",
    "AA = [20,150]\n",
    "SEEDS = [20,150]\n",
    "bounds = [CTAB, GC, AG, AA, SEEDS]"
   ]
  },
  {
   "cell_type": "code",
   "execution_count": 6,
   "id": "1b68c166",
   "metadata": {},
   "outputs": [],
   "source": [
    "xt = np.linspace(400,900,101).reshape(-1,1)\n",
    "yt = sim.predict(np.array([400,200,100,50,125]).reshape(1,-1)).reshape(-1,1)"
   ]
  },
  {
   "cell_type": "code",
   "execution_count": 7,
   "id": "4fad7b72",
   "metadata": {},
   "outputs": [
    {
     "name": "stderr",
     "output_type": "stream",
     "text": [
      "INFO: Getting suggestions for iteration 0\n"
     ]
    }
   ],
   "source": [
    "optim = opentrons_Euclidian.Optimizer(xt, yt, bounds, \n",
    "                            savedir = 'Data/', batch_size=4)"
   ]
  },
  {
   "cell_type": "code",
   "execution_count": 9,
   "id": "69f4ec0b",
   "metadata": {
    "scrolled": true
   },
   "outputs": [
    {
     "name": "stderr",
     "output_type": "stream",
     "text": [
      "INFO: Current experiment id : 0\n",
      "INFO: Iteration : 1\n",
      "INFO: 0\t[370.08123457  86.13073945  23.39821268 115.81062615  79.1336289 ]\t[[-1.6554622  -1.66646445 -1.68126309 -1.70089364 -1.72266604 -1.74266653\n",
      "  -1.76357411 -1.78269021 -1.80194154 -1.81930226 -1.83468204 -1.84738784\n",
      "  -1.85872303 -1.86425232 -1.86390712 -1.85656442 -1.83694714 -1.80345353\n",
      "  -1.75673075 -1.70856189 -1.66672405 -1.64518776 -1.64054122 -1.64375391\n",
      "  -1.64824417 -1.6536837  -1.65845524 -1.66347558 -1.66983273 -1.67677879\n",
      "  -1.68243033 -1.68289315 -1.67621847 -1.66214442 -1.6468357  -1.64066759\n",
      "  -1.65698478 -1.70806147 -1.79343211 -1.90266105 -2.00829633 -2.10840317\n",
      "  -2.17498362 -2.20493442 -2.17940727 -2.12200163 -2.0302534  -1.91806774\n",
      "  -1.80125206 -1.70247181 -1.64652694 -1.65164706 -1.72743332 -1.86721606\n",
      "  -2.05833253 -2.27006081 -2.49426023 -2.70255621 -2.90465179 -3.08025645\n",
      "  -3.22766322 -3.34660221 -3.42801647 -3.48190558 -3.50362976 -3.50128623\n",
      "  -3.47221932 -3.41971317 -3.34199634 -3.2432298  -3.12586813 -3.00151461\n",
      "  -2.86560993 -2.72306363 -2.57504388 -2.42667746 -2.28329731 -2.14913922\n",
      "  -2.02441082 -1.90870742 -1.81818258 -1.742037   -1.68704322 -1.65310312\n",
      "  -1.64054673 -1.64602148 -1.66824339 -1.70950962 -1.76405829 -1.82341911\n",
      "  -1.89516001 -1.97096034 -2.05100803 -2.13723145 -2.22386139 -2.31229455\n",
      "  -2.41400714 -2.46397098 -2.5661278  -2.65127315 -2.73251639]]\n",
      "INFO: 1\t[372.36455977 205.96020818 133.76360655  91.76024616  33.5182365 ]\t[[-1.72763831 -1.74006753 -1.75621719 -1.77713154 -1.79994383 -1.82067433\n",
      "  -1.84218459 -1.861744   -1.88136032 -1.89899305 -1.91457577 -1.92742583\n",
      "  -1.93887378 -1.94445307 -1.94410484 -1.93669479 -1.91686806 -1.882898\n",
      "  -1.83515911 -1.78520225 -1.74035523 -1.71516182 -1.70698159 -1.70763356\n",
      "  -1.71044115 -1.71436993 -1.71803326 -1.72201847 -1.72719567 -1.73297158\n",
      "  -1.73774007 -1.73813288 -1.7325019  -1.7209514  -1.70949617 -1.70812805\n",
      "  -1.72939312 -1.7846769  -1.87269853 -1.98313058 -2.08900079 -2.18891899\n",
      "  -2.25524439 -2.28505711 -2.25964844 -2.20247209 -2.11094242 -1.99861183\n",
      "  -1.88065899 -1.77879627 -1.71689362 -1.71285912 -1.77698999 -1.90467089\n",
      "  -2.08459767 -2.28733207 -2.50428202 -2.70722567 -2.90503524 -3.07746755\n",
      "  -3.2225287  -3.33975268 -3.42007342 -3.47327157 -3.4947242  -3.49240978\n",
      "  -3.46370766 -3.41187886 -3.33521055 -3.23786234 -3.12232517 -3.00009263\n",
      "  -2.86676337 -2.72726194 -2.58285781 -2.43869546 -2.30008589 -2.17122143\n",
      "  -2.05239371 -1.94337073 -1.8593076  -1.79003027 -1.74166915 -1.71393538\n",
      "  -1.70773377 -1.71624649 -1.74203514 -1.78619672 -1.84268115 -1.90316749\n",
      "  -1.97558687 -2.05164756 -2.1316676  -2.21764673 -2.30389078 -2.39183913\n",
      "  -2.49292554 -2.54256522 -2.64404044 -2.72860854 -2.80930024]]\n",
      "INFO: 2\t[144.16458577 172.90493876  77.01461434  81.39741063 104.38589871]\t[[-2.35201847 -2.36477974 -2.38048383 -2.40003653 -2.42078466 -2.43931374\n",
      "  -2.45832069 -2.47546605 -2.49256493 -2.50787271 -2.52136319 -2.5324669\n",
      "  -2.54234608 -2.54715704 -2.54685684 -2.54046651 -2.52334522 -2.49390196\n",
      "  -2.45213277 -2.40743092 -2.36506646 -2.33783049 -2.32470643 -2.32051069\n",
      "  -2.31966385 -2.32003079 -2.32092469 -2.32220994 -2.324182   -2.32665069\n",
      "  -2.32884147 -2.329027   -2.32644164 -2.32184181 -2.31975962 -2.32751085\n",
      "  -2.35387464 -2.40695159 -2.4850249  -2.58045912 -2.67147781 -2.75757685\n",
      "  -2.81495244 -2.84081166 -2.81876965 -2.76928472 -2.69035722 -2.59377274\n",
      "  -2.49195497 -2.40156738 -2.33995732 -2.3197884  -2.34968522 -2.43035044\n",
      "  -2.55728477 -2.71063144 -2.88312575 -3.05045535 -3.21797373 -3.36694581\n",
      "  -3.4940829  -3.59788782 -3.66951325 -3.71716101 -3.73642054 -3.7343415\n",
      "  -3.70858309 -3.66218816 -3.59384916 -3.50760955 -3.4060951  -3.29978918\n",
      "  -3.18526197 -3.06723982 -2.94730394 -2.8302075  -2.72055693 -2.62171247\n",
      "  -2.53381424 -2.45668616 -2.40038358 -2.35726636 -2.33072737 -2.3199515\n",
      "  -2.32668891 -2.33917176 -2.36673455 -2.40833756 -2.4587574  -2.51148976\n",
      "  -2.57396912 -2.63936032 -2.70820238 -2.78240307 -2.85717126 -2.93381686\n",
      "  -3.02243759 -3.06616371 -3.15597146 -3.23123841 -3.30340111]]\n",
      "INFO: 3\t[239.83338177 158.13057244 120.13072848  86.3941288   87.20508218]\t[[-1.97304523 -1.96374503 -1.95666684 -1.95221634 -1.95111038 -1.95242117\n",
      "  -1.95551601 -1.95955252 -1.96456988 -1.96979111 -1.97489937 -1.97942743\n",
      "  -1.98368324 -1.98582895 -1.98569369 -1.98285776 -1.97568698 -1.96499981\n",
      "  -1.95433628 -1.95145965 -1.96357865 -1.98996353 -2.02158171 -2.04702297\n",
      "  -2.06469966 -2.08116667 -2.09359135 -2.10545513 -2.11928018 -2.13330658\n",
      "  -2.14410055 -2.14496395 -2.13220889 -2.1024048  -2.05975913 -2.01199385\n",
      "  -1.97142798 -1.95149563 -1.96224471 -2.00187534 -2.05422732 -2.11205118\n",
      "  -2.15385225 -2.17339015 -2.15671087 -2.1203932  -2.06632032 -2.00881932\n",
      "  -1.96437548 -1.95202321 -1.9867608  -2.07537287 -2.21894268 -2.40579845\n",
      "  -2.62689146 -2.85536825 -3.0888232  -3.30160508 -3.50584854 -3.68219805\n",
      "  -3.82968115 -3.94841435 -4.02957967 -4.08326352 -4.10489676 -4.10256326\n",
      "  -4.07361633 -4.02130528 -3.94382015 -3.84523287 -3.72787881 -3.60322469\n",
      "  -3.46651662 -3.32241188 -3.17169836 -3.01905831 -2.86933593 -2.72623886\n",
      "  -2.58906623 -2.45582294 -2.34433979 -2.24069993 -2.15258315 -2.07955108\n",
      "  -2.01453045 -1.98790805 -1.96264183 -1.95139633 -1.95560513 -1.9711163\n",
      "  -1.9985944  -2.03454176 -2.07807315 -2.12985885 -2.18595136 -2.24663735\n",
      "  -2.31997588 -2.35719366 -2.43539938 -2.50248632 -2.56790368]]\n"
     ]
    },
    {
     "ename": "RuntimeError",
     "evalue": "wrong batch shape",
     "output_type": "error",
     "traceback": [
      "\u001b[0;31m---------------------------------------------------------------------------\u001b[0m",
      "\u001b[0;31mRuntimeError\u001b[0m                              Traceback (most recent call last)",
      "\u001b[0;32m<ipython-input-9-f95b5f739758>\u001b[0m in \u001b[0;36m<module>\u001b[0;34m\u001b[0m\n\u001b[1;32m      3\u001b[0m \u001b[0mC0\u001b[0m \u001b[0;34m=\u001b[0m \u001b[0mnp\u001b[0m\u001b[0;34m.\u001b[0m\u001b[0mload\u001b[0m\u001b[0;34m(\u001b[0m\u001b[0;34m'Data/0/new_x.npy'\u001b[0m\u001b[0;34m)\u001b[0m\u001b[0;34m\u001b[0m\u001b[0;34m\u001b[0m\u001b[0m\n\u001b[1;32m      4\u001b[0m \u001b[0msim\u001b[0m\u001b[0;34m.\u001b[0m\u001b[0mprocess_batch_2\u001b[0m\u001b[0;34m(\u001b[0m\u001b[0mC0\u001b[0m\u001b[0;34m,\u001b[0m \u001b[0;34m'Data/0.xlsx'\u001b[0m\u001b[0;34m)\u001b[0m\u001b[0;34m\u001b[0m\u001b[0;34m\u001b[0m\u001b[0m\n\u001b[0;32m----> 5\u001b[0;31m \u001b[0moptim\u001b[0m\u001b[0;34m.\u001b[0m\u001b[0mupdate\u001b[0m\u001b[0;34m(\u001b[0m\u001b[0;34m'Data/0.xlsx'\u001b[0m\u001b[0;34m)\u001b[0m\u001b[0;34m\u001b[0m\u001b[0;34m\u001b[0m\u001b[0m\n\u001b[0m\u001b[1;32m      6\u001b[0m \u001b[0moptim\u001b[0m\u001b[0;34m.\u001b[0m\u001b[0msave\u001b[0m\u001b[0;34m(\u001b[0m\u001b[0;34m)\u001b[0m\u001b[0;34m\u001b[0m\u001b[0;34m\u001b[0m\u001b[0m\n",
      "\u001b[0;32m/mnt/c/Users/Huat Thart/Desktop/Genetic_Algorithm/head/opentrons_Euclidian.py\u001b[0m in \u001b[0;36mupdate\u001b[0;34m(self, xlsx, read_spectra)\u001b[0m\n\u001b[1;32m    143\u001b[0m         \u001b[0mself\u001b[0m\u001b[0;34m.\u001b[0m\u001b[0mtrain_obj\u001b[0m \u001b[0;34m=\u001b[0m \u001b[0mtorch\u001b[0m\u001b[0;34m.\u001b[0m\u001b[0mcat\u001b[0m\u001b[0;34m(\u001b[0m\u001b[0;34m[\u001b[0m\u001b[0mself\u001b[0m\u001b[0;34m.\u001b[0m\u001b[0mtrain_obj\u001b[0m\u001b[0;34m,\u001b[0m \u001b[0mself\u001b[0m\u001b[0;34m.\u001b[0m\u001b[0mnew_obj\u001b[0m\u001b[0;34m]\u001b[0m\u001b[0;34m)\u001b[0m\u001b[0;34m\u001b[0m\u001b[0;34m\u001b[0m\u001b[0m\n\u001b[1;32m    144\u001b[0m         \u001b[0;31m# re-initialize\u001b[0m\u001b[0;34m\u001b[0m\u001b[0;34m\u001b[0m\u001b[0;34m\u001b[0m\u001b[0m\n\u001b[0;32m--> 145\u001b[0;31m         \u001b[0mself\u001b[0m\u001b[0;34m.\u001b[0m\u001b[0minitialize_model\u001b[0m\u001b[0;34m(\u001b[0m\u001b[0;34m)\u001b[0m\u001b[0;34m\u001b[0m\u001b[0;34m\u001b[0m\u001b[0m\n\u001b[0m\u001b[1;32m    146\u001b[0m \u001b[0;34m\u001b[0m\u001b[0m\n\u001b[1;32m    147\u001b[0m         \u001b[0;32mreturn\u001b[0m\u001b[0;34m\u001b[0m\u001b[0;34m\u001b[0m\u001b[0m\n",
      "\u001b[0;32m/mnt/c/Users/Huat Thart/Desktop/Genetic_Algorithm/head/opentrons_Euclidian.py\u001b[0m in \u001b[0;36minitialize_model\u001b[0;34m(self)\u001b[0m\n\u001b[1;32m     78\u001b[0m \u001b[0;34m\u001b[0m\u001b[0m\n\u001b[1;32m     79\u001b[0m     \u001b[0;32mdef\u001b[0m \u001b[0minitialize_model\u001b[0m\u001b[0;34m(\u001b[0m\u001b[0mself\u001b[0m\u001b[0;34m)\u001b[0m\u001b[0;34m:\u001b[0m\u001b[0;34m\u001b[0m\u001b[0;34m\u001b[0m\u001b[0m\n\u001b[0;32m---> 80\u001b[0;31m         self.model = SingleTaskGP(self.train_x, self.train_obj, \n\u001b[0m\u001b[1;32m     81\u001b[0m             outcome_transform=Standardize(m=self.train_obj.shape[-1]))\n\u001b[1;32m     82\u001b[0m         \u001b[0mself\u001b[0m\u001b[0;34m.\u001b[0m\u001b[0mmll\u001b[0m \u001b[0;34m=\u001b[0m \u001b[0mExactMarginalLogLikelihood\u001b[0m\u001b[0;34m(\u001b[0m\u001b[0mself\u001b[0m\u001b[0;34m.\u001b[0m\u001b[0mmodel\u001b[0m\u001b[0;34m.\u001b[0m\u001b[0mlikelihood\u001b[0m\u001b[0;34m,\u001b[0m \u001b[0mself\u001b[0m\u001b[0;34m.\u001b[0m\u001b[0mmodel\u001b[0m\u001b[0;34m)\u001b[0m\u001b[0;34m\u001b[0m\u001b[0;34m\u001b[0m\u001b[0m\n",
      "\u001b[0;32m~/miniconda3/lib/python3.8/site-packages/botorch/models/gp_regression.py\u001b[0m in \u001b[0;36m__init__\u001b[0;34m(self, train_X, train_Y, likelihood, covar_module, outcome_transform, input_transform)\u001b[0m\n\u001b[1;32m     96\u001b[0m             )\n\u001b[1;32m     97\u001b[0m         \u001b[0;32mif\u001b[0m \u001b[0moutcome_transform\u001b[0m \u001b[0;32mis\u001b[0m \u001b[0;32mnot\u001b[0m \u001b[0;32mNone\u001b[0m\u001b[0;34m:\u001b[0m\u001b[0;34m\u001b[0m\u001b[0;34m\u001b[0m\u001b[0m\n\u001b[0;32m---> 98\u001b[0;31m             \u001b[0mtrain_Y\u001b[0m\u001b[0;34m,\u001b[0m \u001b[0m_\u001b[0m \u001b[0;34m=\u001b[0m \u001b[0moutcome_transform\u001b[0m\u001b[0;34m(\u001b[0m\u001b[0mtrain_Y\u001b[0m\u001b[0;34m)\u001b[0m\u001b[0;34m\u001b[0m\u001b[0;34m\u001b[0m\u001b[0m\n\u001b[0m\u001b[1;32m     99\u001b[0m         \u001b[0mself\u001b[0m\u001b[0;34m.\u001b[0m\u001b[0m_validate_tensor_args\u001b[0m\u001b[0;34m(\u001b[0m\u001b[0mX\u001b[0m\u001b[0;34m=\u001b[0m\u001b[0mtransformed_X\u001b[0m\u001b[0;34m,\u001b[0m \u001b[0mY\u001b[0m\u001b[0;34m=\u001b[0m\u001b[0mtrain_Y\u001b[0m\u001b[0;34m)\u001b[0m\u001b[0;34m\u001b[0m\u001b[0;34m\u001b[0m\u001b[0m\n\u001b[1;32m    100\u001b[0m         \u001b[0mvalidate_input_scaling\u001b[0m\u001b[0;34m(\u001b[0m\u001b[0mtrain_X\u001b[0m\u001b[0;34m=\u001b[0m\u001b[0mtransformed_X\u001b[0m\u001b[0;34m,\u001b[0m \u001b[0mtrain_Y\u001b[0m\u001b[0;34m=\u001b[0m\u001b[0mtrain_Y\u001b[0m\u001b[0;34m)\u001b[0m\u001b[0;34m\u001b[0m\u001b[0;34m\u001b[0m\u001b[0m\n",
      "\u001b[0;32m~/miniconda3/lib/python3.8/site-packages/torch/nn/modules/module.py\u001b[0m in \u001b[0;36m_call_impl\u001b[0;34m(self, *input, **kwargs)\u001b[0m\n\u001b[1;32m   1049\u001b[0m         if not (self._backward_hooks or self._forward_hooks or self._forward_pre_hooks or _global_backward_hooks\n\u001b[1;32m   1050\u001b[0m                 or _global_forward_hooks or _global_forward_pre_hooks):\n\u001b[0;32m-> 1051\u001b[0;31m             \u001b[0;32mreturn\u001b[0m \u001b[0mforward_call\u001b[0m\u001b[0;34m(\u001b[0m\u001b[0;34m*\u001b[0m\u001b[0minput\u001b[0m\u001b[0;34m,\u001b[0m \u001b[0;34m**\u001b[0m\u001b[0mkwargs\u001b[0m\u001b[0;34m)\u001b[0m\u001b[0;34m\u001b[0m\u001b[0;34m\u001b[0m\u001b[0m\n\u001b[0m\u001b[1;32m   1052\u001b[0m         \u001b[0;31m# Do not call functions when jit is used\u001b[0m\u001b[0;34m\u001b[0m\u001b[0;34m\u001b[0m\u001b[0;34m\u001b[0m\u001b[0m\n\u001b[1;32m   1053\u001b[0m         \u001b[0mfull_backward_hooks\u001b[0m\u001b[0;34m,\u001b[0m \u001b[0mnon_full_backward_hooks\u001b[0m \u001b[0;34m=\u001b[0m \u001b[0;34m[\u001b[0m\u001b[0;34m]\u001b[0m\u001b[0;34m,\u001b[0m \u001b[0;34m[\u001b[0m\u001b[0;34m]\u001b[0m\u001b[0;34m\u001b[0m\u001b[0;34m\u001b[0m\u001b[0m\n",
      "\u001b[0;32m~/miniconda3/lib/python3.8/site-packages/botorch/models/transforms/outcome.py\u001b[0m in \u001b[0;36mforward\u001b[0;34m(self, Y, Yvar)\u001b[0m\n\u001b[1;32m    242\u001b[0m         \u001b[0;32mif\u001b[0m \u001b[0mself\u001b[0m\u001b[0;34m.\u001b[0m\u001b[0mtraining\u001b[0m\u001b[0;34m:\u001b[0m\u001b[0;34m\u001b[0m\u001b[0;34m\u001b[0m\u001b[0m\n\u001b[1;32m    243\u001b[0m             \u001b[0;32mif\u001b[0m \u001b[0mY\u001b[0m\u001b[0;34m.\u001b[0m\u001b[0mshape\u001b[0m\u001b[0;34m[\u001b[0m\u001b[0;34m:\u001b[0m\u001b[0;34m-\u001b[0m\u001b[0;36m2\u001b[0m\u001b[0;34m]\u001b[0m \u001b[0;34m!=\u001b[0m \u001b[0mself\u001b[0m\u001b[0;34m.\u001b[0m\u001b[0m_batch_shape\u001b[0m\u001b[0;34m:\u001b[0m\u001b[0;34m\u001b[0m\u001b[0;34m\u001b[0m\u001b[0m\n\u001b[0;32m--> 244\u001b[0;31m                 \u001b[0;32mraise\u001b[0m \u001b[0mRuntimeError\u001b[0m\u001b[0;34m(\u001b[0m\u001b[0;34m\"wrong batch shape\"\u001b[0m\u001b[0;34m)\u001b[0m\u001b[0;34m\u001b[0m\u001b[0;34m\u001b[0m\u001b[0m\n\u001b[0m\u001b[1;32m    245\u001b[0m             \u001b[0;32mif\u001b[0m \u001b[0mY\u001b[0m\u001b[0;34m.\u001b[0m\u001b[0msize\u001b[0m\u001b[0;34m(\u001b[0m\u001b[0;34m-\u001b[0m\u001b[0;36m1\u001b[0m\u001b[0;34m)\u001b[0m \u001b[0;34m!=\u001b[0m \u001b[0mself\u001b[0m\u001b[0;34m.\u001b[0m\u001b[0m_m\u001b[0m\u001b[0;34m:\u001b[0m\u001b[0;34m\u001b[0m\u001b[0;34m\u001b[0m\u001b[0m\n\u001b[1;32m    246\u001b[0m                 \u001b[0;32mraise\u001b[0m \u001b[0mRuntimeError\u001b[0m\u001b[0;34m(\u001b[0m\u001b[0;34m\"wrong output dimension\"\u001b[0m\u001b[0;34m)\u001b[0m\u001b[0;34m\u001b[0m\u001b[0;34m\u001b[0m\u001b[0m\n",
      "\u001b[0;31mRuntimeError\u001b[0m: wrong batch shape"
     ]
    }
   ],
   "source": [
    "# random iteration\n",
    "optim.save()\n",
    "C0 = np.load('Data/0/new_x.npy')\n",
    "sim.process_batch_2(C0, 'Data/0.xlsx')\n",
    "optim.update('Data/0.xlsx')\n",
    "optim.save()"
   ]
  },
  {
   "cell_type": "code",
   "execution_count": null,
   "id": "0e61b2bf",
   "metadata": {},
   "outputs": [],
   "source": []
  },
  {
   "cell_type": "code",
   "execution_count": 151,
   "id": "abcb779a",
   "metadata": {},
   "outputs": [
    {
     "name": "stderr",
     "output_type": "stream",
     "text": [
      "INFO: Getting suggestions for iteration 1\n"
     ]
    },
    {
     "ename": "AttributeError",
     "evalue": "'Optimizer' object has no attribute 'mll'",
     "output_type": "error",
     "traceback": [
      "\u001b[0;31m---------------------------------------------------------------------------\u001b[0m",
      "\u001b[0;31mAttributeError\u001b[0m                            Traceback (most recent call last)",
      "\u001b[0;32m<ipython-input-151-7f86413950b7>\u001b[0m in \u001b[0;36m<module>\u001b[0;34m\u001b[0m\n\u001b[1;32m      1\u001b[0m \u001b[0;32mfor\u001b[0m \u001b[0mi\u001b[0m \u001b[0;32min\u001b[0m \u001b[0mrange\u001b[0m\u001b[0;34m(\u001b[0m\u001b[0;36m1\u001b[0m\u001b[0;34m,\u001b[0m\u001b[0;36m5\u001b[0m\u001b[0;34m)\u001b[0m\u001b[0;34m:\u001b[0m\u001b[0;34m\u001b[0m\u001b[0;34m\u001b[0m\u001b[0m\n\u001b[1;32m      2\u001b[0m     \u001b[0;31m# iteration i selection\u001b[0m\u001b[0;34m\u001b[0m\u001b[0;34m\u001b[0m\u001b[0;34m\u001b[0m\u001b[0m\n\u001b[0;32m----> 3\u001b[0;31m     \u001b[0moptim\u001b[0m\u001b[0;34m.\u001b[0m\u001b[0msuggest_next\u001b[0m\u001b[0;34m(\u001b[0m\u001b[0;34m)\u001b[0m\u001b[0;34m\u001b[0m\u001b[0;34m\u001b[0m\u001b[0m\n\u001b[0m\u001b[1;32m      4\u001b[0m     \u001b[0moptim\u001b[0m\u001b[0;34m.\u001b[0m\u001b[0msave\u001b[0m\u001b[0;34m(\u001b[0m\u001b[0;34m)\u001b[0m\u001b[0;34m\u001b[0m\u001b[0;34m\u001b[0m\u001b[0m\n\u001b[1;32m      5\u001b[0m     \u001b[0;31m# simulate iteration i new_x\u001b[0m\u001b[0;34m\u001b[0m\u001b[0;34m\u001b[0m\u001b[0;34m\u001b[0m\u001b[0m\n",
      "\u001b[0;32m/mnt/c/Users/Huat Thart/Desktop/Genetic_Algorithm/head/opentrons_Euclidian.py\u001b[0m in \u001b[0;36msuggest_next\u001b[0;34m(self)\u001b[0m\n\u001b[1;32m     91\u001b[0m             \u001b[0mself\u001b[0m\u001b[0;34m.\u001b[0m\u001b[0mnew_x\u001b[0m \u001b[0;34m=\u001b[0m \u001b[0mself\u001b[0m\u001b[0;34m.\u001b[0m\u001b[0mdraw_random_batch\u001b[0m\u001b[0;34m(\u001b[0m\u001b[0mn_samples\u001b[0m\u001b[0;34m=\u001b[0m\u001b[0mself\u001b[0m\u001b[0;34m.\u001b[0m\u001b[0mbatch_size\u001b[0m\u001b[0;34m)\u001b[0m\u001b[0;34m\u001b[0m\u001b[0;34m\u001b[0m\u001b[0m\n\u001b[1;32m     92\u001b[0m         \u001b[0;32melse\u001b[0m\u001b[0;34m:\u001b[0m\u001b[0;34m\u001b[0m\u001b[0;34m\u001b[0m\u001b[0m\n\u001b[0;32m---> 93\u001b[0;31m             \u001b[0mfit_gpytorch_model\u001b[0m\u001b[0;34m(\u001b[0m\u001b[0mself\u001b[0m\u001b[0;34m.\u001b[0m\u001b[0mmll\u001b[0m\u001b[0;34m)\u001b[0m\u001b[0;34m\u001b[0m\u001b[0;34m\u001b[0m\u001b[0m\n\u001b[0m\u001b[1;32m     94\u001b[0m             \u001b[0mself\u001b[0m\u001b[0;34m.\u001b[0m\u001b[0mbest_f\u001b[0m \u001b[0;34m=\u001b[0m \u001b[0mself\u001b[0m\u001b[0;34m.\u001b[0m\u001b[0mtrain_obj\u001b[0m\u001b[0;34m.\u001b[0m\u001b[0mmax\u001b[0m\u001b[0;34m(\u001b[0m\u001b[0maxis\u001b[0m\u001b[0;34m=\u001b[0m\u001b[0;36m0\u001b[0m\u001b[0;34m)\u001b[0m\u001b[0;34m.\u001b[0m\u001b[0mvalues\u001b[0m\u001b[0;34m\u001b[0m\u001b[0;34m\u001b[0m\u001b[0m\n\u001b[1;32m     95\u001b[0m             \u001b[0mself\u001b[0m\u001b[0;34m.\u001b[0m\u001b[0macquisition\u001b[0m \u001b[0;34m=\u001b[0m \u001b[0mqExpectedImprovement\u001b[0m\u001b[0;34m(\u001b[0m\u001b[0mself\u001b[0m\u001b[0;34m.\u001b[0m\u001b[0mmodel\u001b[0m\u001b[0;34m,\u001b[0m \u001b[0mbest_f\u001b[0m \u001b[0;34m=\u001b[0m \u001b[0mself\u001b[0m\u001b[0;34m.\u001b[0m\u001b[0mbest_f\u001b[0m\u001b[0;34m)\u001b[0m\u001b[0;34m\u001b[0m\u001b[0;34m\u001b[0m\u001b[0m\n",
      "\u001b[0;31mAttributeError\u001b[0m: 'Optimizer' object has no attribute 'mll'"
     ]
    }
   ],
   "source": [
    "for i in range(1,5):\n",
    "    # iteration i selection\n",
    "    optim.suggest_next()\n",
    "    optim.save()\n",
    "    # simulate iteration i new_x \n",
    "    Ci = np.load('Data/%d/new_x.npy'%i)\n",
    "    #sim.process_batch(Ci, 'Data/%d.xlsx'%i)\n",
    "    optim.update('Data/%d.xlsx'%i)\n",
    "    optim.save()"
   ]
  },
  {
   "cell_type": "code",
   "execution_count": null,
   "id": "0b4fb826",
   "metadata": {},
   "outputs": [],
   "source": []
  }
 ],
 "metadata": {
  "kernelspec": {
   "display_name": "Python 3",
   "language": "python",
   "name": "python3"
  },
  "language_info": {
   "codemirror_mode": {
    "name": "ipython",
    "version": 3
   },
   "file_extension": ".py",
   "mimetype": "text/x-python",
   "name": "python",
   "nbconvert_exporter": "python",
   "pygments_lexer": "ipython3",
   "version": "3.8.2"
  }
 },
 "nbformat": 4,
 "nbformat_minor": 5
}
