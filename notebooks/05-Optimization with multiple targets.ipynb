{
 "cells": [
  {
   "cell_type": "code",
   "execution_count": 1,
   "id": "d1913f80",
   "metadata": {},
   "outputs": [],
   "source": [
    "%load_ext autoreload\n",
    "%autoreload 2"
   ]
  },
  {
   "cell_type": "code",
   "execution_count": 2,
   "id": "25917f6b",
   "metadata": {},
   "outputs": [],
   "source": [
    "import head\n",
    "import numpy as np\n",
    "import pandas as pd\n",
    "\n",
    "import matplotlib.pyplot as plt\n",
    "import pdb\n",
    "import warnings\n",
    "warnings.filterwarnings(\"ignore\")"
   ]
  },
  {
   "cell_type": "code",
   "execution_count": 3,
   "id": "248be1cb",
   "metadata": {},
   "outputs": [
    {
     "data": {
      "image/png": "[encoded data removed]",
      "text/plain": [
       "<Figure size 576x288 with 2 Axes>"
      ]
     },
     "metadata": {
      "needs_background": "light"
     },
     "output_type": "display_data"
    }
   ],
   "source": [
    "\"\"\"Generate a target spectrum\n",
    "We simulate a target spectrum with a fixed number of spehre's with \n",
    "radii sampled from a narrow lognormal distribution\n",
    "\"\"\"\n",
    "sim = head.Emulator()\n",
    "fig, axs = plt.subplots(1,2,figsize=(8,4))\n",
    "R_mu = 1\n",
    "R_sigma = 1e-2\n",
    "sim.make_structure(r_mu=R_mu,r_sigma=R_sigma)\n",
    "sim.plot_structure2d(ax=axs[0])\n",
    "\n",
    "q, st = sim.get_saxs()\n",
    "axs[1].loglog(q, st)\n",
    "fig.suptitle('r = '+','.join('%.2f'%i for i in sim.step*sim.radii))\n",
    "plt.show()"
   ]
  },
  {
   "cell_type": "code",
   "execution_count": 4,
   "id": "588c979a",
   "metadata": {},
   "outputs": [
    {
     "data": {
      "image/png": "[encoded data removed]",
      "text/plain": [
       "<Figure size 432x288 with 1 Axes>"
      ]
     },
     "metadata": {
      "needs_background": "light"
     },
     "output_type": "display_data"
    }
   ],
   "source": [
    "\"\"\"\n",
    "create a search space as a grid of mu and sigma values of lognormal radii distribution\n",
    "\n",
    "\"\"\"\n",
    "NUM = 5\n",
    "X = np.linspace(0.75,1.25, num=NUM) \n",
    "Y = np.linspace(1e-3,1e-1, num=NUM)\n",
    "grid = head.Grid(X,Y)\n",
    "fig, ax = plt.subplots()\n",
    "ax.scatter(grid.points[:,0], grid.points[:,1], label='Grid points')\n",
    "ax.scatter(R_mu, R_sigma, s=100, color='tab:red', label='Target')\n",
    "ax.set_xlabel(r'$r_{\\mu}$')\n",
    "ax.set_ylabel(r'$r_{\\sigma}$')\n",
    "plt.show()"
   ]
  },
  {
   "cell_type": "code",
   "execution_count": 5,
   "id": "863f358f",
   "metadata": {},
   "outputs": [],
   "source": [
    "# define a model for the loss function we would like to optimize\n",
    "from sklearn.gaussian_process import GaussianProcessRegressor\n",
    "from sklearn.gaussian_process.kernels import Matern\n",
    "\n",
    "kernel = 1.0 * Matern(length_scale=0.2, nu=1.5)\n",
    "model = GaussianProcessRegressor(kernel=kernel)"
   ]
  },
  {
   "cell_type": "code",
   "execution_count": 6,
   "id": "1e049144",
   "metadata": {},
   "outputs": [],
   "source": [
    "query_strategy = head.thompson_sampling"
   ]
  },
  {
   "cell_type": "code",
   "execution_count": 7,
   "id": "cab6cbf7",
   "metadata": {},
   "outputs": [],
   "source": [
    "\"\"\"Implement a evaluate_input function\n",
    "This function takes points in the input space and return spectra at those locations\n",
    "\"\"\"\n",
    "def evaluate_inputs(Xb):\n",
    "    Sb = []\n",
    "    for xbi in Xb:\n",
    "        sim.make_structure(r_mu=xbi[0],r_sigma=xbi[1])\n",
    "        q, pq = sim.get_saxs()\n",
    "        Sb.append(pq)\n",
    "    return Sb"
   ]
  },
  {
   "cell_type": "code",
   "execution_count": 8,
   "id": "1f816a0a",
   "metadata": {},
   "outputs": [],
   "source": [
    "from head.metrics import euclidean_dist\n",
    "\n",
    "def oracle(si,st):\n",
    "    \"\"\"Scoring function between two spectra\n",
    "    Given two spectra in si, st compute a score between them.\n",
    "    Note that here si, st are represented using the class `head.UVVis`.\n",
    "    If you are using arrays, you'd have to make necessary transformations.\n",
    "    \"\"\"\n",
    "    return euclidean_dist(np.log10(si),np.log10(st))"
   ]
  },
  {
   "cell_type": "code",
   "execution_count": 9,
   "id": "fc328e47",
   "metadata": {},
   "outputs": [],
   "source": [
    "experiment = {}"
   ]
  },
  {
   "cell_type": "code",
   "execution_count": 10,
   "id": "b15eaae0",
   "metadata": {},
   "outputs": [
    {
     "name": "stdout",
     "output_type": "stream",
     "text": [
      "Requested batch evaluation for the following:  [[1.125e+00 2.575e-02]\n",
      " [1.250e+00 1.000e-03]] \n",
      "\n",
      "Obtained 2 spectra as a list \n",
      "\n",
      "1\n",
      "Obtained score values for the current batch are:  [-8.58505701 -9.38562458] \n",
      "\n",
      "Requested batch evaluation for the following:\n",
      " [[1.125e+00 1.000e-01]\n",
      " [7.500e-01 1.000e-03]\n",
      " [7.500e-01 1.000e-01]\n",
      " [7.500e-01 1.000e-03]\n",
      " [8.750e-01 1.000e-03]] \n",
      "\n",
      "Obtained 5 spectra as a list \n",
      "\n",
      "2\n",
      "Obtained score values for the 0 batch are:  [-6.24273092 -9.37561221 -8.01300477 -9.08724574 -9.21390099] \n",
      "\n",
      "Requested batch evaluation for the following:\n",
      " [[1.125 0.1  ]\n",
      " [1.    0.1  ]\n",
      " [1.    0.1  ]\n",
      " [1.    0.1  ]\n",
      " [1.125 0.1  ]] \n",
      "\n",
      "Obtained 5 spectra as a list \n",
      "\n",
      "3\n",
      "Obtained score values for the 1 batch are:  [-6.54340302 -4.88020927 -4.23550963 -5.00308134 -9.73590402] \n",
      "\n"
     ]
    }
   ],
   "source": [
    "from modAL.models import BayesianOptimizer\n",
    "\n",
    "design = head.ExampleRunner(grid)\n",
    "design.set_params(**{'oracle':oracle,\n",
    "                     'st':st\n",
    "                    }\n",
    "                 )\n",
    "\n",
    "n_iterations = 2 # total number of iterations to run the batch search for\n",
    "batch_size = 5 # batch size requested in each query\n",
    "n_initial = 2 # number of intitial samples to select randomly\n",
    "\n",
    "# initiate the optimization by randomly sampling `n_initial` samples\n",
    "X0 = design.request_batch(n_initial, is_init=True)\n",
    "print('Requested batch evaluation for the following: ', X0,'\\n')\n",
    "\n",
    "# You would eventually replace this function using the `get_OT2batch` at appropriate places\n",
    "S0 = evaluate_inputs(X0)\n",
    "print('Obtained %d spectra as a list'%len(S0),'\\n')\n",
    "Y0 = design.evaluate_batch(S0)\n",
    "print('Obtained score values for the current batch are: ',Y0,'\\n')\n",
    "\n",
    "experiment.update({0:(X0,S0,Y0)})\n",
    "\n",
    "# create a optimizer module with the obtained initial samples from above\n",
    "optimizer = BayesianOptimizer(\n",
    "    estimator=model,\n",
    "    query_strategy=query_strategy,\n",
    "    X_training = X0,\n",
    "    y_training = Y0\n",
    ")\n",
    "\n",
    "design.set_params(**{'optimizer':optimizer})\n",
    "\n",
    "for n_iter in range(n_iterations):\n",
    "    Xb = design.request_batch(batch_size, is_init=False)\n",
    "    print('Requested batch evaluation for the following:\\n', Xb,'\\n')\n",
    "    Sb = evaluate_inputs(Xb)\n",
    "    print('Obtained %d spectra as a list'%len(Sb),'\\n')\n",
    "    Yb = design.evaluate_batch(Sb)\n",
    "    print('Obtained score values for the %d batch are: '%n_iter,Yb,'\\n')\n",
    "    experiment.update({n_iter+1:(Xb,Sb,Yb)})\n",
    "    design.optimizer.teach(Xb, Yb)"
   ]
  },
  {
   "cell_type": "code",
   "execution_count": 11,
   "id": "8f783c7d",
   "metadata": {},
   "outputs": [
    {
     "name": "stdout",
     "output_type": "stream",
     "text": [
      "Optimized values r_mu = 1.00 , r_sigma = 0.10\n"
     ]
    },
    {
     "data": {
      "image/png": "[encoded data removed]",
      "text/plain": [
       "<Figure size 576x288 with 2 Axes>"
      ]
     },
     "metadata": {
      "needs_background": "light"
     },
     "output_type": "display_data"
    }
   ],
   "source": [
    "X_max, y_max = design.optimizer.get_max()\n",
    "print('Optimized values r_mu = %.2f , r_sigma = %.2f'%(X_max[0],X_max[1]))\n",
    "\n",
    "fig, axs = plt.subplots(1,2,figsize=(8,4))\n",
    "sim.make_structure(r_mu=X_max[0],r_sigma=X_max[1])\n",
    "sim.plot_structure2d(ax=axs[0])\n",
    "axs[0].set_title('r = '+','.join('%.2f'%i for i in sim.step*sim.radii))\n",
    "\n",
    "sbest = design.get_best_spectrum(X_max)\n",
    "axs[1].loglog(q,sbest)\n",
    "axs[1].loglog(q, st)\n",
    "axs[1].set_title('Oracle score {:.2f}'.format(float(y_max)))\n",
    "axs[1].legend(['Target','Best'])\n",
    "plt.show()"
   ]
  },
  {
   "cell_type": "code",
   "execution_count": 12,
   "id": "1bdee50d",
   "metadata": {},
   "outputs": [],
   "source": [
    "import pickle\n",
    "\n",
    "with open('../data/expt.pkl', 'wb') as handle:\n",
    "    pickle.dump(experiment, handle, protocol=pickle.HIGHEST_PROTOCOL)\n",
    "\n",
    "with open('../data/expt.pkl', 'rb') as handle:\n",
    "    b = pickle.load(handle)\n",
    "    \n",
    "assert len(b)==n_iterations+1 ,\"expt.pkl length is not correct\""
   ]
  },
  {
   "cell_type": "code",
   "execution_count": null,
   "id": "0eedac21",
   "metadata": {},
   "outputs": [],
   "source": []
  }
 ],
 "metadata": {
  "kernelspec": {
   "display_name": "head",
   "language": "python",
   "name": "head"
  },
  "language_info": {
   "codemirror_mode": {
    "name": "ipython",
    "version": 3
   },
   "file_extension": ".py",
   "mimetype": "text/x-python",
   "name": "python",
   "nbconvert_exporter": "python",
   "pygments_lexer": "ipython3",
   "version": "3.8.8"
  }
 },
 "nbformat": 4,
 "nbformat_minor": 5
}
