{
 "cells": [
  {
   "cell_type": "code",
   "execution_count": null,
   "id": "aa0f1483",
   "metadata": {},
   "outputs": [],
   "source": [
    "from head import opentrons\n",
    "import pandas as pd\n",
    "import numpy as np\n",
    "from scipy.spatial import distance\n",
    "from sklearn.gaussian_process import GaussianProcessRegressor\n",
    "from sklearn.linear_model import LinearRegression\n",
    "import matplotlib.pyplot as plt"
   ]
  },
  {
   "cell_type": "code",
   "execution_count": null,
   "id": "7c3b8496",
   "metadata": {},
   "outputs": [],
   "source": [
    "class Simulator:\n",
    "    def __init__(self):\n",
    "        self.domain = np.linspace(-5,5,num=100)\n",
    "        \n",
    "    def generate(self, mu, sig):\n",
    "        scale = 1/(np.sqrt(2*np.pi)*sig)\n",
    "        return scale*np.exp(-np.power(self.domain - mu, 2.) / (2 * np.power(sig, 2.)))\n",
    "    \n",
    "    def process_batch(self, Cb, fname):\n",
    "        out = []\n",
    "        for c in Cb:\n",
    "            out.append(self.generate(*c))\n",
    "        out = np.asarray(out)\n",
    "        df = pd.DataFrame(out.T, index=self.domain)\n",
    "        df.to_excel(fname, engine='openpyxl')\n",
    "        \n",
    "        return \n",
    "    \n",
    "    def make_target(self, ct):\n",
    "        return self.domain, self.generate(*ct)"
   ]
  },
  {
   "cell_type": "code",
   "execution_count": null,
   "id": "8d270f74",
   "metadata": {},
   "outputs": [],
   "source": [
    "sim = Simulator()\n",
    "target = np.array([-2,0.5])\n",
    "xt, yt = sim.make_target(target)"
   ]
  },
  {
   "cell_type": "code",
   "execution_count": null,
   "id": "8270a4d6",
   "metadata": {},
   "outputs": [],
   "source": [
    "Cmu = [-5,5]\n",
    "Csig = [0.1,3.5]\n",
    "bounds = [Cmu, Csig]"
   ]
  },
  {
   "cell_type": "code",
   "execution_count": null,
   "id": "da3027cb",
   "metadata": {},
   "outputs": [],
   "source": [
    "optim = opentrons.Optimizer(xt, yt, bounds, \n",
    "                            savedir = '../data/', batch_size=4)"
   ]
  },
  {
   "cell_type": "code",
   "execution_count": null,
   "id": "fe04c785",
   "metadata": {},
   "outputs": [],
   "source": [
    "# random iteration\n",
    "optim.save()\n",
    "C0 = np.load('../data/0/new_x.npy')\n",
    "sim.process_batch(C0, '../data/opentrons/0.xlsx')\n",
    "optim.update('../data/0.xlsx')\n",
    "optim.save()"
   ]
  },
  {
   "cell_type": "code",
   "execution_count": null,
   "id": "f5bb92e8",
   "metadata": {},
   "outputs": [],
   "source": [
    "for i in range(1,21):\n",
    "    # iteration i selection\n",
    "    optim.suggest_next()\n",
    "    optim.save()\n",
    "    # simulate iteration i new_x \n",
    "    Ci = np.load('../data/%d/new_x.npy'%i)\n",
    "    sim.process_batch(Ci, '../data/%d.xlsx'%i)\n",
    "    optim.update('../data/%d.xlsx'%i)\n",
    "    optim.save()"
   ]
  }
 ],
 "metadata": {
  "kernelspec": {
   "display_name": "Python 3",
   "language": "python",
   "name": "python3"
  },
  "language_info": {
   "codemirror_mode": {
    "name": "ipython",
    "version": 3
   },
   "file_extension": ".py",
   "mimetype": "text/x-python",
   "name": "python",
   "nbconvert_exporter": "python",
   "pygments_lexer": "ipython3",
   "version": "3.8.2"
  }
 },
 "nbformat": 4,
 "nbformat_minor": 5
}
