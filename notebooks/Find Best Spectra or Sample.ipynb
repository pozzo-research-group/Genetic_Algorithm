{
 "cells": [
  {
   "cell_type": "code",
   "execution_count": 56,
   "id": "1fb494a5",
   "metadata": {},
   "outputs": [],
   "source": [
    "import numpy as np \n",
    "import pandas as pd\n",
    "from scipy.spatial import distance\n",
    "import matplotlib.pyplot as plt\n",
    "from head import AmplitudePhaseDistance\n",
    "from geomstats.geometry.functions import SRVF\n",
    "from sklearn.gaussian_process.kernels import DotProduct, WhiteKernel\n",
    "from matplotlib import cm\n",
    "import matplotlib\n",
    "from sklearn.gaussian_process import GaussianProcessRegressor\n",
    "from sklearn.gaussian_process.kernels import Matern\n",
    "from matplotlib.colors import Normalize\n",
    "import pickle\n",
    "plt.rcParams.update({\n",
    "                     \"axes.spines.right\" : False,\n",
    "                     \"axes.spines.top\" : False,\n",
    "                     \"font.size\": 15,\n",
    "                     \"savefig.dpi\": 400,\n",
    "                     \"savefig.bbox\": 'tight',\n",
    "                     'text.latex.preamble': r'\\usepackage{amsfonts}'\n",
    "                    }\n",
    "                   )"
   ]
  },
  {
   "cell_type": "code",
   "execution_count": 2,
   "id": "7c93af7e",
   "metadata": {},
   "outputs": [],
   "source": [
    "def load_spectra(path):\n",
    "    for itr in range(7):\n",
    "        spectra_iteration = pd.read_excel(path + str(itr) + '.xlsx').values\n",
    "        wavelength = spectra_iteration[:,0]\n",
    "        if itr == 0:\n",
    "            spectra_all = spectra_iteration[:,1:]\n",
    "        else:\n",
    "            spectra_all = np.hstack((spectra_all, spectra_iteration[:,1:]))\n",
    "    return spectra_all, wavelength \n",
    "\n",
    "def load_x(path):\n",
    "    all_x = np.load(path + str(7) + '/train_x.npy') #All x_values from 0th iteration to iteration-1 \n",
    "    return all_x"
   ]
  },
  {
   "cell_type": "code",
   "execution_count": 3,
   "id": "e18a0233",
   "metadata": {},
   "outputs": [],
   "source": [
    "AP_ROD_y, wavelength = load_spectra('../data_AP_ROD/')\n",
    "AP_SPHERE_y, _ = load_spectra('../data_AP_SPHERE/')\n",
    "SRVF_ROD_y, _ = load_spectra('../data_SRVF_ROD/')\n",
    "SRVF_SPHERE_y, _ = load_spectra('../data_SRVF_SPHERE/')\n",
    "euclidean_ROD_y, _ = load_spectra('../data_euclidean_ROD/')\n",
    "euclidean_SPHERE_y, _ = load_spectra('../data_euclidean_SPHERE/')\n",
    "peakwv_ROD_y, _ = load_spectra('../data_peakwv_ROD/')\n",
    "peakwv_SPHERE_y, _ = load_spectra('../data_peakwv_SPHERE/')"
   ]
  },
  {
   "cell_type": "code",
   "execution_count": 4,
   "id": "1158ca6b",
   "metadata": {},
   "outputs": [],
   "source": [
    "AP_ROD_x = load_x('../data_AP_ROD/')\n",
    "AP_SPHERE_x = load_x('../data_AP_SPHERE/')\n",
    "SRVF_ROD_x = load_x('../data_SRVF_ROD/')\n",
    "SRVF_SPHERE_x = load_x('../data_SRVF_SPHERE/')\n",
    "euclidean_ROD_x = load_x('../data_euclidean_ROD/')\n",
    "euclidean_SPHERE_x = load_x('../data_euclidean_SPHERE/')\n",
    "peakwv_ROD_x = load_x('../data_peakwv_ROD/')\n",
    "peakwv_SPHERE_x = load_x('../data_peakwv_SPHERE/')"
   ]
  },
  {
   "cell_type": "code",
   "execution_count": 5,
   "id": "dce73b28",
   "metadata": {},
   "outputs": [],
   "source": [
    "target = pd.read_excel('Target_Rod.xlsx')\n",
    "target = np.asarray(target)\n",
    "xt = target[:,0]\n",
    "rod_target = target[:,1]\n",
    "target = pd.read_excel('Target_Sphere.xlsx')\n",
    "target = np.asarray(target)\n",
    "xt = target[:,0]\n",
    "sphere_target = target[:,1]"
   ]
  },
  {
   "cell_type": "code",
   "execution_count": 6,
   "id": "2ce64d03",
   "metadata": {},
   "outputs": [],
   "source": [
    "#spectra\n",
    "SPHERES_y = np.hstack((peakwv_SPHERE_y, euclidean_SPHERE_y, SRVF_SPHERE_y, AP_SPHERE_y))\n",
    "RODS_y = np.hstack((peakwv_ROD_y, euclidean_ROD_y, SRVF_ROD_y, AP_ROD_y))"
   ]
  },
  {
   "cell_type": "code",
   "execution_count": 7,
   "id": "7f015963",
   "metadata": {},
   "outputs": [],
   "source": [
    "#concentrations\n",
    "SPHERES_x = np.vstack((peakwv_SPHERE_x, euclidean_SPHERE_x, SRVF_SPHERE_x, AP_SPHERE_x))\n",
    "RODS_x = np.vstack((peakwv_ROD_x, euclidean_ROD_x, SRVF_ROD_x, AP_ROD_x))"
   ]
  },
  {
   "cell_type": "code",
   "execution_count": 8,
   "id": "ef5a7c17",
   "metadata": {},
   "outputs": [],
   "source": [
    "def Euclidean(f1,f2):\n",
    "    d = distance.euclidean(f1,f2)    \n",
    "    return -d\n",
    "\n",
    "def peakwv_sphere(f1,f2):\n",
    "    d = (np.abs((np.argmax(f1) - np.argmax(f2))/100) + np.abs(np.max(f1) - np.max(f2)))\n",
    "    return -d\n",
    "\n",
    "def AP(f1,f2):\n",
    "    da, dp = AmplitudePhaseDistance(f1,f2,xt)\n",
    "    return -(da + dp)\n",
    "\n",
    "def SRVF_metric(f1,f2):\n",
    "    target = pd.read_excel('Target_Rod.xlsx')\n",
    "    target = np.asarray(target)\n",
    "    xt = target[:,0]\n",
    "    M = SRVF(xt.reshape(-1,1).flatten())\n",
    "    yi = np.asarray(f1).reshape(-1,1).flatten()\n",
    "    yt = np.asarray(f2).reshape(-1,1).flatten()\n",
    "    score = -M.metric.dist(yt,yi)\n",
    "    return score\n",
    "    "
   ]
  },
  {
   "cell_type": "code",
   "execution_count": 15,
   "id": "29e5948b",
   "metadata": {},
   "outputs": [],
   "source": [
    "def calculate_distance(metric, concentrations, spectra, target):\n",
    "    dist = []\n",
    "    spectra = spectra.T\n",
    "    for i in range(spectra.shape[0]):\n",
    "        d = metric(target, spectra[i,:])\n",
    "        dist.append(d)\n",
    "    dist = np.array(dist).reshape(-1,1)\n",
    "    array = np.hstack((dist, concentrations, spectra))\n",
    "    sorted_array = array[np.argsort(array[:, 0])]\n",
    "    return sorted_array "
   ]
  },
  {
   "cell_type": "code",
   "execution_count": 93,
   "id": "4a568c9a",
   "metadata": {},
   "outputs": [],
   "source": [
    "fx = AP_ROD_x\n",
    "fy = AP_ROD_y\n",
    "array = calculate_distance(AP, fx, fy, rod_target)"
   ]
  },
  {
   "cell_type": "code",
   "execution_count": 94,
   "id": "2fac1f4e",
   "metadata": {},
   "outputs": [
    {
     "name": "stdout",
     "output_type": "stream",
     "text": [
      "Best Score:  -0.059771307884644034\n",
      "Best Volumes:  [110.48861004 105.831123  ]\n"
     ]
    }
   ],
   "source": [
    "print('Best Score: ', array[-1,0])\n",
    "print('Best Volumes: ', array[-1,1:3]*140+10)"
   ]
  },
  {
   "cell_type": "code",
   "execution_count": 96,
   "id": "f398f304",
   "metadata": {},
   "outputs": [
    {
     "data": {
      "text/plain": [
       "array([-0.87569867, -0.8698789 , -0.78982325, -0.55821373, -0.4237132 ,\n",
       "       -0.35318897, -0.33554826, -0.2326587 , -0.12401943, -0.11810053,\n",
       "       -0.09952989, -0.09744266, -0.09477129, -0.09087372, -0.08987086,\n",
       "       -0.08874472, -0.08860827, -0.08741685, -0.08493583, -0.06871634,\n",
       "       -0.06823045, -0.06642885, -0.06550979, -0.06545421, -0.06351368,\n",
       "       -0.06304913, -0.05979964, -0.05977131])"
      ]
     },
     "execution_count": 96,
     "metadata": {},
     "output_type": "execute_result"
    }
   ],
   "source": [
    "array[:,0]"
   ]
  },
  {
   "cell_type": "code",
   "execution_count": 101,
   "id": "0077e92f",
   "metadata": {},
   "outputs": [
    {
     "data": {
      "text/plain": [
       "[<matplotlib.lines.Line2D at 0x7f1d085e56a0>]"
      ]
     },
     "execution_count": 101,
     "metadata": {},
     "output_type": "execute_result"
    },
    {
     "data": {
      "image/png": "[encoded data removed]",
      "text/plain": [
       "<Figure size 432x288 with 1 Axes>"
      ]
     },
     "metadata": {
      "needs_background": "light"
     },
     "output_type": "display_data"
    }
   ],
   "source": [
    "plt.plot(xt, array[-1,3:], label = 'Best Sample')\n",
    "plt.plot(xt, rod_target, label = 'Target')"
   ]
  },
  {
   "cell_type": "code",
   "execution_count": 102,
   "id": "f93d368a",
   "metadata": {},
   "outputs": [],
   "source": [
    "#all_exp = {}"
   ]
  },
  {
   "cell_type": "code",
   "execution_count": 103,
   "id": "9ae57ae0",
   "metadata": {},
   "outputs": [],
   "source": [
    "metric_name = 'AP_ROD'\n",
    "all_exp[metric_name + '_best_score'] = array[-1,0]\n",
    "all_exp[metric_name + '_best_volumes'] = array[-1,1:3]*140+10\n",
    "all_exp[metric_name + '_best_spectra'] = array[-1,3:]"
   ]
  },
  {
   "cell_type": "code",
   "execution_count": 104,
   "id": "bd9b7d12",
   "metadata": {},
   "outputs": [
    {
     "data": {
      "text/plain": [
       "{'peak_wv_SPHERE_best_score': -0.8328895484996794,\n",
       " 'peak_wv_SPHERE_best_spectra': array([1.014, 1.003, 0.993, 0.984, 0.976, 0.969, 0.963, 0.958, 0.954,\n",
       "        0.953, 0.953, 0.955, 0.959, 0.968, 0.98 , 0.997, 1.024, 1.057,\n",
       "        1.105, 1.161, 1.231, 1.308, 1.384, 1.449, 1.498, 1.524, 1.524,\n",
       "        1.502, 1.459, 1.405, 1.341, 1.27 , 1.194, 1.122, 1.049, 0.98 ,\n",
       "        0.916, 0.855, 0.8  , 0.75 , 0.708, 0.669, 0.634, 0.604, 0.577,\n",
       "        0.554, 0.534, 0.516, 0.5  , 0.486, 0.474, 0.463, 0.453, 0.444,\n",
       "        0.435, 0.428, 0.421, 0.415, 0.409, 0.404, 0.399, 0.395, 0.392,\n",
       "        0.389, 0.387, 0.384, 0.383, 0.383, 0.381, 0.378, 0.375, 0.372,\n",
       "        0.369, 0.366, 0.363, 0.36 , 0.356, 0.353, 0.35 , 0.347, 0.344,\n",
       "        0.342, 0.339, 0.337, 0.337, 0.336, 0.338, 0.34 , 0.339, 0.338,\n",
       "        0.338, 0.334, 0.333, 0.333, 0.335, 0.337, 0.337, 0.332, 0.333,\n",
       "        0.333, 0.333]),\n",
       " 'peak_wv_SPHERE_best_volumes': array([ 10.14000001, 124.38963819]),\n",
       " 'euclidean_SPHERE_best_score': -0.2166471786107542,\n",
       " 'euclidean_SPHERE_best_volumes': array([ 10.14000001, 150.        ]),\n",
       " 'euclidean_SPHERE_best_spectra': array([0.905, 0.894, 0.884, 0.875, 0.867, 0.86 , 0.855, 0.85 , 0.846,\n",
       "        0.844, 0.844, 0.846, 0.851, 0.858, 0.871, 0.888, 0.915, 0.949,\n",
       "        0.999, 1.056, 1.129, 1.21 , 1.29 , 1.36 , 1.413, 1.442, 1.445,\n",
       "        1.425, 1.381, 1.329, 1.266, 1.196, 1.126, 1.056, 0.989, 0.925,\n",
       "        0.863, 0.803, 0.747, 0.696, 0.65 , 0.605, 0.565, 0.528, 0.494,\n",
       "        0.464, 0.438, 0.414, 0.394, 0.376, 0.359, 0.346, 0.333, 0.322,\n",
       "        0.313, 0.304, 0.297, 0.291, 0.285, 0.281, 0.277, 0.274, 0.272,\n",
       "        0.272, 0.271, 0.27 , 0.271, 0.273, 0.273, 0.273, 0.272, 0.271,\n",
       "        0.27 , 0.268, 0.267, 0.266, 0.264, 0.262, 0.261, 0.259, 0.257,\n",
       "        0.256, 0.255, 0.255, 0.254, 0.255, 0.258, 0.261, 0.261, 0.261,\n",
       "        0.261, 0.261, 0.261, 0.262, 0.264, 0.267, 0.265, 0.263, 0.262,\n",
       "        0.263, 0.263]),\n",
       " 'SRVF_SPHERE_best_score': -0.016500349481076686,\n",
       " 'SRVF_SPHERE_best_volumes': array([ 11.26465961, 132.59856747]),\n",
       " 'SRVF_SPHERE_best_spectra': array([0.949, 0.937, 0.926, 0.917, 0.908, 0.9  , 0.893, 0.887, 0.883,\n",
       "        0.88 , 0.879, 0.88 , 0.884, 0.891, 0.902, 0.919, 0.945, 0.977,\n",
       "        1.024, 1.08 , 1.151, 1.228, 1.307, 1.372, 1.421, 1.446, 1.445,\n",
       "        1.42 , 1.374, 1.318, 1.255, 1.187, 1.115, 1.048, 0.98 , 0.914,\n",
       "        0.852, 0.792, 0.735, 0.684, 0.639, 0.595, 0.556, 0.521, 0.488,\n",
       "        0.459, 0.435, 0.413, 0.393, 0.376, 0.36 , 0.346, 0.334, 0.323,\n",
       "        0.313, 0.305, 0.297, 0.29 , 0.285, 0.28 , 0.275, 0.272, 0.269,\n",
       "        0.268, 0.266, 0.266, 0.267, 0.269, 0.269, 0.269, 0.268, 0.267,\n",
       "        0.265, 0.264, 0.263, 0.262, 0.261, 0.259, 0.258, 0.257, 0.255,\n",
       "        0.255, 0.254, 0.254, 0.257, 0.255, 0.259, 0.262, 0.264, 0.264,\n",
       "        0.265, 0.266, 0.267, 0.269, 0.272, 0.275, 0.275, 0.273, 0.273,\n",
       "        0.273, 0.275]),\n",
       " 'AP_SPHERE_best_score': -0.07190488986102073,\n",
       " 'AP_SPHERE_best_volumes': array([ 17.78531498, 115.33905424]),\n",
       " 'AP_SPHERE_best_spectra': array([1.05 , 1.039, 1.028, 1.019, 1.009, 1.003, 0.996, 0.991, 0.988,\n",
       "        0.986, 0.986, 0.988, 0.992, 1.   , 1.012, 1.03 , 1.057, 1.091,\n",
       "        1.14 , 1.198, 1.27 , 1.349, 1.427, 1.494, 1.543, 1.568, 1.567,\n",
       "        1.543, 1.498, 1.443, 1.379, 1.309, 1.235, 1.164, 1.092, 1.023,\n",
       "        0.959, 0.897, 0.839, 0.788, 0.743, 0.701, 0.664, 0.631, 0.6  ,\n",
       "        0.574, 0.551, 0.53 , 0.512, 0.495, 0.48 , 0.467, 0.456, 0.445,\n",
       "        0.435, 0.426, 0.418, 0.411, 0.405, 0.4  , 0.395, 0.391, 0.388,\n",
       "        0.385, 0.383, 0.381, 0.382, 0.382, 0.381, 0.379, 0.377, 0.375,\n",
       "        0.373, 0.371, 0.368, 0.366, 0.363, 0.361, 0.359, 0.356, 0.354,\n",
       "        0.352, 0.35 , 0.349, 0.349, 0.349, 0.351, 0.353, 0.353, 0.353,\n",
       "        0.352, 0.352, 0.352, 0.352, 0.354, 0.356, 0.356, 0.353, 0.352,\n",
       "        0.353, 0.353]),\n",
       " 'peakwv_ROD_best_score': -0.014000000000000004,\n",
       " 'peakwv_ROD_best_volumes': array([81.00096967, 97.70725112]),\n",
       " 'peakwv_ROD_best_spectra': array([1.03 , 1.018, 1.008, 0.997, 0.988, 0.98 , 0.973, 0.965, 0.958,\n",
       "        0.951, 0.946, 0.94 , 0.936, 0.934, 0.935, 0.94 , 0.952, 0.97 ,\n",
       "        0.999, 1.034, 1.075, 1.114, 1.146, 1.168, 1.181, 1.191, 1.197,\n",
       "        1.203, 1.211, 1.221, 1.234, 1.251, 1.268, 1.282, 1.287, 1.28 ,\n",
       "        1.257, 1.216, 1.161, 1.095, 1.028, 0.956, 0.89 , 0.833, 0.784,\n",
       "        0.746, 0.721, 0.704, 0.698, 0.7  , 0.71 , 0.728, 0.754, 0.788,\n",
       "        0.832, 0.885, 0.947, 1.017, 1.098, 1.189, 1.287, 1.397, 1.513,\n",
       "        1.631, 1.752, 1.874, 1.995, 2.108, 2.213, 2.304, 2.386, 2.447,\n",
       "        2.493, 2.517, 2.524, 2.508, 2.474, 2.421, 2.351, 2.265, 2.173,\n",
       "        2.067, 1.956, 1.843, 1.713, 1.631, 1.525, 1.414, 1.312, 1.221,\n",
       "        1.129, 1.048, 0.972, 0.902, 0.841, 0.783, 0.721, 0.687, 0.634,\n",
       "        0.594, 0.56 ]),\n",
       " 'euclidean_ROD_best_score': -0.6020747461902052,\n",
       " 'euclidean_ROD_best_volumes': array([109.32671617,  82.16487288]),\n",
       " 'euclidean_ROD_best_spectra': array([1.079, 1.067, 1.055, 1.044, 1.034, 1.026, 1.018, 1.011, 1.004,\n",
       "        0.997, 0.991, 0.985, 0.979, 0.976, 0.977, 0.981, 0.992, 1.009,\n",
       "        1.036, 1.068, 1.105, 1.14 , 1.166, 1.182, 1.192, 1.199, 1.207,\n",
       "        1.217, 1.231, 1.25 , 1.271, 1.294, 1.314, 1.322, 1.315, 1.288,\n",
       "        1.242, 1.176, 1.099, 1.018, 0.943, 0.87 , 0.809, 0.759, 0.719,\n",
       "        0.691, 0.674, 0.665, 0.665, 0.673, 0.689, 0.711, 0.742, 0.778,\n",
       "        0.823, 0.874, 0.933, 0.998, 1.073, 1.155, 1.245, 1.347, 1.455,\n",
       "        1.566, 1.681, 1.802, 1.921, 2.035, 2.144, 2.243, 2.33 , 2.404,\n",
       "        2.465, 2.508, 2.529, 2.537, 2.53 , 2.499, 2.452, 2.393, 2.328,\n",
       "        2.247, 2.164, 2.072, 1.963, 1.898, 1.806, 1.708, 1.614, 1.528,\n",
       "        1.438, 1.359, 1.28 , 1.205, 1.136, 1.072, 0.998, 0.96 , 0.895,\n",
       "        0.843, 0.797]),\n",
       " 'SRVF_ROD_best_score': -0.04593517229997754,\n",
       " 'SRVF_ROD_best_volumes': array([129.07379904,  75.91649337]),\n",
       " 'SRVF_ROD_best_spectra': array([0.996, 0.984, 0.974, 0.964, 0.955, 0.947, 0.939, 0.932, 0.926,\n",
       "        0.92 , 0.914, 0.908, 0.904, 0.902, 0.904, 0.909, 0.921, 0.938,\n",
       "        0.966, 0.999, 1.041, 1.081, 1.113, 1.137, 1.154, 1.17 , 1.18 ,\n",
       "        1.194, 1.211, 1.229, 1.252, 1.279, 1.308, 1.335, 1.353, 1.354,\n",
       "        1.335, 1.293, 1.23 , 1.152, 1.07 , 0.982, 0.902, 0.834, 0.777,\n",
       "        0.732, 0.701, 0.679, 0.667, 0.663, 0.666, 0.677, 0.695, 0.72 ,\n",
       "        0.753, 0.792, 0.84 , 0.895, 0.959, 1.033, 1.113, 1.204, 1.304,\n",
       "        1.406, 1.513, 1.623, 1.735, 1.84 , 1.939, 2.029, 2.106, 2.169,\n",
       "        2.223, 2.256, 2.27 , 2.268, 2.252, 2.218, 2.171, 2.112, 2.045,\n",
       "        1.968, 1.888, 1.802, 1.707, 1.642, 1.562, 1.476, 1.395, 1.32 ,\n",
       "        1.245, 1.175, 1.108, 1.045, 0.989, 0.935, 0.875, 0.838, 0.785,\n",
       "        0.742, 0.704]),\n",
       " 'AP_ROD_best_score': -0.059771307884644034,\n",
       " 'AP_ROD_best_volumes': array([110.48861004, 105.831123  ]),\n",
       " 'AP_ROD_best_spectra': array([1.071, 1.06 , 1.048, 1.038, 1.029, 1.021, 1.014, 1.007, 1.001,\n",
       "        0.995, 0.989, 0.984, 0.98 , 0.979, 0.981, 0.987, 1.   , 1.019,\n",
       "        1.05 , 1.086, 1.128, 1.169, 1.201, 1.224, 1.241, 1.254, 1.266,\n",
       "        1.279, 1.297, 1.317, 1.339, 1.359, 1.371, 1.368, 1.347, 1.306,\n",
       "        1.248, 1.175, 1.095, 1.018, 0.951, 0.89 , 0.843, 0.81 , 0.786,\n",
       "        0.777, 0.779, 0.792, 0.813, 0.842, 0.88 , 0.925, 0.98 , 1.04 ,\n",
       "        1.109, 1.184, 1.265, 1.35 , 1.438, 1.529, 1.619, 1.707, 1.791,\n",
       "        1.867, 1.933, 1.992, 2.037, 2.07 , 2.088, 2.09 , 2.08 , 2.059,\n",
       "        2.023, 1.979, 1.924, 1.862, 1.793, 1.722, 1.648, 1.571, 1.496,\n",
       "        1.419, 1.346, 1.274, 1.198, 1.15 , 1.092, 1.033, 0.977, 0.928,\n",
       "        0.879, 0.835, 0.793, 0.754, 0.719, 0.688, 0.649, 0.629, 0.596,\n",
       "        0.569, 0.547])}"
      ]
     },
     "execution_count": 104,
     "metadata": {},
     "output_type": "execute_result"
    }
   ],
   "source": [
    "all_exp"
   ]
  },
  {
   "cell_type": "code",
   "execution_count": null,
   "id": "72e37cc9",
   "metadata": {},
   "outputs": [],
   "source": []
  },
  {
   "cell_type": "code",
   "execution_count": null,
   "id": "8bea31aa",
   "metadata": {},
   "outputs": [],
   "source": []
  },
  {
   "cell_type": "code",
   "execution_count": null,
   "id": "6ee77014",
   "metadata": {},
   "outputs": [],
   "source": []
  },
  {
   "cell_type": "code",
   "execution_count": null,
   "id": "8f87def7",
   "metadata": {},
   "outputs": [],
   "source": []
  },
  {
   "cell_type": "code",
   "execution_count": null,
   "id": "45740665",
   "metadata": {},
   "outputs": [],
   "source": []
  },
  {
   "cell_type": "code",
   "execution_count": 105,
   "id": "9be525d8",
   "metadata": {},
   "outputs": [],
   "source": [
    "with open('saved_dictionary.pkl', 'wb') as f:\n",
    "    pickle.dump(all_exp, f)"
   ]
  },
  {
   "cell_type": "code",
   "execution_count": 106,
   "id": "c78500f0",
   "metadata": {},
   "outputs": [],
   "source": [
    "with open('saved_dictionary.pkl', 'rb') as func:\n",
    "    loaded_dict = pickle.load(func)"
   ]
  },
  {
   "cell_type": "code",
   "execution_count": 107,
   "id": "cc239f64",
   "metadata": {},
   "outputs": [
    {
     "data": {
      "text/plain": [
       "{'peak_wv_SPHERE_best_score': -0.8328895484996794,\n",
       " 'peak_wv_SPHERE_best_spectra': array([1.014, 1.003, 0.993, 0.984, 0.976, 0.969, 0.963, 0.958, 0.954,\n",
       "        0.953, 0.953, 0.955, 0.959, 0.968, 0.98 , 0.997, 1.024, 1.057,\n",
       "        1.105, 1.161, 1.231, 1.308, 1.384, 1.449, 1.498, 1.524, 1.524,\n",
       "        1.502, 1.459, 1.405, 1.341, 1.27 , 1.194, 1.122, 1.049, 0.98 ,\n",
       "        0.916, 0.855, 0.8  , 0.75 , 0.708, 0.669, 0.634, 0.604, 0.577,\n",
       "        0.554, 0.534, 0.516, 0.5  , 0.486, 0.474, 0.463, 0.453, 0.444,\n",
       "        0.435, 0.428, 0.421, 0.415, 0.409, 0.404, 0.399, 0.395, 0.392,\n",
       "        0.389, 0.387, 0.384, 0.383, 0.383, 0.381, 0.378, 0.375, 0.372,\n",
       "        0.369, 0.366, 0.363, 0.36 , 0.356, 0.353, 0.35 , 0.347, 0.344,\n",
       "        0.342, 0.339, 0.337, 0.337, 0.336, 0.338, 0.34 , 0.339, 0.338,\n",
       "        0.338, 0.334, 0.333, 0.333, 0.335, 0.337, 0.337, 0.332, 0.333,\n",
       "        0.333, 0.333]),\n",
       " 'peak_wv_SPHERE_best_volumes': array([ 10.14000001, 124.38963819]),\n",
       " 'euclidean_SPHERE_best_score': -0.2166471786107542,\n",
       " 'euclidean_SPHERE_best_volumes': array([ 10.14000001, 150.        ]),\n",
       " 'euclidean_SPHERE_best_spectra': array([0.905, 0.894, 0.884, 0.875, 0.867, 0.86 , 0.855, 0.85 , 0.846,\n",
       "        0.844, 0.844, 0.846, 0.851, 0.858, 0.871, 0.888, 0.915, 0.949,\n",
       "        0.999, 1.056, 1.129, 1.21 , 1.29 , 1.36 , 1.413, 1.442, 1.445,\n",
       "        1.425, 1.381, 1.329, 1.266, 1.196, 1.126, 1.056, 0.989, 0.925,\n",
       "        0.863, 0.803, 0.747, 0.696, 0.65 , 0.605, 0.565, 0.528, 0.494,\n",
       "        0.464, 0.438, 0.414, 0.394, 0.376, 0.359, 0.346, 0.333, 0.322,\n",
       "        0.313, 0.304, 0.297, 0.291, 0.285, 0.281, 0.277, 0.274, 0.272,\n",
       "        0.272, 0.271, 0.27 , 0.271, 0.273, 0.273, 0.273, 0.272, 0.271,\n",
       "        0.27 , 0.268, 0.267, 0.266, 0.264, 0.262, 0.261, 0.259, 0.257,\n",
       "        0.256, 0.255, 0.255, 0.254, 0.255, 0.258, 0.261, 0.261, 0.261,\n",
       "        0.261, 0.261, 0.261, 0.262, 0.264, 0.267, 0.265, 0.263, 0.262,\n",
       "        0.263, 0.263]),\n",
       " 'SRVF_SPHERE_best_score': -0.016500349481076686,\n",
       " 'SRVF_SPHERE_best_volumes': array([ 11.26465961, 132.59856747]),\n",
       " 'SRVF_SPHERE_best_spectra': array([0.949, 0.937, 0.926, 0.917, 0.908, 0.9  , 0.893, 0.887, 0.883,\n",
       "        0.88 , 0.879, 0.88 , 0.884, 0.891, 0.902, 0.919, 0.945, 0.977,\n",
       "        1.024, 1.08 , 1.151, 1.228, 1.307, 1.372, 1.421, 1.446, 1.445,\n",
       "        1.42 , 1.374, 1.318, 1.255, 1.187, 1.115, 1.048, 0.98 , 0.914,\n",
       "        0.852, 0.792, 0.735, 0.684, 0.639, 0.595, 0.556, 0.521, 0.488,\n",
       "        0.459, 0.435, 0.413, 0.393, 0.376, 0.36 , 0.346, 0.334, 0.323,\n",
       "        0.313, 0.305, 0.297, 0.29 , 0.285, 0.28 , 0.275, 0.272, 0.269,\n",
       "        0.268, 0.266, 0.266, 0.267, 0.269, 0.269, 0.269, 0.268, 0.267,\n",
       "        0.265, 0.264, 0.263, 0.262, 0.261, 0.259, 0.258, 0.257, 0.255,\n",
       "        0.255, 0.254, 0.254, 0.257, 0.255, 0.259, 0.262, 0.264, 0.264,\n",
       "        0.265, 0.266, 0.267, 0.269, 0.272, 0.275, 0.275, 0.273, 0.273,\n",
       "        0.273, 0.275]),\n",
       " 'AP_SPHERE_best_score': -0.07190488986102073,\n",
       " 'AP_SPHERE_best_volumes': array([ 17.78531498, 115.33905424]),\n",
       " 'AP_SPHERE_best_spectra': array([1.05 , 1.039, 1.028, 1.019, 1.009, 1.003, 0.996, 0.991, 0.988,\n",
       "        0.986, 0.986, 0.988, 0.992, 1.   , 1.012, 1.03 , 1.057, 1.091,\n",
       "        1.14 , 1.198, 1.27 , 1.349, 1.427, 1.494, 1.543, 1.568, 1.567,\n",
       "        1.543, 1.498, 1.443, 1.379, 1.309, 1.235, 1.164, 1.092, 1.023,\n",
       "        0.959, 0.897, 0.839, 0.788, 0.743, 0.701, 0.664, 0.631, 0.6  ,\n",
       "        0.574, 0.551, 0.53 , 0.512, 0.495, 0.48 , 0.467, 0.456, 0.445,\n",
       "        0.435, 0.426, 0.418, 0.411, 0.405, 0.4  , 0.395, 0.391, 0.388,\n",
       "        0.385, 0.383, 0.381, 0.382, 0.382, 0.381, 0.379, 0.377, 0.375,\n",
       "        0.373, 0.371, 0.368, 0.366, 0.363, 0.361, 0.359, 0.356, 0.354,\n",
       "        0.352, 0.35 , 0.349, 0.349, 0.349, 0.351, 0.353, 0.353, 0.353,\n",
       "        0.352, 0.352, 0.352, 0.352, 0.354, 0.356, 0.356, 0.353, 0.352,\n",
       "        0.353, 0.353]),\n",
       " 'peakwv_ROD_best_score': -0.014000000000000004,\n",
       " 'peakwv_ROD_best_volumes': array([81.00096967, 97.70725112]),\n",
       " 'peakwv_ROD_best_spectra': array([1.03 , 1.018, 1.008, 0.997, 0.988, 0.98 , 0.973, 0.965, 0.958,\n",
       "        0.951, 0.946, 0.94 , 0.936, 0.934, 0.935, 0.94 , 0.952, 0.97 ,\n",
       "        0.999, 1.034, 1.075, 1.114, 1.146, 1.168, 1.181, 1.191, 1.197,\n",
       "        1.203, 1.211, 1.221, 1.234, 1.251, 1.268, 1.282, 1.287, 1.28 ,\n",
       "        1.257, 1.216, 1.161, 1.095, 1.028, 0.956, 0.89 , 0.833, 0.784,\n",
       "        0.746, 0.721, 0.704, 0.698, 0.7  , 0.71 , 0.728, 0.754, 0.788,\n",
       "        0.832, 0.885, 0.947, 1.017, 1.098, 1.189, 1.287, 1.397, 1.513,\n",
       "        1.631, 1.752, 1.874, 1.995, 2.108, 2.213, 2.304, 2.386, 2.447,\n",
       "        2.493, 2.517, 2.524, 2.508, 2.474, 2.421, 2.351, 2.265, 2.173,\n",
       "        2.067, 1.956, 1.843, 1.713, 1.631, 1.525, 1.414, 1.312, 1.221,\n",
       "        1.129, 1.048, 0.972, 0.902, 0.841, 0.783, 0.721, 0.687, 0.634,\n",
       "        0.594, 0.56 ]),\n",
       " 'euclidean_ROD_best_score': -0.6020747461902052,\n",
       " 'euclidean_ROD_best_volumes': array([109.32671617,  82.16487288]),\n",
       " 'euclidean_ROD_best_spectra': array([1.079, 1.067, 1.055, 1.044, 1.034, 1.026, 1.018, 1.011, 1.004,\n",
       "        0.997, 0.991, 0.985, 0.979, 0.976, 0.977, 0.981, 0.992, 1.009,\n",
       "        1.036, 1.068, 1.105, 1.14 , 1.166, 1.182, 1.192, 1.199, 1.207,\n",
       "        1.217, 1.231, 1.25 , 1.271, 1.294, 1.314, 1.322, 1.315, 1.288,\n",
       "        1.242, 1.176, 1.099, 1.018, 0.943, 0.87 , 0.809, 0.759, 0.719,\n",
       "        0.691, 0.674, 0.665, 0.665, 0.673, 0.689, 0.711, 0.742, 0.778,\n",
       "        0.823, 0.874, 0.933, 0.998, 1.073, 1.155, 1.245, 1.347, 1.455,\n",
       "        1.566, 1.681, 1.802, 1.921, 2.035, 2.144, 2.243, 2.33 , 2.404,\n",
       "        2.465, 2.508, 2.529, 2.537, 2.53 , 2.499, 2.452, 2.393, 2.328,\n",
       "        2.247, 2.164, 2.072, 1.963, 1.898, 1.806, 1.708, 1.614, 1.528,\n",
       "        1.438, 1.359, 1.28 , 1.205, 1.136, 1.072, 0.998, 0.96 , 0.895,\n",
       "        0.843, 0.797]),\n",
       " 'SRVF_ROD_best_score': -0.04593517229997754,\n",
       " 'SRVF_ROD_best_volumes': array([129.07379904,  75.91649337]),\n",
       " 'SRVF_ROD_best_spectra': array([0.996, 0.984, 0.974, 0.964, 0.955, 0.947, 0.939, 0.932, 0.926,\n",
       "        0.92 , 0.914, 0.908, 0.904, 0.902, 0.904, 0.909, 0.921, 0.938,\n",
       "        0.966, 0.999, 1.041, 1.081, 1.113, 1.137, 1.154, 1.17 , 1.18 ,\n",
       "        1.194, 1.211, 1.229, 1.252, 1.279, 1.308, 1.335, 1.353, 1.354,\n",
       "        1.335, 1.293, 1.23 , 1.152, 1.07 , 0.982, 0.902, 0.834, 0.777,\n",
       "        0.732, 0.701, 0.679, 0.667, 0.663, 0.666, 0.677, 0.695, 0.72 ,\n",
       "        0.753, 0.792, 0.84 , 0.895, 0.959, 1.033, 1.113, 1.204, 1.304,\n",
       "        1.406, 1.513, 1.623, 1.735, 1.84 , 1.939, 2.029, 2.106, 2.169,\n",
       "        2.223, 2.256, 2.27 , 2.268, 2.252, 2.218, 2.171, 2.112, 2.045,\n",
       "        1.968, 1.888, 1.802, 1.707, 1.642, 1.562, 1.476, 1.395, 1.32 ,\n",
       "        1.245, 1.175, 1.108, 1.045, 0.989, 0.935, 0.875, 0.838, 0.785,\n",
       "        0.742, 0.704]),\n",
       " 'AP_ROD_best_score': -0.059771307884644034,\n",
       " 'AP_ROD_best_volumes': array([110.48861004, 105.831123  ]),\n",
       " 'AP_ROD_best_spectra': array([1.071, 1.06 , 1.048, 1.038, 1.029, 1.021, 1.014, 1.007, 1.001,\n",
       "        0.995, 0.989, 0.984, 0.98 , 0.979, 0.981, 0.987, 1.   , 1.019,\n",
       "        1.05 , 1.086, 1.128, 1.169, 1.201, 1.224, 1.241, 1.254, 1.266,\n",
       "        1.279, 1.297, 1.317, 1.339, 1.359, 1.371, 1.368, 1.347, 1.306,\n",
       "        1.248, 1.175, 1.095, 1.018, 0.951, 0.89 , 0.843, 0.81 , 0.786,\n",
       "        0.777, 0.779, 0.792, 0.813, 0.842, 0.88 , 0.925, 0.98 , 1.04 ,\n",
       "        1.109, 1.184, 1.265, 1.35 , 1.438, 1.529, 1.619, 1.707, 1.791,\n",
       "        1.867, 1.933, 1.992, 2.037, 2.07 , 2.088, 2.09 , 2.08 , 2.059,\n",
       "        2.023, 1.979, 1.924, 1.862, 1.793, 1.722, 1.648, 1.571, 1.496,\n",
       "        1.419, 1.346, 1.274, 1.198, 1.15 , 1.092, 1.033, 0.977, 0.928,\n",
       "        0.879, 0.835, 0.793, 0.754, 0.719, 0.688, 0.649, 0.629, 0.596,\n",
       "        0.569, 0.547])}"
      ]
     },
     "execution_count": 107,
     "metadata": {},
     "output_type": "execute_result"
    }
   ],
   "source": [
    "loaded_dict"
   ]
  },
  {
   "cell_type": "code",
   "execution_count": null,
   "id": "6b1e3f94",
   "metadata": {},
   "outputs": [],
   "source": []
  }
 ],
 "metadata": {
  "kernelspec": {
   "display_name": "Python 3",
   "language": "python",
   "name": "python3"
  },
  "language_info": {
   "codemirror_mode": {
    "name": "ipython",
    "version": 3
   },
   "file_extension": ".py",
   "mimetype": "text/x-python",
   "name": "python",
   "nbconvert_exporter": "python",
   "pygments_lexer": "ipython3",
   "version": "3.8.2"
  }
 },
 "nbformat": 4,
 "nbformat_minor": 5
}
