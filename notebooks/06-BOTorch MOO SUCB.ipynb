{
 "cells": [
  {
   "cell_type": "markdown",
   "id": "b8485d88",
   "metadata": {},
   "source": [
    "## Bayesian Optimization with multiple objectives\n",
    "Our pipeline should be as follows:\n",
    "1. Define our design space as a grid or hyperplane etc\n",
    "2. Define a model as surrogate to compute a score between target and a response query\n",
    "3. Define acquistion function to score candidates\n",
    "4. Define a selector to select candidate points\n",
    "4. Define the optimization routine for the problem"
   ]
  },
  {
   "cell_type": "code",
   "execution_count": 1,
   "id": "51f15c14",
   "metadata": {},
   "outputs": [],
   "source": [
    "import os\n",
    "import torch\n",
    "import time\n",
    "import warnings\n",
    "from botorch.exceptions import BadInitialCandidatesWarning\n",
    "import pdb\n",
    "from botorch.utils import standardize\n",
    "\n",
    "warnings.filterwarnings('ignore', category=BadInitialCandidatesWarning)\n",
    "warnings.filterwarnings('ignore', category=RuntimeWarning)\n",
    "\n",
    "tkwargs = {\n",
    "    \"dtype\": torch.double,\n",
    "    \"device\": torch.device(\"cuda\" if torch.cuda.is_available() else \"cpu\"),\n",
    "}"
   ]
  },
  {
   "cell_type": "code",
   "execution_count": 2,
   "id": "35112958",
   "metadata": {},
   "outputs": [],
   "source": [
    "def branin(x):\n",
    "    x1 = 15*x[0]-5\n",
    "    x2 = 15*x[1]\n",
    "    \n",
    "    t1 = x2 - (x1**2)*(5.1/(4*np.pi**2)) + (5/np.pi)*x1 -6\n",
    "    t2 = 10*(1-(1/(8*np.pi)))*np.cos(x1) + 10\n",
    "    \n",
    "    return t1**2 + t2\n",
    "\n",
    "def currin(x):\n",
    "    x1 = x[0]\n",
    "    x2 = x[1]\n",
    "    \n",
    "    factor = (1-np.exp(-1/(2*x2)))\n",
    "    numer = (2300*x1**3) + (1900*x1**2) + (2092*x1) + 60\n",
    "    denom = 100*x1**3 + 500*x1**2 + 4*x1 +20\n",
    "    \n",
    "    return factor*(numer/denom)\n",
    "\n",
    "def true_function(x):\n",
    "    return -torch.stack([branin(x), currin(x)])\n",
    "\n",
    "def batch_true_function(x):\n",
    "    out = []\n",
    "    for xi in x.squeeze(1):\n",
    "        out.append(true_function(xi))\n",
    "        \n",
    "    return torch.stack(out, dim=0)"
   ]
  },
  {
   "cell_type": "code",
   "execution_count": 3,
   "id": "9972c7c1",
   "metadata": {},
   "outputs": [],
   "source": [
    "from botorch.test_functions.multi_objective import BraninCurrin\n",
    "\n",
    "problem = lambda x : batch_true_function(x).to(**tkwargs)\n",
    "ref_point = torch.tensor([-18,-6]).to(**tkwargs)"
   ]
  },
  {
   "cell_type": "code",
   "execution_count": 4,
   "id": "1845d351",
   "metadata": {},
   "outputs": [],
   "source": [
    "# 1. design space\n",
    "from head import Grid\n",
    "import numpy as np\n",
    "\n",
    "X = np.linspace(0,1, num=100) \n",
    "Y = np.linspace(0,1, num=100)\n",
    "grid = Grid(X,Y)\n",
    "points = torch.from_numpy(grid.points)\n",
    "choices = points\n",
    "N_INIT = 6\n",
    "\n",
    "def generate_initial_data(n=6):\n",
    "    soboleng = torch.quasirandom.SobolEngine(dimension=1)\n",
    "    train_xid = torch.floor(soboleng.draw(n)*len(grid)).to(**tkwargs)\n",
    "    train_x = choices[train_xid.long(),:]\n",
    "    train_obj = problem(train_x)\n",
    "    \n",
    "    return torch.squeeze(train_x), torch.squeeze(train_obj)\n",
    "\n",
    "train_x, train_obj = generate_initial_data(n=N_INIT)\n"
   ]
  },
  {
   "cell_type": "code",
   "execution_count": 5,
   "id": "4dded50b",
   "metadata": {},
   "outputs": [],
   "source": [
    "# 2. define your model\n",
    "from botorch.models.gp_regression import SingleTaskGP\n",
    "from botorch.models.transforms.outcome import Standardize\n",
    "from gpytorch.mlls.exact_marginal_log_likelihood import ExactMarginalLogLikelihood\n",
    "\n",
    "def initialize_model(train_x, train_obj):\n",
    "    # define models for objective and constraint\n",
    "    model = SingleTaskGP(train_x, train_obj, \n",
    "                        outcome_transform=Standardize(m=train_obj.shape[-1]))\n",
    "    mll = ExactMarginalLogLikelihood(model.likelihood, model)\n",
    "    return mll, model\n",
    "\n",
    "mll, model = initialize_model(train_x, train_obj)"
   ]
  },
  {
   "cell_type": "code",
   "execution_count": 6,
   "id": "bb3ba6fe",
   "metadata": {},
   "outputs": [],
   "source": [
    "# 3. Define acqusition function\n",
    "from botorch.acquisition.monte_carlo import qUpperConfidenceBound\n",
    "from botorch.acquisition.objective import LinearMCObjective\n",
    "\n",
    "obj = LinearMCObjective(weights=torch.tensor([0.5, 0.5]).to(**tkwargs))\n",
    "acq_fun = lambda model: qUpperConfidenceBound(model, beta=0.1, objective=obj)"
   ]
  },
  {
   "cell_type": "code",
   "execution_count": 7,
   "id": "6649071c",
   "metadata": {},
   "outputs": [],
   "source": [
    "# 4. define a optimization routine for acqusition function \n",
    "from botorch.optim.optimize import optimize_acqf_discrete\n",
    "\n",
    "BATCH_SIZE = 4\n",
    "\n",
    "def selector(acquisition):\n",
    "    new_x, _ = optimize_acqf_discrete(\n",
    "        acq_function = acquisition,\n",
    "        q=BATCH_SIZE,\n",
    "        choices = choices\n",
    "    )\n",
    "    new_obj = problem(new_x)\n",
    "    return new_x, new_obj\n"
   ]
  },
  {
   "cell_type": "code",
   "execution_count": 8,
   "id": "fb0a015f",
   "metadata": {
    "scrolled": false
   },
   "outputs": [
    {
     "name": "stdout",
     "output_type": "stream",
     "text": [
      "........................."
     ]
    }
   ],
   "source": [
    "# 5. define the opitmization loop\n",
    "\n",
    "from botorch import fit_gpytorch_model\n",
    "from botorch.acquisition.monte_carlo import qExpectedImprovement\n",
    "from botorch.utils.multi_objective.pareto import is_non_dominated\n",
    "from botorch.utils.multi_objective.hypervolume import Hypervolume\n",
    "from botorch.optim.fit import fit_gpytorch_torch\n",
    "\n",
    "torch.manual_seed(0)\n",
    "\n",
    "\n",
    "N_ITERATIONS = 25\n",
    "\n",
    "verbose = False\n",
    "\n",
    "# run N_ITERATIONS rounds of BayesOpt after the initial random batch\n",
    "for iteration in range(1, N_ITERATIONS + 1):    \n",
    "    \n",
    "    # fit the models\n",
    "    fit_gpytorch_model(mll)\n",
    "\n",
    "    # define the acquisition modules using a QMC sampler\n",
    "    acquisition = acq_fun(model)\n",
    "\n",
    "    # optimize acquisition functions and get new observations\n",
    "    new_x, new_obj = selector(acquisition)\n",
    "\n",
    "    # update training points\n",
    "    train_x = torch.cat([train_x, new_x])\n",
    "    train_obj = torch.cat([train_obj, new_obj])\n",
    "\n",
    "    # reinitialize the models so they are ready for fitting on next iteration\n",
    "    # Note: we find improved performance from not warm starting the model hyperparameters\n",
    "    # using the hyperparameters from the previous iteration\n",
    "    mll, model = initialize_model(train_x, train_obj)\n",
    "\n",
    "    print(\".\", end=\"\")\n"
   ]
  },
  {
   "cell_type": "code",
   "execution_count": 9,
   "id": "8f122501",
   "metadata": {},
   "outputs": [
    {
     "data": {
      "text/plain": [
       "Text(0.5, 1.0, 'Iteration')"
      ]
     },
     "execution_count": 9,
     "metadata": {},
     "output_type": "execute_result"
    },
    {
     "data": {
      "image/png": "[encoded data removed]",
      "text/plain": [
       "<Figure size 432x288 with 2 Axes>"
      ]
     },
     "metadata": {
      "needs_background": "light"
     },
     "output_type": "display_data"
    }
   ],
   "source": [
    "import numpy as np\n",
    "from matplotlib import pyplot as plt\n",
    "from matplotlib.cm import ScalarMappable\n",
    "\n",
    "fig, axes = plt.subplots(1, 1)\n",
    "cm = plt.cm.get_cmap('viridis')\n",
    "\n",
    "batch_number = torch.cat(\n",
    "    [torch.zeros(N_INIT), torch.arange(1, N_ITERATIONS+1).repeat(BATCH_SIZE, 1).t().reshape(-1)]\n",
    ").numpy()\n",
    "\n",
    "sc = axes.scatter(train_obj[:, 0].cpu().numpy(), train_obj[:,1].cpu().numpy(), \n",
    "    c=batch_number, alpha=0.8,\n",
    ")\n",
    "axes.set_xlabel(\"Objective 1\")\n",
    "axes.set_ylabel(\"Objective 2\")\n",
    "norm = plt.Normalize(batch_number.min(), batch_number.max())\n",
    "sm =  ScalarMappable(norm=norm, cmap=cm)\n",
    "sm.set_array([])\n",
    "cbar_ax = fig.add_axes([0.93, 0.15, 0.01, 0.7])\n",
    "cbar = fig.colorbar(sm, cax=cbar_ax)\n",
    "cbar.ax.set_title(\"Iteration\")"
   ]
  },
  {
   "cell_type": "code",
   "execution_count": 37,
   "id": "9ef79276",
   "metadata": {},
   "outputs": [
    {
     "data": {
      "image/png": "[encoded data removed]",
      "text/plain": [
       "<Figure size 720x360 with 4 Axes>"
      ]
     },
     "metadata": {
      "needs_background": "light"
     },
     "output_type": "display_data"
    }
   ],
   "source": [
    "# plot the model\n",
    "model.eval()\n",
    "model.likelihood.eval()\n",
    "XX, YY = grid.mesh\n",
    "test_x = np.vstack(map(np.ravel, [XX, YY])).T\n",
    "observed_pred = model.likelihood(model(torch.from_numpy(test_x)))\n",
    "f1, f2 = observed_pred.mean.detach().numpy()\n",
    "\n",
    "fig, axs = plt.subplots(1,2,figsize=(5*2, 5))\n",
    "for ax, f in zip(axs,[f1,f2]):\n",
    "    sc = ax.contourf(XX,YY,f.reshape(100,100))\n",
    "    fig.colorbar(sc, ax=ax)\n",
    "    ax.scatter(train_x[:,0], train_x[:,1], c=batch_number, cmap='bwr')\n",
    "plt.show()"
   ]
  },
  {
   "cell_type": "code",
   "execution_count": null,
   "id": "2788cafa",
   "metadata": {},
   "outputs": [],
   "source": []
  }
 ],
 "metadata": {
  "kernelspec": {
   "display_name": "head",
   "language": "python",
   "name": "head"
  },
  "language_info": {
   "codemirror_mode": {
    "name": "ipython",
    "version": 3
   },
   "file_extension": ".py",
   "mimetype": "text/x-python",
   "name": "python",
   "nbconvert_exporter": "python",
   "pygments_lexer": "ipython3",
   "version": "3.8.8"
  }
 },
 "nbformat": 4,
 "nbformat_minor": 5
}
