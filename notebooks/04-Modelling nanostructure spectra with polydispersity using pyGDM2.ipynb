{
 "cells": [
  {
   "cell_type": "code",
   "execution_count": 1,
   "id": "28d68241",
   "metadata": {},
   "outputs": [],
   "source": [
    "%load_ext autoreload\n",
    "%autoreload 2"
   ]
  },
  {
   "cell_type": "code",
   "execution_count": 2,
   "id": "a6b3a745",
   "metadata": {},
   "outputs": [],
   "source": [
    "import numpy as np\n",
    "import matplotlib.pyplot as plt\n",
    "\n",
    "from pyGDM2 import (core, propagators, fields, \n",
    "                    materials, linear, structures, \n",
    "                    tools, visu)\n"
   ]
  },
  {
   "cell_type": "code",
   "execution_count": 3,
   "id": "ee012ca2",
   "metadata": {},
   "outputs": [],
   "source": [
    "def get_spectrum(struct):\n",
    "    \"\"\" Obtain a simulated absorption spectra for a hexagonal nanorod mesh\n",
    "    Inputs:\n",
    "        struct : a pyGDM2 structure object\n",
    "    \"\"\"\n",
    "\n",
    "    field_generator = fields.plane_wave\n",
    "    wavelengths = np.linspace(400, 1000, 5)\n",
    "    kwargs = dict(theta=0, inc_angle=180)\n",
    "\n",
    "    efield = fields.efield(field_generator,\n",
    "                   wavelengths=wavelengths, kwargs=kwargs)\n",
    "    n1 = n2 = 1.0\n",
    "    dyads = propagators.DyadsQuasistatic123(n1=n1, n2=n2)\n",
    "\n",
    "    sim = core.simulation(struct, efield, dyads)\n",
    "    sim.scatter(verbose=False)\n",
    "    field_kwargs = tools.get_possible_field_params_spectra(sim)\n",
    "\n",
    "    config_idx = 0\n",
    "    wl, spectrum = tools.calculate_spectrum(sim,\n",
    "                        field_kwargs[config_idx], linear.extinct)\n",
    "    \n",
    "    abs_ = spectrum.T[2]/np.max(spectrum.T[2])\n",
    "    \n",
    "    return wl, abs_\n"
   ]
  },
  {
   "cell_type": "code",
   "execution_count": 8,
   "id": "bc97b2ef",
   "metadata": {},
   "outputs": [
    {
     "data": {
      "image/png": "[encoded data removed]",
      "text/plain": [
       "<Figure size 432x288 with 1 Axes>"
      ]
     },
     "metadata": {
      "needs_background": "light"
     },
     "output_type": "display_data"
    },
    {
     "name": "stderr",
     "output_type": "stream",
     "text": [
      "/Users/pozzolabadmin/Google Drive/Projects/Genetic_Algorithm/env/lib/python3.8/site-packages/pyGDM2/tools.py:923: UserWarning: Mesh not detected, falling back to 'cubic'. mindist value = 9.233492916649505\n",
      "  warnings.warn(\"Mesh not detected, falling back to 'cubic'. mindist value = {}\".format(distsum))\n",
      "/Users/pozzolabadmin/Google Drive/Projects/Genetic_Algorithm/env/lib/python3.8/site-packages/pyGDM2/tools.py:756: UserWarning: Inconsistent structure!!! 2 of 8152 dipoles don't match with step=20.00nm.\n",
      "  warnings.warn(\"Inconsistent structure!!! {} of {} dipoles don't match with step={:.2f}nm.\".format(\n",
      "/Users/pozzolabadmin/Google Drive/Projects/Genetic_Algorithm/env/lib/python3.8/site-packages/pyGDM2/structures.py:153: UserWarning: using only consistent part of structure. Please verify the geometry.\n",
      "  warnings.warn(\"using only consistent part of structure. \" +\n"
     ]
    }
   ],
   "source": [
    "from scipy import stats\n",
    "import pdb\n",
    "\n",
    "def generate_polydisperse_structure(r_mu, plot=True):\n",
    "    \n",
    "    # randmoly select number of structures\n",
    "    n_structures = stats.randint.rvs(1,10,size=1)\n",
    "    \n",
    "    # sample radius from a Gaussian distribution\n",
    "    step = 20\n",
    "    r_sigma = 2\n",
    "    radii = stats.norm.rvs(loc=r_mu,scale=r_sigma,size=n_structures)\n",
    "\n",
    "    # sample few spatial locations to place the particles at\n",
    "    spatial_scale = (r_mu+r_sigma)*step*5\n",
    "    mean = [0, 0]\n",
    "    cov = [[2.0, 0.3], [0.3, 0.5]]\n",
    "    XY= spatial_scale*stats.multivariate_normal.rvs(mean, cov, size=n_structures)\n",
    "    \n",
    "    geom_list = []\n",
    "\n",
    "    for i in range(n_structures[0]):\n",
    "        _geo = structures.sphere(step, R=radii[i], mesh='hex')\n",
    "        _geo = structures.shift(_geo, [XY[i,0], XY[i,1], 0])\n",
    "        geom_list.append(_geo)\n",
    "\n",
    "    geometry = structures.combine_geometries(geom_list)\n",
    "    \n",
    "    if plot:\n",
    "        fig, ax = plt.subplots()\n",
    "        ax.scatter(geometry[:,0], geometry[:,1])\n",
    "        ax.scatter(XY[:,0], XY[:,1], marker='x')\n",
    "        ax.axis('equal')\n",
    "        plt.show()\n",
    "    \n",
    "    material = materials.gold()\n",
    "    struct = structures.struct(step, geometry, material, verbose=False)\n",
    "    \n",
    "    return struct\n",
    "\n",
    "struct = generate_polydisperse_structure(5)"
   ]
  },
  {
   "cell_type": "code",
   "execution_count": null,
   "id": "729ba33d",
   "metadata": {},
   "outputs": [],
   "source": [
    "wl, I = get_spectrum(struct)\n",
    "fig,ax = plt.subplots()\n",
    "ax.plot(wl,I)\n",
    "ax.set_xlabel('Wavelength (nm)')\n",
    "ax.set_ylabel('Intensity')\n",
    "plt.show()"
   ]
  },
  {
   "cell_type": "code",
   "execution_count": null,
   "id": "d97d9429",
   "metadata": {},
   "outputs": [],
   "source": []
  }
 ],
 "metadata": {
  "kernelspec": {
   "display_name": "head",
   "language": "python",
   "name": "head"
  },
  "language_info": {
   "codemirror_mode": {
    "name": "ipython",
    "version": 3
   },
   "file_extension": ".py",
   "mimetype": "text/x-python",
   "name": "python",
   "nbconvert_exporter": "python",
   "pygments_lexer": "ipython3",
   "version": "3.8.8"
  }
 },
 "nbformat": 4,
 "nbformat_minor": 5
}
