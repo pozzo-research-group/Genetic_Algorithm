{
 "cells": [
  {
   "cell_type": "code",
   "execution_count": 37,
   "id": "44d49954",
   "metadata": {},
   "outputs": [],
   "source": [
    "import numpy as np\n",
    "import pandas as pd"
   ]
  },
  {
   "cell_type": "markdown",
   "id": "414abaa1",
   "metadata": {},
   "source": [
    "## Load new_x"
   ]
  },
  {
   "cell_type": "code",
   "execution_count": 86,
   "id": "85a79261",
   "metadata": {},
   "outputs": [],
   "source": [
    "itr = 6\n",
    "PW_SPHERE = np.load('../Data_peakwv_SPHERE/' + str(itr) + '/new_x.npy')\n",
    "Euclidean_SPHERE = np.load('../Data_euclidean_SPHERE/' + str(itr) + '/new_x.npy')\n",
    "AP_SPHERE = np.load('../Data_AP_SPHERE/' + str(itr) + '/new_x.npy')\n",
    "SRVF_SPHERE = np.load('../Data_SRVF_SPHERE/' + str(itr) + '/new_x.npy')\n",
    "\n",
    "PW_ROD = np.load('../Data_peakwv_ROD/' + str(itr) + '/new_x.npy')\n",
    "Euclidean_ROD = np.load('../Data_euclidean_ROD/' + str(itr) + '/new_x.npy')\n",
    "AP_ROD = np.load('../Data_AP_ROD/' + str(itr) + '/new_x.npy')\n",
    "SRVF_ROD = np.load('../Data_SRVF_ROD/' + str(itr) + '/new_x.npy')"
   ]
  },
  {
   "cell_type": "markdown",
   "id": "a5e5662b",
   "metadata": {},
   "source": [
    "## Load the best_estimate and append to new_x"
   ]
  },
  {
   "cell_type": "code",
   "execution_count": 87,
   "id": "5bc24090",
   "metadata": {},
   "outputs": [],
   "source": [
    "PW_BE_SPHERE = np.load('../Data_peakwv_SPHERE/' + str(itr) + '/best_estimate.npy')\n",
    "Euclidean_BE_SPHERE = np.load('../Data_euclidean_SPHERE/' + str(itr) + '/best_estimate.npy')\n",
    "AP_BE_SPHERE = np.load('../Data_AP_SPHERE/' + str(itr) + '/best_estimate.npy')\n",
    "SRVF_BE_SPHERE = np.load('../Data_SRVF_SPHERE/' + str(itr) + '/best_estimate.npy')\n",
    "\n",
    "PW_BE_ROD = np.load('../Data_peakwv_ROD/' + str(itr) + '/best_estimate.npy')\n",
    "Euclidean_BE_ROD = np.load('../Data_euclidean_ROD/' + str(itr) + '/best_estimate.npy')\n",
    "AP_BE_ROD = np.load('../Data_AP_ROD/' + str(itr) + '/best_estimate.npy')\n",
    "SRVF_BE_ROD = np.load('../Data_SRVF_ROD/' + str(itr) + '/best_estimate.npy')"
   ]
  },
  {
   "cell_type": "code",
   "execution_count": 88,
   "id": "c8702d8a",
   "metadata": {},
   "outputs": [
    {
     "data": {
      "text/plain": [
       "array([[ 83.42686604, 111.034132  ],\n",
       "       [ 81.00096967,  97.70725112],\n",
       "       [100.09690773, 120.22911911],\n",
       "       [103.04464483, 102.19671137],\n",
       "       [ 84.38925501, 110.54576215]])"
      ]
     },
     "execution_count": 88,
     "metadata": {},
     "output_type": "execute_result"
    }
   ],
   "source": [
    "PW_ROD = np.vstack((PW_ROD, PW_BE_ROD))\n",
    "PW_ROD"
   ]
  },
  {
   "cell_type": "code",
   "execution_count": 89,
   "id": "b698d024",
   "metadata": {},
   "outputs": [
    {
     "data": {
      "text/plain": [
       "array([[ 27.40006185,  51.73146852],\n",
       "       [150.        ,  90.010548  ],\n",
       "       [150.        ,  67.85080791],\n",
       "       [150.        ,  79.36613487],\n",
       "       [125.02582119,  84.05488838]])"
      ]
     },
     "execution_count": 89,
     "metadata": {},
     "output_type": "execute_result"
    }
   ],
   "source": [
    "Euclidean_ROD = np.vstack((Euclidean_ROD, Euclidean_BE_ROD))\n",
    "Euclidean_ROD"
   ]
  },
  {
   "cell_type": "code",
   "execution_count": 90,
   "id": "ea3fceb7",
   "metadata": {},
   "outputs": [
    {
     "data": {
      "text/plain": [
       "array([[ 90.4640799 ,  95.01896567],\n",
       "       [107.41237387, 102.66249249],\n",
       "       [129.07379904,  75.91649337],\n",
       "       [115.93607992,  88.90117731],\n",
       "       [ 86.31820986,  95.44671369]])"
      ]
     },
     "execution_count": 90,
     "metadata": {},
     "output_type": "execute_result"
    }
   ],
   "source": [
    "SRVF_ROD = np.vstack((SRVF_ROD, SRVF_BE_ROD))\n",
    "SRVF_ROD"
   ]
  },
  {
   "cell_type": "code",
   "execution_count": 91,
   "id": "626c784a",
   "metadata": {},
   "outputs": [
    {
     "data": {
      "text/plain": [
       "array([[ 92.4545246 , 101.13015431],\n",
       "       [ 94.76198687,  50.32452313],\n",
       "       [ 15.37640806,  57.25719301],\n",
       "       [ 10.14000001,  10.14000001],\n",
       "       [121.2899922 ,  97.98226297]])"
      ]
     },
     "execution_count": 91,
     "metadata": {},
     "output_type": "execute_result"
    }
   ],
   "source": [
    "AP_ROD = np.vstack((AP_ROD, AP_BE_ROD))\n",
    "AP_ROD"
   ]
  },
  {
   "cell_type": "code",
   "execution_count": 92,
   "id": "e2372845",
   "metadata": {},
   "outputs": [
    {
     "data": {
      "text/plain": [
       "array([[ 80.26030911,  10.14000001],\n",
       "       [121.03755575,  10.14000001],\n",
       "       [ 79.24840646,  76.3255548 ],\n",
       "       [ 85.09418191, 150.        ],\n",
       "       [ 10.14000001, 125.40971642]])"
      ]
     },
     "execution_count": 92,
     "metadata": {},
     "output_type": "execute_result"
    }
   ],
   "source": [
    "PW_SPHERE = np.vstack((PW_SPHERE, PW_BE_SPHERE))\n",
    "PW_SPHERE"
   ]
  },
  {
   "cell_type": "code",
   "execution_count": 93,
   "id": "42b47e1b",
   "metadata": {},
   "outputs": [
    {
     "data": {
      "text/plain": [
       "array([[ 88.68329954, 150.        ],\n",
       "       [ 10.14000001, 150.        ],\n",
       "       [ 10.14000001,  80.18035186],\n",
       "       [ 10.14000001, 117.56510989],\n",
       "       [ 10.76580799, 127.30364441]])"
      ]
     },
     "execution_count": 93,
     "metadata": {},
     "output_type": "execute_result"
    }
   ],
   "source": [
    "Euclidean_SPHERE = np.vstack((Euclidean_SPHERE, Euclidean_BE_SPHERE))\n",
    "Euclidean_SPHERE"
   ]
  },
  {
   "cell_type": "code",
   "execution_count": 94,
   "id": "520bffa2",
   "metadata": {},
   "outputs": [
    {
     "data": {
      "text/plain": [
       "array([[110.44366678,  65.93039804],\n",
       "       [ 11.9307331 , 150.        ],\n",
       "       [ 51.54989763,  10.14000001],\n",
       "       [ 36.90460314, 117.4145524 ],\n",
       "       [ 11.94236812, 150.        ]])"
      ]
     },
     "execution_count": 94,
     "metadata": {},
     "output_type": "execute_result"
    }
   ],
   "source": [
    "SRVF_SPHERE = np.vstack((SRVF_SPHERE, SRVF_BE_SPHERE))\n",
    "SRVF_SPHERE"
   ]
  },
  {
   "cell_type": "code",
   "execution_count": 95,
   "id": "a0d36ad6",
   "metadata": {},
   "outputs": [
    {
     "data": {
      "text/plain": [
       "array([[ 98.9656945 , 112.96457456],\n",
       "       [ 23.41453587,  69.00568044],\n",
       "       [ 34.6175722 ,  36.72315823],\n",
       "       [ 80.62278199,  79.89589665],\n",
       "       [ 10.14000001, 133.4518421 ]])"
      ]
     },
     "execution_count": 95,
     "metadata": {},
     "output_type": "execute_result"
    }
   ],
   "source": [
    "AP_SPHERE = np.vstack((AP_SPHERE, AP_BE_SPHERE))\n",
    "AP_SPHERE"
   ]
  },
  {
   "cell_type": "markdown",
   "id": "231d4530",
   "metadata": {},
   "source": [
    "## Combine Everything into a DataFrame"
   ]
  },
  {
   "cell_type": "code",
   "execution_count": 96,
   "id": "c6cac4e2",
   "metadata": {},
   "outputs": [],
   "source": [
    "#Target \n",
    "CTAB = np.array([416]*40).reshape(-1,1)\n",
    "GC = np.array([256]*40).reshape(-1,1)\n",
    "SEEDS = np.array([102]*40).reshape(-1,1)\n",
    "BLANK = np.array([0,0]).reshape(1,-1)\n",
    "data = np.vstack((PW_ROD, Euclidean_ROD, SRVF_ROD, AP_ROD, PW_SPHERE, Euclidean_SPHERE, SRVF_SPHERE, AP_SPHERE))\n",
    "data = np.hstack((CTAB, GC, data[:,0].reshape(-1,1), data[:,1].reshape(-1,1), SEEDS))\n",
    "water = (1300 - np.sum(data, axis=1)).reshape(-1,1)\n",
    "data = np.hstack((CTAB.reshape(-1,1), water.reshape(-1,1), data[:,1:]))\n",
    "data = np.round(data)\n",
    "df = pd.DataFrame(data, columns = ['CTAB-stock','water-stock','GC-stock','AG-stock','AA-stock','SEEDS-stock'])"
   ]
  },
  {
   "cell_type": "code",
   "execution_count": 97,
   "id": "a7a0e579",
   "metadata": {},
   "outputs": [],
   "source": [
    "df.where(df > 20, 0, inplace=True)"
   ]
  },
  {
   "cell_type": "code",
   "execution_count": 98,
   "id": "c70feffc",
   "metadata": {},
   "outputs": [
    {
     "data": {
      "text/html": [
       "<div>\n",
       "<style scoped>\n",
       "    .dataframe tbody tr th:only-of-type {\n",
       "        vertical-align: middle;\n",
       "    }\n",
       "\n",
       "    .dataframe tbody tr th {\n",
       "        vertical-align: top;\n",
       "    }\n",
       "\n",
       "    .dataframe thead th {\n",
       "        text-align: right;\n",
       "    }\n",
       "</style>\n",
       "<table border=\"1\" class=\"dataframe\">\n",
       "  <thead>\n",
       "    <tr style=\"text-align: right;\">\n",
       "      <th></th>\n",
       "      <th>CTAB-stock</th>\n",
       "      <th>water-stock</th>\n",
       "      <th>GC-stock</th>\n",
       "      <th>AG-stock</th>\n",
       "      <th>AA-stock</th>\n",
       "      <th>SEEDS-stock</th>\n",
       "    </tr>\n",
       "  </thead>\n",
       "  <tbody>\n",
       "    <tr>\n",
       "      <th>0</th>\n",
       "      <td>416.0</td>\n",
       "      <td>332.0</td>\n",
       "      <td>256.0</td>\n",
       "      <td>83.0</td>\n",
       "      <td>111.0</td>\n",
       "      <td>102.0</td>\n",
       "    </tr>\n",
       "    <tr>\n",
       "      <th>1</th>\n",
       "      <td>416.0</td>\n",
       "      <td>347.0</td>\n",
       "      <td>256.0</td>\n",
       "      <td>81.0</td>\n",
       "      <td>98.0</td>\n",
       "      <td>102.0</td>\n",
       "    </tr>\n",
       "    <tr>\n",
       "      <th>2</th>\n",
       "      <td>416.0</td>\n",
       "      <td>306.0</td>\n",
       "      <td>256.0</td>\n",
       "      <td>100.0</td>\n",
       "      <td>120.0</td>\n",
       "      <td>102.0</td>\n",
       "    </tr>\n",
       "    <tr>\n",
       "      <th>3</th>\n",
       "      <td>416.0</td>\n",
       "      <td>321.0</td>\n",
       "      <td>256.0</td>\n",
       "      <td>103.0</td>\n",
       "      <td>102.0</td>\n",
       "      <td>102.0</td>\n",
       "    </tr>\n",
       "    <tr>\n",
       "      <th>4</th>\n",
       "      <td>416.0</td>\n",
       "      <td>331.0</td>\n",
       "      <td>256.0</td>\n",
       "      <td>84.0</td>\n",
       "      <td>111.0</td>\n",
       "      <td>102.0</td>\n",
       "    </tr>\n",
       "    <tr>\n",
       "      <th>5</th>\n",
       "      <td>416.0</td>\n",
       "      <td>447.0</td>\n",
       "      <td>256.0</td>\n",
       "      <td>27.0</td>\n",
       "      <td>52.0</td>\n",
       "      <td>102.0</td>\n",
       "    </tr>\n",
       "    <tr>\n",
       "      <th>6</th>\n",
       "      <td>416.0</td>\n",
       "      <td>286.0</td>\n",
       "      <td>256.0</td>\n",
       "      <td>150.0</td>\n",
       "      <td>90.0</td>\n",
       "      <td>102.0</td>\n",
       "    </tr>\n",
       "    <tr>\n",
       "      <th>7</th>\n",
       "      <td>416.0</td>\n",
       "      <td>308.0</td>\n",
       "      <td>256.0</td>\n",
       "      <td>150.0</td>\n",
       "      <td>68.0</td>\n",
       "      <td>102.0</td>\n",
       "    </tr>\n",
       "    <tr>\n",
       "      <th>8</th>\n",
       "      <td>416.0</td>\n",
       "      <td>297.0</td>\n",
       "      <td>256.0</td>\n",
       "      <td>150.0</td>\n",
       "      <td>79.0</td>\n",
       "      <td>102.0</td>\n",
       "    </tr>\n",
       "    <tr>\n",
       "      <th>9</th>\n",
       "      <td>416.0</td>\n",
       "      <td>317.0</td>\n",
       "      <td>256.0</td>\n",
       "      <td>125.0</td>\n",
       "      <td>84.0</td>\n",
       "      <td>102.0</td>\n",
       "    </tr>\n",
       "    <tr>\n",
       "      <th>10</th>\n",
       "      <td>416.0</td>\n",
       "      <td>341.0</td>\n",
       "      <td>256.0</td>\n",
       "      <td>90.0</td>\n",
       "      <td>95.0</td>\n",
       "      <td>102.0</td>\n",
       "    </tr>\n",
       "    <tr>\n",
       "      <th>11</th>\n",
       "      <td>416.0</td>\n",
       "      <td>316.0</td>\n",
       "      <td>256.0</td>\n",
       "      <td>107.0</td>\n",
       "      <td>103.0</td>\n",
       "      <td>102.0</td>\n",
       "    </tr>\n",
       "    <tr>\n",
       "      <th>12</th>\n",
       "      <td>416.0</td>\n",
       "      <td>321.0</td>\n",
       "      <td>256.0</td>\n",
       "      <td>129.0</td>\n",
       "      <td>76.0</td>\n",
       "      <td>102.0</td>\n",
       "    </tr>\n",
       "    <tr>\n",
       "      <th>13</th>\n",
       "      <td>416.0</td>\n",
       "      <td>321.0</td>\n",
       "      <td>256.0</td>\n",
       "      <td>116.0</td>\n",
       "      <td>89.0</td>\n",
       "      <td>102.0</td>\n",
       "    </tr>\n",
       "    <tr>\n",
       "      <th>14</th>\n",
       "      <td>416.0</td>\n",
       "      <td>344.0</td>\n",
       "      <td>256.0</td>\n",
       "      <td>86.0</td>\n",
       "      <td>95.0</td>\n",
       "      <td>102.0</td>\n",
       "    </tr>\n",
       "    <tr>\n",
       "      <th>15</th>\n",
       "      <td>416.0</td>\n",
       "      <td>332.0</td>\n",
       "      <td>256.0</td>\n",
       "      <td>92.0</td>\n",
       "      <td>101.0</td>\n",
       "      <td>102.0</td>\n",
       "    </tr>\n",
       "    <tr>\n",
       "      <th>16</th>\n",
       "      <td>416.0</td>\n",
       "      <td>381.0</td>\n",
       "      <td>256.0</td>\n",
       "      <td>95.0</td>\n",
       "      <td>50.0</td>\n",
       "      <td>102.0</td>\n",
       "    </tr>\n",
       "    <tr>\n",
       "      <th>17</th>\n",
       "      <td>416.0</td>\n",
       "      <td>453.0</td>\n",
       "      <td>256.0</td>\n",
       "      <td>0.0</td>\n",
       "      <td>57.0</td>\n",
       "      <td>102.0</td>\n",
       "    </tr>\n",
       "    <tr>\n",
       "      <th>18</th>\n",
       "      <td>416.0</td>\n",
       "      <td>506.0</td>\n",
       "      <td>256.0</td>\n",
       "      <td>0.0</td>\n",
       "      <td>0.0</td>\n",
       "      <td>102.0</td>\n",
       "    </tr>\n",
       "    <tr>\n",
       "      <th>19</th>\n",
       "      <td>416.0</td>\n",
       "      <td>307.0</td>\n",
       "      <td>256.0</td>\n",
       "      <td>121.0</td>\n",
       "      <td>98.0</td>\n",
       "      <td>102.0</td>\n",
       "    </tr>\n",
       "    <tr>\n",
       "      <th>20</th>\n",
       "      <td>416.0</td>\n",
       "      <td>436.0</td>\n",
       "      <td>256.0</td>\n",
       "      <td>80.0</td>\n",
       "      <td>0.0</td>\n",
       "      <td>102.0</td>\n",
       "    </tr>\n",
       "    <tr>\n",
       "      <th>21</th>\n",
       "      <td>416.0</td>\n",
       "      <td>395.0</td>\n",
       "      <td>256.0</td>\n",
       "      <td>121.0</td>\n",
       "      <td>0.0</td>\n",
       "      <td>102.0</td>\n",
       "    </tr>\n",
       "    <tr>\n",
       "      <th>22</th>\n",
       "      <td>416.0</td>\n",
       "      <td>370.0</td>\n",
       "      <td>256.0</td>\n",
       "      <td>79.0</td>\n",
       "      <td>76.0</td>\n",
       "      <td>102.0</td>\n",
       "    </tr>\n",
       "    <tr>\n",
       "      <th>23</th>\n",
       "      <td>416.0</td>\n",
       "      <td>291.0</td>\n",
       "      <td>256.0</td>\n",
       "      <td>85.0</td>\n",
       "      <td>150.0</td>\n",
       "      <td>102.0</td>\n",
       "    </tr>\n",
       "    <tr>\n",
       "      <th>24</th>\n",
       "      <td>416.0</td>\n",
       "      <td>390.0</td>\n",
       "      <td>256.0</td>\n",
       "      <td>0.0</td>\n",
       "      <td>125.0</td>\n",
       "      <td>102.0</td>\n",
       "    </tr>\n",
       "    <tr>\n",
       "      <th>25</th>\n",
       "      <td>416.0</td>\n",
       "      <td>287.0</td>\n",
       "      <td>256.0</td>\n",
       "      <td>89.0</td>\n",
       "      <td>150.0</td>\n",
       "      <td>102.0</td>\n",
       "    </tr>\n",
       "    <tr>\n",
       "      <th>26</th>\n",
       "      <td>416.0</td>\n",
       "      <td>366.0</td>\n",
       "      <td>256.0</td>\n",
       "      <td>0.0</td>\n",
       "      <td>150.0</td>\n",
       "      <td>102.0</td>\n",
       "    </tr>\n",
       "    <tr>\n",
       "      <th>27</th>\n",
       "      <td>416.0</td>\n",
       "      <td>436.0</td>\n",
       "      <td>256.0</td>\n",
       "      <td>0.0</td>\n",
       "      <td>80.0</td>\n",
       "      <td>102.0</td>\n",
       "    </tr>\n",
       "    <tr>\n",
       "      <th>28</th>\n",
       "      <td>416.0</td>\n",
       "      <td>398.0</td>\n",
       "      <td>256.0</td>\n",
       "      <td>0.0</td>\n",
       "      <td>118.0</td>\n",
       "      <td>102.0</td>\n",
       "    </tr>\n",
       "    <tr>\n",
       "      <th>29</th>\n",
       "      <td>416.0</td>\n",
       "      <td>388.0</td>\n",
       "      <td>256.0</td>\n",
       "      <td>0.0</td>\n",
       "      <td>127.0</td>\n",
       "      <td>102.0</td>\n",
       "    </tr>\n",
       "    <tr>\n",
       "      <th>30</th>\n",
       "      <td>416.0</td>\n",
       "      <td>350.0</td>\n",
       "      <td>256.0</td>\n",
       "      <td>110.0</td>\n",
       "      <td>66.0</td>\n",
       "      <td>102.0</td>\n",
       "    </tr>\n",
       "    <tr>\n",
       "      <th>31</th>\n",
       "      <td>416.0</td>\n",
       "      <td>364.0</td>\n",
       "      <td>256.0</td>\n",
       "      <td>0.0</td>\n",
       "      <td>150.0</td>\n",
       "      <td>102.0</td>\n",
       "    </tr>\n",
       "    <tr>\n",
       "      <th>32</th>\n",
       "      <td>416.0</td>\n",
       "      <td>464.0</td>\n",
       "      <td>256.0</td>\n",
       "      <td>52.0</td>\n",
       "      <td>0.0</td>\n",
       "      <td>102.0</td>\n",
       "    </tr>\n",
       "    <tr>\n",
       "      <th>33</th>\n",
       "      <td>416.0</td>\n",
       "      <td>372.0</td>\n",
       "      <td>256.0</td>\n",
       "      <td>37.0</td>\n",
       "      <td>117.0</td>\n",
       "      <td>102.0</td>\n",
       "    </tr>\n",
       "    <tr>\n",
       "      <th>34</th>\n",
       "      <td>416.0</td>\n",
       "      <td>364.0</td>\n",
       "      <td>256.0</td>\n",
       "      <td>0.0</td>\n",
       "      <td>150.0</td>\n",
       "      <td>102.0</td>\n",
       "    </tr>\n",
       "    <tr>\n",
       "      <th>35</th>\n",
       "      <td>416.0</td>\n",
       "      <td>314.0</td>\n",
       "      <td>256.0</td>\n",
       "      <td>99.0</td>\n",
       "      <td>113.0</td>\n",
       "      <td>102.0</td>\n",
       "    </tr>\n",
       "    <tr>\n",
       "      <th>36</th>\n",
       "      <td>416.0</td>\n",
       "      <td>434.0</td>\n",
       "      <td>256.0</td>\n",
       "      <td>23.0</td>\n",
       "      <td>69.0</td>\n",
       "      <td>102.0</td>\n",
       "    </tr>\n",
       "    <tr>\n",
       "      <th>37</th>\n",
       "      <td>416.0</td>\n",
       "      <td>455.0</td>\n",
       "      <td>256.0</td>\n",
       "      <td>35.0</td>\n",
       "      <td>37.0</td>\n",
       "      <td>102.0</td>\n",
       "    </tr>\n",
       "    <tr>\n",
       "      <th>38</th>\n",
       "      <td>416.0</td>\n",
       "      <td>365.0</td>\n",
       "      <td>256.0</td>\n",
       "      <td>81.0</td>\n",
       "      <td>80.0</td>\n",
       "      <td>102.0</td>\n",
       "    </tr>\n",
       "    <tr>\n",
       "      <th>39</th>\n",
       "      <td>416.0</td>\n",
       "      <td>382.0</td>\n",
       "      <td>256.0</td>\n",
       "      <td>0.0</td>\n",
       "      <td>133.0</td>\n",
       "      <td>102.0</td>\n",
       "    </tr>\n",
       "  </tbody>\n",
       "</table>\n",
       "</div>"
      ],
      "text/plain": [
       "    CTAB-stock  water-stock  GC-stock  AG-stock  AA-stock  SEEDS-stock\n",
       "0        416.0        332.0     256.0      83.0     111.0        102.0\n",
       "1        416.0        347.0     256.0      81.0      98.0        102.0\n",
       "2        416.0        306.0     256.0     100.0     120.0        102.0\n",
       "3        416.0        321.0     256.0     103.0     102.0        102.0\n",
       "4        416.0        331.0     256.0      84.0     111.0        102.0\n",
       "5        416.0        447.0     256.0      27.0      52.0        102.0\n",
       "6        416.0        286.0     256.0     150.0      90.0        102.0\n",
       "7        416.0        308.0     256.0     150.0      68.0        102.0\n",
       "8        416.0        297.0     256.0     150.0      79.0        102.0\n",
       "9        416.0        317.0     256.0     125.0      84.0        102.0\n",
       "10       416.0        341.0     256.0      90.0      95.0        102.0\n",
       "11       416.0        316.0     256.0     107.0     103.0        102.0\n",
       "12       416.0        321.0     256.0     129.0      76.0        102.0\n",
       "13       416.0        321.0     256.0     116.0      89.0        102.0\n",
       "14       416.0        344.0     256.0      86.0      95.0        102.0\n",
       "15       416.0        332.0     256.0      92.0     101.0        102.0\n",
       "16       416.0        381.0     256.0      95.0      50.0        102.0\n",
       "17       416.0        453.0     256.0       0.0      57.0        102.0\n",
       "18       416.0        506.0     256.0       0.0       0.0        102.0\n",
       "19       416.0        307.0     256.0     121.0      98.0        102.0\n",
       "20       416.0        436.0     256.0      80.0       0.0        102.0\n",
       "21       416.0        395.0     256.0     121.0       0.0        102.0\n",
       "22       416.0        370.0     256.0      79.0      76.0        102.0\n",
       "23       416.0        291.0     256.0      85.0     150.0        102.0\n",
       "24       416.0        390.0     256.0       0.0     125.0        102.0\n",
       "25       416.0        287.0     256.0      89.0     150.0        102.0\n",
       "26       416.0        366.0     256.0       0.0     150.0        102.0\n",
       "27       416.0        436.0     256.0       0.0      80.0        102.0\n",
       "28       416.0        398.0     256.0       0.0     118.0        102.0\n",
       "29       416.0        388.0     256.0       0.0     127.0        102.0\n",
       "30       416.0        350.0     256.0     110.0      66.0        102.0\n",
       "31       416.0        364.0     256.0       0.0     150.0        102.0\n",
       "32       416.0        464.0     256.0      52.0       0.0        102.0\n",
       "33       416.0        372.0     256.0      37.0     117.0        102.0\n",
       "34       416.0        364.0     256.0       0.0     150.0        102.0\n",
       "35       416.0        314.0     256.0      99.0     113.0        102.0\n",
       "36       416.0        434.0     256.0      23.0      69.0        102.0\n",
       "37       416.0        455.0     256.0      35.0      37.0        102.0\n",
       "38       416.0        365.0     256.0      81.0      80.0        102.0\n",
       "39       416.0        382.0     256.0       0.0     133.0        102.0"
      ]
     },
     "execution_count": 98,
     "metadata": {},
     "output_type": "execute_result"
    }
   ],
   "source": [
    "df"
   ]
  },
  {
   "cell_type": "code",
   "execution_count": 99,
   "id": "b52c40ad",
   "metadata": {},
   "outputs": [
    {
     "data": {
      "text/plain": [
       "0     1300.0\n",
       "1     1300.0\n",
       "2     1300.0\n",
       "3     1300.0\n",
       "4     1300.0\n",
       "5     1300.0\n",
       "6     1300.0\n",
       "7     1300.0\n",
       "8     1300.0\n",
       "9     1300.0\n",
       "10    1300.0\n",
       "11    1300.0\n",
       "12    1300.0\n",
       "13    1300.0\n",
       "14    1299.0\n",
       "15    1299.0\n",
       "16    1300.0\n",
       "17    1284.0\n",
       "18    1280.0\n",
       "19    1300.0\n",
       "20    1290.0\n",
       "21    1290.0\n",
       "22    1299.0\n",
       "23    1300.0\n",
       "24    1289.0\n",
       "25    1300.0\n",
       "26    1290.0\n",
       "27    1290.0\n",
       "28    1290.0\n",
       "29    1289.0\n",
       "30    1300.0\n",
       "31    1288.0\n",
       "32    1290.0\n",
       "33    1300.0\n",
       "34    1288.0\n",
       "35    1300.0\n",
       "36    1300.0\n",
       "37    1301.0\n",
       "38    1300.0\n",
       "39    1289.0\n",
       "dtype: float64"
      ]
     },
     "execution_count": 99,
     "metadata": {},
     "output_type": "execute_result"
    }
   ],
   "source": [
    "df.sum(axis=1)"
   ]
  },
  {
   "cell_type": "code",
   "execution_count": 100,
   "id": "7ac9f5d0",
   "metadata": {},
   "outputs": [
    {
     "data": {
      "text/plain": [
       "CTAB-stock     16640.0\n",
       "water-stock    14535.0\n",
       "GC-stock       10240.0\n",
       "AG-stock        2780.0\n",
       "AA-stock        3570.0\n",
       "SEEDS-stock     4080.0\n",
       "dtype: float64"
      ]
     },
     "execution_count": 100,
     "metadata": {},
     "output_type": "execute_result"
    }
   ],
   "source": [
    "df.sum(axis=0)"
   ]
  },
  {
   "cell_type": "code",
   "execution_count": 101,
   "id": "8c0add39",
   "metadata": {},
   "outputs": [],
   "source": [
    "df.to_csv('Itr' + str(itr) + '.csv')"
   ]
  },
  {
   "cell_type": "code",
   "execution_count": null,
   "id": "8aa5448c",
   "metadata": {},
   "outputs": [],
   "source": []
  },
  {
   "cell_type": "code",
   "execution_count": null,
   "id": "529bc4ab",
   "metadata": {},
   "outputs": [],
   "source": []
  }
 ],
 "metadata": {
  "kernelspec": {
   "display_name": "Python 3",
   "language": "python",
   "name": "python3"
  },
  "language_info": {
   "codemirror_mode": {
    "name": "ipython",
    "version": 3
   },
   "file_extension": ".py",
   "mimetype": "text/x-python",
   "name": "python",
   "nbconvert_exporter": "python",
   "pygments_lexer": "ipython3",
   "version": "3.9.1"
  }
 },
 "nbformat": 4,
 "nbformat_minor": 5
}
