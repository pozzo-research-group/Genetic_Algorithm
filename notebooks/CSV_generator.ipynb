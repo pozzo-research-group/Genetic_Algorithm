{
 "cells": [
  {
   "cell_type": "code",
   "execution_count": 1,
   "id": "44d49954",
   "metadata": {},
   "outputs": [],
   "source": [
    "import numpy as np\n",
    "import pandas as pd"
   ]
  },
  {
   "cell_type": "markdown",
   "id": "414abaa1",
   "metadata": {},
   "source": [
    "## Load new_x"
   ]
  },
  {
   "cell_type": "code",
   "execution_count": 11,
   "id": "85a79261",
   "metadata": {},
   "outputs": [],
   "source": [
    "itr = 0\n",
    "PW = np.load('../Data_peakwv/' + str(itr) + '/new_x.npy')\n",
    "Euclidean = np.load('../Data_euclidean/' + str(itr) + '/new_x.npy')\n",
    "AP = np.load('../Data_AP/' + str(itr) + '/new_x.npy')"
   ]
  },
  {
   "cell_type": "markdown",
   "id": "a5e5662b",
   "metadata": {},
   "source": [
    "## Load the best_estimate and append to new_x"
   ]
  },
  {
   "cell_type": "code",
   "execution_count": 3,
   "id": "5bc24090",
   "metadata": {},
   "outputs": [],
   "source": [
    "PW_BE = np.load('../Data_peakwv/' + str(itr) + '/best_estimate.npy')\n",
    "Euclidean_BE = np.load('../Data_euclidean/' + str(itr) + '/best_estimate.npy')\n",
    "AP_BE = np.load('../Data_AP/' + str(itr) + '/best_estimate.npy')"
   ]
  },
  {
   "cell_type": "code",
   "execution_count": 4,
   "id": "e2372845",
   "metadata": {},
   "outputs": [
    {
     "data": {
      "text/plain": [
       "array([[-1.95254081,  0.41252527],\n",
       "       [-6.92655743,  1.08891464],\n",
       "       [ 2.80679004,  1.61040092],\n",
       "       [ 5.62589042,  3.38136773],\n",
       "       [-1.39214835,  0.24254589]])"
      ]
     },
     "execution_count": 4,
     "metadata": {},
     "output_type": "execute_result"
    }
   ],
   "source": [
    "PW = np.vstack((PW, PW_BE))\n",
    "PW"
   ]
  },
  {
   "cell_type": "code",
   "execution_count": 5,
   "id": "42b47e1b",
   "metadata": {},
   "outputs": [
    {
     "data": {
      "text/plain": [
       "array([[-1.95254081,  0.41252527],\n",
       "       [-6.92655743,  1.08891464],\n",
       "       [ 2.80679004,  1.61040092],\n",
       "       [ 5.62589042,  3.38136773],\n",
       "       [-1.53583616,  0.23185006]])"
      ]
     },
     "execution_count": 5,
     "metadata": {},
     "output_type": "execute_result"
    }
   ],
   "source": [
    "Euclidean = np.vstack((Euclidean, Euclidean_BE))\n",
    "Euclidean"
   ]
  },
  {
   "cell_type": "code",
   "execution_count": 6,
   "id": "a0d36ad6",
   "metadata": {},
   "outputs": [
    {
     "data": {
      "text/plain": [
       "array([[-1.95254081,  0.41252527],\n",
       "       [-6.92655743,  1.08891464],\n",
       "       [ 2.80679004,  1.61040092],\n",
       "       [ 5.62589042,  3.38136773],\n",
       "       [-1.4691689 ,  0.23993173]])"
      ]
     },
     "execution_count": 6,
     "metadata": {},
     "output_type": "execute_result"
    }
   ],
   "source": [
    "AP = np.vstack((AP, AP_BE))\n",
    "AP"
   ]
  },
  {
   "cell_type": "markdown",
   "id": "231d4530",
   "metadata": {},
   "source": [
    "## Combine Everything into a DataFrame"
   ]
  },
  {
   "cell_type": "code",
   "execution_count": 8,
   "id": "c6cac4e2",
   "metadata": {},
   "outputs": [],
   "source": [
    "#Target \n",
    "CTAB = np.array([416]*15).reshape(-1,1)\n",
    "GC = np.array([256]*15).reshape(-1,1)\n",
    "SEEDS = np.array([102]*15).reshape(-1,1)\n",
    "data = np.vstack((PW, Euclidean, AP))\n",
    "data = np.hstack((CTAB, GC, data[:,0].reshape(-1,1), data[:,1].reshape(-1,1), SEEDS))\n",
    "water = (1300 - np.sum(data, axis=1)).reshape(-1,1)\n",
    "data = np.hstack((CTAB.reshape(-1,1), water.reshape(-1,1), data[:,1:]))\n",
    "data = np.round(data)\n",
    "df = pd.DataFrame(data, columns = ['CTAB-stock','water-stock','GC-stock','AG-stock','AA-stock','SEEDS-stock'])"
   ]
  },
  {
   "cell_type": "code",
   "execution_count": 9,
   "id": "a7a0e579",
   "metadata": {},
   "outputs": [],
   "source": [
    "df.where(df > 20, 0, inplace=True)"
   ]
  },
  {
   "cell_type": "code",
   "execution_count": 10,
   "id": "a7bdceed",
   "metadata": {},
   "outputs": [
    {
     "data": {
      "text/html": [
       "<div>\n",
       "<style scoped>\n",
       "    .dataframe tbody tr th:only-of-type {\n",
       "        vertical-align: middle;\n",
       "    }\n",
       "\n",
       "    .dataframe tbody tr th {\n",
       "        vertical-align: top;\n",
       "    }\n",
       "\n",
       "    .dataframe thead th {\n",
       "        text-align: right;\n",
       "    }\n",
       "</style>\n",
       "<table border=\"1\" class=\"dataframe\">\n",
       "  <thead>\n",
       "    <tr style=\"text-align: right;\">\n",
       "      <th></th>\n",
       "      <th>CTAB-stock</th>\n",
       "      <th>water-stock</th>\n",
       "      <th>GC-stock</th>\n",
       "      <th>AG-stock</th>\n",
       "      <th>AA-stock</th>\n",
       "      <th>SEEDS-stock</th>\n",
       "    </tr>\n",
       "  </thead>\n",
       "  <tbody>\n",
       "    <tr>\n",
       "      <th>0</th>\n",
       "      <td>416.0</td>\n",
       "      <td>528.0</td>\n",
       "      <td>256.0</td>\n",
       "      <td>0.0</td>\n",
       "      <td>0.0</td>\n",
       "      <td>102.0</td>\n",
       "    </tr>\n",
       "    <tr>\n",
       "      <th>1</th>\n",
       "      <td>416.0</td>\n",
       "      <td>532.0</td>\n",
       "      <td>256.0</td>\n",
       "      <td>0.0</td>\n",
       "      <td>0.0</td>\n",
       "      <td>102.0</td>\n",
       "    </tr>\n",
       "    <tr>\n",
       "      <th>2</th>\n",
       "      <td>416.0</td>\n",
       "      <td>522.0</td>\n",
       "      <td>256.0</td>\n",
       "      <td>0.0</td>\n",
       "      <td>0.0</td>\n",
       "      <td>102.0</td>\n",
       "    </tr>\n",
       "    <tr>\n",
       "      <th>3</th>\n",
       "      <td>416.0</td>\n",
       "      <td>517.0</td>\n",
       "      <td>256.0</td>\n",
       "      <td>0.0</td>\n",
       "      <td>0.0</td>\n",
       "      <td>102.0</td>\n",
       "    </tr>\n",
       "    <tr>\n",
       "      <th>4</th>\n",
       "      <td>416.0</td>\n",
       "      <td>527.0</td>\n",
       "      <td>256.0</td>\n",
       "      <td>0.0</td>\n",
       "      <td>0.0</td>\n",
       "      <td>102.0</td>\n",
       "    </tr>\n",
       "    <tr>\n",
       "      <th>5</th>\n",
       "      <td>416.0</td>\n",
       "      <td>528.0</td>\n",
       "      <td>256.0</td>\n",
       "      <td>0.0</td>\n",
       "      <td>0.0</td>\n",
       "      <td>102.0</td>\n",
       "    </tr>\n",
       "    <tr>\n",
       "      <th>6</th>\n",
       "      <td>416.0</td>\n",
       "      <td>532.0</td>\n",
       "      <td>256.0</td>\n",
       "      <td>0.0</td>\n",
       "      <td>0.0</td>\n",
       "      <td>102.0</td>\n",
       "    </tr>\n",
       "    <tr>\n",
       "      <th>7</th>\n",
       "      <td>416.0</td>\n",
       "      <td>522.0</td>\n",
       "      <td>256.0</td>\n",
       "      <td>0.0</td>\n",
       "      <td>0.0</td>\n",
       "      <td>102.0</td>\n",
       "    </tr>\n",
       "    <tr>\n",
       "      <th>8</th>\n",
       "      <td>416.0</td>\n",
       "      <td>517.0</td>\n",
       "      <td>256.0</td>\n",
       "      <td>0.0</td>\n",
       "      <td>0.0</td>\n",
       "      <td>102.0</td>\n",
       "    </tr>\n",
       "    <tr>\n",
       "      <th>9</th>\n",
       "      <td>416.0</td>\n",
       "      <td>527.0</td>\n",
       "      <td>256.0</td>\n",
       "      <td>0.0</td>\n",
       "      <td>0.0</td>\n",
       "      <td>102.0</td>\n",
       "    </tr>\n",
       "    <tr>\n",
       "      <th>10</th>\n",
       "      <td>416.0</td>\n",
       "      <td>528.0</td>\n",
       "      <td>256.0</td>\n",
       "      <td>0.0</td>\n",
       "      <td>0.0</td>\n",
       "      <td>102.0</td>\n",
       "    </tr>\n",
       "    <tr>\n",
       "      <th>11</th>\n",
       "      <td>416.0</td>\n",
       "      <td>532.0</td>\n",
       "      <td>256.0</td>\n",
       "      <td>0.0</td>\n",
       "      <td>0.0</td>\n",
       "      <td>102.0</td>\n",
       "    </tr>\n",
       "    <tr>\n",
       "      <th>12</th>\n",
       "      <td>416.0</td>\n",
       "      <td>522.0</td>\n",
       "      <td>256.0</td>\n",
       "      <td>0.0</td>\n",
       "      <td>0.0</td>\n",
       "      <td>102.0</td>\n",
       "    </tr>\n",
       "    <tr>\n",
       "      <th>13</th>\n",
       "      <td>416.0</td>\n",
       "      <td>517.0</td>\n",
       "      <td>256.0</td>\n",
       "      <td>0.0</td>\n",
       "      <td>0.0</td>\n",
       "      <td>102.0</td>\n",
       "    </tr>\n",
       "    <tr>\n",
       "      <th>14</th>\n",
       "      <td>416.0</td>\n",
       "      <td>527.0</td>\n",
       "      <td>256.0</td>\n",
       "      <td>0.0</td>\n",
       "      <td>0.0</td>\n",
       "      <td>102.0</td>\n",
       "    </tr>\n",
       "  </tbody>\n",
       "</table>\n",
       "</div>"
      ],
      "text/plain": [
       "    CTAB-stock  water-stock  GC-stock  AG-stock  AA-stock  SEEDS-stock\n",
       "0        416.0        528.0     256.0       0.0       0.0        102.0\n",
       "1        416.0        532.0     256.0       0.0       0.0        102.0\n",
       "2        416.0        522.0     256.0       0.0       0.0        102.0\n",
       "3        416.0        517.0     256.0       0.0       0.0        102.0\n",
       "4        416.0        527.0     256.0       0.0       0.0        102.0\n",
       "5        416.0        528.0     256.0       0.0       0.0        102.0\n",
       "6        416.0        532.0     256.0       0.0       0.0        102.0\n",
       "7        416.0        522.0     256.0       0.0       0.0        102.0\n",
       "8        416.0        517.0     256.0       0.0       0.0        102.0\n",
       "9        416.0        527.0     256.0       0.0       0.0        102.0\n",
       "10       416.0        528.0     256.0       0.0       0.0        102.0\n",
       "11       416.0        532.0     256.0       0.0       0.0        102.0\n",
       "12       416.0        522.0     256.0       0.0       0.0        102.0\n",
       "13       416.0        517.0     256.0       0.0       0.0        102.0\n",
       "14       416.0        527.0     256.0       0.0       0.0        102.0"
      ]
     },
     "execution_count": 10,
     "metadata": {},
     "output_type": "execute_result"
    }
   ],
   "source": [
    "df"
   ]
  },
  {
   "cell_type": "code",
   "execution_count": 106,
   "id": "3e8dbe37",
   "metadata": {},
   "outputs": [],
   "source": [
    "#df = df[0:5]"
   ]
  },
  {
   "cell_type": "code",
   "execution_count": 107,
   "id": "f3c519c3",
   "metadata": {},
   "outputs": [],
   "source": [
    "#df2 = pd.DataFrame(np.array([488 ,416, 256, 0, 90, 102]).reshape(1,-1) , columns = ['water-stock','CTAB-stock','GC-stock','AG-stock','AA-stock','SEEDS-stock'])\n",
    "#df = df.append(df2)"
   ]
  },
  {
   "cell_type": "code",
   "execution_count": 108,
   "id": "abcfbc88",
   "metadata": {},
   "outputs": [
    {
     "data": {
      "text/html": [
       "<div>\n",
       "<style scoped>\n",
       "    .dataframe tbody tr th:only-of-type {\n",
       "        vertical-align: middle;\n",
       "    }\n",
       "\n",
       "    .dataframe tbody tr th {\n",
       "        vertical-align: top;\n",
       "    }\n",
       "\n",
       "    .dataframe thead th {\n",
       "        text-align: right;\n",
       "    }\n",
       "</style>\n",
       "<table border=\"1\" class=\"dataframe\">\n",
       "  <thead>\n",
       "    <tr style=\"text-align: right;\">\n",
       "      <th></th>\n",
       "      <th>CTAB-stock</th>\n",
       "      <th>water-stock</th>\n",
       "      <th>GC-stock</th>\n",
       "      <th>AG-stock</th>\n",
       "      <th>AA-stock</th>\n",
       "      <th>SEEDS-stock</th>\n",
       "    </tr>\n",
       "  </thead>\n",
       "  <tbody>\n",
       "    <tr>\n",
       "      <th>0</th>\n",
       "      <td>416.0</td>\n",
       "      <td>472.0</td>\n",
       "      <td>256.0</td>\n",
       "      <td>41.0</td>\n",
       "      <td>0.0</td>\n",
       "      <td>102.0</td>\n",
       "    </tr>\n",
       "    <tr>\n",
       "      <th>1</th>\n",
       "      <td>416.0</td>\n",
       "      <td>385.0</td>\n",
       "      <td>256.0</td>\n",
       "      <td>31.0</td>\n",
       "      <td>110.0</td>\n",
       "      <td>102.0</td>\n",
       "    </tr>\n",
       "    <tr>\n",
       "      <th>2</th>\n",
       "      <td>416.0</td>\n",
       "      <td>320.0</td>\n",
       "      <td>256.0</td>\n",
       "      <td>69.0</td>\n",
       "      <td>137.0</td>\n",
       "      <td>102.0</td>\n",
       "    </tr>\n",
       "    <tr>\n",
       "      <th>3</th>\n",
       "      <td>416.0</td>\n",
       "      <td>361.0</td>\n",
       "      <td>256.0</td>\n",
       "      <td>39.0</td>\n",
       "      <td>126.0</td>\n",
       "      <td>102.0</td>\n",
       "    </tr>\n",
       "    <tr>\n",
       "      <th>4</th>\n",
       "      <td>416.0</td>\n",
       "      <td>369.0</td>\n",
       "      <td>256.0</td>\n",
       "      <td>26.0</td>\n",
       "      <td>131.0</td>\n",
       "      <td>102.0</td>\n",
       "    </tr>\n",
       "    <tr>\n",
       "      <th>5</th>\n",
       "      <td>416.0</td>\n",
       "      <td>377.0</td>\n",
       "      <td>256.0</td>\n",
       "      <td>91.0</td>\n",
       "      <td>58.0</td>\n",
       "      <td>102.0</td>\n",
       "    </tr>\n",
       "    <tr>\n",
       "      <th>6</th>\n",
       "      <td>416.0</td>\n",
       "      <td>325.0</td>\n",
       "      <td>256.0</td>\n",
       "      <td>113.0</td>\n",
       "      <td>88.0</td>\n",
       "      <td>102.0</td>\n",
       "    </tr>\n",
       "    <tr>\n",
       "      <th>7</th>\n",
       "      <td>416.0</td>\n",
       "      <td>444.0</td>\n",
       "      <td>256.0</td>\n",
       "      <td>31.0</td>\n",
       "      <td>51.0</td>\n",
       "      <td>102.0</td>\n",
       "    </tr>\n",
       "    <tr>\n",
       "      <th>8</th>\n",
       "      <td>416.0</td>\n",
       "      <td>458.0</td>\n",
       "      <td>256.0</td>\n",
       "      <td>53.0</td>\n",
       "      <td>0.0</td>\n",
       "      <td>102.0</td>\n",
       "    </tr>\n",
       "    <tr>\n",
       "      <th>9</th>\n",
       "      <td>416.0</td>\n",
       "      <td>357.0</td>\n",
       "      <td>256.0</td>\n",
       "      <td>65.0</td>\n",
       "      <td>105.0</td>\n",
       "      <td>102.0</td>\n",
       "    </tr>\n",
       "    <tr>\n",
       "      <th>10</th>\n",
       "      <td>416.0</td>\n",
       "      <td>458.0</td>\n",
       "      <td>256.0</td>\n",
       "      <td>0.0</td>\n",
       "      <td>53.0</td>\n",
       "      <td>102.0</td>\n",
       "    </tr>\n",
       "    <tr>\n",
       "      <th>11</th>\n",
       "      <td>416.0</td>\n",
       "      <td>404.0</td>\n",
       "      <td>256.0</td>\n",
       "      <td>28.0</td>\n",
       "      <td>94.0</td>\n",
       "      <td>102.0</td>\n",
       "    </tr>\n",
       "    <tr>\n",
       "      <th>12</th>\n",
       "      <td>416.0</td>\n",
       "      <td>385.0</td>\n",
       "      <td>256.0</td>\n",
       "      <td>0.0</td>\n",
       "      <td>123.0</td>\n",
       "      <td>102.0</td>\n",
       "    </tr>\n",
       "    <tr>\n",
       "      <th>13</th>\n",
       "      <td>416.0</td>\n",
       "      <td>273.0</td>\n",
       "      <td>256.0</td>\n",
       "      <td>105.0</td>\n",
       "      <td>147.0</td>\n",
       "      <td>102.0</td>\n",
       "    </tr>\n",
       "    <tr>\n",
       "      <th>14</th>\n",
       "      <td>416.0</td>\n",
       "      <td>298.0</td>\n",
       "      <td>256.0</td>\n",
       "      <td>131.0</td>\n",
       "      <td>97.0</td>\n",
       "      <td>102.0</td>\n",
       "    </tr>\n",
       "  </tbody>\n",
       "</table>\n",
       "</div>"
      ],
      "text/plain": [
       "    CTAB-stock  water-stock  GC-stock  AG-stock  AA-stock  SEEDS-stock\n",
       "0        416.0        472.0     256.0      41.0       0.0        102.0\n",
       "1        416.0        385.0     256.0      31.0     110.0        102.0\n",
       "2        416.0        320.0     256.0      69.0     137.0        102.0\n",
       "3        416.0        361.0     256.0      39.0     126.0        102.0\n",
       "4        416.0        369.0     256.0      26.0     131.0        102.0\n",
       "5        416.0        377.0     256.0      91.0      58.0        102.0\n",
       "6        416.0        325.0     256.0     113.0      88.0        102.0\n",
       "7        416.0        444.0     256.0      31.0      51.0        102.0\n",
       "8        416.0        458.0     256.0      53.0       0.0        102.0\n",
       "9        416.0        357.0     256.0      65.0     105.0        102.0\n",
       "10       416.0        458.0     256.0       0.0      53.0        102.0\n",
       "11       416.0        404.0     256.0      28.0      94.0        102.0\n",
       "12       416.0        385.0     256.0       0.0     123.0        102.0\n",
       "13       416.0        273.0     256.0     105.0     147.0        102.0\n",
       "14       416.0        298.0     256.0     131.0      97.0        102.0"
      ]
     },
     "execution_count": 108,
     "metadata": {},
     "output_type": "execute_result"
    }
   ],
   "source": [
    "df"
   ]
  },
  {
   "cell_type": "code",
   "execution_count": 109,
   "id": "b52c40ad",
   "metadata": {},
   "outputs": [
    {
     "data": {
      "text/plain": [
       "0     1287.0\n",
       "1     1300.0\n",
       "2     1300.0\n",
       "3     1300.0\n",
       "4     1300.0\n",
       "5     1300.0\n",
       "6     1300.0\n",
       "7     1300.0\n",
       "8     1285.0\n",
       "9     1301.0\n",
       "10    1285.0\n",
       "11    1300.0\n",
       "12    1282.0\n",
       "13    1299.0\n",
       "14    1300.0\n",
       "dtype: float64"
      ]
     },
     "execution_count": 109,
     "metadata": {},
     "output_type": "execute_result"
    }
   ],
   "source": [
    "df.sum(axis=1)"
   ]
  },
  {
   "cell_type": "code",
   "execution_count": 110,
   "id": "7ac9f5d0",
   "metadata": {},
   "outputs": [
    {
     "data": {
      "text/plain": [
       "CTAB-stock     6240.0\n",
       "water-stock    5686.0\n",
       "GC-stock       3840.0\n",
       "AG-stock        823.0\n",
       "AA-stock       1320.0\n",
       "SEEDS-stock    1530.0\n",
       "dtype: float64"
      ]
     },
     "execution_count": 110,
     "metadata": {},
     "output_type": "execute_result"
    }
   ],
   "source": [
    "df.sum(axis=0)"
   ]
  },
  {
   "cell_type": "code",
   "execution_count": 111,
   "id": "8c0add39",
   "metadata": {},
   "outputs": [],
   "source": [
    "df.to_csv('Itr' + str(itr) + '.csv')"
   ]
  },
  {
   "cell_type": "code",
   "execution_count": null,
   "id": "8aa5448c",
   "metadata": {},
   "outputs": [],
   "source": []
  }
 ],
 "metadata": {
  "kernelspec": {
   "display_name": "Python 3",
   "language": "python",
   "name": "python3"
  },
  "language_info": {
   "codemirror_mode": {
    "name": "ipython",
    "version": 3
   },
   "file_extension": ".py",
   "mimetype": "text/x-python",
   "name": "python",
   "nbconvert_exporter": "python",
   "pygments_lexer": "ipython3",
   "version": "3.8.2"
  }
 },
 "nbformat": 4,
 "nbformat_minor": 5
}
