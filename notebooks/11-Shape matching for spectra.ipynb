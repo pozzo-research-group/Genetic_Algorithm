{
 "cells": [
  {
   "cell_type": "code",
   "execution_count": 1,
   "id": "a6935eae",
   "metadata": {},
   "outputs": [],
   "source": [
    "%load_ext autoreload\n",
    "%autoreload 2"
   ]
  },
  {
   "cell_type": "code",
   "execution_count": 2,
   "id": "bd71b643",
   "metadata": {},
   "outputs": [],
   "source": [
    "import pandas as pd\n",
    "import os, sys\n",
    "import numpy as np\n",
    "from scipy.fft import fft, ifft\n",
    "import matplotlib.pyplot as plt\n",
    "import pdb\n",
    "\n",
    "NUM_SAMPLES = 100"
   ]
  },
  {
   "cell_type": "code",
   "execution_count": 3,
   "id": "82a8581c",
   "metadata": {},
   "outputs": [],
   "source": [
    "x = np.linspace(0,1, num=NUM_SAMPLES)\n",
    "def gaussian(x, mu, sig, c=1):\n",
    "    return c*np.exp(-np.power(x - mu, 2.) / (2 * np.power(sig, 2.)))\n"
   ]
  },
  {
   "cell_type": "markdown",
   "id": "36222033",
   "metadata": {},
   "source": [
    "## Convolution of local patches of a target"
   ]
  },
  {
   "cell_type": "code",
   "execution_count": 6,
   "id": "dd3e9c50",
   "metadata": {
    "scrolled": false
   },
   "outputs": [
    {
     "data": {
      "image/png": "[encoded data removed]",
      "text/plain": [
       "<Figure size 432x288 with 1 Axes>"
      ]
     },
     "metadata": {
      "needs_background": "light"
     },
     "output_type": "display_data"
    }
   ],
   "source": [
    "y = gaussian(x,0.2,0.1)\n",
    "\n",
    "from scipy.spatial import distance\n",
    "\n",
    "class SymmetricMatrices:\n",
    "    def __init__(self, x, y, num_filters=4):\n",
    "        self.num_filters = num_filters\n",
    "        self.ind_split = np.split(np.arange(len(x)), num_filters)\n",
    "        self.x_splits = np.split(x, self.num_filters)\n",
    "        self.y_splits = self._get_splits(y)\n",
    "        self.Id = self.get_rep(y)\n",
    "        \n",
    "    def plot_filters(self):\n",
    "        fig, axs = plt.subplots(1, self.num_filters, \n",
    "                                figsize=(2*self.num_filters, 2))\n",
    "        fig.subplots_adjust(wspace=0.4)\n",
    "        for i, (xs,ys) in enumerate(zip(self.x_splits, self.y_splits)):\n",
    "            axs[i].plot(xs, ys)\n",
    "        return fig, axs\n",
    "    \n",
    "    def _get_splits(self, s):\n",
    "        s_splits = []\n",
    "        for ind in self.ind_split:\n",
    "            s_splits.append(s[ind])\n",
    "        return np.vstack(s_splits)\n",
    "    \n",
    "    def get_rep(self, s):\n",
    "        s_splits = self._get_splits(s)\n",
    "        d = distance.pdist(s_splits, distance.correlation)\n",
    "        return distance.squareform(d)\n",
    "    \n",
    "    def distance(self, s):\n",
    "        M_s = self.get_rep(s)\n",
    "        return np.linalg.norm(self.Id-M_s,ord='fro')\n",
    "    \n",
    "manifold = SymmetricMatrices(x, y, num_filters = 4)\n",
    "M = manifold.get_rep(y)\n",
    "manifold.distance(y)\n",
    "\n",
    "dists = []\n",
    "t = np.linspace(0.1,0.5,15)\n",
    "for ti in t:\n",
    "    yi = gaussian(x,0.2,ti)\n",
    "    dists.append(manifold.distance(yi))\n",
    "fig, ax = plt.subplots()\n",
    "ax.plot(t, dists, '-o')\n",
    "plt.show()"
   ]
  },
  {
   "cell_type": "markdown",
   "id": "99ad8fc4",
   "metadata": {},
   "source": [
    "## Fourier transform of point clouds in 2D"
   ]
  },
  {
   "cell_type": "code",
   "execution_count": null,
   "id": "612529e7",
   "metadata": {},
   "outputs": [],
   "source": [
    "class FFT:\n",
    "    def __init__(self,domain, codomain, dim=32):\n",
    "        self.data = domain+1j*codomain\n",
    "        self.dim = dim\n",
    "        \n",
    "    def fit(self):\n",
    "        self.rep = fft(self.data)\n",
    "        self.rep_hat = np.hstack((self.rep[:self.dim],\n",
    "                                  self.rep[-(self.dim-1):]))\n",
    "        self.data_hat = ifft(self.rep_hat)\n",
    "        \n",
    "    def transform(self, ind, t):\n",
    "        rep_t = self.rep.copy()\n",
    "        for i,ti in zip(ind,t):\n",
    "            rep_t[i] = rep_t[i]+ti\n",
    "        data_hat_t = ifft(rep_t)\n",
    "        \n",
    "        return data_hat_t\n",
    "    \n",
    "    def to_vector(self, d=5):\n",
    "        vec = np.hstack((self.rep[:d],self.rep[-d:]))\n",
    "        vec = np.vstack((np.real(vec), np.imag(vec))).flatten()\n",
    "        \n",
    "        return vec\n",
    "\n",
    "    def __len__(self):\n",
    "        return len(self.rep)*2\n",
    "    "
   ]
  },
  {
   "cell_type": "code",
   "execution_count": null,
   "id": "242b043f",
   "metadata": {},
   "outputs": [],
   "source": [
    "y = gaussian(x,0.5,0.1)\n",
    "rep = FFT(x,y, dim=32)\n",
    "rep.fit()\n",
    "fig, ax = plt.subplots()\n",
    "p0 = rep.transform([0],[0+0j])\n",
    "ax.plot(np.real(p0), np.imag(p0), label='f')\n",
    "pt = rep.transform([0,1],[0+0j, 20+1j])\n",
    "ax.plot(np.real(pt), np.imag(pt), label='f+t')\n",
    "ax.legend()\n",
    "plt.show()"
   ]
  },
  {
   "cell_type": "code",
   "execution_count": null,
   "id": "5c1c408c",
   "metadata": {},
   "outputs": [],
   "source": [
    "x = np.linspace(0,2, num=NUM_SAMPLES)\n",
    "y0 = gaussian(x,0.5,0.1)\n",
    "y1 = gaussian(x,1.5,0.3, c=1.5)\n",
    "y = 0.5*(y0+y1)\n",
    "rep = FFT(x,y, dim=64)\n",
    "rep.fit()\n",
    "fig, ax = plt.subplots()\n",
    "p0 = rep.transform([0],[0+0j])\n",
    "ax.plot(np.real(p0), np.imag(p0), label='f')\n",
    "pt = rep.transform([1],[10+0j])\n",
    "ax.plot(np.real(pt), np.imag(pt), label='f+t')\n",
    "ax.legend()\n",
    "plt.show()"
   ]
  },
  {
   "cell_type": "code",
   "execution_count": null,
   "id": "df6a33b5",
   "metadata": {},
   "outputs": [],
   "source": []
  }
 ],
 "metadata": {
  "kernelspec": {
   "display_name": "head",
   "language": "python",
   "name": "head"
  },
  "language_info": {
   "codemirror_mode": {
    "name": "ipython",
    "version": 3
   },
   "file_extension": ".py",
   "mimetype": "text/x-python",
   "name": "python",
   "nbconvert_exporter": "python",
   "pygments_lexer": "ipython3",
   "version": "3.8.8"
  }
 },
 "nbformat": 4,
 "nbformat_minor": 5
}
