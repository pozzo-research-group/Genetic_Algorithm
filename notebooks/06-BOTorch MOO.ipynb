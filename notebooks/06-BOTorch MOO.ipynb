{
 "cells": [
  {
   "cell_type": "markdown",
   "id": "b8485d88",
   "metadata": {},
   "source": [
    "## Bayesian Optimization with multiple objectives\n",
    "Our pipeline should be as follows:\n",
    "1. Define our design space as a grid or hyperplane etc\n",
    "2. Define a model as surrogate to compute a score between target and a response query\n",
    "3. Define acquistion function to select next set of samples from the design space\n",
    "    a) Define a optimization routine for acquisition function\n",
    "4. Define the optimization routine for the problem"
   ]
  },
  {
   "cell_type": "code",
   "execution_count": 1,
   "id": "51f15c14",
   "metadata": {},
   "outputs": [],
   "source": [
    "import os\n",
    "import torch\n",
    "\n",
    "tkwargs = {\n",
    "    \"dtype\": torch.double,\n",
    "    \"device\": torch.device(\"cuda\" if torch.cuda.is_available() else \"cpu\"),\n",
    "}"
   ]
  },
  {
   "cell_type": "code",
   "execution_count": 2,
   "id": "9972c7c1",
   "metadata": {},
   "outputs": [],
   "source": [
    "from botorch.test_functions.multi_objective import BraninCurrin\n",
    "problem = BraninCurrin(negate=True).to(**tkwargs)"
   ]
  },
  {
   "cell_type": "code",
   "execution_count": 43,
   "id": "1845d351",
   "metadata": {},
   "outputs": [],
   "source": [
    "# 1. design space\n",
    "\n",
    "from head import Grid\n",
    "import numpy as np\n",
    "\n",
    "X = np.linspace(0,1, num=10) \n",
    "Y = np.linspace(0,1, num=10)\n",
    "grid = Grid(X,Y)\n",
    "def generate_initial_data(n=6):\n",
    "    points = torch.from_numpy(grid.points)\n",
    "    soboleng = torch.quasirandom.SobolEngine(dimension=1)\n",
    "    train_xid = torch.floor(soboleng.draw(10)*10).to(**tkwargs)\n",
    "    train_x = points[train_xid.long(),:]\n",
    "    train_obj = problem(train_x)\n",
    "    \n",
    "    return train_x, train_obj"
   ]
  },
  {
   "cell_type": "code",
   "execution_count": 34,
   "id": "4dded50b",
   "metadata": {},
   "outputs": [],
   "source": [
    "# 2. define your model\n",
    "from botorch.models.gp_regression import SingleTaskGP\n",
    "from botorch.models.transforms.outcome import Standardize\n",
    "from gpytorch.mlls.exact_marginal_log_likelihood import ExactMarginalLogLikelihood\n",
    "import pdb\n",
    "\n",
    "def initialize_model(train_x, train_obj):\n",
    "    # define models for objective and constraint\n",
    "    model = SingleTaskGP(train_x, train_obj, \n",
    "                         outcome_transform=Standardize(m=train_obj.shape[-1]))\n",
    "    mll = ExactMarginalLogLikelihood(model.likelihood, model)\n",
    "    return mll, model"
   ]
  },
  {
   "cell_type": "code",
   "execution_count": null,
   "id": "bb3ba6fe",
   "metadata": {},
   "outputs": [],
   "source": [
    "# 3. Define acqusition function\n",
    "from botorch.utils.multi_objective.box_decompositions.non_dominated import NondominatedPartitioning\n",
    "from botorch.acquisition.multi_objective.monte_carlo import qExpectedHypervolumeImprovement\n",
    "\n",
    "partitioning = NondominatedPartitioning(ref_point=problem.ref_point, Y=train_obj)\n",
    "qehvi_sampler = SobolQMCNormalSampler(num_samples=MC_SAMPLES)\n",
    "\n",
    "acq_func = qExpectedHypervolumeImprovement(\n",
    "    model=model,\n",
    "    ref_point=problem.ref_point.tolist(),  # use known reference point \n",
    "    partitioning=partitioning,\n",
    "    sampler=qehvi_sampler,\n",
    ")\n"
   ]
  },
  {
   "cell_type": "code",
   "execution_count": null,
   "id": "6649071c",
   "metadata": {},
   "outputs": [],
   "source": [
    "# 4. define a optimization routine for acqusition function "
   ]
  },
  {
   "cell_type": "code",
   "execution_count": null,
   "id": "befa5595",
   "metadata": {},
   "outputs": [],
   "source": [
    "# 5. define the opitmization loop"
   ]
  },
  {
   "cell_type": "code",
   "execution_count": 4,
   "id": "6cdf2df6",
   "metadata": {},
   "outputs": [],
   "source": [
    "from botorch.optim.optimize import optimize_acqf\n",
    "from botorch.utils.transforms import unnormalize\n",
    "\n",
    "BATCH_SIZE = 4 \n",
    "NUM_RESTARTS = 20 \n",
    "RAW_SAMPLES = 1024\n",
    "\n",
    "def optimize_qehvi_and_get_observation(model, train_obj, sampler):\n",
    "    \"\"\"Optimizes the qEHVI acquisition function, and returns a new candidate and observation.\"\"\"\n",
    "    # partition non-dominated space into disjoint rectangles\n",
    "    partitioning = NondominatedPartitioning(ref_point=problem.ref_point, Y=train_obj)\n",
    "    \n",
    "    acq_func = qExpectedHypervolumeImprovement(\n",
    "        model=model,\n",
    "        ref_point=problem.ref_point.tolist(),  # use known reference point \n",
    "        partitioning=partitioning,\n",
    "        sampler=sampler,\n",
    "    )\n",
    "    \n",
    "    # optimize\n",
    "    candidates, _ = optimize_acqf(\n",
    "        acq_function=acq_func,\n",
    "        bounds=standard_bounds,\n",
    "        q=BATCH_SIZE,\n",
    "        num_restarts=NUM_RESTARTS,\n",
    "        raw_samples=RAW_SAMPLES,  # used for intialization heuristic\n",
    "        options={\"batch_limit\": 5, \n",
    "                 \"maxiter\": 200, \n",
    "                 \"nonnegative\": True},\n",
    "        sequential=True,\n",
    "    )\n",
    "    # observe new values \n",
    "    new_x =  unnormalize(candidates.detach(), bounds=problem.bounds)\n",
    "    new_obj = problem(new_x)\n",
    "    return new_x, new_obj"
   ]
  },
  {
   "cell_type": "code",
   "execution_count": 5,
   "id": "fb0a015f",
   "metadata": {},
   "outputs": [
    {
     "name": "stdout",
     "output_type": "stream",
     "text": [
      "........................."
     ]
    }
   ],
   "source": [
    "from botorch import fit_gpytorch_model\n",
    "from botorch.acquisition.monte_carlo import qExpectedImprovement\n",
    "from botorch.sampling.samplers import SobolQMCNormalSampler\n",
    "from botorch.exceptions import BadInitialCandidatesWarning\n",
    "from botorch.utils.multi_objective.pareto import is_non_dominated\n",
    "from botorch.utils.multi_objective.hypervolume import Hypervolume\n",
    "\n",
    "import time\n",
    "import warnings\n",
    "\n",
    "warnings.filterwarnings('ignore', category=BadInitialCandidatesWarning)\n",
    "warnings.filterwarnings('ignore', category=RuntimeWarning)\n",
    "\n",
    "N_ITERATIONS = 25\n",
    "MC_SAMPLES = 128\n",
    "\n",
    "verbose = False\n",
    "\n",
    "hvs_qehvi_all = []\n",
    "\n",
    "hv = Hypervolume(ref_point=problem.ref_point)\n",
    "\n",
    "\n",
    "torch.manual_seed(0)\n",
    "\n",
    "hvs_qehvi = []\n",
    "\n",
    "train_x_qehvi, train_obj_qehvi = generate_initial_data(n=6)\n",
    "mll_qehvi, model_qehvi = initialize_model(train_x_qehvi, train_obj_qehvi)\n",
    "\n",
    "# compute pareto front\n",
    "pareto_mask = is_non_dominated(train_obj_qehvi)\n",
    "pareto_y = train_obj_qehvi[pareto_mask]\n",
    "# compute hypervolume\n",
    "volume = hv.compute(pareto_y)\n",
    "\n",
    "hvs_qehvi.append(volume)\n",
    "\n",
    "# run N_ITERATIONS rounds of BayesOpt after the initial random batch\n",
    "for iteration in range(1, N_ITERATIONS + 1):    \n",
    "    \n",
    "    # fit the models\n",
    "    fit_gpytorch_model(mll_qehvi)\n",
    "\n",
    "    # define the acquisition modules using a QMC sampler\n",
    "    qehvi_sampler = SobolQMCNormalSampler(num_samples=MC_SAMPLES)\n",
    "\n",
    "    # optimize acquisition functions and get new observations\n",
    "    new_x_qehvi, new_obj_qehvi = optimize_qehvi_and_get_observation(\n",
    "        model_qehvi, train_obj_qehvi, qehvi_sampler\n",
    "    )\n",
    "\n",
    "    # update training points\n",
    "    train_x_qehvi = torch.cat([train_x_qehvi, new_x_qehvi])\n",
    "    train_obj_qehvi = torch.cat([train_obj_qehvi, new_obj_qehvi])\n",
    "\n",
    "    # update progress\n",
    "\n",
    "    # compute pareto front\n",
    "    pareto_mask = is_non_dominated(train_obj_qehvi)\n",
    "    pareto_y = train_obj_qehvi[pareto_mask]\n",
    "    # compute hypervolume\n",
    "    volume = hv.compute(pareto_y)\n",
    "    hvs_qehvi.append(volume)\n",
    "\n",
    "    # reinitialize the models so they are ready for fitting on next iteration\n",
    "    # Note: we find improved performance from not warm starting the model hyperparameters\n",
    "    # using the hyperparameters from the previous iteration\n",
    "    mll_qehvi, model_qehvi = initialize_model(train_x_qehvi, train_obj_qehvi)\n",
    "\n",
    "    print(\".\", end=\"\")\n",
    "\n",
    "    hvs_qehvi_all.append(hvs_qehvi)\n"
   ]
  },
  {
   "cell_type": "code",
   "execution_count": 6,
   "id": "686944ad",
   "metadata": {},
   "outputs": [
    {
     "data": {
      "text/plain": [
       "<matplotlib.legend.Legend at 0x7fb31b6f5b80>"
      ]
     },
     "execution_count": 6,
     "metadata": {},
     "output_type": "execute_result"
    },
    {
     "data": {
      "image/png": "[encoded data removed]",
      "text/plain": [
       "<Figure size 432x288 with 1 Axes>"
      ]
     },
     "metadata": {
      "needs_background": "light"
     },
     "output_type": "display_data"
    }
   ],
   "source": [
    "import numpy as np\n",
    "from matplotlib import pyplot as plt\n",
    "\n",
    "\n",
    "iters = np.arange(N_ITERATIONS + 1) * BATCH_SIZE\n",
    "log_hv_difference_qehvi = np.log10(problem.max_hv - np.asarray(hvs_qehvi_all))\n",
    "\n",
    "fig, ax = plt.subplots()\n",
    "\n",
    "ax.plot(\n",
    "    iters, log_hv_difference_qehvi.mean(axis=0),\n",
    "    label=\"qEHVI\", linewidth=1.5,\n",
    ")\n",
    "\n",
    "ax.set(xlabel='number of observations (beyond initial points)', ylabel='Log Hypervolume Difference')\n",
    "ax.legend(loc=\"lower right\")"
   ]
  },
  {
   "cell_type": "code",
   "execution_count": 7,
   "id": "8f122501",
   "metadata": {},
   "outputs": [
    {
     "data": {
      "text/plain": [
       "Text(0.5, 1.0, 'Iteration')"
      ]
     },
     "execution_count": 7,
     "metadata": {},
     "output_type": "execute_result"
    },
    {
     "data": {
      "image/png": "[encoded data removed]",
      "text/plain": [
       "<Figure size 432x288 with 2 Axes>"
      ]
     },
     "metadata": {
      "needs_background": "light"
     },
     "output_type": "display_data"
    }
   ],
   "source": [
    "from matplotlib.cm import ScalarMappable\n",
    "\n",
    "\n",
    "fig, axes = plt.subplots(1, 1)\n",
    "cm = plt.cm.get_cmap('viridis')\n",
    "\n",
    "batch_number = torch.cat(\n",
    "    [torch.zeros(6), torch.arange(1, N_ITERATIONS+1).repeat(BATCH_SIZE, 1).t().reshape(-1)]\n",
    ").numpy()\n",
    "\n",
    "sc = axes.scatter(train_obj_qehvi[:, 0].cpu().numpy(), train_obj_qehvi[:,1].cpu().numpy(), \n",
    "    c=batch_number, alpha=0.8,\n",
    ")\n",
    "axes.set_xlabel(\"Objective 1\")\n",
    "axes.set_xlim(-260, 5)\n",
    "axes.set_ylim(-15, 0)\n",
    "axes.set_ylabel(\"Objective 2\")\n",
    "norm = plt.Normalize(batch_number.min(), batch_number.max())\n",
    "sm =  ScalarMappable(norm=norm, cmap=cm)\n",
    "sm.set_array([])\n",
    "cbar_ax = fig.add_axes([0.93, 0.15, 0.01, 0.7])\n",
    "cbar = fig.colorbar(sm, cax=cbar_ax)\n",
    "cbar.ax.set_title(\"Iteration\")"
   ]
  },
  {
   "cell_type": "code",
   "execution_count": null,
   "id": "f99ecda6",
   "metadata": {},
   "outputs": [],
   "source": []
  }
 ],
 "metadata": {
  "kernelspec": {
   "display_name": "head",
   "language": "python",
   "name": "head"
  },
  "language_info": {
   "codemirror_mode": {
    "name": "ipython",
    "version": 3
   },
   "file_extension": ".py",
   "mimetype": "text/x-python",
   "name": "python",
   "nbconvert_exporter": "python",
   "pygments_lexer": "ipython3",
   "version": "3.8.8"
  }
 },
 "nbformat": 4,
 "nbformat_minor": 5
}
