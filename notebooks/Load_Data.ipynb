{
 "cells": [
  {
   "cell_type": "code",
   "execution_count": 11,
   "id": "42a11e83",
   "metadata": {},
   "outputs": [],
   "source": [
    "import numpy as np\n",
    "import pandas as pd\n",
    "import matplotlib.pyplot as plt"
   ]
  },
  {
   "cell_type": "code",
   "execution_count": 12,
   "id": "457f851a",
   "metadata": {},
   "outputs": [],
   "source": [
    "itr = 5"
   ]
  },
  {
   "cell_type": "code",
   "execution_count": 13,
   "id": "d3a1b4f5",
   "metadata": {},
   "outputs": [],
   "source": [
    "df = pd.read_excel('../Sample_Spectra/itr_' + str(itr) + '.xlsx')"
   ]
  },
  {
   "cell_type": "code",
   "execution_count": 14,
   "id": "a9c59e54",
   "metadata": {},
   "outputs": [],
   "source": [
    "array = np.asarray(df)"
   ]
  },
  {
   "cell_type": "code",
   "execution_count": 15,
   "id": "06784cc7",
   "metadata": {},
   "outputs": [],
   "source": [
    "array_PW_ROD = np.hstack((array[:,0].reshape(-1,1),array[:,1:5]))\n",
    "array_PW_ROD_BE = np.hstack((array[:,0].reshape(-1,1),array[:,5].reshape(-1,1)))\n",
    "array_EUC_ROD = np.hstack((array[:,0].reshape(-1,1),array[:,6:10]))\n",
    "array_EUC_ROD_BE = np.hstack((array[:,0].reshape(-1,1),array[:,10].reshape(-1,1)))\n",
    "array_SRVF_ROD = np.hstack((array[:,0].reshape(-1,1),array[:,11:15]))\n",
    "array_SRVF_ROD_BE = np.hstack((array[:,0].reshape(-1,1),array[:,15].reshape(-1,1)))\n",
    "array_AP_ROD = np.hstack((array[:,0].reshape(-1,1),array[:,16:20]))\n",
    "array_AP_ROD_BE = np.hstack((array[:,0].reshape(-1,1),array[:,20].reshape(-1,1)))\n",
    "\n",
    "\n",
    "array_PW_SPHERE = np.hstack((array[:,0].reshape(-1,1),array[:,21:25]))\n",
    "array_PW_SPHERE_BE = np.hstack((array[:,0].reshape(-1,1),array[:,25].reshape(-1,1)))\n",
    "array_EUC_SPHERE = np.hstack((array[:,0].reshape(-1,1),array[:,26:30]))\n",
    "array_EUC_SPHERE_BE = np.hstack((array[:,0].reshape(-1,1),array[:,30].reshape(-1,1)))\n",
    "array_SRVF_SPHERE = np.hstack((array[:,0].reshape(-1,1),array[:,31:35]))\n",
    "array_SRVF_SPHERE_BE = np.hstack((array[:,0].reshape(-1,1),array[:,35].reshape(-1,1)))\n",
    "array_AP_SPHERE = np.hstack((array[:,0].reshape(-1,1),array[:,36:40]))\n",
    "array_AP_SPHERE_BE = np.hstack((array[:,0].reshape(-1,1),array[:,40].reshape(-1,1)))"
   ]
  },
  {
   "cell_type": "code",
   "execution_count": 16,
   "id": "150ec281",
   "metadata": {},
   "outputs": [],
   "source": [
    "df_PW_ROD = pd.DataFrame(array_PW_ROD, columns = df.columns[0:5])\n",
    "df_PW_ROD_BE = pd.DataFrame(array_PW_ROD_BE, columns = [df.columns[0], df.columns[5]])\n",
    "\n",
    "df_EUC_ROD = pd.DataFrame(array_EUC_ROD, columns = [df.columns[0], df.columns[6], df.columns[7], df.columns[8], df.columns[9]])\n",
    "df_EUC_ROD_BE = pd.DataFrame(array_EUC_ROD_BE, columns = [df.columns[0], df.columns[10]])                                                        \n",
    "\n",
    "df_SRVF_ROD = pd.DataFrame(array_SRVF_ROD, columns = [df.columns[0], df.columns[11], df.columns[12], df.columns[13], df.columns[14]])\n",
    "df_SRVF_ROD_BE = pd.DataFrame(array_SRVF_ROD_BE, columns = [df.columns[0], df.columns[15]]) \n",
    "\n",
    "df_AP_ROD = pd.DataFrame(array_AP_ROD, columns = [df.columns[0], df.columns[16], df.columns[17], df.columns[18], df.columns[19]])\n",
    "df_AP_ROD_BE = pd.DataFrame(array_AP_ROD_BE, columns = [df.columns[0], df.columns[20]]) \n",
    "\n",
    "\n",
    "df_PW_SPHERE = pd.DataFrame(array_PW_SPHERE, columns = [df.columns[0], df.columns[21], df.columns[22], df.columns[23], df.columns[24]])\n",
    "df_PW_SPHERE_BE = pd.DataFrame(array_PW_SPHERE_BE, columns = [df.columns[0], df.columns[25]])  \n",
    "\n",
    "df_EUC_SPHERE = pd.DataFrame(array_EUC_SPHERE, columns = [df.columns[0], df.columns[26], df.columns[27], df.columns[28], df.columns[29]])\n",
    "df_EUC_SPHERE_BE = pd.DataFrame(array_EUC_SPHERE_BE, columns = [df.columns[0], df.columns[30]])  \n",
    "\n",
    "df_SRVF_SPHERE = pd.DataFrame(array_SRVF_SPHERE, columns = [df.columns[0], df.columns[31], df.columns[32], df.columns[33], df.columns[34]])\n",
    "df_SRVF_SPHERE_BE = pd.DataFrame(array_SRVF_SPHERE_BE, columns = [df.columns[0], df.columns[35]]) \n",
    "\n",
    "df_AP_SPHERE = pd.DataFrame(array_AP_SPHERE, columns = [df.columns[0], df.columns[36], df.columns[37], df.columns[38], df.columns[39]])\n",
    "df_AP_SPHERE_BE = pd.DataFrame(array_AP_SPHERE_BE, columns = [df.columns[0], df.columns[40]])                          "
   ]
  },
  {
   "cell_type": "code",
   "execution_count": 17,
   "id": "cda37638",
   "metadata": {},
   "outputs": [],
   "source": [
    "df_PW_ROD.to_excel('../Data_peakwv_ROD/' + str(itr) +'.xlsx', index=False)\n",
    "df_EUC_ROD.to_excel('../Data_euclidean_ROD/' + str(itr) +'.xlsx', index=False)\n",
    "df_SRVF_ROD.to_excel('../Data_SRVF_ROD/' + str(itr) +'.xlsx', index=False)\n",
    "df_AP_ROD.to_excel('../Data_AP_ROD/' + str(itr) +'.xlsx', index=False)\n",
    "df_PW_SPHERE.to_excel('../Data_peakwv_SPHERE/' + str(itr) +'.xlsx', index=False)\n",
    "df_EUC_SPHERE.to_excel('../Data_euclidean_SPHERE/' + str(itr) +'.xlsx', index=False)\n",
    "df_SRVF_SPHERE.to_excel('../Data_SRVF_SPHERE/' + str(itr) +'.xlsx', index=False)\n",
    "df_AP_SPHERE.to_excel('../Data_AP_SPHERE/' + str(itr) +'.xlsx', index=False)\n",
    "\n",
    "df_PW_ROD_BE.to_excel('../Data_peakwv_ROD/Best_Estimate_' + str(itr) +'.xlsx', index=False)\n",
    "df_EUC_ROD_BE.to_excel('../Data_euclidean_ROD/Best_Estimate_' + str(itr) +'.xlsx', index=False)\n",
    "df_SRVF_ROD_BE.to_excel('../Data_SRVF_ROD/Best_Estimate_' + str(itr) +'.xlsx', index=False)\n",
    "df_AP_ROD_BE.to_excel('../Data_AP_ROD/Best_Estimate_' + str(itr) +'.xlsx', index=False)\n",
    "df_PW_SPHERE_BE.to_excel('../Data_peakwv_SPHERE/Best_Estimate_' + str(itr) +'.xlsx', index=False)\n",
    "df_EUC_SPHERE_BE.to_excel('../Data_euclidean_SPHERE/Best_Estimate_' + str(itr) +'.xlsx', index=False)\n",
    "df_SRVF_SPHERE_BE.to_excel('../Data_SRVF_SPHERE/Best_Estimate_' + str(itr) +'.xlsx', index=False)\n",
    "df_AP_SPHERE_BE.to_excel('../Data_AP_SPHERE/Best_Estimate_' + str(itr) +'.xlsx', index=False)"
   ]
  },
  {
   "cell_type": "code",
   "execution_count": null,
   "id": "7470baa7",
   "metadata": {},
   "outputs": [],
   "source": [
    "df_PW_ROD.to_excel('../Data_peakwv_ROD/' + str(itr) +'.xlsx', index=False)\n",
    "df_EUC_ROD.to_excel('../Data_euclidean_ROD/' + str(itr) +'.xlsx', index=False)\n",
    "df_SRVF_ROD.to_excel('../Data_SRVF_ROD/' + str(itr) +'.xlsx', index=False)\n",
    "df_AP_ROD.to_excel('../Data_AP_ROD/' + str(itr) +'.xlsx', index=False)\n",
    "df_PW_SPHERE.to_excel('../Data_peakwv_SPHERE/' + str(itr) +'.xlsx', index=False)\n",
    "df_EUC_SPHERE.to_excel('../Data_euclidean_SPHERE/' + str(itr) +'.xlsx', index=False)\n",
    "df_SRVF_SPHERE.to_excel('../Data_SRVF_SPHERE/' + str(itr) +'.xlsx', index=False)\n",
    "df_AP_SPHERE.to_excel('../Data_AP_SPHERE/' + str(itr) +'.xlsx', index=False)"
   ]
  }
 ],
 "metadata": {
  "kernelspec": {
   "display_name": "Python 3",
   "language": "python",
   "name": "python3"
  },
  "language_info": {
   "codemirror_mode": {
    "name": "ipython",
    "version": 3
   },
   "file_extension": ".py",
   "mimetype": "text/x-python",
   "name": "python",
   "nbconvert_exporter": "python",
   "pygments_lexer": "ipython3",
   "version": "3.8.2"
  }
 },
 "nbformat": 4,
 "nbformat_minor": 5
}
