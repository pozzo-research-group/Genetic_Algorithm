{
 "cells": [
  {
   "cell_type": "code",
   "execution_count": 1,
   "id": "c595ccfa",
   "metadata": {},
   "outputs": [],
   "source": [
    "import numpy as np\n",
    "import pandas as pd"
   ]
  },
  {
   "cell_type": "code",
   "execution_count": 29,
   "id": "c0e94064",
   "metadata": {},
   "outputs": [],
   "source": [
    "itr = 5"
   ]
  },
  {
   "cell_type": "code",
   "execution_count": 30,
   "id": "f3ab9586",
   "metadata": {},
   "outputs": [],
   "source": [
    "df = pd.read_excel('Spectra_' + str(itr) + '.xlsx')"
   ]
  },
  {
   "cell_type": "code",
   "execution_count": 31,
   "id": "3fe5425b",
   "metadata": {},
   "outputs": [],
   "source": [
    "array = np.asarray(df)"
   ]
  },
  {
   "cell_type": "code",
   "execution_count": 32,
   "id": "b3251271",
   "metadata": {},
   "outputs": [],
   "source": [
    "array_PW = np.hstack((array[:,0].reshape(-1,1),array[:,1:6]))\n",
    "array_EUC = np.hstack((array[:,0].reshape(-1,1),array[:,6:11]))\n",
    "array_SRVF = np.hstack((array[:,0].reshape(-1,1),array[:,11:16]))"
   ]
  },
  {
   "cell_type": "code",
   "execution_count": 33,
   "id": "0013c2ef",
   "metadata": {},
   "outputs": [],
   "source": [
    "df_PW = pd.DataFrame(array_PW, columns = df.columns[0:6])\n",
    "df_EUC = pd.DataFrame(array_EUC, columns = [df.columns[0], df.columns[6], df.columns[7], df.columns[8], df.columns[9], df.columns[10]])\n",
    "df_SRVF = pd.DataFrame(array_SRVF, columns = [df.columns[0], df.columns[11], df.columns[12], df.columns[13], df.columns[14], df.columns[15]])"
   ]
  },
  {
   "cell_type": "code",
   "execution_count": 34,
   "id": "6ab10b18",
   "metadata": {},
   "outputs": [],
   "source": [
    "df_PW.to_excel('../DataPW/' + str(itr) +'.xlsx', index=False)\n",
    "df_EUC.to_excel('../DataEUC/' + str(itr) +'.xlsx', index=False)\n",
    "df_SRVF.to_excel('../DataSRVF/' + str(itr) +'.xlsx', index=False)"
   ]
  },
  {
   "cell_type": "code",
   "execution_count": null,
   "id": "cfe291c3",
   "metadata": {},
   "outputs": [],
   "source": []
  }
 ],
 "metadata": {
  "kernelspec": {
   "display_name": "Python 3",
   "language": "python",
   "name": "python3"
  },
  "language_info": {
   "codemirror_mode": {
    "name": "ipython",
    "version": 3
   },
   "file_extension": ".py",
   "mimetype": "text/x-python",
   "name": "python",
   "nbconvert_exporter": "python",
   "pygments_lexer": "ipython3",
   "version": "3.9.1"
  }
 },
 "nbformat": 4,
 "nbformat_minor": 5
}
