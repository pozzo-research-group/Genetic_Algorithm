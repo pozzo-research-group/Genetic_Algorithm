{
 "cells": [
  {
   "cell_type": "code",
   "execution_count": 1,
   "id": "f8be08e1",
   "metadata": {},
   "outputs": [
    {
     "name": "stderr",
     "output_type": "stream",
     "text": [
      "INFO: Using numpy backend\n"
     ]
    }
   ],
   "source": [
    "from head import opentrons\n",
    "import pandas as pd\n",
    "import numpy as np\n",
    "from scipy.spatial import distance\n",
    "import warnings\n",
    "import matplotlib.pyplot as plt\n",
    "warnings.filterwarnings(\"ignore\")"
   ]
  },
  {
   "cell_type": "code",
   "execution_count": 2,
   "id": "c9dab353",
   "metadata": {},
   "outputs": [],
   "source": [
    "class Simulator:\n",
    "    def __init__(self):\n",
    "        self.domain = np.linspace(-5,5,num=100)\n",
    "        \n",
    "    def generate(self, mu, sig):\n",
    "        scale = 1/(np.sqrt(2*np.pi)*sig)\n",
    "        return scale*np.exp(-np.power(self.domain - mu, 2.) / (2 * np.power(sig, 2.)))\n",
    "    \n",
    "    def process_batch(self, Cb, fname):\n",
    "        out = []\n",
    "        for c in Cb:\n",
    "            out.append(self.generate(*c))\n",
    "        out = np.asarray(out)\n",
    "        df = pd.DataFrame(out.T, index=self.domain)\n",
    "        df.to_excel(fname, engine='openpyxl')\n",
    "        \n",
    "        return \n",
    "    \n",
    "    def make_target(self, ct):\n",
    "        return self.domain, self.generate(*ct)"
   ]
  },
  {
   "cell_type": "code",
   "execution_count": 3,
   "id": "076a6a8d",
   "metadata": {},
   "outputs": [],
   "source": [
    "def APdist(f1,f2):\n",
    "    distance = (np.abs((np.argmax(f1) - np.argmax(f2))/100) + np.abs(np.max(f1) - np.max(f2)))\n",
    "    return -distance\n",
    "    "
   ]
  },
  {
   "cell_type": "code",
   "execution_count": 4,
   "id": "1f672fc5",
   "metadata": {},
   "outputs": [
    {
     "data": {
      "text/plain": [
       "[<matplotlib.lines.Line2D at 0x7ff5fde92760>]"
      ]
     },
     "execution_count": 4,
     "metadata": {},
     "output_type": "execute_result"
    },
    {
     "data": {
      "image/png": "[encoded data removed]",
      "text/plain": [
       "<Figure size 432x288 with 1 Axes>"
      ]
     },
     "metadata": {
      "needs_background": "light"
     },
     "output_type": "display_data"
    }
   ],
   "source": [
    "AG = [10,150]\n",
    "AA = [10,150]\n",
    "bounds = [AG, AA]\n",
    "target = pd.read_excel('Target_Rod.xlsx')\n",
    "target = np.asarray(target)\n",
    "xt = target[:,0]\n",
    "yt = target[:,1]\n",
    "plt.plot(xt,yt)"
   ]
  },
  {
   "cell_type": "code",
   "execution_count": 5,
   "id": "bcc0fa60",
   "metadata": {},
   "outputs": [
    {
     "name": "stderr",
     "output_type": "stream",
     "text": [
      "INFO: Getting suggestions for iteration 0\n",
      "INFO: Iteration : 0, Samples to be made\n",
      "INFO: 0\t[66.33221434 22.86868734]\n",
      "INFO: 1\t[31.51409796 50.72001452]\n",
      "INFO: 2\t[99.64753031 72.19297898]\n",
      "INFO: 3\t[119.38123297 145.11514165]\n",
      "INFO: ==============================\n"
     ]
    }
   ],
   "source": [
    "optim = opentrons.Optimizer(xt, yt, \n",
    "                            bounds, \n",
    "                            savedir = '../data_peakwv_ROD',\n",
    "                            batch_size=4,\n",
    "                            metric = APdist\n",
    "                           )\n",
    "optim.save()"
   ]
  },
  {
   "cell_type": "code",
   "execution_count": 6,
   "id": "085028d8",
   "metadata": {},
   "outputs": [
    {
     "name": "stderr",
     "output_type": "stream",
     "text": [
      "INFO: Getting suggestions for iteration 1\n",
      "INFO: Iteration : 1, Samples to be made\n",
      "INFO: 0\t[150.         57.9057018]\n",
      "INFO: 1\t[ 79.29915454 109.46832867]\n",
      "INFO: 2\t[ 33.21629024 150.        ]\n",
      "INFO: 3\t[149.44441736 102.99740109]\n",
      "INFO: ==============================\n",
      "INFO: Iteration : 2 Best estimate [[106.4374149   88.61446606]] with predicted score : [[-0.51625222]]\n"
     ]
    }
   ],
   "source": [
    "# random iteration\n",
    "optim.update('../data_peakwv_ROD/0.xlsx')\n",
    "optim.suggest_next()\n",
    "optim.get_current_best()\n",
    "optim.save()"
   ]
  },
  {
   "cell_type": "code",
   "execution_count": 7,
   "id": "1ea63416",
   "metadata": {},
   "outputs": [
    {
     "name": "stderr",
     "output_type": "stream",
     "text": [
      "INFO: Getting suggestions for iteration 2\n",
      "INFO: Iteration : 2, Samples to be made\n",
      "INFO: 0\t[ 97.56146512 100.50830373]\n",
      "INFO: 1\t[ 45.51254763 104.64882717]\n",
      "INFO: 2\t[ 10.14000001 114.39192692]\n",
      "INFO: 3\t[ 64.6336608 128.3494144]\n",
      "INFO: ==============================\n",
      "INFO: Iteration : 3 Best estimate [[ 71.85900788 109.4107582 ]] with predicted score : [[-0.11069052]]\n"
     ]
    }
   ],
   "source": [
    "# random iteration\n",
    "optim.update('../data_peakwv_ROD/1.xlsx')\n",
    "optim.save()\n",
    "optim.suggest_next()\n",
    "optim.get_current_best()\n",
    "optim.save()"
   ]
  },
  {
   "cell_type": "code",
   "execution_count": 10,
   "id": "30886f80",
   "metadata": {},
   "outputs": [
    {
     "name": "stderr",
     "output_type": "stream",
     "text": [
      "INFO: Getting suggestions for iteration 3\n",
      "INFO: Iteration : 3, Samples to be made\n",
      "INFO: 0\t[71.41527603 95.31668748]\n",
      "INFO: 1\t[ 79.66952603 128.13703002]\n",
      "INFO: 2\t[ 61.77627812 150.        ]\n",
      "INFO: 3\t[ 76.41668497 150.        ]\n",
      "INFO: ==============================\n",
      "INFO: Iteration : 4 Best estimate [[ 70.76694195 120.44808619]] with predicted score : [[-0.101241]]\n"
     ]
    }
   ],
   "source": [
    "# random iteration\n",
    "optim.update('../data_peakwv_ROD/2.xlsx')\n",
    "optim.save()\n",
    "optim.suggest_next()\n",
    "optim.get_current_best()\n",
    "optim.save()"
   ]
  },
  {
   "cell_type": "code",
   "execution_count": 13,
   "id": "d1d3a528",
   "metadata": {},
   "outputs": [
    {
     "name": "stderr",
     "output_type": "stream",
     "text": [
      "INFO: Getting suggestions for iteration 4\n",
      "INFO: Iteration : 4, Samples to be made\n",
      "INFO: 0\t[150.          10.14000001]\n",
      "INFO: 1\t[ 67.29809641 111.90919458]\n",
      "INFO: 2\t[135.03201836  91.90865332]\n",
      "INFO: 3\t[150. 150.]\n",
      "INFO: ==============================\n",
      "INFO: Iteration : 5 Best estimate [[ 70.57875209 111.07500476]] with predicted score : [[-0.06851219]]\n"
     ]
    }
   ],
   "source": [
    "# random iteration\n",
    "optim.update('../data_peakwv_ROD/3.xlsx')\n",
    "optim.save()\n",
    "optim.suggest_next()\n",
    "optim.get_current_best()\n",
    "optim.save()"
   ]
  },
  {
   "cell_type": "code",
   "execution_count": 14,
   "id": "dcc979f2",
   "metadata": {},
   "outputs": [
    {
     "name": "stderr",
     "output_type": "stream",
     "text": [
      "INFO: Getting suggestions for iteration 5\n",
      "INFO: Iteration : 5, Samples to be made\n",
      "INFO: 0\t[ 50.25042726 146.72557202]\n",
      "INFO: 1\t[ 44.4870831  134.07808037]\n",
      "INFO: 2\t[ 66.68860681 140.04940323]\n",
      "INFO: 3\t[ 52.51913221 136.4165573 ]\n",
      "INFO: ==============================\n",
      "INFO: Iteration : 6 Best estimate [[ 70.83055561 110.89817337]] with predicted score : [[-0.10955995]]\n"
     ]
    }
   ],
   "source": [
    "# random iteration\n",
    "optim.update('../data_peakwv_ROD/4.xlsx')\n",
    "optim.save()\n",
    "optim.suggest_next()\n",
    "optim.get_current_best()\n",
    "optim.save()"
   ]
  },
  {
   "cell_type": "code",
   "execution_count": 15,
   "id": "03247a91",
   "metadata": {},
   "outputs": [
    {
     "name": "stderr",
     "output_type": "stream",
     "text": [
      "INFO: Getting suggestions for iteration 6\n",
      "INFO: Iteration : 6, Samples to be made\n",
      "INFO: 0\t[ 83.42686604 111.034132  ]\n",
      "INFO: 1\t[81.00096967 97.70725112]\n",
      "INFO: 2\t[100.09690773 120.22911911]\n",
      "INFO: 3\t[103.04464483 102.19671137]\n",
      "INFO: ==============================\n",
      "INFO: Iteration : 7 Best estimate [[ 84.38925501 110.54576215]] with predicted score : [[-0.22640692]]\n"
     ]
    }
   ],
   "source": [
    "# random iteration\n",
    "optim.update('../data_peakwv_ROD/5.xlsx')\n",
    "optim.save()\n",
    "optim.suggest_next()\n",
    "optim.get_current_best()\n",
    "optim.save()"
   ]
  },
  {
   "cell_type": "code",
   "execution_count": 16,
   "id": "35ee7fcc",
   "metadata": {},
   "outputs": [
    {
     "name": "stderr",
     "output_type": "stream",
     "text": [
      "INFO: Getting suggestions for iteration 7\n",
      "INFO: Iteration : 7, Samples to be made\n",
      "INFO: 0\t[ 91.40018753 111.13158472]\n",
      "INFO: 1\t[ 73.00754226 105.53621296]\n",
      "INFO: 2\t[76.45359556 94.09578555]\n",
      "INFO: 3\t[91.81633921 93.6877901 ]\n",
      "INFO: ==============================\n",
      "INFO: Iteration : 8 Best estimate [[ 81.58136928 106.62455007]] with predicted score : [[-0.23110849]]\n"
     ]
    }
   ],
   "source": [
    "# random iteration\n",
    "optim.update('../data_peakwv_ROD/6.xlsx')\n",
    "optim.save()\n",
    "optim.suggest_next()\n",
    "optim.get_current_best()\n",
    "optim.save()"
   ]
  },
  {
   "cell_type": "code",
   "execution_count": null,
   "id": "d9dd5026",
   "metadata": {},
   "outputs": [],
   "source": []
  },
  {
   "cell_type": "code",
   "execution_count": null,
   "id": "2ec4af62",
   "metadata": {},
   "outputs": [],
   "source": []
  },
  {
   "cell_type": "code",
   "execution_count": null,
   "id": "8c06d5a9",
   "metadata": {},
   "outputs": [],
   "source": []
  },
  {
   "cell_type": "code",
   "execution_count": null,
   "id": "c5b38a05",
   "metadata": {},
   "outputs": [],
   "source": []
  },
  {
   "cell_type": "code",
   "execution_count": 17,
   "id": "5735ba77",
   "metadata": {},
   "outputs": [
    {
     "data": {
      "image/png": "[encoded data removed]",
      "text/plain": [
       "<Figure size 432x288 with 2 Axes>"
      ]
     },
     "metadata": {
      "needs_background": "light"
     },
     "output_type": "display_data"
    }
   ],
   "source": [
    "import matplotlib.pyplot as plt\n",
    "from matplotlib.colors import LightSource\n",
    "from matplotlib import cm\n",
    "from matplotlib.colors import Normalize\n",
    "import head\n",
    "import torch\n",
    "target = [110,90]\n",
    "tkwargs = {\n",
    "    \"dtype\": torch.double,\n",
    "    \"device\": torch.device(\"cuda\" if torch.cuda.is_available() else \"cpu\"),\n",
    "}\n",
    "\n",
    "fig, ax = plt.subplots(subplot_kw={'projection':'3d'})\n",
    "\n",
    "ax.set_xlabel(r'$\\mu$', fontsize=18)\n",
    "ax.set_ylabel(r'$\\sigma$', fontsize=18)\n",
    "with torch.no_grad():\n",
    "    num_grid_spacing = 20\n",
    "    mu_grid = np.linspace(*bounds[0], num=num_grid_spacing)\n",
    "    sig_grid = np.linspace(*bounds[1], num=num_grid_spacing)\n",
    "    test_x = head.Grid(mu_grid, sig_grid).points\n",
    "    posterior = optim.model.posterior(optim.inp.transform(torch.tensor(test_x).to(**tkwargs)))\n",
    "    posterior_mean = posterior.mean.cpu().numpy()\n",
    "    lower, upper = posterior.mvn.confidence_region()\n",
    "    confidence = np.abs((lower-upper).numpy())\n",
    "    ls = LightSource(0, 0)\n",
    "    rgb = ls.shade(confidence.reshape(num_grid_spacing,num_grid_spacing), \n",
    "                   cmap=cm.coolwarm, vert_exag=0.1, blend_mode='soft')\n",
    "    XX, YY = np.meshgrid(mu_grid, sig_grid)\n",
    "    Z = posterior_mean.reshape(num_grid_spacing,num_grid_spacing)\n",
    "    sc = ax.plot_surface(XX, YY, Z, \n",
    "                    rstride=1, cstride=1, \n",
    "                    facecolors=rgb,\n",
    "                    linewidth=0, antialiased=False, shade=False)\n",
    "    ax.contour(XX, YY, Z, zdir='z', offset=-1.4, cmap=cm.viridis)\n",
    "    ax.scatter(target[0], target[1], zs=-1.4, zdir='z', marker='*', s=200,color='k')\n",
    "    ax.set_title('Model approximation for f(x)')\n",
    "    cmap = cm.get_cmap('coolwarm')\n",
    "    norm = Normalize(vmin=confidence.min(), vmax = confidence.max())\n",
    "    cax = plt.axes([0.95, 0.2, 0.01, 0.6])        \n",
    "    cbar = fig.colorbar(cm.ScalarMappable(norm=norm, cmap=cmap), cax=cax)\n",
    "    cbar.ax.set_ylabel('Uncertainity', rotation=270)\n",
    "    cbar.ax.get_yaxis().labelpad = 15\n",
    "    \n",
    "plt.show()"
   ]
  },
  {
   "cell_type": "code",
   "execution_count": 18,
   "id": "8c638fc8",
   "metadata": {},
   "outputs": [
    {
     "data": {
      "image/png": "[encoded data removed]",
      "text/plain": [
       "<Figure size 432x288 with 2 Axes>"
      ]
     },
     "metadata": {
      "needs_background": "light"
     },
     "output_type": "display_data"
    }
   ],
   "source": [
    "fig, ax = plt.subplots()\n",
    "im = ax.contourf(XX, YY, Z, cmap=cm.Blues)\n",
    "ax.scatter(target[0], target[1], \n",
    "           marker='*', s=200,color='tab:red', lw=2.0,fc='none', label='Target')\n",
    "opt_x = optim.best_loc[-1][0]\n",
    "ax.scatter(opt_x[0], opt_x[1], \n",
    "           marker='*', s=200,lw=2.0,fc='none',color='k', label='Estimate')\n",
    "train_x_unscaled = optim.inp.inverse(optim.train_x)\n",
    "ax.scatter(train_x_unscaled[:,0], train_x_unscaled[:,1], \n",
    "           marker='o', fc='none', edgecolors=(0,0,0), lw=2.0, alpha=0.5, label='Collected')\n",
    "ax.legend()\n",
    "ax.set_xlim(bounds[0])\n",
    "ax.set_ylim(bounds[1])\n",
    "ax.set_xlabel(r'$\\mu$')\n",
    "ax.set_ylabel(r'$\\sigma$')\n",
    "\n",
    "cmap = cm.get_cmap('coolwarm')\n",
    "norm = Normalize(vmin=confidence.min(), vmax = confidence.max())\n",
    "cax = plt.axes([0.95, 0.2, 0.03, 0.6])        \n",
    "cbar = fig.colorbar(im, cax=cax)\n",
    "cbar.ax.set_ylabel('Distance', rotation=270)\n",
    "cbar.ax.get_yaxis().labelpad = 15\n",
    "plt.show()"
   ]
  },
  {
   "cell_type": "code",
   "execution_count": 36,
   "id": "9d440e4f",
   "metadata": {},
   "outputs": [],
   "source": [
    "save_dir = '../data_peakwv_ROD/'\n",
    "np.save(save_dir+'confidence.npy', confidence)\n",
    "np.save(save_dir+'opt_x.npy', opt_x)\n",
    "np.save(save_dir+'posterior_mean.npy', posterior_mean)\n",
    "np.save(save_dir+'lower.npy', lower)\n",
    "np.save(save_dir+'upper.npy', upper)"
   ]
  },
  {
   "cell_type": "code",
   "execution_count": null,
   "id": "0bccee58",
   "metadata": {},
   "outputs": [],
   "source": []
  },
  {
   "cell_type": "code",
   "execution_count": null,
   "id": "77f3652b",
   "metadata": {},
   "outputs": [],
   "source": []
  },
  {
   "cell_type": "code",
   "execution_count": null,
   "id": "004036a9",
   "metadata": {},
   "outputs": [],
   "source": []
  }
 ],
 "metadata": {
  "kernelspec": {
   "display_name": "Python 3",
   "language": "python",
   "name": "python3"
  },
  "language_info": {
   "codemirror_mode": {
    "name": "ipython",
    "version": 3
   },
   "file_extension": ".py",
   "mimetype": "text/x-python",
   "name": "python",
   "nbconvert_exporter": "python",
   "pygments_lexer": "ipython3",
   "version": "3.8.2"
  }
 },
 "nbformat": 4,
 "nbformat_minor": 5
}
