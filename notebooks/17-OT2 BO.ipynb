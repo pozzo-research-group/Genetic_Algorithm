{
 "cells": [
  {
   "cell_type": "code",
   "execution_count": 1,
   "id": "eded52d2",
   "metadata": {},
   "outputs": [],
   "source": [
    "%load_ext autoreload\n",
    "%autoreload 2"
   ]
  },
  {
   "cell_type": "code",
   "execution_count": 2,
   "id": "5a3e47f9",
   "metadata": {},
   "outputs": [
    {
     "name": "stderr",
     "output_type": "stream",
     "text": [
      "INFO: Using numpy backend\n"
     ]
    }
   ],
   "source": [
    "from head import opentrons\n",
    "import pandas as pd\n",
    "import matplotlib.pyplot as plt\n",
    "import numpy as np"
   ]
  },
  {
   "cell_type": "code",
   "execution_count": 3,
   "id": "9eeb417e",
   "metadata": {},
   "outputs": [],
   "source": [
    "# read data from .xslx that we use as an example\n",
    "spectra = pd.read_excel('../data/opentrons/spectra.xlsx', index_col=0, engine='openpyxl')\n",
    "bkg = spectra['Water']\n",
    "spectra.apply(lambda x: x-bkg, axis=0)\n",
    "spectra.iloc[:,:8].to_excel('../data/opentrons/random.xlsx')\n",
    "spectra.iloc[:,8:16].to_excel('../data/opentrons/iteration.xlsx')"
   ]
  },
  {
   "cell_type": "code",
   "execution_count": 4,
   "id": "759e17bb",
   "metadata": {},
   "outputs": [
    {
     "data": {
      "image/png": "[encoded data removed]",
      "text/plain": [
       "<Figure size 432x288 with 1 Axes>"
      ]
     },
     "metadata": {
      "needs_background": "light"
     },
     "output_type": "display_data"
    }
   ],
   "source": [
    "# we create a target spectra here\n",
    "# in this case we select one from the spectra data frame loaded above\n",
    "xt = spectra['D4'].index.to_numpy()\n",
    "yt = spectra['D4'].values\n",
    "plt.plot(xt, yt)\n",
    "plt.show()"
   ]
  },
  {
   "cell_type": "code",
   "execution_count": 5,
   "id": "349293e2",
   "metadata": {},
   "outputs": [],
   "source": [
    "# set up your design space using the lower and upper limits\n",
    "CAgNO3 = [-5,5]\n",
    "CAA = [0.1,3.5]\n",
    "bounds = [CAgNO3, CAA]"
   ]
  },
  {
   "cell_type": "code",
   "execution_count": 6,
   "id": "d32d641e",
   "metadata": {},
   "outputs": [
    {
     "name": "stderr",
     "output_type": "stream",
     "text": [
      "INFO: Getting suggestions for iteration 0\n"
     ]
    }
   ],
   "source": [
    "optim = opentrons.Optimizer(xt, yt, bounds, \n",
    "                            savedir = '../data/opentrons/', batch_size=8)"
   ]
  },
  {
   "cell_type": "code",
   "execution_count": 7,
   "id": "7bfc3a25",
   "metadata": {},
   "outputs": [
    {
     "name": "stderr",
     "output_type": "stream",
     "text": [
      "INFO: Iteriation 0 has an existing directory in ../data/opentrons//0\n"
     ]
    }
   ],
   "source": [
    "# save the object you would get the concentrations as \n",
    "# a .npy file that you can load into an array and process for OT2 stocks etc\n",
    "optim.save()"
   ]
  },
  {
   "cell_type": "code",
   "execution_count": 8,
   "id": "7f789353",
   "metadata": {
    "scrolled": false
   },
   "outputs": [
    {
     "name": "stderr",
     "output_type": "stream",
     "text": [
      "INFO: Current experiment id : 0\n",
      "INFO: Iteration : 1\n",
      "INFO: 0\t[2.54576445 0.62671705]\t[-9.32138062]\n",
      "INFO: 1\t[1.513381   1.95356851]\t[-4.68993139]\n",
      "INFO: 2\t[-3.70705888  0.11765985]\t[-3.79214025]\n",
      "INFO: 3\t[4.1697675  2.43781533]\t[-0.]\n",
      "INFO: 4\t[-3.21963683  3.2852262 ]\t[-8.89494896]\n",
      "INFO: 5\t[-1.55525744  2.40077999]\t[-2.10845685]\n",
      "INFO: 6\t[2.3272413  1.18846335]\t[-2.82251477]\n",
      "INFO: 7\t[-0.44267416  3.22058063]\t[-4.75155306]\n"
     ]
    }
   ],
   "source": [
    "# there's a random.xlsx file added to the location below \n",
    "# in this case it was selected to be a portion of the spectra data frame loaded above\n",
    "optim.update('../data/opentrons/random.xlsx')"
   ]
  },
  {
   "cell_type": "code",
   "execution_count": 9,
   "id": "53d30d47",
   "metadata": {},
   "outputs": [
    {
     "name": "stderr",
     "output_type": "stream",
     "text": [
      "INFO: Iteriation 0 has an existing directory in ../data/opentrons//0\n"
     ]
    }
   ],
   "source": [
    "# save again so that you've a trace after each iteration\n",
    "# this will save to the same iteration directory but adds model and spectra that we provided in the previous cell\n",
    "optim.save()"
   ]
  },
  {
   "cell_type": "code",
   "execution_count": 10,
   "id": "9dc5cecc",
   "metadata": {},
   "outputs": [
    {
     "name": "stderr",
     "output_type": "stream",
     "text": [
      "INFO: Getting suggestions for iteration 1\n",
      "INFO: Iteriation 1 has an existing directory in ../data/opentrons//1\n"
     ]
    }
   ],
   "source": [
    "# running the next iteratiorn with BO selection is very similar\n",
    "# We additionally call the following to get the suggestion and save them into iteration id\n",
    "optim.suggest_next()\n",
    "optim.save()"
   ]
  },
  {
   "cell_type": "code",
   "execution_count": 11,
   "id": "a3774839",
   "metadata": {},
   "outputs": [
    {
     "name": "stderr",
     "output_type": "stream",
     "text": [
      "INFO: Current experiment id : 8\n",
      "INFO: Iteration : 2\n",
      "INFO: 0\t[4.31708699 2.2732428 ]\t[-9.12730789]\n",
      "INFO: 1\t[-0.20847472  0.35501327]\t[-2.00254631]\n",
      "INFO: 2\t[3.94641472 2.34655235]\t[-3.9463098]\n",
      "INFO: 3\t[4.96365291 0.1       ]\t[-5.01365137]\n",
      "INFO: 4\t[4.37127804 2.56389975]\t[-9.64096451]\n",
      "INFO: 5\t[-1.52802257  2.03562138]\t[-3.38805938]\n",
      "INFO: 6\t[-1.58218255  2.76977158]\t[-5.11135769]\n",
      "INFO: 7\t[4.0350156  2.61578651]\t[-5.7354517]\n",
      "INFO: Iteriation 1 has an existing directory in ../data/opentrons//1\n"
     ]
    }
   ],
   "source": [
    "# we now have to go back to the OT2, make the samples and measure them \n",
    "# collect the UV-Vis in a xlsx file and update the optimizer\n",
    "optim.update('../data/opentrons/iteration.xlsx')\n",
    "optim.save()"
   ]
  },
  {
   "cell_type": "code",
   "execution_count": 12,
   "id": "24d30316",
   "metadata": {},
   "outputs": [],
   "source": [
    "# Repeat the above iteration process until budget expiry."
   ]
  }
 ],
 "metadata": {
  "kernelspec": {
   "display_name": "HEAD",
   "language": "python",
   "name": "head"
  },
  "language_info": {
   "codemirror_mode": {
    "name": "ipython",
    "version": 3
   },
   "file_extension": ".py",
   "mimetype": "text/x-python",
   "name": "python",
   "nbconvert_exporter": "python",
   "pygments_lexer": "ipython3",
   "version": "3.8.8"
  }
 },
 "nbformat": 4,
 "nbformat_minor": 5
}
