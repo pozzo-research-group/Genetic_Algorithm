{
 "cells": [
  {
   "cell_type": "code",
   "execution_count": null,
   "id": "c3641abc",
   "metadata": {},
   "outputs": [],
   "source": [
    "%load_ext autoreload\n",
    "%autoreload 2"
   ]
  },
  {
   "cell_type": "code",
   "execution_count": null,
   "id": "943cac08",
   "metadata": {},
   "outputs": [],
   "source": [
    "import head\n",
    "import numpy as np\n",
    "import matplotlib.pyplot as plt"
   ]
  },
  {
   "cell_type": "code",
   "execution_count": null,
   "id": "6e861e06",
   "metadata": {},
   "outputs": [],
   "source": [
    "\"\"\"Generate a target spectrum\n",
    "We simulate a target spectrum with a fixed number of spehre's with \n",
    "radii sampled from a narrow lognormal distribution\n",
    "\"\"\"\n",
    "\n",
    "\n",
    "sim = head.Emulator()\n",
    "fig, axs = plt.subplots(1,3,figsize=(4*3,4))\n",
    "R_mu = 20\n",
    "R_sigma = 0.1\n",
    "sim.make_structure(r_mu=R_mu,r_sigma=R_sigma)\n",
    "sim.plot_radii(axs[0])\n",
    "axs[0].set_xlabel('radius')\n",
    "axs[0].set_ylabel('Probability density')\n",
    "\n",
    "q, st = sim.get_saxs()\n",
    "axs[1].loglog(q, st)\n",
    "plt.setp(axs[1], xlabel='q (1/A)', ylabel='I(q)')\n",
    "\n",
    "wl, It = sim.get_spectrum(n_samples=10)\n",
    "axs[2].plot(wl,It)\n",
    "plt.setp(axs[2], xlabel=r'$\\lambda$ (nm)', ylabel='abs (a.u.)')\n",
    "\n",
    "fig.suptitle('r = '+','.join('%.2f'%i for i in sim.radii))\n",
    "\n",
    "plt.show()"
   ]
  }
 ],
 "metadata": {
  "kernelspec": {
   "display_name": "head",
   "language": "python",
   "name": "head"
  },
  "language_info": {
   "codemirror_mode": {
    "name": "ipython",
    "version": 3
   },
   "file_extension": ".py",
   "mimetype": "text/x-python",
   "name": "python",
   "nbconvert_exporter": "python",
   "pygments_lexer": "ipython3",
   "version": "3.8.8"
  }
 },
 "nbformat": 4,
 "nbformat_minor": 5
}
