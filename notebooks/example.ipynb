{
 "cells": [
  {
   "cell_type": "code",
   "execution_count": 1,
   "id": "2aa602c4",
   "metadata": {},
   "outputs": [
    {
     "name": "stderr",
     "output_type": "stream",
     "text": [
      "INFO: Using numpy backend\n"
     ]
    }
   ],
   "source": [
    "from head import opentrons\n",
    "import pandas as pd\n",
    "import numpy as np\n",
    "from scipy.spatial import distance\n",
    "import warnings\n",
    "warnings.filterwarnings(\"ignore\")"
   ]
  },
  {
   "cell_type": "code",
   "execution_count": 2,
   "id": "b077edff",
   "metadata": {},
   "outputs": [],
   "source": [
    "class Simulator:\n",
    "    def __init__(self):\n",
    "        self.domain = np.linspace(-5,5,num=100)\n",
    "        \n",
    "    def generate(self, mu, sig):\n",
    "        scale = 1/(np.sqrt(2*np.pi)*sig)\n",
    "        return scale*np.exp(-np.power(self.domain - mu, 2.) / (2 * np.power(sig, 2.)))\n",
    "    \n",
    "    def process_batch(self, Cb, fname):\n",
    "        out = []\n",
    "        for c in Cb:\n",
    "            out.append(self.generate(*c))\n",
    "        out = np.asarray(out)\n",
    "        df = pd.DataFrame(out.T, index=self.domain)\n",
    "        df.to_excel(fname, engine='openpyxl')\n",
    "        \n",
    "        return \n",
    "    \n",
    "    def make_target(self, ct):\n",
    "        return self.domain, self.generate(*ct)"
   ]
  },
  {
   "cell_type": "code",
   "execution_count": 3,
   "id": "c87048d2",
   "metadata": {},
   "outputs": [],
   "source": [
    "sim = Simulator()\n",
    "target = np.array([-2,0.5])\n",
    "xt, yt = sim.make_target(target)"
   ]
  },
  {
   "cell_type": "code",
   "execution_count": 4,
   "id": "5d6e9465",
   "metadata": {},
   "outputs": [],
   "source": [
    "from head import AmplitudePhaseDistance\n",
    "\n",
    "def APdist(f1,f2):\n",
    "    da, dp = AmplitudePhaseDistance(f1,f2,xt)\n",
    "    \n",
    "    return -(da+dp)\n",
    "    "
   ]
  },
  {
   "cell_type": "code",
   "execution_count": 5,
   "id": "771629f4",
   "metadata": {},
   "outputs": [],
   "source": [
    "Cmu = [-5,5]\n",
    "Csig = [0.1,3.5]\n",
    "bounds = [Cmu, Csig]"
   ]
  },
  {
   "cell_type": "code",
   "execution_count": 6,
   "id": "76f8b0fd",
   "metadata": {},
   "outputs": [
    {
     "name": "stderr",
     "output_type": "stream",
     "text": [
      "INFO: Getting suggestions for iteration 0\n",
      "INFO: Iteration : 0, Samples to be made\n",
      "INFO: 0\t[-1.69592045  1.42987791]\n",
      "INFO: 1\t[1.85998103 0.5546689 ]\n",
      "INFO: 2\t[2.27575725 0.18992321]\n",
      "INFO: 3\t[1.47655087 0.11815148]\n",
      "INFO: ==============================\n"
     ]
    }
   ],
   "source": [
    "optim = opentrons.Optimizer(xt, yt, \n",
    "                            bounds, \n",
    "                            savedir = '../data',\n",
    "                            batch_size=4,\n",
    "                            metric = APdist\n",
    "                           )\n"
   ]
  },
  {
   "cell_type": "code",
   "execution_count": 7,
   "id": "75a57039",
   "metadata": {},
   "outputs": [
    {
     "name": "stderr",
     "output_type": "stream",
     "text": [
      "INFO: Iteration : 1 Best estimate [[0.04859615 1.27705016]] with predicted score : [[-0.4875459]]\n"
     ]
    }
   ],
   "source": [
    "# random iteration\n",
    "optim.save()\n",
    "C0 = np.load('../data/0/new_x.npy')\n",
    "sim.process_batch(C0, '../data/0.xlsx')\n",
    "optim.update('../data/0.xlsx')\n",
    "optim.save()\n",
    "optim.get_current_best()"
   ]
  },
  {
   "cell_type": "code",
   "execution_count": 8,
   "id": "2018df55",
   "metadata": {
    "scrolled": false
   },
   "outputs": [
    {
     "name": "stderr",
     "output_type": "stream",
     "text": [
      "INFO: Getting suggestions for iteration 1\n",
      "INFO: Iteration : 1, Samples to be made\n",
      "INFO: 0\t[2.19137254 1.83956224]\n",
      "INFO: 1\t[-4.99        3.03395053]\n",
      "INFO: 2\t[-4.99        0.28347929]\n",
      "INFO: 3\t[5.  3.5]\n",
      "INFO: ==============================\n",
      "INFO: Iteration : 2 Best estimate [[-0.40621184  1.18994157]] with predicted score : [[-0.55240365]]\n",
      "INFO: Getting suggestions for iteration 2\n",
      "INFO: Iteration : 2, Samples to be made\n",
      "INFO: 0\t[-3.65465249  1.33292663]\n",
      "INFO: 1\t[5.        1.2580402]\n",
      "INFO: 2\t[-1.55939771  0.84231223]\n",
      "INFO: 3\t[0.20746676 1.2234658 ]\n",
      "INFO: ==============================\n",
      "INFO: Iteration : 3 Best estimate [[-1.3762159   0.92881037]] with predicted score : [[-0.42388524]]\n",
      "INFO: Getting suggestions for iteration 3\n",
      "INFO: Iteration : 3, Samples to be made\n",
      "INFO: 0\t[-3.68951548  0.97710218]\n",
      "INFO: 1\t[-1.62155807  0.47493523]\n",
      "INFO: 2\t[-0.68822277  0.86495815]\n",
      "INFO: 3\t[-1.98945986  0.81463206]\n",
      "INFO: ==============================\n",
      "INFO: Iteration : 4 Best estimate [[-1.04998468  0.87940323]] with predicted score : [[-0.3637927]]\n",
      "INFO: Getting suggestions for iteration 4\n",
      "INFO: Iteration : 4, Samples to be made\n",
      "INFO: 0\t[-1.39835035  0.96740038]\n",
      "INFO: 1\t[-0.50035256  0.82534351]\n",
      "INFO: 2\t[0.36739038 0.86559708]\n",
      "INFO: 3\t[-4.99        1.91268365]\n",
      "INFO: ==============================\n",
      "INFO: Iteration : 5 Best estimate [[-0.00528364  0.86733459]] with predicted score : [[-0.29957224]]\n",
      "INFO: Getting suggestions for iteration 5\n",
      "INFO: Iteration : 5, Samples to be made\n",
      "INFO: 0\t[3.52197056 2.5000584 ]\n",
      "INFO: 1\t[-0.50244896  2.38534689]\n",
      "INFO: 2\t[1.37264336 0.86482206]\n",
      "INFO: 3\t[5.         2.52801263]\n",
      "INFO: ==============================\n",
      "INFO: Iteration : 6 Best estimate [[-0.52391055  0.87774599]] with predicted score : [[-0.32028855]]\n",
      "INFO: Getting suggestions for iteration 6\n",
      "INFO: Iteration : 6, Samples to be made\n",
      "INFO: 0\t[-1.05560335  0.85706402]\n",
      "INFO: 1\t[2.54261659 0.11972387]\n",
      "INFO: 2\t[2.9322577  3.44747599]\n",
      "INFO: 3\t[-4.22966623  2.68752371]\n",
      "INFO: ==============================\n",
      "INFO: Iteration : 7 Best estimate [[-0.44987894  0.87361433]] with predicted score : [[-0.3192614]]\n",
      "INFO: Getting suggestions for iteration 7\n",
      "INFO: Iteration : 7, Samples to be made\n",
      "INFO: 0\t[0.8184408  0.99354032]\n",
      "INFO: 1\t[2.58511197 3.31753673]\n",
      "INFO: 2\t[1.21367789 2.72022729]\n",
      "INFO: 3\t[2.97181915 1.13061481]\n",
      "INFO: ==============================\n",
      "INFO: Iteration : 8 Best estimate [[-0.59794033  0.86528591]] with predicted score : [[-0.32748534]]\n",
      "INFO: Getting suggestions for iteration 8\n",
      "INFO: Iteration : 8, Samples to be made\n",
      "INFO: 0\t[-2.28999404  2.04146757]\n",
      "INFO: 1\t[-2.73217762  0.81201268]\n",
      "INFO: 2\t[2.99856641 0.10569699]\n",
      "INFO: 3\t[1.98805435 1.68149254]\n",
      "INFO: ==============================\n",
      "INFO: Iteration : 9 Best estimate [[-0.47163425  0.87393033]] with predicted score : [[-0.33209218]]\n",
      "INFO: Getting suggestions for iteration 9\n",
      "INFO: Iteration : 9, Samples to be made\n",
      "INFO: 0\t[-0.165842    1.31670118]\n",
      "INFO: 1\t[-0.51525879  1.89168615]\n",
      "INFO: 2\t[1.83701931 2.64888608]\n",
      "INFO: 3\t[1.59713146 2.84134998]\n",
      "INFO: ==============================\n",
      "INFO: Iteration : 10 Best estimate [[-0.4301471   0.86306823]] with predicted score : [[-0.33090366]]\n",
      "INFO: Getting suggestions for iteration 10\n",
      "INFO: Iteration : 10, Samples to be made\n",
      "INFO: 0\t[-0.31252677  0.2611804 ]\n",
      "INFO: 1\t[-3.34420648  2.17500146]\n",
      "INFO: 2\t[2.16470158 3.37265781]\n",
      "INFO: 3\t[-0.8759737   1.53986549]\n",
      "INFO: ==============================\n",
      "INFO: Iteration : 11 Best estimate [[-0.31851909  0.81671347]] with predicted score : [[-0.32242501]]\n",
      "INFO: Getting suggestions for iteration 11\n",
      "INFO: Iteration : 11, Samples to be made\n",
      "INFO: 0\t[4.66918063 0.68552175]\n",
      "INFO: 1\t[4.1444692  1.54726364]\n",
      "INFO: 2\t[2.61183393 2.16396305]\n",
      "INFO: 3\t[2.05217947 0.53544183]\n",
      "INFO: ==============================\n",
      "INFO: Iteration : 12 Best estimate [[-0.05554542  0.77146928]] with predicted score : [[-0.31600143]]\n",
      "INFO: Getting suggestions for iteration 12\n",
      "INFO: Iteration : 12, Samples to be made\n",
      "INFO: 0\t[-1.02174036  2.02049013]\n",
      "INFO: 1\t[1.57662901 2.08847743]\n",
      "INFO: 2\t[2.24281976 2.43478927]\n",
      "INFO: 3\t[2.13402592 1.22089219]\n",
      "INFO: ==============================\n",
      "INFO: Iteration : 13 Best estimate [[-0.0341319   0.76823777]] with predicted score : [[-0.31428879]]\n",
      "INFO: Getting suggestions for iteration 13\n",
      "INFO: Iteration : 13, Samples to be made\n",
      "INFO: 0\t[-1.49250484  2.77940314]\n",
      "INFO: 1\t[-4.06311368  0.1551572 ]\n",
      "INFO: 2\t[0.3902098  0.73278982]\n",
      "INFO: 3\t[-3.63541502  3.1641335 ]\n",
      "INFO: ==============================\n",
      "INFO: Iteration : 14 Best estimate [[-0.11542549  0.77218408]] with predicted score : [[-0.31874043]]\n",
      "INFO: Getting suggestions for iteration 14\n",
      "INFO: Iteration : 14, Samples to be made\n",
      "INFO: 0\t[0.2866896  3.46832906]\n",
      "INFO: 1\t[2.69189687 1.10131678]\n",
      "INFO: 2\t[3.4141729  1.94761068]\n",
      "INFO: 3\t[3.84008203 1.62765646]\n",
      "INFO: ==============================\n",
      "INFO: Iteration : 15 Best estimate [[-0.1067468   0.77076164]] with predicted score : [[-0.31837807]]\n",
      "INFO: Getting suggestions for iteration 15\n",
      "INFO: Iteration : 15, Samples to be made\n",
      "INFO: 0\t[-2.45084985  0.48980306]\n",
      "INFO: 1\t[-3.62886747  1.06712956]\n",
      "INFO: 2\t[0.65437636 1.87471921]\n",
      "INFO: 3\t[-1.40887886  2.80353494]\n",
      "INFO: ==============================\n",
      "INFO: Iteration : 16 Best estimate [[-0.10741324  0.76630284]] with predicted score : [[-0.3172382]]\n",
      "INFO: Getting suggestions for iteration 16\n",
      "INFO: Iteration : 16, Samples to be made\n",
      "INFO: 0\t[2.92212234 0.20536865]\n",
      "INFO: 1\t[-1.24851056  1.12238392]\n",
      "INFO: 2\t[-3.82520873  2.04974051]\n",
      "INFO: 3\t[-4.11810894  2.89171277]\n",
      "INFO: ==============================\n",
      "INFO: Iteration : 17 Best estimate [[-0.06819977  0.74943941]] with predicted score : [[-0.31417917]]\n",
      "INFO: Getting suggestions for iteration 17\n",
      "INFO: Iteration : 17, Samples to be made\n",
      "INFO: 0\t[0.7952274  1.64268822]\n",
      "INFO: 1\t[-3.9661912   1.05249499]\n",
      "INFO: 2\t[3.78635718 3.27445636]\n",
      "INFO: 3\t[4.82769907 2.23507661]\n",
      "INFO: ==============================\n",
      "INFO: Iteration : 18 Best estimate [[-0.0787234   0.74754364]] with predicted score : [[-0.31376651]]\n",
      "INFO: Getting suggestions for iteration 18\n",
      "INFO: Iteration : 18, Samples to be made\n",
      "INFO: 0\t[-3.11885732  1.23973796]\n",
      "INFO: 1\t[4.89797931 1.53502547]\n",
      "INFO: 2\t[3.70403946 3.19883412]\n",
      "INFO: 3\t[-1.53268488  3.06508827]\n",
      "INFO: ==============================\n",
      "INFO: Iteration : 19 Best estimate [[-0.08468065  0.74595514]] with predicted score : [[-0.31674368]]\n",
      "INFO: Getting suggestions for iteration 19\n",
      "INFO: Iteration : 19, Samples to be made\n",
      "INFO: 0\t[-1.09971223  2.5806843 ]\n",
      "INFO: 1\t[0.46104479 1.60984206]\n",
      "INFO: 2\t[-4.41124162  1.80453678]\n",
      "INFO: 3\t[-4.4418895   2.93625836]\n",
      "INFO: ==============================\n",
      "INFO: Iteration : 20 Best estimate [[-0.07795346  0.74250331]] with predicted score : [[-0.31608148]]\n",
      "INFO: Getting suggestions for iteration 20\n",
      "INFO: Iteration : 20, Samples to be made\n",
      "INFO: 0\t[4.39231336 2.32538634]\n",
      "INFO: 1\t[1.91361724 1.98682646]\n",
      "INFO: 2\t[-2.8998504   2.54177038]\n",
      "INFO: 3\t[-2.60569358  2.77329934]\n",
      "INFO: ==============================\n",
      "INFO: Iteration : 21 Best estimate [[-0.07305696  0.74134034]] with predicted score : [[-0.3156217]]\n"
     ]
    }
   ],
   "source": [
    "for i in range(1,21):\n",
    "    # iteration i selection\n",
    "    optim.suggest_next()\n",
    "    optim.save()\n",
    "    # simulate iteration i new_x \n",
    "    Ci = np.load('../data/%d/new_x.npy'%i)\n",
    "    sim.process_batch(Ci, '../data/%d.xlsx'%i)\n",
    "    optim.update('../data/%d.xlsx'%i)\n",
    "    optim.save()\n",
    "    optim.get_current_best()"
   ]
  },
  {
   "cell_type": "code",
   "execution_count": null,
   "id": "e3e30685",
   "metadata": {},
   "outputs": [],
   "source": []
  }
 ],
 "metadata": {
  "kernelspec": {
   "display_name": "Python [conda env:srsf] *",
   "language": "python",
   "name": "conda-env-srsf-py"
  },
  "language_info": {
   "codemirror_mode": {
    "name": "ipython",
    "version": 3
   },
   "file_extension": ".py",
   "mimetype": "text/x-python",
   "name": "python",
   "nbconvert_exporter": "python",
   "pygments_lexer": "ipython3",
   "version": "3.9.7"
  }
 },
 "nbformat": 4,
 "nbformat_minor": 5
}
