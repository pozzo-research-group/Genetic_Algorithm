{
 "cells": [
  {
   "cell_type": "code",
   "execution_count": 1,
   "id": "4305ab7c",
   "metadata": {},
   "outputs": [],
   "source": [
    "import numpy as np \n",
    "import pandas as pd\n",
    "from scipy.spatial import distance\n",
    "import matplotlib.pyplot as plt"
   ]
  },
  {
   "cell_type": "code",
   "execution_count": 2,
   "id": "65671209",
   "metadata": {},
   "outputs": [],
   "source": [
    "def load_spectra(path):\n",
    "    for itr in range(7):\n",
    "        spectra_iteration = pd.read_excel(path + str(itr) + '.xlsx').values\n",
    "        wavelength = spectra_iteration[:,0]\n",
    "        if itr == 0:\n",
    "            spectra_all = spectra_iteration[:,1:]\n",
    "        else:\n",
    "            spectra_all = np.hstack((spectra_all, spectra_iteration[:,1:]))\n",
    "    return spectra_all, wavelength "
   ]
  },
  {
   "cell_type": "code",
   "execution_count": 3,
   "id": "5c5c0d58",
   "metadata": {},
   "outputs": [],
   "source": [
    "AP_ROD, wavelength = load_spectra('../data_AP_ROD/')\n",
    "AP_SPHERE, _ = load_spectra('../data_AP_SPHERE/')\n",
    "SRVF_ROD, _ = load_spectra('../data_SRVF_ROD/')\n",
    "SRVF_SPHERE, _ = load_spectra('../data_SRVF_SPHERE/')\n",
    "euclidean_ROD, _ = load_spectra('../data_euclidean_ROD/')\n",
    "euclidean_SPHERE, _ = load_spectra('../data_euclidean_SPHERE/')\n",
    "peakwv_ROD, _ = load_spectra('../data_peakwv_ROD/')\n",
    "peakwv_SPHERE, _ = load_spectra('../data_peakwv_SPHERE/')"
   ]
  },
  {
   "cell_type": "markdown",
   "id": "96ca4a00",
   "metadata": {},
   "source": [
    "### All the data from the sphere and rod optimizations in one array"
   ]
  },
  {
   "cell_type": "code",
   "execution_count": 4,
   "id": "2195da62",
   "metadata": {},
   "outputs": [],
   "source": [
    "SPHERES = np.hstack((peakwv_SPHERE, euclidean_SPHERE, SRVF_SPHERE, AP_SPHERE))\n",
    "RODS = np.hstack((peakwv_ROD, euclidean_ROD, SRVF_ROD, AP_ROD))"
   ]
  },
  {
   "cell_type": "code",
   "execution_count": 5,
   "id": "af41372b",
   "metadata": {},
   "outputs": [],
   "source": [
    "target = pd.read_excel('Target_Rod.xlsx')\n",
    "target = np.asarray(target)\n",
    "xt = target[:,0]\n",
    "rod_target = target[:,1]\n",
    "target = pd.read_excel('Target_Sphere.xlsx')\n",
    "target = np.asarray(target)\n",
    "xt = target[:,0]\n",
    "sphere_target = target[:,1]"
   ]
  },
  {
   "cell_type": "code",
   "execution_count": 6,
   "id": "f15fe0f6",
   "metadata": {},
   "outputs": [],
   "source": [
    "def Euclidean(f1,f2):\n",
    "    d = distance.euclidean(f1,f2)    \n",
    "    return -d"
   ]
  },
  {
   "cell_type": "code",
   "execution_count": 7,
   "id": "13f48cb8",
   "metadata": {},
   "outputs": [],
   "source": [
    "Euclidean_dist_SPHERE = {}\n",
    "dist = []\n",
    "for i in range(SPHERES.shape[1]):\n",
    "    d = Euclidean(sphere_target, SPHERES[:,i])\n",
    "    dist.append(d)"
   ]
  },
  {
   "cell_type": "code",
   "execution_count": null,
   "id": "5a4b270e",
   "metadata": {},
   "outputs": [],
   "source": []
  },
  {
   "cell_type": "code",
   "execution_count": null,
   "id": "4f18864c",
   "metadata": {},
   "outputs": [],
   "source": []
  }
 ],
 "metadata": {
  "kernelspec": {
   "display_name": "Python 3",
   "language": "python",
   "name": "python3"
  },
  "language_info": {
   "codemirror_mode": {
    "name": "ipython",
    "version": 3
   },
   "file_extension": ".py",
   "mimetype": "text/x-python",
   "name": "python",
   "nbconvert_exporter": "python",
   "pygments_lexer": "ipython3",
   "version": "3.8.2"
  }
 },
 "nbformat": 4,
 "nbformat_minor": 5
}
