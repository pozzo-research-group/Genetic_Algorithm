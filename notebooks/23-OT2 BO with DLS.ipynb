{
 "cells": [
  {
   "cell_type": "code",
   "execution_count": 1,
   "id": "eded52d2",
   "metadata": {},
   "outputs": [],
   "source": [
    "%load_ext autoreload\n",
    "%autoreload 2"
   ]
  },
  {
   "cell_type": "code",
   "execution_count": 2,
   "id": "829ac6c7",
   "metadata": {},
   "outputs": [
    {
     "name": "stderr",
     "output_type": "stream",
     "text": [
      "INFO: Using numpy backend\n"
     ]
    }
   ],
   "source": [
    "from head import opentrons\n",
    "import pandas as pd\n",
    "import matplotlib.pyplot as plt\n",
    "import numpy as np"
   ]
  },
  {
   "cell_type": "code",
   "execution_count": 3,
   "id": "920189df",
   "metadata": {},
   "outputs": [],
   "source": [
    "# read data from .xslx that we use as an example\n",
    "example_xslx = '../data/DLSExample/ABC.xlsx'\n",
    "spectra = pd.read_excel(example_xslx, index_col=0, engine='openpyxl')\n",
    "sizes = spectra.index.to_numpy()"
   ]
  },
  {
   "cell_type": "code",
   "execution_count": 4,
   "id": "4f141045",
   "metadata": {},
   "outputs": [],
   "source": [
    "def read_dls(xlsx):\n",
    "    xlsx = pd.read_excel(xlsx, index_col=0, engine='openpyxl')\n",
    "    spectra = xlsx.values\n",
    "    sizes = xlsx.index.to_numpy()\n",
    "    sizes = np.log10(sizes) # to normal distribution\n",
    "    p = spectra/100\n",
    "    return sizes, p.T"
   ]
  },
  {
   "cell_type": "code",
   "execution_count": 5,
   "id": "0bb93856",
   "metadata": {},
   "outputs": [
    {
     "data": {
      "image/png": "[encoded data removed]",
      "text/plain": [
       "<Figure size 432x288 with 1 Axes>"
      ]
     },
     "metadata": {
      "needs_background": "light"
     },
     "output_type": "display_data"
    }
   ],
   "source": [
    "fig, ax = plt.subplots()\n",
    "names = ['B', 'C', 'B+C']\n",
    "for i in range(spectra.shape[1]):\n",
    "    p = spectra.iloc[:,i].to_numpy()/100\n",
    "    x = np.log10(sizes)\n",
    "    ax.plot(x, p, label=names[i])\n",
    "ax.legend()\n",
    "plt.show()"
   ]
  },
  {
   "cell_type": "code",
   "execution_count": 6,
   "id": "085c2dfa",
   "metadata": {},
   "outputs": [
    {
     "data": {
      "image/png": "[encoded data removed]",
      "text/plain": [
       "<Figure size 432x288 with 1 Axes>"
      ]
     },
     "metadata": {
      "needs_background": "light"
     },
     "output_type": "display_data"
    }
   ],
   "source": [
    "# we create a target spectra here\n",
    "# in this case we select one from the spectra data frame loaded above\n",
    "xt = np.log10(sizes)\n",
    "yt = spectra.iloc[:,2].to_numpy()/100\n",
    "plt.plot(xt, yt)\n",
    "plt.show()"
   ]
  },
  {
   "cell_type": "code",
   "execution_count": 7,
   "id": "20aed835",
   "metadata": {},
   "outputs": [],
   "source": [
    "# set up your design space using the lower and upper limits\n",
    "B = [0,1]\n",
    "C = [0,1]\n",
    "bounds = [B, C]"
   ]
  },
  {
   "cell_type": "code",
   "execution_count": 8,
   "id": "3007f630",
   "metadata": {},
   "outputs": [
    {
     "name": "stderr",
     "output_type": "stream",
     "text": [
      "INFO: Getting suggestions for iteration 0\n"
     ]
    }
   ],
   "source": [
    "optim = opentrons.Optimizer(xt, yt, bounds, \n",
    "                            savedir = '../data/opentrons/', \n",
    "                            batch_size=3, hyperplane=True\n",
    "                           )"
   ]
  },
  {
   "cell_type": "code",
   "execution_count": 9,
   "id": "771ec80a",
   "metadata": {},
   "outputs": [
    {
     "data": {
      "text/plain": [
       "<matplotlib.collections.PathCollection at 0x7fbd50b28f40>"
      ]
     },
     "execution_count": 9,
     "metadata": {},
     "output_type": "execute_result"
    },
    {
     "data": {
      "image/png": "[encoded data removed]",
      "text/plain": [
       "<Figure size 432x288 with 1 Axes>"
      ]
     },
     "metadata": {
      "needs_background": "light"
     },
     "output_type": "display_data"
    }
   ],
   "source": [
    "plt.scatter(optim.new_x[:,0], optim.new_x[:,1])"
   ]
  },
  {
   "cell_type": "code",
   "execution_count": 10,
   "id": "eb0f7b6f",
   "metadata": {},
   "outputs": [
    {
     "name": "stderr",
     "output_type": "stream",
     "text": [
      "INFO: Iteriation 0 has an existing directory in ../data/opentrons//0\n"
     ]
    }
   ],
   "source": [
    "# save the object you would get the concentrations as \n",
    "# a .npy file that you can load into an array and process for OT2 stocks etc\n",
    "optim.save()"
   ]
  },
  {
   "cell_type": "code",
   "execution_count": 11,
   "id": "184ffa89",
   "metadata": {
    "scrolled": false
   },
   "outputs": [
    {
     "name": "stderr",
     "output_type": "stream",
     "text": [
      "INFO: Current experiment id : 0\n",
      "INFO: Iteration : 1\n",
      "INFO: 0\t[0.170913   0.81806052]\t[-0.59681737]\n",
      "INFO: 1\t[0.49193472 0.2694729 ]\t[-0.40045571]\n",
      "INFO: 2\t[0.84284961 0.30233574]\t[-0.]\n"
     ]
    }
   ],
   "source": [
    "# there's a random.xlsx file added to the location below \n",
    "# in this case it was selected to be a portion of the spectra data frame loaded above\n",
    "optim.update(example_xslx, read_spectra=read_dls)"
   ]
  },
  {
   "cell_type": "code",
   "execution_count": 12,
   "id": "e4ecd931",
   "metadata": {},
   "outputs": [
    {
     "name": "stderr",
     "output_type": "stream",
     "text": [
      "INFO: Iteriation 0 has an existing directory in ../data/opentrons//0\n"
     ]
    }
   ],
   "source": [
    "# save again so that you've a trace after each iteration\n",
    "# this will save to the same iteration directory but adds model and spectra that we provided in the previous cell\n",
    "optim.save()"
   ]
  },
  {
   "cell_type": "code",
   "execution_count": 13,
   "id": "40356b37",
   "metadata": {},
   "outputs": [
    {
     "name": "stderr",
     "output_type": "stream",
     "text": [
      "INFO: Getting suggestions for iteration 1\n",
      "INFO: Iteriation 1 has an existing directory in ../data/opentrons//1\n"
     ]
    },
    {
     "data": {
      "text/plain": [
       "tensor([[8.7381e-01, 1.2619e-01],\n",
       "        [7.4008e-01, 2.5992e-01],\n",
       "        [1.0000e+00, 2.3589e-11]], dtype=torch.float64)"
      ]
     },
     "execution_count": 13,
     "metadata": {},
     "output_type": "execute_result"
    }
   ],
   "source": [
    "# running the next iteratiorn with BO selection is very similar\n",
    "# We additionally call the following to get the suggestion and save them into iteration id\n",
    "optim.suggest_next()\n",
    "optim.save()\n",
    "optim.new_x"
   ]
  },
  {
   "cell_type": "code",
   "execution_count": 14,
   "id": "ce405f35",
   "metadata": {},
   "outputs": [
    {
     "name": "stderr",
     "output_type": "stream",
     "text": [
      "INFO: Current experiment id : 3\n",
      "INFO: Iteration : 2\n",
      "INFO: 0\t[0.87380991 0.12619009]\t[-0.59681737]\n",
      "INFO: 1\t[0.74008429 0.25991571]\t[-0.40045571]\n",
      "INFO: 2\t[1.000000e+00 2.358921e-11]\t[-0.]\n",
      "INFO: Iteriation 1 has an existing directory in ../data/opentrons//1\n"
     ]
    }
   ],
   "source": [
    "# we now have to go back to the OT2, make the samples and measure them \n",
    "# collect the UV-Vis in a xlsx file and update the optimizer\n",
    "optim.update(example_xslx, read_spectra=read_dls)\n",
    "optim.save()"
   ]
  },
  {
   "cell_type": "code",
   "execution_count": 15,
   "id": "58318480",
   "metadata": {},
   "outputs": [],
   "source": [
    "# Repeat the above iteration process until budget expiry."
   ]
  }
 ],
 "metadata": {
  "kernelspec": {
   "display_name": "HEAD",
   "language": "python",
   "name": "head"
  },
  "language_info": {
   "codemirror_mode": {
    "name": "ipython",
    "version": 3
   },
   "file_extension": ".py",
   "mimetype": "text/x-python",
   "name": "python",
   "nbconvert_exporter": "python",
   "pygments_lexer": "ipython3",
   "version": "3.8.8"
  }
 },
 "nbformat": 4,
 "nbformat_minor": 5
}
