{
 "cells": [
  {
   "cell_type": "code",
   "execution_count": 1,
   "id": "3f3e169d",
   "metadata": {},
   "outputs": [
    {
     "name": "stderr",
     "output_type": "stream",
     "text": [
      "INFO: Using numpy backend\n"
     ]
    }
   ],
   "source": [
    "from head import opentrons\n",
    "import pandas as pd\n",
    "import numpy as np\n",
    "from scipy.spatial import distance\n",
    "import warnings\n",
    "import matplotlib.pyplot as plt\n",
    "warnings.filterwarnings(\"ignore\")"
   ]
  },
  {
   "cell_type": "code",
   "execution_count": 2,
   "id": "68cee7b8",
   "metadata": {},
   "outputs": [],
   "source": [
    "class Simulator:\n",
    "    def __init__(self):\n",
    "        self.domain = np.linspace(-5,5,num=100)\n",
    "        \n",
    "    def generate(self, mu, sig):\n",
    "        scale = 1/(np.sqrt(2*np.pi)*sig)\n",
    "        return scale*np.exp(-np.power(self.domain - mu, 2.) / (2 * np.power(sig, 2.)))\n",
    "    \n",
    "    def process_batch(self, Cb, fname):\n",
    "        out = []\n",
    "        for c in Cb:\n",
    "            out.append(self.generate(*c))\n",
    "        out = np.asarray(out)\n",
    "        df = pd.DataFrame(out.T, index=self.domain)\n",
    "        df.to_excel(fname, engine='openpyxl')\n",
    "        \n",
    "        return \n",
    "    \n",
    "    def make_target(self, ct):\n",
    "        return self.domain, self.generate(*ct)"
   ]
  },
  {
   "cell_type": "code",
   "execution_count": 3,
   "id": "b1490bef",
   "metadata": {},
   "outputs": [],
   "source": [
    "def APdist(f1,f2):\n",
    "    d = distance.euclidean(f1,f2)    \n",
    "    return -d"
   ]
  },
  {
   "cell_type": "code",
   "execution_count": 4,
   "id": "4482c5cb",
   "metadata": {},
   "outputs": [
    {
     "data": {
      "text/plain": [
       "[<matplotlib.lines.Line2D at 0x7ff74dd4aa90>]"
      ]
     },
     "execution_count": 4,
     "metadata": {},
     "output_type": "execute_result"
    },
    {
     "data": {
      "image/png": "[encoded data removed]",
      "text/plain": [
       "<Figure size 432x288 with 1 Axes>"
      ]
     },
     "metadata": {
      "needs_background": "light"
     },
     "output_type": "display_data"
    }
   ],
   "source": [
    "AG = [10,150]\n",
    "AA = [10,150]\n",
    "bounds = [AG, AA]\n",
    "target = pd.read_excel('Target_Sphere.xlsx')\n",
    "target = np.asarray(target)\n",
    "xt = target[:,0]\n",
    "yt = target[:,1]\n",
    "plt.plot(xt,yt)"
   ]
  },
  {
   "cell_type": "code",
   "execution_count": 5,
   "id": "59f98be3",
   "metadata": {},
   "outputs": [
    {
     "name": "stderr",
     "output_type": "stream",
     "text": [
      "INFO: Getting suggestions for iteration 0\n",
      "INFO: Iteration : 0, Samples to be made\n",
      "INFO: 0\t[66.33221434 22.86868734]\n",
      "INFO: 1\t[31.51409796 50.72001452]\n",
      "INFO: 2\t[99.64753031 72.19297898]\n",
      "INFO: 3\t[119.38123297 145.11514165]\n",
      "INFO: ==============================\n"
     ]
    }
   ],
   "source": [
    "optim = opentrons.Optimizer(xt, yt, \n",
    "                            bounds, \n",
    "                            savedir = '../data_euclidean_SPHERE',\n",
    "                            batch_size=4,\n",
    "                            metric = APdist\n",
    "                           )\n",
    "optim.save()"
   ]
  },
  {
   "cell_type": "code",
   "execution_count": 6,
   "id": "ac168dac",
   "metadata": {},
   "outputs": [
    {
     "name": "stderr",
     "output_type": "stream",
     "text": [
      "INFO: Getting suggestions for iteration 1\n",
      "INFO: Iteration : 1, Samples to be made\n",
      "INFO: 0\t[10.14000001 10.14000001]\n",
      "INFO: 1\t[ 10.14000001 150.        ]\n",
      "INFO: 2\t[ 44.61107897 150.        ]\n",
      "INFO: 3\t[ 10.14000001 103.69634247]\n",
      "INFO: ==============================\n",
      "INFO: Iteration : 2 Best estimate [[38.93935366 26.5594794 ]] with predicted score : [[-5.45474124]]\n"
     ]
    }
   ],
   "source": [
    "# random iteration\n",
    "optim.save()\n",
    "optim.update('../data_euclidean_SPHERE/0.xlsx')\n",
    "optim.suggest_next()\n",
    "optim.get_current_best()\n",
    "optim.save()"
   ]
  },
  {
   "cell_type": "code",
   "execution_count": 7,
   "id": "6b3e3bc6",
   "metadata": {},
   "outputs": [
    {
     "name": "stderr",
     "output_type": "stream",
     "text": [
      "INFO: Getting suggestions for iteration 2\n",
      "INFO: Iteration : 2, Samples to be made\n",
      "INFO: 0\t[ 10.14000001 125.49947752]\n",
      "INFO: 1\t[150.          10.14000001]\n",
      "INFO: 2\t[10.14000001 74.20112434]\n",
      "INFO: 3\t[150. 150.]\n",
      "INFO: ==============================\n",
      "INFO: Iteration : 3 Best estimate [[ 10.14000001 123.31683922]] with predicted score : [[-0.62445892]]\n"
     ]
    }
   ],
   "source": [
    "# random iteration\n",
    "optim.save()\n",
    "optim.update('../data_euclidean_SPHERE/1.xlsx')\n",
    "optim.suggest_next()\n",
    "optim.get_current_best()\n",
    "optim.save()"
   ]
  },
  {
   "cell_type": "code",
   "execution_count": 10,
   "id": "2c82f2d8",
   "metadata": {},
   "outputs": [
    {
     "name": "stderr",
     "output_type": "stream",
     "text": [
      "INFO: Getting suggestions for iteration 3\n",
      "INFO: Iteration : 3, Samples to be made\n",
      "INFO: 0\t[ 17.07853965 108.5612587 ]\n",
      "INFO: 1\t[ 18.22440791 150.        ]\n",
      "INFO: 2\t[131.97290058  10.14000001]\n",
      "INFO: 3\t[72.82470187 27.39818292]\n",
      "INFO: ==============================\n",
      "INFO: Iteration : 4 Best estimate [[ 10.14000001 110.67761649]] with predicted score : [[-0.8236261]]\n"
     ]
    }
   ],
   "source": [
    "# random iteration\n",
    "optim.save()\n",
    "optim.update('../data_euclidean_SPHERE/2.xlsx')\n",
    "optim.suggest_next()\n",
    "optim.get_current_best()\n",
    "optim.save()"
   ]
  },
  {
   "cell_type": "code",
   "execution_count": 13,
   "id": "671aa9bb",
   "metadata": {},
   "outputs": [
    {
     "name": "stderr",
     "output_type": "stream",
     "text": [
      "INFO: Getting suggestions for iteration 4\n",
      "INFO: Iteration : 4, Samples to be made\n",
      "INFO: 0\t[ 14.68436904 150.        ]\n",
      "INFO: 1\t[ 14.75055215 130.53714635]\n",
      "INFO: 2\t[136.9286043   97.79270883]\n",
      "INFO: 3\t[60.52866307 58.29711325]\n",
      "INFO: ==============================\n",
      "INFO: Iteration : 5 Best estimate [[ 15.25396075 130.11469806]] with predicted score : [[-0.42071065]]\n"
     ]
    }
   ],
   "source": [
    "# random iteration\n",
    "optim.save()\n",
    "optim.update('../data_euclidean_SPHERE/3.xlsx')\n",
    "optim.suggest_next()\n",
    "optim.get_current_best()\n",
    "optim.save()"
   ]
  },
  {
   "cell_type": "code",
   "execution_count": 16,
   "id": "747cb055",
   "metadata": {},
   "outputs": [
    {
     "name": "stderr",
     "output_type": "stream",
     "text": [
      "INFO: Getting suggestions for iteration 5\n",
      "INFO: Iteration : 5, Samples to be made\n",
      "INFO: 0\t[100.88671663  77.15110204]\n",
      "INFO: 1\t[28.53095426 10.14000001]\n",
      "INFO: 2\t[125.48616333 147.94505673]\n",
      "INFO: 3\t[91.15580508 10.14000001]\n",
      "INFO: ==============================\n",
      "INFO: Iteration : 6 Best estimate [[ 15.62117453 135.5011513 ]] with predicted score : [[-0.31289153]]\n"
     ]
    }
   ],
   "source": [
    "# random iteration\n",
    "optim.save()\n",
    "optim.update('../data_euclidean_SPHERE/4.xlsx')\n",
    "optim.suggest_next()\n",
    "optim.get_current_best()\n",
    "optim.save()"
   ]
  },
  {
   "cell_type": "code",
   "execution_count": 17,
   "id": "41953b03",
   "metadata": {},
   "outputs": [
    {
     "name": "stderr",
     "output_type": "stream",
     "text": [
      "INFO: Getting suggestions for iteration 6\n",
      "INFO: Iteration : 6, Samples to be made\n",
      "INFO: 0\t[ 88.68329954 150.        ]\n",
      "INFO: 1\t[ 10.14000001 150.        ]\n",
      "INFO: 2\t[10.14000001 80.18035186]\n",
      "INFO: 3\t[ 10.14000001 117.56510989]\n",
      "INFO: ==============================\n",
      "INFO: Iteration : 7 Best estimate [[ 10.76580799 127.30364441]] with predicted score : [[-1.01307776]]\n"
     ]
    }
   ],
   "source": [
    "# random iteration\n",
    "optim.save()\n",
    "optim.update('../data_euclidean_SPHERE/5.xlsx')\n",
    "optim.suggest_next()\n",
    "optim.get_current_best()\n",
    "optim.save()"
   ]
  },
  {
   "cell_type": "code",
   "execution_count": 18,
   "id": "404726cf",
   "metadata": {},
   "outputs": [
    {
     "name": "stderr",
     "output_type": "stream",
     "text": [
      "INFO: Getting suggestions for iteration 7\n",
      "INFO: Iteration : 7, Samples to be made\n",
      "INFO: 0\t[10.14000001 86.34204221]\n",
      "INFO: 1\t[ 10.14000001 150.        ]\n",
      "INFO: 2\t[ 10.14000001 120.8983498 ]\n",
      "INFO: 3\t[ 17.70826106 110.14147466]\n",
      "INFO: ==============================\n",
      "INFO: Iteration : 8 Best estimate [[ 10.77580261 125.93860062]] with predicted score : [[-0.67231739]]\n"
     ]
    }
   ],
   "source": [
    "# random iteration\n",
    "optim.save()\n",
    "optim.update('../data_euclidean_SPHERE/6.xlsx')\n",
    "optim.suggest_next()\n",
    "optim.get_current_best()\n",
    "optim.save()"
   ]
  },
  {
   "cell_type": "code",
   "execution_count": null,
   "id": "f44621e5",
   "metadata": {},
   "outputs": [],
   "source": []
  },
  {
   "cell_type": "code",
   "execution_count": null,
   "id": "ccef192f",
   "metadata": {},
   "outputs": [],
   "source": []
  },
  {
   "cell_type": "code",
   "execution_count": null,
   "id": "6957adaa",
   "metadata": {},
   "outputs": [],
   "source": []
  },
  {
   "cell_type": "code",
   "execution_count": 19,
   "id": "f81c585d",
   "metadata": {},
   "outputs": [
    {
     "data": {
      "image/png": "[encoded data removed]",
      "text/plain": [
       "<Figure size 432x288 with 2 Axes>"
      ]
     },
     "metadata": {
      "needs_background": "light"
     },
     "output_type": "display_data"
    }
   ],
   "source": [
    "import matplotlib.pyplot as plt\n",
    "from matplotlib.colors import LightSource\n",
    "from matplotlib import cm\n",
    "from matplotlib.colors import Normalize\n",
    "import head\n",
    "import torch\n",
    "target = [10,90]\n",
    "tkwargs = {\n",
    "    \"dtype\": torch.double,\n",
    "    \"device\": torch.device(\"cuda\" if torch.cuda.is_available() else \"cpu\"),\n",
    "}\n",
    "\n",
    "fig, ax = plt.subplots(subplot_kw={'projection':'3d'})\n",
    "\n",
    "ax.set_xlabel(r'$\\mu$', fontsize=18)\n",
    "ax.set_ylabel(r'$\\sigma$', fontsize=18)\n",
    "with torch.no_grad():\n",
    "    num_grid_spacing = 20\n",
    "    mu_grid = np.linspace(*bounds[0], num=num_grid_spacing)\n",
    "    sig_grid = np.linspace(*bounds[1], num=num_grid_spacing)\n",
    "    test_x = head.Grid(mu_grid, sig_grid).points\n",
    "    posterior = optim.model.posterior(optim.inp.transform(torch.tensor(test_x).to(**tkwargs)))\n",
    "    posterior_mean = posterior.mean.cpu().numpy()\n",
    "    lower, upper = posterior.mvn.confidence_region()\n",
    "    confidence = np.abs((lower-upper).numpy())\n",
    "    ls = LightSource(0, 0)\n",
    "    rgb = ls.shade(confidence.reshape(num_grid_spacing,num_grid_spacing), \n",
    "                   cmap=cm.coolwarm, vert_exag=0.1, blend_mode='soft')\n",
    "    XX, YY = np.meshgrid(mu_grid, sig_grid)\n",
    "    Z = posterior_mean.reshape(num_grid_spacing,num_grid_spacing)\n",
    "    sc = ax.plot_surface(XX, YY, Z, \n",
    "                    rstride=1, cstride=1, \n",
    "                    facecolors=rgb,\n",
    "                    linewidth=0, antialiased=False, shade=False)\n",
    "    ax.contour(XX, YY, Z, zdir='z', offset=-1.4, cmap=cm.viridis)\n",
    "    ax.scatter(target[0], target[1], zs=-1.4, zdir='z', marker='*', s=200,color='k')\n",
    "    ax.set_title('Model approximation for f(x)')\n",
    "    cmap = cm.get_cmap('coolwarm')\n",
    "    norm = Normalize(vmin=confidence.min(), vmax = confidence.max())\n",
    "    cax = plt.axes([0.95, 0.2, 0.01, 0.6])        \n",
    "    cbar = fig.colorbar(cm.ScalarMappable(norm=norm, cmap=cmap), cax=cax)\n",
    "    cbar.ax.set_ylabel('Uncertainity', rotation=270)\n",
    "    cbar.ax.get_yaxis().labelpad = 15\n",
    "    \n",
    "plt.show()"
   ]
  },
  {
   "cell_type": "code",
   "execution_count": 20,
   "id": "ecfddb64",
   "metadata": {},
   "outputs": [
    {
     "data": {
      "image/png": "[encoded data removed]",
      "text/plain": [
       "<Figure size 432x288 with 2 Axes>"
      ]
     },
     "metadata": {
      "needs_background": "light"
     },
     "output_type": "display_data"
    }
   ],
   "source": [
    "fig, ax = plt.subplots()\n",
    "im = ax.contourf(XX, YY, Z, cmap=cm.Blues)\n",
    "ax.scatter(target[0], target[1], \n",
    "           marker='*', s=200,color='tab:red', lw=2.0,fc='none', label='Target')\n",
    "opt_x = optim.best_loc[-1][0]\n",
    "ax.scatter(opt_x[0], opt_x[1], \n",
    "           marker='*', s=200,lw=2.0,fc='none',color='k', label='Estimate')\n",
    "train_x_unscaled = optim.inp.inverse(optim.train_x)\n",
    "ax.scatter(train_x_unscaled[:,0], train_x_unscaled[:,1], \n",
    "           marker='o', fc='none', edgecolors=(0,0,0), lw=2.0, alpha=0.1, label='Collected')\n",
    "ax.legend(loc = 'upper right')\n",
    "ax.set_xlim(bounds[0])\n",
    "ax.set_ylim(bounds[1])\n",
    "ax.set_xlabel(r'$\\mu$')\n",
    "ax.set_ylabel(r'$\\sigma$')\n",
    "\n",
    "cmap = cm.get_cmap('coolwarm')\n",
    "norm = Normalize(vmin=confidence.min(), vmax = confidence.max())\n",
    "cax = plt.axes([0.95, 0.2, 0.03, 0.6])        \n",
    "cbar = fig.colorbar(im, cax=cax)\n",
    "cbar.ax.set_ylabel('Distance', rotation=270)\n",
    "cbar.ax.get_yaxis().labelpad = 15\n",
    "plt.show()"
   ]
  },
  {
   "cell_type": "code",
   "execution_count": 22,
   "id": "393ef562",
   "metadata": {},
   "outputs": [],
   "source": [
    "save_dir = '../data_euclidean_SPHERE/'\n",
    "np.save(save_dir+'confidence.npy', confidence)\n",
    "np.save(save_dir+'opt_x.npy', opt_x)\n",
    "np.save(save_dir+'posterior_mean.npy', posterior_mean)\n",
    "np.save(save_dir+'lower.npy', lower)\n",
    "np.save(save_dir+'upper.npy', upper)"
   ]
  },
  {
   "cell_type": "code",
   "execution_count": null,
   "id": "b41ab263",
   "metadata": {},
   "outputs": [],
   "source": []
  }
 ],
 "metadata": {
  "kernelspec": {
   "display_name": "Python 3",
   "language": "python",
   "name": "python3"
  },
  "language_info": {
   "codemirror_mode": {
    "name": "ipython",
    "version": 3
   },
   "file_extension": ".py",
   "mimetype": "text/x-python",
   "name": "python",
   "nbconvert_exporter": "python",
   "pygments_lexer": "ipython3",
   "version": "3.9.1"
  }
 },
 "nbformat": 4,
 "nbformat_minor": 5
}
