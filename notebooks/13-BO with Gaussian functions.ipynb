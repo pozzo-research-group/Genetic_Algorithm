{
 "cells": [
  {
   "cell_type": "code",
   "execution_count": 1,
   "id": "eded52d2",
   "metadata": {},
   "outputs": [],
   "source": [
    "%load_ext autoreload\n",
    "%autoreload 2"
   ]
  },
  {
   "cell_type": "code",
   "execution_count": 2,
   "id": "e61f9ea7",
   "metadata": {},
   "outputs": [
    {
     "name": "stderr",
     "output_type": "stream",
     "text": [
      "INFO: Using numpy backend\n"
     ]
    }
   ],
   "source": [
    "import os, shutil\n",
    "import torch\n",
    "import time\n",
    "import pdb\n",
    "import matplotlib.pyplot as plt\n",
    "plt.rcParams.update({\"text.usetex\": True,\n",
    "                     \"axes.spines.right\" : False,\n",
    "                     \"axes.spines.top\" : False,\n",
    "                     \"font.size\": 15,\n",
    "                     'text.latex.preamble': r'\\usepackage{amsfonts}'\n",
    "                    }\n",
    "                   )\n",
    "tkwargs = {\n",
    "    \"dtype\": torch.double,\n",
    "    \"device\": torch.device(\"cuda\" if torch.cuda.is_available() else \"cpu\"),\n",
    "}\n",
    "import head\n",
    "import numpy as np\n",
    "from botorch.models.gp_regression import SingleTaskGP\n",
    "from botorch.models.transforms.outcome import Standardize\n",
    "from gpytorch.mlls.exact_marginal_log_likelihood import ExactMarginalLogLikelihood\n",
    "from botorch import fit_gpytorch_model\n",
    "from botorch.acquisition.monte_carlo import  qExpectedImprovement\n",
    "from matplotlib.cm import ScalarMappable\n",
    "from scipy.spatial import distance\n",
    "import pdb\n",
    "from botorch.utils.sampling import draw_sobol_samples\n",
    "from botorch.optim.optimize import optimize_acqf\n",
    "from botorch.acquisition import PosteriorMean\n",
    "\n",
    "NUM_GRID_PERDIM = 100\n",
    "BATCH_SIZE = 8\n",
    "N_ITERATIONS = 10\n",
    "NUM_RESTARTS = 64 \n",
    "RAW_SAMPLES = 1024\n",
    "N_INIT_SAMPLES = 8\n",
    "NUM_FILTERS = 5\n",
    "\n",
    "TARGET = [1,0,0.5]\n",
    "expt = {}\n",
    "EXPT_ID = 0"
   ]
  },
  {
   "cell_type": "code",
   "execution_count": 3,
   "id": "6e6ca677",
   "metadata": {},
   "outputs": [
    {
     "data": {
      "image/png": "[encoded data removed]",
      "text/plain": [
       "<Figure size 432x288 with 1 Axes>"
      ]
     },
     "metadata": {
      "needs_background": "light"
     },
     "output_type": "display_data"
    }
   ],
   "source": [
    "lambda_ = np.linspace(-5,5,num=100)\n",
    "def gaussian(a, b,c):\n",
    "    return a*np.exp(-np.power(lambda_ - b, 2.) / (2 * np.power(c, 2.)))\n",
    "\n",
    "yt = gaussian(*TARGET)\n",
    "\n",
    "fig, ax = plt.subplots()\n",
    "ax.plot(lambda_, yt)\n",
    "plt.show()"
   ]
  },
  {
   "cell_type": "code",
   "execution_count": 4,
   "id": "be2e4b72",
   "metadata": {},
   "outputs": [],
   "source": [
    "# define search space\n",
    "A = [-5,5]\n",
    "bounds = torch.tensor(A).reshape(2,1).to(**tkwargs)\n",
    "test_x = torch.linspace(-5, 5, 51).to(**tkwargs)"
   ]
  },
  {
   "cell_type": "code",
   "execution_count": 5,
   "id": "6d64065e",
   "metadata": {},
   "outputs": [],
   "source": [
    "metric = 'euclidean'\n",
    "d = lambda yi,yt : -distance.euclidean(yi,yt)"
   ]
  },
  {
   "cell_type": "code",
   "execution_count": 6,
   "id": "5e02deca",
   "metadata": {},
   "outputs": [],
   "source": [
    "def oracle(x):\n",
    "    \"\"\"Scoring function at a given input location\n",
    "    Uses the simulator sim to generate response spectra at a given locations\n",
    "    and return a similarity score to target spectra\n",
    "    \"\"\"\n",
    "    global EXPT_ID\n",
    "    x_np = x.cpu().numpy()\n",
    "    yi = gaussian(TARGET[0],x_np,TARGET[2])\n",
    "    dist = d(yi, yt)\n",
    "        \n",
    "    expt[EXPT_ID] = [lambda_, yi, dist]\n",
    "    EXPT_ID += 1\n",
    "    \n",
    "    return torch.tensor([dist])\n",
    "\n",
    "def batch_oracle(x):\n",
    "    out = []\n",
    "    for xi in x.squeeze(1):\n",
    "        out.append(oracle(xi))\n",
    "    return torch.stack(out, dim=0).to(**tkwargs)"
   ]
  },
  {
   "cell_type": "code",
   "execution_count": 7,
   "id": "a7b53950",
   "metadata": {},
   "outputs": [
    {
     "name": "stdout",
     "output_type": "stream",
     "text": [
      "Generated 8 samples randomly torch.Size([8, 1]) torch.Size([8, 1])\n",
      "0\t[2.54576445]\t[-4.18573809]\n",
      "1\t[-3.45083222]\t[-4.18893194]\n",
      "2\t[1.513381]\t[-3.97126079]\n",
      "3\t[0.45167208]\t[-1.79951262]\n",
      "4\t[-3.70705888]\t[-4.18887472]\n",
      "5\t[-4.94805926]\t[-3.7635088]\n",
      "6\t[4.1697675]\t[-4.18243361]\n",
      "7\t[1.87592745]\t[-4.12643147]\n"
     ]
    }
   ],
   "source": [
    "def draw_random_batch(n_samples=6):\n",
    "    train_x = draw_sobol_samples(\n",
    "        bounds=bounds,n=1, q=n_samples, \n",
    "        seed=torch.randint(2021, (1,)).item()\n",
    "    ).squeeze(0)\n",
    "    train_obj = batch_oracle(train_x)\n",
    "    return train_x, train_obj\n",
    "\n",
    "\n",
    "train_x, train_obj = draw_random_batch(n_samples=N_INIT_SAMPLES)\n",
    "print('Generated %d samples randomly'%N_INIT_SAMPLES, train_x.shape, train_obj.shape)\n",
    "for i in range(N_INIT_SAMPLES):\n",
    "    print('%d\\t%s\\t%s'%(i, train_x[i,...].numpy(), train_obj[i,...].numpy()))"
   ]
  },
  {
   "cell_type": "code",
   "execution_count": 8,
   "id": "ffe7af52",
   "metadata": {},
   "outputs": [],
   "source": [
    "def initialize_model(train_x, train_obj):\n",
    "    # define models for objective and constraint\n",
    "    model = SingleTaskGP(train_x, train_obj, \n",
    "    outcome_transform=Standardize(m=train_obj.shape[-1]))\n",
    "    mll = ExactMarginalLogLikelihood(model.likelihood, model)\n",
    "    return mll, model\n",
    "\n",
    "mll, model = initialize_model(train_x, train_obj)"
   ]
  },
  {
   "cell_type": "code",
   "execution_count": 9,
   "id": "91272d0e",
   "metadata": {},
   "outputs": [],
   "source": [
    "def selector(f, q = BATCH_SIZE):\n",
    "    new_x, acq_values = optimize_acqf(\n",
    "        acq_function=f,\n",
    "        bounds=bounds,\n",
    "        q=q,\n",
    "        num_restarts=NUM_RESTARTS,\n",
    "        raw_samples=RAW_SAMPLES, \n",
    "        sequential=False,\n",
    "    )\n",
    "    new_obj = batch_oracle(new_x)\n",
    "    return new_x, new_obj, acq_values"
   ]
  },
  {
   "cell_type": "code",
   "execution_count": 10,
   "id": "95a7e30e",
   "metadata": {},
   "outputs": [],
   "source": [
    "def agent(model):\n",
    "    with torch.no_grad():\n",
    "        test_x = torch.linspace(-5, 5, 100).to(**tkwargs)\n",
    "        posterior = model.posterior(test_x)\n",
    "        out_test = posterior.mean\n",
    "        return test_x[out_test.argmax()].cpu().numpy()"
   ]
  },
  {
   "cell_type": "code",
   "execution_count": 13,
   "id": "0d3e1461",
   "metadata": {
    "scrolled": false
   },
   "outputs": [],
   "source": [
    "def plot_EI(f, new_x):\n",
    "    fig, ax = plt.subplots()\n",
    "    with torch.no_grad():\n",
    "        ax.plot(test_x.numpy(), f(test_x.reshape(51,1,1)).numpy(), label='EI', color='tab:blue')\n",
    "        ax.scatter(new_x.numpy(), f(new_x.reshape(BATCH_SIZE,1,1)).numpy(), label='Selected', color='tab:orange')\n",
    "        ax.set_xlabel(r'$\\mathcal{X}$')\n",
    "        ax.set_ylabel('EI')\n",
    "        ax.legend()\n",
    "        plt.show()"
   ]
  },
  {
   "cell_type": "code",
   "execution_count": 14,
   "id": "d58dc3aa",
   "metadata": {
    "scrolled": false
   },
   "outputs": [
    {
     "name": "stdout",
     "output_type": "stream",
     "text": [
      "Sampled ID \t Locations \t Objectives \t EI\n",
      "Iteration : 1/10\n"
     ]
    },
    {
     "data": {
      "image/png": "[encoded data removed]",
      "text/plain": [
       "<Figure size 432x288 with 1 Axes>"
      ]
     },
     "metadata": {
      "needs_background": "light"
     },
     "output_type": "display_data"
    },
    {
     "name": "stdout",
     "output_type": "stream",
     "text": [
      "0\t[0.33102713]\t[-1.34952176]\n",
      "1\t[0.53816663]\t[-2.10055852]\n",
      "2\t[1.43800644]\t[-3.91514182]\n",
      "3\t[-0.03328265]\t[-0.13938074]\n",
      "4\t[4.25311654]\t[-4.17655611]\n",
      "5\t[0.18521442]\t[-0.76924729]\n",
      "6\t[-0.45038981]\t[-1.7949053]\n",
      "7\t[0.70559516]\t[-2.62327456]\n",
      "Optimal location from the surrogate : 0.4545\n",
      "Iteration : 2/10\n"
     ]
    },
    {
     "data": {
      "image/png": "[encoded data removed]",
      "text/plain": [
       "<Figure size 432x288 with 1 Axes>"
      ]
     },
     "metadata": {
      "needs_background": "light"
     },
     "output_type": "display_data"
    },
    {
     "name": "stdout",
     "output_type": "stream",
     "text": [
      "0\t[-2.28874075]\t[-4.17781448]\n",
      "1\t[-0.05198767]\t[-0.21762665]\n",
      "2\t[4.78248166]\t[-3.94804382]\n",
      "3\t[-2.81513103]\t[-4.18819141]\n",
      "4\t[-0.08397028]\t[-0.3511281]\n",
      "5\t[-1.73724498]\t[-4.0852499]\n",
      "6\t[-2.8960291]\t[-4.18847179]\n",
      "7\t[-4.84950466]\t[-3.87994576]\n",
      "Optimal location from the surrogate : -0.0505\n",
      "Iteration : 3/10\n"
     ]
    },
    {
     "data": {
      "image/png": "[encoded data removed]",
      "text/plain": [
       "<Figure size 432x288 with 1 Axes>"
      ]
     },
     "metadata": {
      "needs_background": "light"
     },
     "output_type": "display_data"
    },
    {
     "name": "stdout",
     "output_type": "stream",
     "text": [
      "0\t[-0.4641392]\t[-1.84409606]\n",
      "1\t[0.79243774]\t[-2.86053181]\n",
      "2\t[0.16339005]\t[-0.67988992]\n",
      "3\t[4.19014144]\t[-4.1812892]\n",
      "4\t[0.5242814]\t[-2.05356741]\n",
      "5\t[-0.29226647]\t[-1.19860411]\n",
      "6\t[-3.29988952]\t[-4.18890953]\n",
      "7\t[0.00772234]\t[-0.03234799]\n",
      "Optimal location from the surrogate : -0.0505\n",
      "Iteration : 4/10\n"
     ]
    },
    {
     "data": {
      "image/png": "[encoded data removed]",
      "text/plain": [
       "<Figure size 432x288 with 1 Axes>"
      ]
     },
     "metadata": {
      "needs_background": "light"
     },
     "output_type": "display_data"
    },
    {
     "name": "stdout",
     "output_type": "stream",
     "text": [
      "0\t[-2.9234286]\t[-4.18854189]\n",
      "1\t[-0.0145702]\t[-0.06103059]\n",
      "2\t[1.90593179]\t[-4.133183]\n",
      "3\t[-0.3617069]\t[-1.46693826]\n",
      "4\t[0.21050516]\t[-0.87211633]\n",
      "5\t[0.02051791]\t[-0.08593945]\n",
      "6\t[-0.04083007]\t[-0.17096381]\n",
      "7\t[2.55694021]\t[-4.18591595]\n",
      "Optimal location from the surrogate : 0.0505\n",
      "Iteration : 5/10\n"
     ]
    },
    {
     "data": {
      "image/png": "[encoded data removed]",
      "text/plain": [
       "<Figure size 432x288 with 1 Axes>"
      ]
     },
     "metadata": {
      "needs_background": "light"
     },
     "output_type": "display_data"
    },
    {
     "name": "stdout",
     "output_type": "stream",
     "text": [
      "0\t[1.44491231]\t[-3.92072392]\n",
      "1\t[-0.07184959]\t[-0.30058625]\n",
      "2\t[4.76930227]\t[-3.9602623]\n",
      "3\t[-1.27512174]\t[-3.75436497]\n",
      "4\t[0.01786814]\t[-0.07484276]\n",
      "5\t[4.44091501]\t[-4.14493418]\n",
      "6\t[3.70384157]\t[-4.18887711]\n",
      "7\t[4.49898507]\t[-4.12695456]\n",
      "Optimal location from the surrogate : 0.0505\n",
      "Iteration : 6/10\n"
     ]
    },
    {
     "data": {
      "image/png": "[encoded data removed]",
      "text/plain": [
       "<Figure size 432x288 with 1 Axes>"
      ]
     },
     "metadata": {
      "needs_background": "light"
     },
     "output_type": "display_data"
    },
    {
     "name": "stdout",
     "output_type": "stream",
     "text": [
      "0\t[-0.09977962]\t[-0.41693357]\n",
      "1\t[0.84613841]\t[-2.99523759]\n",
      "2\t[4.7299251]\t[-3.99440718]\n",
      "3\t[-3.13594485]\t[-4.18883657]\n",
      "4\t[-1.53479826]\t[-3.9853704]\n",
      "5\t[3.11624384]\t[-4.18882179]\n",
      "6\t[-4.97329681]\t[-3.73113322]\n",
      "7\t[4.72611945]\t[-3.99751878]\n",
      "Optimal location from the surrogate : 0.0505\n",
      "Iteration : 7/10\n"
     ]
    },
    {
     "data": {
      "image/png": "[encoded data removed]",
      "text/plain": [
       "<Figure size 432x288 with 1 Axes>"
      ]
     },
     "metadata": {
      "needs_background": "light"
     },
     "output_type": "display_data"
    },
    {
     "name": "stdout",
     "output_type": "stream",
     "text": [
      "0\t[-2.52701789]\t[-4.18541765]\n",
      "1\t[-3.30571074]\t[-4.18891096]\n",
      "2\t[-4.57496355]\t[-4.09514856]\n",
      "3\t[1.52443784]\t[-3.97864151]\n",
      "4\t[3.01500056]\t[-4.1887126]\n",
      "5\t[-0.71250799]\t[-2.6430316]\n",
      "6\t[-0.25475528]\t[-1.05007398]\n",
      "7\t[-4.65013319]\t[-4.05277729]\n",
      "Optimal location from the surrogate : 0.0505\n",
      "Iteration : 8/10\n"
     ]
    },
    {
     "data": {
      "image/png": "[encoded data removed]",
      "text/plain": [
       "<Figure size 432x288 with 1 Axes>"
      ]
     },
     "metadata": {
      "needs_background": "light"
     },
     "output_type": "display_data"
    },
    {
     "name": "stdout",
     "output_type": "stream",
     "text": [
      "0\t[1.32148369]\t[-3.80615115]\n",
      "1\t[-0.35900765]\t[-1.45668411]\n",
      "2\t[3.46620557]\t[-4.18893242]\n",
      "3\t[0.02859797]\t[-0.11977096]\n",
      "4\t[2.8227577]\t[-4.18822336]\n",
      "5\t[-1.62614443]\t[-4.03739119]\n",
      "6\t[0.271338]\t[-1.1160177]\n",
      "7\t[4.95552438]\t[-3.75402403]\n",
      "Optimal location from the surrogate : 0.0505\n",
      "Iteration : 9/10\n"
     ]
    },
    {
     "data": {
      "image/png": "[encoded data removed]",
      "text/plain": [
       "<Figure size 432x288 with 1 Axes>"
      ]
     },
     "metadata": {
      "needs_background": "light"
     },
     "output_type": "display_data"
    },
    {
     "name": "stdout",
     "output_type": "stream",
     "text": [
      "0\t[4.35812315]\t[-4.16299677]\n",
      "1\t[2.36904791]\t[-4.18129206]\n",
      "2\t[1.29123684]\t[-3.77294469]\n",
      "3\t[-2.50267659]\t[-4.1849575]\n",
      "4\t[-3.47445412]\t[-4.1889329]\n",
      "5\t[2.92093888]\t[-4.18853617]\n",
      "6\t[-0.10641998]\t[-0.44452867]\n",
      "7\t[0.04215502]\t[-0.17650682]\n",
      "Optimal location from the surrogate : 0.0505\n",
      "Iteration : 10/10\n"
     ]
    },
    {
     "data": {
      "image/png": "[encoded data removed]",
      "text/plain": [
       "<Figure size 432x288 with 1 Axes>"
      ]
     },
     "metadata": {
      "needs_background": "light"
     },
     "output_type": "display_data"
    },
    {
     "name": "stdout",
     "output_type": "stream",
     "text": [
      "0\t[3.03673443]\t[-4.18874168]\n",
      "1\t[4.47102236]\t[-4.13623095]\n",
      "2\t[-1.28149704]\t[-3.76179028]\n",
      "3\t[3.47391624]\t[-4.1889329]\n",
      "4\t[-3.28587229]\t[-4.18890572]\n",
      "5\t[-4.56662443]\t[-4.09915018]\n",
      "6\t[-0.99831046]\t[-3.32718706]\n",
      "7\t[-1.0290271]\t[-3.3854425]\n",
      "Optimal location from the surrogate : 0.0505\n"
     ]
    }
   ],
   "source": [
    "# run N_ITERATIONS rounds of BayesOpt after the initial random batch\n",
    "print('Sampled ID \\t Locations \\t Objectives \\t EI')\n",
    "for iteration in range(1, N_ITERATIONS + 1):    \n",
    "    print('Iteration : %d/%d'%(iteration, N_ITERATIONS))\n",
    "    # fit the models\n",
    "    fit_gpytorch_model(mll)\n",
    "\n",
    "    # define the acquisition module\n",
    "    #acquisition = qUpperConfidenceBound(model, beta=0.1)\n",
    "    best_f = train_obj.max(axis=0).values\n",
    "    acquisition = qExpectedImprovement(model, best_f = best_f)\n",
    "    \n",
    "    # optimize acquisition functions and get new observations\n",
    "    new_x, new_obj, acq_values = selector(acquisition)\n",
    "    plot_EI(acquisition, new_x)\n",
    "    for i in range(BATCH_SIZE):\n",
    "        print('%d\\t%s\\t%s'%(i, new_x[i,...].numpy(), new_obj[i,...].numpy()))\n",
    "\n",
    "    # update training points\n",
    "    train_x = torch.cat([train_x, new_x])\n",
    "    train_obj = torch.cat([train_obj, new_obj])\n",
    "    print('Optimal location from the surrogate : %2.4f'%float(agent(model)))\n",
    "    # re-initialize\n",
    "    mll, model = initialize_model(train_x, train_obj)"
   ]
  },
  {
   "cell_type": "code",
   "execution_count": null,
   "id": "b016fe6b",
   "metadata": {},
   "outputs": [],
   "source": [
    "# Get into evaluation (predictive posterior) mode\n",
    "batch_number = torch.cat(\n",
    "    [torch.zeros(N_INIT_SAMPLES), \n",
    "     torch.arange(1, N_ITERATIONS+1).repeat(BATCH_SIZE, 1).t().reshape(-1)]\n",
    ").numpy()\n",
    "\n",
    "model.eval()\n",
    "mll.eval()\n",
    "fig, ax = plt.subplots()\n",
    "with torch.no_grad():\n",
    "    posterior = model.posterior(test_x)\n",
    "    lower, upper = posterior.mvn.confidence_region()\n",
    "    ax.scatter(train_x.cpu().numpy(), train_obj.cpu().numpy(), s=10*batch_number,c='grey', \n",
    "               edgecolors=(0,0,0), label=r'$(x_{i}, y_{i})$')\n",
    "    ax.plot(test_x.cpu().numpy(), posterior.mean.cpu().numpy(), 'b', label=r'$\\mu(x)$')\n",
    "    ax.fill_between(test_x.cpu().numpy(), lower.cpu().numpy(), \n",
    "                    upper.cpu().numpy(), alpha=0.25, label='Confidence')\n",
    "\n",
    "opt_x, opt_obj,_ = selector(PosteriorMean(model), q=1)\n",
    "opt_x = opt_x.cpu().numpy().squeeze()\n",
    "ax.axvline(opt_x, color='tab:red', ls='--', label=r'$\\hat{x_{t}}$')\n",
    "ax.axvline(TARGET[1], color='tab:red', label=r'$x_{t}$')\n",
    "fig.legend(ncol=2,loc='center', bbox_to_anchor=(0.6, 1.1))\n",
    "plt.tight_layout()\n",
    "ax.set_xlabel(r'$\\mathcal{X}$')\n",
    "ax.set_ylabel(r'$p(y|X,\\mathcal{M})$')\n",
    "plt.show()"
   ]
  },
  {
   "cell_type": "code",
   "execution_count": null,
   "id": "997c5178",
   "metadata": {
    "scrolled": false
   },
   "outputs": [],
   "source": [
    "def plot_best_trace(ax, train_x, train_obj, target):\n",
    "    train_x = train_x.cpu().numpy()\n",
    "    proximities = np.abs(train_x-target[1])\n",
    "    trace = np.asarray([min(proximities[batch_number<=b]) for b in np.unique(batch_number)])\n",
    "    return ax.plot(np.arange(N_ITERATIONS+1),trace)\n",
    "\n",
    "fig, ax = plt.subplots()\n",
    "ax.axhline(0, label='Optimal', ls='--', lw='2.0', c='k')\n",
    "plot_best_trace(ax, train_x, train_obj, TARGET)\n",
    "ax.set_xlabel('Batch number')\n",
    "ax.set_ylabel(r'$||x-x_{t}||_{2}$')\n",
    "plt.show()"
   ]
  },
  {
   "cell_type": "code",
   "execution_count": null,
   "id": "a567c320",
   "metadata": {},
   "outputs": [],
   "source": []
  }
 ],
 "metadata": {
  "kernelspec": {
   "display_name": "HEAD",
   "language": "python",
   "name": "head"
  },
  "language_info": {
   "codemirror_mode": {
    "name": "ipython",
    "version": 3
   },
   "file_extension": ".py",
   "mimetype": "text/x-python",
   "name": "python",
   "nbconvert_exporter": "python",
   "pygments_lexer": "ipython3",
   "version": "3.8.8"
  }
 },
 "nbformat": 4,
 "nbformat_minor": 5
}
