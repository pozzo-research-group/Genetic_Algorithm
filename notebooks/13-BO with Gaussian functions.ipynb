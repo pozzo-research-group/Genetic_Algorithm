{
 "cells": [
  {
   "cell_type": "code",
   "execution_count": 1,
   "id": "eded52d2",
   "metadata": {},
   "outputs": [],
   "source": [
    "%load_ext autoreload\n",
    "%autoreload 2"
   ]
  },
  {
   "cell_type": "code",
   "execution_count": 2,
   "id": "e61f9ea7",
   "metadata": {},
   "outputs": [],
   "source": [
    "import os, shutil\n",
    "import torch\n",
    "import time\n",
    "import warnings\n",
    "from botorch.exceptions import BadInitialCandidatesWarning\n",
    "import pdb\n",
    "import matplotlib.pyplot as plt\n",
    "plt.rcParams.update({\"text.usetex\": True,\n",
    "                     \"axes.spines.right\" : False,\n",
    "                     \"axes.spines.top\" : False,\n",
    "                     \"font.size\": 15\n",
    "                    }\n",
    "                   )\n",
    "tkwargs = {\n",
    "    \"dtype\": torch.double,\n",
    "    \"device\": torch.device(\"cuda\" if torch.cuda.is_available() else \"cpu\"),\n",
    "}\n",
    "import head\n",
    "import numpy as np\n",
    "from head.metrics import euclidean_dist\n",
    "from botorch.models.gp_regression import SingleTaskGP\n",
    "from botorch.models.transforms.outcome import Standardize\n",
    "from gpytorch.mlls.exact_marginal_log_likelihood import ExactMarginalLogLikelihood\n",
    "from botorch import fit_gpytorch_model\n",
    "from botorch.optim.optimize import optimize_acqf_discrete\n",
    "from botorch.acquisition.monte_carlo import qUpperConfidenceBound, qExpectedImprovement\n",
    "from botorch.acquisition.objective import LinearMCObjective\n",
    "from matplotlib.cm import ScalarMappable\n",
    "from scipy.spatial import distance\n",
    "torch.manual_seed(2021)\n",
    "import pdb\n",
    "from botorch.utils.sampling import draw_sobol_samples\n",
    "from botorch.optim.optimize import optimize_acqf\n",
    "from botorch.acquisition import PosteriorMean\n",
    "\n",
    "NUM_GRID_PERDIM = 100\n",
    "BATCH_SIZE = 8\n",
    "N_ITERATIONS = 10\n",
    "NUM_RESTARTS = 64 \n",
    "RAW_SAMPLES = 1024\n",
    "N_INIT_SAMPLES = 8\n",
    "NUM_FILTERS = 5\n",
    "\n",
    "TARGET = [1,0,0.5]\n",
    "expt = {}\n",
    "EXPT_ID = 0"
   ]
  },
  {
   "cell_type": "code",
   "execution_count": 3,
   "id": "6e6ca677",
   "metadata": {},
   "outputs": [
    {
     "data": {
      "image/png": "[encoded data removed]",
      "text/plain": [
       "<Figure size 432x288 with 1 Axes>"
      ]
     },
     "metadata": {
      "needs_background": "light"
     },
     "output_type": "display_data"
    }
   ],
   "source": [
    "lambda_ = np.linspace(-5,5,num=100)\n",
    "def gaussian(a, b,c):\n",
    "    return a*np.exp(-np.power(lambda_ - b, 2.) / (2 * np.power(c, 2.)))\n",
    "\n",
    "yt = gaussian(*TARGET)\n",
    "\n",
    "fig, ax = plt.subplots()\n",
    "ax.plot(lambda_, yt)\n",
    "plt.show()"
   ]
  },
  {
   "cell_type": "code",
   "execution_count": 4,
   "id": "be2e4b72",
   "metadata": {},
   "outputs": [],
   "source": [
    "# define search space\n",
    "A = [-5,5]\n",
    "bounds = torch.tensor(A).reshape(2,1).to(**tkwargs)"
   ]
  },
  {
   "cell_type": "code",
   "execution_count": 5,
   "id": "6d64065e",
   "metadata": {},
   "outputs": [],
   "source": [
    "from head import L2\n",
    "metric = 'euclidean'\n",
    "if metric=='l2':\n",
    "    d = lambda yi, yt : -L2().distance(yi, yt, lambda_)\n",
    "elif metric=='euclidean':\n",
    "    d = lambda yi,yt : -distance.euclidean(yi,yt)"
   ]
  },
  {
   "cell_type": "code",
   "execution_count": 6,
   "id": "5e02deca",
   "metadata": {},
   "outputs": [],
   "source": [
    "def oracle(x):\n",
    "    \"\"\"Scoring function at a given input location\n",
    "    Uses the simulator sim to generate response spectra at a given locations\n",
    "    and return a similarity score to target spectra\n",
    "    \"\"\"\n",
    "    global EXPT_ID\n",
    "    x_np = x.cpu().numpy()\n",
    "    yi = gaussian(TARGET[0],x_np,TARGET[2])\n",
    "    dist = d(yi, yt)\n",
    "        \n",
    "    expt[EXPT_ID] = [lambda_, yi, dist]\n",
    "    EXPT_ID += 1\n",
    "    \n",
    "    return torch.tensor([dist])\n",
    "\n",
    "def batch_oracle(x):\n",
    "    out = []\n",
    "    for xi in x.squeeze(1):\n",
    "        out.append(oracle(xi))\n",
    "    return torch.stack(out, dim=0).to(**tkwargs)"
   ]
  },
  {
   "cell_type": "code",
   "execution_count": 7,
   "id": "a7b53950",
   "metadata": {},
   "outputs": [
    {
     "name": "stdout",
     "output_type": "stream",
     "text": [
      "Generated 8 samples randomly torch.Size([8, 1]) torch.Size([8, 1])\n",
      "0\t[2.54576445]\t[-4.18573809]\n",
      "1\t[-3.45083222]\t[-4.18893194]\n",
      "2\t[1.513381]\t[-3.97126079]\n",
      "3\t[0.45167208]\t[-1.79951262]\n",
      "4\t[-3.70705888]\t[-4.18887472]\n",
      "5\t[-4.94805926]\t[-3.7635088]\n",
      "6\t[4.1697675]\t[-4.18243361]\n",
      "7\t[1.87592745]\t[-4.12643147]\n"
     ]
    }
   ],
   "source": [
    "def draw_random_batch(n_samples=6):\n",
    "    train_x = draw_sobol_samples(\n",
    "        bounds=bounds,n=1, q=n_samples, \n",
    "        seed=torch.randint(2021, (1,)).item()\n",
    "    ).squeeze(0)\n",
    "    train_obj = batch_oracle(train_x)\n",
    "    return train_x, train_obj\n",
    "\n",
    "\n",
    "train_x, train_obj = draw_random_batch(n_samples=N_INIT_SAMPLES)\n",
    "print('Generated %d samples randomly'%N_INIT_SAMPLES, train_x.shape, train_obj.shape)\n",
    "for i in range(N_INIT_SAMPLES):\n",
    "    print('%d\\t%s\\t%s'%(i, train_x[i,...].numpy(), train_obj[i,...].numpy()))"
   ]
  },
  {
   "cell_type": "code",
   "execution_count": 8,
   "id": "ffe7af52",
   "metadata": {},
   "outputs": [],
   "source": [
    "def initialize_model(train_x, train_obj):\n",
    "    # define models for objective and constraint\n",
    "    model = SingleTaskGP(train_x, train_obj, \n",
    "    outcome_transform=Standardize(m=train_obj.shape[-1]))\n",
    "    mll = ExactMarginalLogLikelihood(model.likelihood, model)\n",
    "    return mll, model\n",
    "\n",
    "mll, model = initialize_model(train_x, train_obj)"
   ]
  },
  {
   "cell_type": "code",
   "execution_count": 9,
   "id": "91272d0e",
   "metadata": {},
   "outputs": [],
   "source": [
    "def selector(f, q = BATCH_SIZE):\n",
    "    new_x, _ = optimize_acqf(\n",
    "        acq_function=f,\n",
    "        bounds=bounds,\n",
    "        q=q,\n",
    "        num_restarts=NUM_RESTARTS,\n",
    "        raw_samples=RAW_SAMPLES, \n",
    "        sequential=False,\n",
    "    )\n",
    "    new_obj = batch_oracle(new_x)\n",
    "    return new_x, new_obj"
   ]
  },
  {
   "cell_type": "code",
   "execution_count": 10,
   "id": "95a7e30e",
   "metadata": {},
   "outputs": [],
   "source": [
    "def agent(model):\n",
    "    with torch.no_grad():\n",
    "        test_x = torch.linspace(-5, 5, 100).to(**tkwargs)\n",
    "        posterior = model.posterior(test_x)\n",
    "        out_test = posterior.mean\n",
    "        return test_x[out_test.argmax()].cpu().numpy()"
   ]
  },
  {
   "cell_type": "code",
   "execution_count": 11,
   "id": "d58dc3aa",
   "metadata": {
    "scrolled": false
   },
   "outputs": [
    {
     "name": "stdout",
     "output_type": "stream",
     "text": [
      "Sampled ID \t Locations \t Objectives\n",
      "Iteration : 1/10\n",
      "0\t[0.12676016]\t[-0.52886599]\n",
      "1\t[0.40214773]\t[-1.61870778]\n",
      "2\t[0.70525885]\t[-2.62230968]\n",
      "3\t[-0.09475802]\t[-0.39604715]\n",
      "4\t[5.]\t[-3.69600725]\n",
      "5\t[-0.62099964]\t[-2.36957216]\n",
      "6\t[0.27573634]\t[-1.13343465]\n",
      "7\t[0.56239313]\t[-2.18126845]\n",
      "Optimal location from the surrogate : 0.4545\n",
      "Iteration : 2/10\n",
      "0\t[-0.00250743]\t[-0.01050349]\n",
      "1\t[2.83477566]\t[-4.18827105]\n",
      "2\t[3.87556541]\t[-4.18850088]\n",
      "3\t[-1.90542805]\t[-4.13307524]\n",
      "4\t[2.91750704]\t[-4.18852758]\n",
      "5\t[-4.55358366]\t[-4.10514498]\n",
      "6\t[-0.01806708]\t[-0.07567589]\n",
      "7\t[-4.62398482]\t[-4.06884575]\n",
      "Optimal location from the surrogate : -0.0505\n",
      "Iteration : 3/10\n",
      "0\t[3.27799033]\t[-4.18890333]\n",
      "1\t[3.11528343]\t[-4.18882132]\n",
      "2\t[0.01336283]\t[-0.0559737]\n",
      "3\t[-2.00982173]\t[-4.15190506]\n",
      "4\t[0.68183664]\t[-2.55423832]\n",
      "5\t[1.55146151]\t[-3.99582219]\n",
      "6\t[-0.081336]\t[-0.34014961]\n",
      "7\t[-1.3460934]\t[-3.83161187]\n",
      "Optimal location from the surrogate : -0.0505\n",
      "Iteration : 4/10\n",
      "0\t[4.96792449]\t[-3.73809695]\n",
      "1\t[-0.02501175]\t[-0.10475657]\n",
      "2\t[0.00868926]\t[-0.03639819]\n",
      "3\t[2.31163162]\t[-4.17892885]\n",
      "4\t[-3.83396851]\t[-4.18865728]\n",
      "5\t[0.51928903]\t[-2.03654337]\n",
      "6\t[-0.9555489]\t[-3.24125886]\n",
      "7\t[4.06297733]\t[-4.18629408]\n",
      "Optimal location from the surrogate : 0.0505\n",
      "Iteration : 5/10\n",
      "0\t[0.75856162]\t[-2.77082109]\n",
      "1\t[1.96337968]\t[-4.14435768]\n",
      "2\t[-4.04759567]\t[-4.18663216]\n",
      "3\t[0.44512737]\t[-1.7759546]\n",
      "4\t[3.87135684]\t[-4.18851948]\n",
      "5\t[-3.67503538]\t[-4.18889666]\n",
      "6\t[-0.25779709]\t[-1.06220245]\n",
      "7\t[-3.49700683]\t[-4.18893337]\n",
      "Optimal location from the surrogate : 0.0505\n",
      "Iteration : 6/10\n",
      "0\t[-2.84725325]\t[-4.1883173]\n",
      "1\t[-1.93811394]\t[-4.1397109]\n",
      "2\t[3.17158581]\t[-4.18885946]\n",
      "3\t[0.68836928]\t[-2.57339501]\n",
      "4\t[-4.40281105]\t[-4.15423012]\n",
      "5\t[-0.94597092]\t[-3.22123241]\n",
      "6\t[0.01657003]\t[-0.06940624]\n",
      "7\t[3.24783694]\t[-4.1888938]\n",
      "Optimal location from the surrogate : 0.0505\n",
      "Iteration : 7/10\n",
      "0\t[-4.51617402]\t[-4.12063742]\n",
      "1\t[-1.77107398]\t[-4.09698534]\n",
      "2\t[2.92294192]\t[-4.18854094]\n",
      "3\t[0.45975832]\t[-1.82847381]\n",
      "4\t[0.45624392]\t[-1.81590676]\n",
      "5\t[4.37848795]\t[-4.15926504]\n",
      "6\t[-3.36560736]\t[-4.18892288]\n",
      "7\t[-4.67439259]\t[-4.03654194]\n",
      "Optimal location from the surrogate : 0.0505\n",
      "Iteration : 8/10\n",
      "0\t[-2.16526436]\t[-4.16963148]\n",
      "1\t[-0.7064709]\t[-2.62578583]\n",
      "2\t[-1.65925493]\t[-4.05327463]\n",
      "3\t[-3.52069772]\t[-4.1889329]\n",
      "4\t[2.24194309]\t[-4.17518044]\n",
      "5\t[0.01575482]\t[-0.06599204]\n",
      "6\t[-4.84368455]\t[-3.88624239]\n",
      "7\t[-0.68496807]\t[-2.5634377]\n",
      "Optimal location from the surrogate : 0.0505\n",
      "Iteration : 9/10\n",
      "0\t[-1.47605886]\t[-3.94477367]\n",
      "1\t[-2.84680795]\t[-4.18831587]\n",
      "2\t[4.34830497]\t[-4.16464996]\n",
      "3\t[-3.47085164]\t[-4.1889329]\n",
      "4\t[1.45406928]\t[-3.92798424]\n",
      "5\t[3.40893229]\t[-4.1889286]\n",
      "6\t[2.25781994]\t[-4.17613125]\n",
      "7\t[-2.86597206]\t[-4.18838167]\n",
      "Optimal location from the surrogate : 0.0505\n",
      "Iteration : 10/10\n",
      "0\t[-1.88159413]\t[-4.1277585]\n",
      "1\t[3.26776684]\t[-4.18890047]\n",
      "2\t[3.06215709]\t[-4.18877172]\n",
      "3\t[-1.6134081]\t[-4.03088188]\n",
      "4\t[4.37610684]\t[-4.15972328]\n",
      "5\t[4.14821982]\t[-4.18347645]\n",
      "6\t[-3.59524752]\t[-4.18892479]\n",
      "7\t[4.26521617]\t[-4.17540026]\n",
      "Optimal location from the surrogate : 0.0505\n"
     ]
    }
   ],
   "source": [
    "# run N_ITERATIONS rounds of BayesOpt after the initial random batch\n",
    "print('Sampled ID \\t Locations \\t Objectives')\n",
    "for iteration in range(1, N_ITERATIONS + 1):    \n",
    "    print('Iteration : %d/%d'%(iteration, N_ITERATIONS))\n",
    "    # fit the models\n",
    "    fit_gpytorch_model(mll)\n",
    "\n",
    "    # define the acquisition module\n",
    "    #acquisition = qUpperConfidenceBound(model, beta=0.1)\n",
    "    best_f = train_obj.max(axis=0).values\n",
    "    acquisition = qExpectedImprovement(model, best_f = best_f)\n",
    "    \n",
    "    # optimize acquisition functions and get new observations\n",
    "    new_x, new_obj = selector(acquisition)\n",
    "    for i in range(BATCH_SIZE):\n",
    "        print('%d\\t%s\\t%s'%(i, new_x[i,...].numpy(), new_obj[i,...].numpy()))\n",
    "\n",
    "    # update training points\n",
    "    train_x = torch.cat([train_x, new_x])\n",
    "    train_obj = torch.cat([train_obj, new_obj])\n",
    "    print('Optimal location from the surrogate : %2.4f'%float(agent(model)))\n",
    "    # re-initialize\n",
    "    mll, model = initialize_model(train_x, train_obj)"
   ]
  },
  {
   "cell_type": "code",
   "execution_count": 12,
   "id": "b016fe6b",
   "metadata": {},
   "outputs": [
    {
     "data": {
      "image/png": "[encoded data removed]",
      "text/plain": [
       "<Figure size 432x288 with 1 Axes>"
      ]
     },
     "metadata": {
      "needs_background": "light"
     },
     "output_type": "display_data"
    }
   ],
   "source": [
    "# Get into evaluation (predictive posterior) mode\n",
    "batch_number = torch.cat(\n",
    "    [torch.zeros(N_INIT_SAMPLES), \n",
    "     torch.arange(1, N_ITERATIONS+1).repeat(BATCH_SIZE, 1).t().reshape(-1)]\n",
    ").numpy()\n",
    "\n",
    "model.eval()\n",
    "mll.eval()\n",
    "test_x = torch.linspace(-5, 5, 51).to(**tkwargs)\n",
    "fig, ax = plt.subplots()\n",
    "with torch.no_grad():\n",
    "    posterior = model.posterior(test_x)\n",
    "    lower, upper = posterior.mvn.confidence_region()\n",
    "    ax.scatter(train_x.cpu().numpy(), train_obj.cpu().numpy(), s=10*batch_number,c='grey', \n",
    "               edgecolors=(0,0,0), label=r'$(x_{i}, y_{i})$')\n",
    "    ax.plot(test_x.cpu().numpy(), posterior.mean.cpu().numpy(), 'b', label=r'$\\mu(x)$')\n",
    "    ax.fill_between(test_x.cpu().numpy(), lower.cpu().numpy(), \n",
    "                    upper.cpu().numpy(), alpha=0.25, label='Confidence')\n",
    "\n",
    "opt_x, opt_obj = selector(PosteriorMean(model), q=1)\n",
    "opt_x = opt_x.cpu().numpy().squeeze()\n",
    "ax.axvline(opt_x, color='tab:red', ls='--', label=r'$\\hat{x_{t}}$')\n",
    "ax.axvline(TARGET[1], color='tab:red', label=r'$x_{t}$')\n",
    "fig.legend(ncol=2,loc='center', bbox_to_anchor=(0.6, 1.1))\n",
    "plt.tight_layout()\n",
    "ax.set_xlabel(r'$\\mathcal{X}$')\n",
    "ax.set_ylabel(r'$p(y|X,\\mathcal{M})$')\n",
    "plt.show()"
   ]
  },
  {
   "cell_type": "code",
   "execution_count": 13,
   "id": "997c5178",
   "metadata": {
    "scrolled": false
   },
   "outputs": [
    {
     "data": {
      "image/png": "[encoded data removed]",
      "text/plain": [
       "<Figure size 432x288 with 1 Axes>"
      ]
     },
     "metadata": {
      "needs_background": "light"
     },
     "output_type": "display_data"
    }
   ],
   "source": [
    "def plot_best_trace(ax, train_x, train_obj, target):\n",
    "    train_x = train_x.cpu().numpy()\n",
    "    proximities = np.abs(train_x-target[1])\n",
    "    trace = np.asarray([min(proximities[batch_number<=b]) for b in np.unique(batch_number)])\n",
    "    return ax.plot(np.arange(N_ITERATIONS+1),trace)\n",
    "\n",
    "fig, ax = plt.subplots()\n",
    "ax.axhline(0, label='Optimal', ls='--', lw='2.0', c='k')\n",
    "plot_best_trace(ax, train_x, train_obj, TARGET)\n",
    "ax.set_xlabel('Batch number')\n",
    "ax.set_ylabel(r'$||x-x_{t}||_{2}$')\n",
    "plt.show()"
   ]
  },
  {
   "cell_type": "code",
   "execution_count": null,
   "id": "a567c320",
   "metadata": {},
   "outputs": [],
   "source": []
  }
 ],
 "metadata": {
  "kernelspec": {
   "display_name": "HEAD",
   "language": "python",
   "name": "head"
  },
  "language_info": {
   "codemirror_mode": {
    "name": "ipython",
    "version": 3
   },
   "file_extension": ".py",
   "mimetype": "text/x-python",
   "name": "python",
   "nbconvert_exporter": "python",
   "pygments_lexer": "ipython3",
   "version": "3.8.8"
  }
 },
 "nbformat": 4,
 "nbformat_minor": 5
}
