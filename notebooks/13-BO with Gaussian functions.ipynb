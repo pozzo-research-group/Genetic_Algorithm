{
 "cells": [
  {
   "cell_type": "code",
   "execution_count": 2,
   "id": "eded52d2",
   "metadata": {},
   "outputs": [],
   "source": [
    "%load_ext autoreload\n",
    "%autoreload 2"
   ]
  },
  {
   "cell_type": "code",
   "execution_count": 22,
   "id": "e61f9ea7",
   "metadata": {},
   "outputs": [],
   "source": [
    "import os, shutil\n",
    "import torch\n",
    "import time\n",
    "import warnings\n",
    "from botorch.exceptions import BadInitialCandidatesWarning\n",
    "import pdb\n",
    "import matplotlib.pyplot as plt\n",
    "plt.rcParams.update({\"text.usetex\": True,\n",
    "                     \"axes.spines.right\" : False,\n",
    "                     \"axes.spines.top\" : False,\n",
    "                     \"font.size\": 15\n",
    "                    }\n",
    "                   )\n",
    "tkwargs = {\n",
    "    \"dtype\": torch.double,\n",
    "    \"device\": torch.device(\"cuda\" if torch.cuda.is_available() else \"cpu\"),\n",
    "}\n",
    "import head\n",
    "import numpy as np\n",
    "from head.metrics import euclidean_dist\n",
    "from botorch.models.gp_regression import SingleTaskGP\n",
    "from botorch.models.transforms.outcome import Standardize\n",
    "from gpytorch.mlls.exact_marginal_log_likelihood import ExactMarginalLogLikelihood\n",
    "from botorch import fit_gpytorch_model\n",
    "from botorch.optim.optimize import optimize_acqf_discrete\n",
    "from botorch.acquisition.monte_carlo import qUpperConfidenceBound, qExpectedImprovement\n",
    "from botorch.acquisition.objective import LinearMCObjective\n",
    "from matplotlib.cm import ScalarMappable\n",
    "\n",
    "\n",
    "NUM_GRID_PERDIM = 100\n",
    "BATCH_SIZE = 8\n",
    "N_ITERATIONS = 10\n",
    "NUM_RESTARTS = 64 \n",
    "RAW_SAMPLES = 1024\n",
    "N_INIT_SAMPLES = 8\n",
    "NUM_FILTERS = 5\n",
    "\n",
    "TARGET = [1,0,0.5]\n",
    "expt = {}\n",
    "EXPT_ID = 0"
   ]
  },
  {
   "cell_type": "code",
   "execution_count": 4,
   "id": "6e6ca677",
   "metadata": {},
   "outputs": [
    {
     "data": {
      "image/png": "[encoded data removed]",
      "text/plain": [
       "<Figure size 432x288 with 1 Axes>"
      ]
     },
     "metadata": {
      "needs_background": "light"
     },
     "output_type": "display_data"
    }
   ],
   "source": [
    "lambda_ = np.linspace(-5,5,num=100)\n",
    "def gaussian(a, b,c):\n",
    "    return a*np.exp(-np.power(lambda_ - b, 2.) / (2 * np.power(c, 2.)))\n",
    "\n",
    "yt = gaussian(*TARGET)\n",
    "\n",
    "fig, ax = plt.subplots()\n",
    "ax.plot(lambda_, yt)\n",
    "plt.show()"
   ]
  },
  {
   "cell_type": "code",
   "execution_count": 5,
   "id": "be2e4b72",
   "metadata": {},
   "outputs": [
    {
     "data": {
      "text/plain": [
       "torch.Size([2, 1])"
      ]
     },
     "execution_count": 5,
     "metadata": {},
     "output_type": "execute_result"
    }
   ],
   "source": [
    "# define search space\n",
    "A = [-5,5]\n",
    "bounds = torch.tensor(A).reshape(2,1).to(**tkwargs)\n",
    "bounds.shape"
   ]
  },
  {
   "cell_type": "code",
   "execution_count": 6,
   "id": "6d64065e",
   "metadata": {},
   "outputs": [
    {
     "data": {
      "text/plain": [
       "-0.0"
      ]
     },
     "execution_count": 6,
     "metadata": {},
     "output_type": "execute_result"
    }
   ],
   "source": [
    "def L2(f1, f2):\n",
    "    return np.trapz(f1*f2, x=(lambda_-min(lambda_))/(max(lambda_)-min(lambda_)))\n",
    "\n",
    "def d(v,w):\n",
    "    return -L2(v-w, v-w)\n",
    "\n",
    "d(yt, yt)"
   ]
  },
  {
   "cell_type": "code",
   "execution_count": 7,
   "id": "5e02deca",
   "metadata": {},
   "outputs": [],
   "source": [
    "def oracle(x):\n",
    "    \"\"\"Scoring function at a given input location\n",
    "    Uses the simulator sim to generate response spectra at a given locations\n",
    "    and return a similarity score to target spectra\n",
    "    \"\"\"\n",
    "    global EXPT_ID\n",
    "    x_np = x.cpu().numpy()\n",
    "    yi = gaussian(TARGET[0],x_np,TARGET[2])\n",
    "    dist = d(yi, yt)\n",
    "        \n",
    "    expt[EXPT_ID] = [lambda_, yi, dist]\n",
    "    EXPT_ID += 1\n",
    "    \n",
    "    return torch.tensor([dist])\n",
    "\n",
    "def batch_oracle(x):\n",
    "    out = []\n",
    "    for xi in x.squeeze(1):\n",
    "        out.append(oracle(xi))\n",
    "    return torch.stack(out, dim=0).to(**tkwargs)"
   ]
  },
  {
   "cell_type": "code",
   "execution_count": 8,
   "id": "a7b53950",
   "metadata": {},
   "outputs": [
    {
     "name": "stdout",
     "output_type": "stream",
     "text": [
      "Generated 8 samples randomly torch.Size([8, 1]) torch.Size([8, 1])\n",
      "0\t[2.54576445]\t[-0.17697377]\n",
      "1\t[-3.45083222]\t[-0.1772436]\n",
      "2\t[1.513381]\t[-0.15930215]\n",
      "3\t[0.45167208]\t[-0.03270955]\n",
      "4\t[-3.70705888]\t[-0.1772328]\n",
      "5\t[-4.94805926]\t[-0.13807439]\n",
      "6\t[4.1697675]\t[-0.17637387]\n",
      "7\t[1.87592745]\t[-0.17199432]\n"
     ]
    }
   ],
   "source": [
    "from botorch.utils.sampling import draw_sobol_samples\n",
    "\n",
    "def draw_random_batch(n_samples=6):\n",
    "    train_x = draw_sobol_samples(\n",
    "        bounds=bounds,n=1, q=n_samples, \n",
    "        seed=torch.randint(2021, (1,)).item()\n",
    "    ).squeeze(0)\n",
    "    train_obj = batch_oracle(train_x)\n",
    "    return train_x, train_obj\n",
    "\n",
    "\n",
    "train_x, train_obj = draw_random_batch(n_samples=N_INIT_SAMPLES)\n",
    "print('Generated %d samples randomly'%N_INIT_SAMPLES, train_x.shape, train_obj.shape)\n",
    "for i in range(N_INIT_SAMPLES):\n",
    "    print('%d\\t%s\\t%s'%(i, train_x[i,...].numpy(), train_obj[i,...].numpy()))"
   ]
  },
  {
   "cell_type": "code",
   "execution_count": 9,
   "id": "ffe7af52",
   "metadata": {},
   "outputs": [],
   "source": [
    "def initialize_model(train_x, train_obj):\n",
    "    # define models for objective and constraint\n",
    "    model = SingleTaskGP(train_x, train_obj, \n",
    "    outcome_transform=Standardize(m=train_obj.shape[-1]))\n",
    "    mll = ExactMarginalLogLikelihood(model.likelihood, model)\n",
    "    return mll, model\n",
    "\n",
    "mll, model = initialize_model(train_x, train_obj)"
   ]
  },
  {
   "cell_type": "code",
   "execution_count": 10,
   "id": "91272d0e",
   "metadata": {},
   "outputs": [],
   "source": [
    "from botorch.optim.optimize import optimize_acqf\n",
    "\n",
    "def selector(f, q = BATCH_SIZE):\n",
    "    new_x, _ = optimize_acqf(\n",
    "        acq_function=f,\n",
    "        bounds=bounds,\n",
    "        q=q,\n",
    "        num_restarts=NUM_RESTARTS,\n",
    "        raw_samples=RAW_SAMPLES, \n",
    "        sequential=False,\n",
    "    )\n",
    "    new_obj = batch_oracle(new_x)\n",
    "    return new_x, new_obj"
   ]
  },
  {
   "cell_type": "code",
   "execution_count": 11,
   "id": "d58dc3aa",
   "metadata": {
    "scrolled": false
   },
   "outputs": [
    {
     "name": "stdout",
     "output_type": "stream",
     "text": [
      "Sampled ID \t Locations \t Objectives\n",
      "Iteration : 1/10\n",
      "0\t[0.39134458]\t[-0.02516875]\n",
      "1\t[0.26870814]\t[-0.01234673]\n",
      "2\t[0.55896303]\t[-0.04756207]\n",
      "3\t[-0.12068586]\t[-0.00256288]\n",
      "4\t[-0.57792421]\t[-0.0503277]\n",
      "5\t[-4.40210649]\t[-0.17312376]\n",
      "6\t[0.70068125]\t[-0.06876375]\n",
      "7\t[0.11327205]\t[-0.00225963]\n",
      "Iteration : 2/10\n",
      "0\t[0.01148166]\t[-2.33644401e-05]\n",
      "1\t[-2.34024675]\t[-0.17650399]\n",
      "2\t[-0.01178456]\t[-2.46133806e-05]\n",
      "3\t[2.30879608]\t[-0.17638726]\n",
      "4\t[-1.09869869]\t[-0.12423985]\n",
      "5\t[-0.62247797]\t[-0.05693724]\n",
      "6\t[-3.58132932]\t[-0.17724194]\n",
      "7\t[-4.53574387]\t[-0.16873057]\n",
      "Iteration : 3/10\n",
      "0\t[0.30042435]\t[-0.01529657]\n",
      "1\t[2.62332593]\t[-0.17706349]\n",
      "2\t[-0.5946825]\t[-0.0527974]\n",
      "3\t[0.78401161]\t[-0.08138806]\n",
      "4\t[-0.69755277]\t[-0.06828817]\n",
      "5\t[0.0100239]\t[-1.78084534e-05]\n",
      "6\t[0.50206376]\t[-0.03949171]\n",
      "7\t[-0.01060626]\t[-1.99376995e-05]\n",
      "Iteration : 4/10\n",
      "0\t[-0.20270134]\t[-0.00713504]\n",
      "1\t[-0.0108799]\t[-2.09796737e-05]\n",
      "2\t[0.0093578]\t[-1.55204179e-05]\n",
      "3\t[2.57139044]\t[-0.17700715]\n",
      "4\t[4.12738092]\t[-0.17661545]\n",
      "5\t[-2.5199986]\t[-0.1769359]\n",
      "6\t[-0.62556909]\t[-0.05740048]\n",
      "7\t[-3.82614681]\t[-0.17720225]\n",
      "Iteration : 5/10\n",
      "0\t[2.80868705]\t[-0.17717893]\n",
      "1\t[1.49944937]\t[-0.15853298]\n",
      "2\t[-0.35173608]\t[-0.02062627]\n",
      "3\t[-0.00838171]\t[-1.24515891e-05]\n",
      "4\t[0.00854419]\t[-1.29389977e-05]\n",
      "5\t[0.13583961]\t[-0.00324061]\n",
      "6\t[-2.99284332]\t[-0.17722255]\n",
      "7\t[-0.64591883]\t[-0.06046163]\n",
      "Iteration : 6/10\n",
      "0\t[2.07345399]\t[-0.17483852]\n",
      "1\t[-0.05282729]\t[-0.00049395]\n",
      "2\t[-0.1723135]\t[-0.0051854]\n",
      "3\t[3.15169586]\t[-0.17723677]\n",
      "4\t[-0.70221887]\t[-0.0689975]\n",
      "5\t[-0.00032305]\t[-1.84980527e-08]\n",
      "6\t[-1.37755268]\t[-0.1506727]\n",
      "7\t[-4.43034359]\t[-0.17239248]\n",
      "Iteration : 7/10\n",
      "0\t[-0.70521955]\t[-0.0694537]\n",
      "1\t[-2.61664583]\t[-0.17705701]\n",
      "2\t[-2.05646345]\t[-0.17466357]\n",
      "3\t[0.00744313]\t[-9.81915667e-06]\n",
      "4\t[-4.93033118]\t[-0.13980943]\n",
      "5\t[-0.00689168]\t[-8.41811705e-06]\n",
      "6\t[-4.58955984]\t[-0.16621623]\n",
      "7\t[-2.81662501]\t[-0.17718183]\n",
      "Iteration : 8/10\n",
      "0\t[-3.14114303]\t[-0.17723618]\n",
      "1\t[-4.56151344]\t[-0.16758476]\n",
      "2\t[-1.43641286]\t[-0.15472878]\n",
      "3\t[-2.18650584]\t[-0.17575843]\n",
      "4\t[-2.02558762]\t[-0.17431677]\n",
      "5\t[0.00779618]\t[-1.07727187e-05]\n",
      "6\t[-0.00680163]\t[-8.19955813e-06]\n",
      "7\t[-0.43302374]\t[-0.0303052]\n",
      "Iteration : 9/10\n",
      "0\t[-0.48666172]\t[-0.03737789]\n",
      "1\t[-3.17160181]\t[-0.17723779]\n",
      "2\t[-0.00632495]\t[-7.09054987e-06]\n",
      "3\t[-3.10656591]\t[-0.17723397]\n",
      "4\t[-3.47860247]\t[-0.17724356]\n",
      "5\t[0.00746253]\t[-9.87041819e-06]\n",
      "6\t[-2.70626055]\t[-0.17712847]\n",
      "7\t[-2.82558558]\t[-0.17718496]\n",
      "Iteration : 10/10\n",
      "0\t[2.57830644]\t[-0.17701549]\n",
      "1\t[-3.37118828]\t[-0.17724312]\n",
      "2\t[4.51391859]\t[-0.16962013]\n",
      "3\t[-4.74344629]\t[-0.15637056]\n",
      "4\t[0.00027439]\t[-1.33449466e-08]\n",
      "5\t[-0.24852112]\t[-0.01061595]\n",
      "6\t[1.70782398]\t[-0.16765393]\n",
      "7\t[2.38478968]\t[-0.1766447]\n"
     ]
    }
   ],
   "source": [
    "torch.manual_seed(2021)\n",
    "import pdb\n",
    "\n",
    "# run N_ITERATIONS rounds of BayesOpt after the initial random batch\n",
    "print('Sampled ID \\t Locations \\t Objectives')\n",
    "for iteration in range(1, N_ITERATIONS + 1):    \n",
    "    print('Iteration : %d/%d'%(iteration, N_ITERATIONS))\n",
    "    # fit the models\n",
    "    fit_gpytorch_model(mll)\n",
    "\n",
    "    # define the acquisition module\n",
    "    #acquisition = qUpperConfidenceBound(model, beta=0.1)\n",
    "    best_f = train_obj.max(axis=0).values\n",
    "    acquisition = qExpectedImprovement(model, best_f = best_f)\n",
    "    \n",
    "    # optimize acquisition functions and get new observations\n",
    "    new_x, new_obj = selector(acquisition)\n",
    "    for i in range(BATCH_SIZE):\n",
    "        print('%d\\t%s\\t%s'%(i, new_x[i,...].numpy(), new_obj[i,...].numpy()))\n",
    "\n",
    "    # update training points\n",
    "    train_x = torch.cat([train_x, new_x])\n",
    "    train_obj = torch.cat([train_obj, new_obj])\n",
    "\n",
    "    # re-initialize\n",
    "    mll, model = initialize_model(train_x, train_obj)"
   ]
  },
  {
   "cell_type": "code",
   "execution_count": 35,
   "id": "b016fe6b",
   "metadata": {},
   "outputs": [
    {
     "data": {
      "image/png": "[encoded data removed]",
      "text/plain": [
       "<Figure size 432x288 with 1 Axes>"
      ]
     },
     "metadata": {
      "needs_background": "light"
     },
     "output_type": "display_data"
    }
   ],
   "source": [
    "# Get into evaluation (predictive posterior) mode\n",
    "from botorch.acquisition import PosteriorMean\n",
    "batch_number = torch.cat(\n",
    "    [torch.zeros(N_INIT_SAMPLES), \n",
    "     torch.arange(1, N_ITERATIONS+1).repeat(BATCH_SIZE, 1).t().reshape(-1)]\n",
    ").numpy()\n",
    "\n",
    "model.eval()\n",
    "mll.eval()\n",
    "test_x = torch.linspace(-5, 5, 51).to(**tkwargs)\n",
    "fig, ax = plt.subplots()\n",
    "with torch.no_grad():\n",
    "    posterior = model.posterior(test_x)\n",
    "    lower, upper = posterior.mvn.confidence_region()\n",
    "    ax.scatter(train_x.cpu().numpy(), train_obj.cpu().numpy(), s=10*batch_number,c='grey', \n",
    "               edgecolors=(0,0,0), label='Observed')\n",
    "    ax.plot(test_x.cpu().numpy(), posterior.mean.cpu().numpy(), 'b', label='Mean')\n",
    "    ax.fill_between(test_x.cpu().numpy(), lower.cpu().numpy(), \n",
    "                    upper.cpu().numpy(), alpha=0.25, label='Confidence')\n",
    "\n",
    "opt_x, opt_obj = selector(PosteriorMean(model), q=1)\n",
    "opt_x = opt_x.cpu().numpy().squeeze()\n",
    "ax.axvline(opt_x, color='tab:red', ls='--', label='Predicted target')\n",
    "ax.axvline(TARGET[1], color='tab:red', label='Target')\n",
    "fig.legend(ncol=2,loc='center', bbox_to_anchor=(0.6, 1.1))\n",
    "plt.tight_layout()\n",
    "plt.show()"
   ]
  },
  {
   "cell_type": "code",
   "execution_count": null,
   "id": "997c5178",
   "metadata": {
    "scrolled": false
   },
   "outputs": [],
   "source": [
    "from matplotlib import cm\n",
    "from matplotlib.colors import Normalize\n",
    "\n",
    "all_scores = [v[2] for _, v in expt.items()]\n",
    "norm = Normalize(vmin=min(all_scores), vmax=max(all_scores))\n",
    "cmap = cm.get_cmap('viridis')\n",
    "mappable = cm.ScalarMappable(norm=norm, cmap=cmap)\n",
    "\n",
    "for b in np.unique(batch_number):\n",
    "    fig, ax = plt.subplots(1,1)\n",
    "    fig.suptitle('Batch number %d'%b)\n",
    "    for i in np.argwhere(batch_number==b).squeeze():\n",
    "        ax.plot(expt[i][0], expt[i][1],\n",
    "                      color=cmap(norm(expt[i][2])))\n",
    "    cbar = fig.colorbar(mappable,ax=ax)\n",
    "    plt.show()"
   ]
  },
  {
   "cell_type": "code",
   "execution_count": null,
   "id": "40f8c1ea",
   "metadata": {},
   "outputs": [],
   "source": []
  }
 ],
 "metadata": {
  "kernelspec": {
   "display_name": "HEAD",
   "language": "python",
   "name": "head"
  },
  "language_info": {
   "codemirror_mode": {
    "name": "ipython",
    "version": 3
   },
   "file_extension": ".py",
   "mimetype": "text/x-python",
   "name": "python",
   "nbconvert_exporter": "python",
   "pygments_lexer": "ipython3",
   "version": "3.8.8"
  }
 },
 "nbformat": 4,
 "nbformat_minor": 5
}
