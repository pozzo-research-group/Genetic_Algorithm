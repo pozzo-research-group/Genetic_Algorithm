{
 "cells": [
  {
   "cell_type": "code",
   "execution_count": 21,
   "id": "a61d2db9",
   "metadata": {},
   "outputs": [
    {
     "name": "stdout",
     "output_type": "stream",
     "text": [
      "The autoreload extension is already loaded. To reload it, use:\n",
      "  %reload_ext autoreload\n"
     ]
    }
   ],
   "source": [
    "%load_ext autoreload\n",
    "%autoreload 2"
   ]
  },
  {
   "cell_type": "code",
   "execution_count": 22,
   "id": "b73527ac",
   "metadata": {},
   "outputs": [],
   "source": [
    "import numpy as np\n",
    "import matplotlib.pyplot as plt\n",
    "\n",
    "from pyGDM2 import (core, propagators, fields, \n",
    "                    materials, linear, structures, \n",
    "                    tools, visu)"
   ]
  },
  {
   "cell_type": "code",
   "execution_count": 23,
   "id": "8ad451eb",
   "metadata": {},
   "outputs": [],
   "source": [
    "NUM_WAVELENGTH_SAMPLES = 100\n",
    "STEP = 10\n",
    "NUM_VAR_SAMPLES = 5\n",
    "wl = np.linspace(400, 1000, NUM_WAVELENGTH_SAMPLES)"
   ]
  },
  {
   "cell_type": "code",
   "execution_count": 24,
   "id": "f785b610",
   "metadata": {},
   "outputs": [],
   "source": [
    "def uvvis(wl, shape, geom, medium):\n",
    "        if shape=='sphere':\n",
    "            geometry = structures.sphere(STEP, **geom)\n",
    "            \n",
    "        elif shape=='cylinder':\n",
    "            geometry = structures.nanorod(STEP, **geom)\n",
    "            \n",
    "        else:\n",
    "            raise RuntimeError('Shape %s is not recognized'%shape)\n",
    "        struct = structures.struct(STEP, geometry, \n",
    "            materials.gold(), verbose=False)\n",
    "            \n",
    "        \n",
    "        field_generator = fields.plane_wave\n",
    "        kwargs = dict(theta=0, inc_angle=180)\n",
    "        efield = fields.efield(field_generator,\n",
    "                       wavelengths=wl, kwargs=kwargs)\n",
    "\n",
    "        dyads = propagators.DyadsQuasistatic123(**medium)\n",
    "        sim = core.simulation(struct, efield, dyads)\n",
    "        sim.scatter(verbose=False)\n",
    "        field_kwargs = tools.get_possible_field_params_spectra(sim)\n",
    "        config_idx = 0\n",
    "        _, spectrum = tools.calculate_spectrum(sim,\n",
    "                            field_kwargs[config_idx], linear.extinct)\n",
    "        \n",
    "        abs_ = spectrum.T[2]/np.max(spectrum.T[2])\n",
    "                \n",
    "        return abs_ "
   ]
  },
  {
   "cell_type": "code",
   "execution_count": 25,
   "id": "4c73657f",
   "metadata": {},
   "outputs": [
    {
     "data": {
      "text/plain": [
       "[<matplotlib.lines.Line2D at 0x7ff9a30a1190>]"
      ]
     },
     "execution_count": 25,
     "metadata": {},
     "output_type": "execute_result"
    },
    {
     "data": {
      "image/png": "[encoded data removed]",
      "text/plain": [
       "<Figure size 432x288 with 1 Axes>"
      ]
     },
     "metadata": {
      "needs_background": "light"
     },
     "output_type": "display_data"
    }
   ],
   "source": [
    "abs_ = uvvis(wl , 'sphere', geom={'R':50/STEP, 'mesh':'hex'}, medium={'n1':1, 'n2':1})\n",
    "plt.plot(wl, abs_)"
   ]
  },
  {
   "cell_type": "code",
   "execution_count": 28,
   "id": "2eae49b3",
   "metadata": {},
   "outputs": [
    {
     "data": {
      "text/plain": [
       "[<matplotlib.lines.Line2D at 0x7ff9a3281cd0>]"
      ]
     },
     "execution_count": 28,
     "metadata": {},
     "output_type": "execute_result"
    },
    {
     "data": {
      "image/png": "[encoded data removed]",
      "text/plain": [
       "<Figure size 432x288 with 1 Axes>"
      ]
     },
     "metadata": {
      "needs_background": "light"
     },
     "output_type": "display_data"
    }
   ],
   "source": [
    "abs_ = uvvis(wl, 'cylinder', geom={'R':10/STEP, 'L': 400/STEP, 'mesh':'hex'}, medium={'n1':1, 'n2':1})\n",
    "plt.plot(wl, abs_)"
   ]
  },
  {
   "cell_type": "code",
   "execution_count": null,
   "id": "02972774",
   "metadata": {},
   "outputs": [],
   "source": []
  }
 ],
 "metadata": {
  "kernelspec": {
   "display_name": "head",
   "language": "python",
   "name": "head"
  },
  "language_info": {
   "codemirror_mode": {
    "name": "ipython",
    "version": 3
   },
   "file_extension": ".py",
   "mimetype": "text/x-python",
   "name": "python",
   "nbconvert_exporter": "python",
   "pygments_lexer": "ipython3",
   "version": "3.8.8"
  }
 },
 "nbformat": 4,
 "nbformat_minor": 5
}
