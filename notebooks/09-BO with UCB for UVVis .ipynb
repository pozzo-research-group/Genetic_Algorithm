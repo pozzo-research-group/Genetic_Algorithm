{
 "cells": [
  {
   "cell_type": "code",
   "execution_count": 1,
   "id": "eded52d2",
   "metadata": {},
   "outputs": [],
   "source": [
    "%load_ext autoreload\n",
    "%autoreload 2"
   ]
  },
  {
   "cell_type": "code",
   "execution_count": 2,
   "id": "e61f9ea7",
   "metadata": {},
   "outputs": [],
   "source": [
    "import os, shutil\n",
    "import torch\n",
    "import time\n",
    "import warnings\n",
    "from botorch.exceptions import BadInitialCandidatesWarning\n",
    "import pdb\n",
    "import matplotlib.pyplot as plt\n",
    "\n",
    "tkwargs = {\n",
    "    \"dtype\": torch.double,\n",
    "    \"device\": torch.device(\"cuda\" if torch.cuda.is_available() else \"cpu\"),\n",
    "}\n",
    "import head\n",
    "import numpy as np\n",
    "from head.metrics import euclidean_dist\n",
    "from botorch.models.gp_regression import SingleTaskGP\n",
    "from botorch.models.transforms.outcome import Standardize\n",
    "from gpytorch.mlls.exact_marginal_log_likelihood import ExactMarginalLogLikelihood\n",
    "from botorch import fit_gpytorch_model\n",
    "from botorch.optim.optimize import optimize_acqf_discrete\n",
    "from botorch.acquisition.monte_carlo import qUpperConfidenceBound\n",
    "from botorch.acquisition.objective import LinearMCObjective\n",
    "from matplotlib.cm import ScalarMappable\n",
    "\n",
    "N_UVVIS_SAMPLES = 100\n",
    "N_SAS_SAMPLES = 100\n",
    "NUM_GRID_PERDIM = 100\n",
    "BATCH_SIZE = 8\n",
    "N_ITERATIONS = 5\n",
    "NUM_RESTARTS = 64 \n",
    "RAW_SAMPLES = 1024\n",
    "N_INIT_SAMPLES = 8\n",
    "\n",
    "R_mu = 20\n",
    "R_sigma = 1e-2\n",
    "SHAPE_PARAM = 0.67\n",
    "SPECTRA = 'uvvis'\n",
    "\n",
    "expt = {}\n",
    "EXPT_ID = 0"
   ]
  },
  {
   "cell_type": "code",
   "execution_count": 3,
   "id": "6e6ca677",
   "metadata": {},
   "outputs": [
    {
     "data": {
      "image/png": "[encoded data removed]",
      "text/plain": [
       "<Figure size 576x288 with 2 Axes>"
      ]
     },
     "metadata": {
      "needs_background": "light"
     },
     "output_type": "display_data"
    }
   ],
   "source": [
    "sim = head.EmulatorMultiShape()\n",
    "sim.make_structure(r_mu=R_mu,r_sigma=R_sigma)\n",
    "\n",
    "fig, axs = plt.subplots(1,2,figsize=(4*2,4))\n",
    "\n",
    "sim.plot_radii(axs[0])\n",
    "axs[0].set_xlabel('radius')\n",
    "axs[0].set_ylabel('Probability density')\n",
    "\n",
    "if SPECTRA=='saxs':\n",
    "    xt, yt = sim.get_saxs(shape_param = SHAPE_PARAM, n_samples=N_SAS_SAMPLES)\n",
    "    axs[1].loglog(xt, yt)\n",
    "    plt.setp(axs[1], xlabel='q (1/A)', ylabel='I(q)')\n",
    "elif SPECTRA=='uvvis':\n",
    "    xt, yt = sim.get_uvvis(shape_param = 0.67, n_samples=N_UVVIS_SAMPLES)\n",
    "    axs[1].plot(xt, yt)\n",
    "    plt.setp(axs[1], xlabel='wavelength (nm))', ylabel=r'I($\\lambda$)')\n",
    "    \n",
    "fig.suptitle('r = '+','.join('%.2f'%i for i in sim.radii))\n",
    "plt.show()"
   ]
  },
  {
   "cell_type": "code",
   "execution_count": 4,
   "id": "be2e4b72",
   "metadata": {},
   "outputs": [],
   "source": [
    "# define search space\n",
    "r_mu = [5,50]\n",
    "r_sigma = [1e-4,1]\n",
    "shape_param = [0,1]\n",
    "bounds = torch.tensor((r_mu, r_sigma, shape_param)).T.to(**tkwargs)"
   ]
  },
  {
   "cell_type": "code",
   "execution_count": 5,
   "id": "7fdbea88",
   "metadata": {},
   "outputs": [],
   "source": [
    "from head import SymmetricMatrices\n",
    "def sym_dist(query, target, domain):\n",
    "    M = SymmetricMatrices(domain, target , num_filters = 10)\n",
    "    return M.distance(query)"
   ]
  },
  {
   "cell_type": "code",
   "execution_count": 6,
   "id": "5e02deca",
   "metadata": {},
   "outputs": [],
   "source": [
    "def oracle(x):\n",
    "    \"\"\"Scoring function at a given input location\n",
    "    Uses the simulator sim to generate response spectra at a given locations\n",
    "    and return a similarity score to target spectra\n",
    "    \"\"\"\n",
    "    global EXPT_ID\n",
    "    x_np = x.cpu().numpy()    \n",
    "    sim.make_structure(r_mu=x_np[0],\n",
    "                       r_sigma=x_np[1])\n",
    "    if SPECTRA=='saxs':\n",
    "        xi, yi = sim.get_saxs(shape_param = x_np[2], \n",
    "                              n_samples=N_SAS_SAMPLES)\n",
    "        #dist = euclidean_dist(np.log10(yi),np.log10(yt))\n",
    "        dist = sym_dist(np.log10(yi),np.log10(yt), xi)\n",
    "    elif SPECTRA=='uvvis':\n",
    "        xi, yi = sim.get_uvvis(shape_param = x_np[2], \n",
    "                               n_samples=N_UVVIS_SAMPLES)\n",
    "        dist = euclidean_dist(yi,yt)\n",
    "        \n",
    "    expt[EXPT_ID] = [xi, yi, dist]\n",
    "    EXPT_ID += 1\n",
    "    \n",
    "    return torch.tensor([dist])\n",
    "\n",
    "def batch_oracle(x):\n",
    "    out = []\n",
    "    for xi in x.squeeze(1):\n",
    "        out.append(oracle(xi))\n",
    "    return torch.stack(out, dim=0).to(**tkwargs)"
   ]
  },
  {
   "cell_type": "code",
   "execution_count": null,
   "id": "a7b53950",
   "metadata": {},
   "outputs": [],
   "source": [
    "from botorch.utils.sampling import draw_sobol_samples\n",
    "\n",
    "def draw_random_batch(n_samples=6):\n",
    "    train_x = draw_sobol_samples(\n",
    "        bounds=bounds,n=1, q=n_samples, \n",
    "        seed=torch.randint(2021, (1,)).item()\n",
    "    ).squeeze(0)\n",
    "    train_obj = batch_oracle(train_x)\n",
    "    return train_x, train_obj\n",
    "\n",
    "\n",
    "train_x, train_obj = draw_random_batch(n_samples=N_INIT_SAMPLES)\n",
    "print('Generated %d samples randomly'%N_INIT_SAMPLES, train_x.shape, train_obj.shape)\n",
    "for i in range(N_INIT_SAMPLES):\n",
    "    print('%d\\t%s\\t%s'%(i, train_x[i,...].numpy(), train_obj[i,...].numpy()))"
   ]
  },
  {
   "cell_type": "code",
   "execution_count": null,
   "id": "ffe7af52",
   "metadata": {},
   "outputs": [],
   "source": [
    "def initialize_model(train_x, train_obj):\n",
    "    # define models for objective and constraint\n",
    "    model = SingleTaskGP(train_x, train_obj, \n",
    "    outcome_transform=Standardize(m=train_obj.shape[-1]))\n",
    "    mll = ExactMarginalLogLikelihood(model.likelihood, model)\n",
    "    return mll, model\n",
    "\n",
    "mll, model = initialize_model(train_x, train_obj)\n",
    "\n",
    "# 3. Define acqusition function\n",
    "obj = LinearMCObjective(weights=torch.tensor([1.0]).to(**tkwargs))\n"
   ]
  },
  {
   "cell_type": "code",
   "execution_count": null,
   "id": "91272d0e",
   "metadata": {},
   "outputs": [],
   "source": [
    "from botorch.optim.optimize import optimize_acqf\n",
    "\n",
    "def selector(f, q = BATCH_SIZE):\n",
    "    new_x, _ = optimize_acqf(\n",
    "        acq_function=f,\n",
    "        bounds=bounds,\n",
    "        q=q,\n",
    "        num_restarts=NUM_RESTARTS,\n",
    "        raw_samples=RAW_SAMPLES, \n",
    "        sequential=False,\n",
    "    )\n",
    "    new_obj = batch_oracle(new_x)\n",
    "    return new_x, new_obj"
   ]
  },
  {
   "cell_type": "code",
   "execution_count": null,
   "id": "d58dc3aa",
   "metadata": {
    "scrolled": false
   },
   "outputs": [],
   "source": [
    "torch.manual_seed(2021)\n",
    "import pdb\n",
    "\n",
    "# run N_ITERATIONS rounds of BayesOpt after the initial random batch\n",
    "print('Sampled ID \\t Locations \\t Objectives')\n",
    "for iteration in range(1, N_ITERATIONS + 1):    \n",
    "    print('Iteration : %d/%d'%(iteration, N_ITERATIONS))\n",
    "    # fit the models\n",
    "    fit_gpytorch_model(mll)\n",
    "\n",
    "    # define the acquisition module\n",
    "    acquisition = qUpperConfidenceBound(model, beta=0.1, objective=obj)\n",
    "    \n",
    "    # optimize acquisition functions and get new observations\n",
    "    new_x, new_obj = selector(acquisition)\n",
    "    for i in range(BATCH_SIZE):\n",
    "        print('%d\\t%s\\t%s'%(i, new_x[i,...].numpy(), new_obj[i,...].numpy()))\n",
    "\n",
    "    # update training points\n",
    "    train_x = torch.cat([train_x, new_x])\n",
    "    train_obj = torch.cat([train_obj, new_obj])\n",
    "\n",
    "    # re-initialize\n",
    "    mll, model = initialize_model(train_x, train_obj)\n",
    "\n",
    "    best = train_obj.max(axis=0).values\n",
    "    print('Best %.2f'%(best))"
   ]
  },
  {
   "cell_type": "code",
   "execution_count": null,
   "id": "2ea21889",
   "metadata": {},
   "outputs": [],
   "source": [
    "# obtain best sample and corresponding objective\n",
    "from botorch.acquisition import PosteriorMean\n",
    "from botorch.acquisition.objective import ScalarizedObjective\n",
    "\n",
    "objective = ScalarizedObjective(weights=torch.tensor([1.0]).to(**tkwargs))\n",
    "\n",
    "print('Actual target : ', [R_mu, R_sigma])\n",
    "opt_x, opt_obj = selector(PosteriorMean(model, objective=objective), q=1)\n",
    "opt_x = opt_x.cpu().numpy().squeeze()\n",
    "print('Optimal location: ',opt_x,\n",
    "      '\\nOptimal model scores: ', opt_obj.numpy())"
   ]
  },
  {
   "cell_type": "code",
   "execution_count": null,
   "id": "997c5178",
   "metadata": {
    "scrolled": false
   },
   "outputs": [],
   "source": [
    "from matplotlib import cm\n",
    "from matplotlib.colors import Normalize\n",
    "\n",
    "all_scores = [v[2] for _, v in expt.items()]\n",
    "norm = Normalize(vmin=min(all_scores), vmax=max(all_scores))\n",
    "cmap = cm.get_cmap('viridis')\n",
    "mappable = cm.ScalarMappable(norm=norm, cmap=cmap)\n",
    "\n",
    "batch_number = torch.cat(\n",
    "    [torch.zeros(N_INIT_SAMPLES), \n",
    "     torch.arange(1, N_ITERATIONS+1).repeat(BATCH_SIZE, 1).t().reshape(-1)]\n",
    ").numpy()\n",
    "\n",
    "for b in np.unique(batch_number):\n",
    "    fig, ax = plt.subplots(1,1)\n",
    "    fig.suptitle('Batch number %d'%b)\n",
    "    for i in np.argwhere(batch_number==b).squeeze():\n",
    "        if SPECTRA=='uvvis':\n",
    "            ax.plot(expt[i][0], expt[i][1], \n",
    "                    color=cmap(norm(expt[i][2])))\n",
    "        elif SPECTRA=='saxs':\n",
    "            ax.loglog(expt[i][0], expt[i][1],\n",
    "                      color=cmap(norm(expt[i][2])))\n",
    "    cbar = fig.colorbar(mappable,ax=ax)\n",
    "    plt.show()"
   ]
  },
  {
   "cell_type": "code",
   "execution_count": null,
   "id": "1469c75b",
   "metadata": {},
   "outputs": [],
   "source": [
    "plot_scores = []\n",
    "for b in np.unique(batch_number):\n",
    "    scores = np.asarray(all_scores)[np.argwhere(batch_number==b)]\n",
    "    mu, std = scores.mean(), scores.std()\n",
    "    plot_scores.append([mu, mu+std, mu-std])\n",
    "    \n",
    "plot_scores = np.asarray(plot_scores)\n",
    "fig, ax = plt.subplots()\n",
    "ax.fill_between(np.unique(batch_number), y1=plot_scores[:,1], y2=plot_scores[:,2], alpha=0.5)\n",
    "ax.plot(np.unique(batch_number), plot_scores[:,0])\n",
    "ax.set_xlabel('Iteration')\n",
    "ax.set_ylabel('Scores')\n",
    "plt.show()"
   ]
  },
  {
   "cell_type": "code",
   "execution_count": null,
   "id": "40f8c1ea",
   "metadata": {},
   "outputs": [],
   "source": []
  }
 ],
 "metadata": {
  "kernelspec": {
   "display_name": "head",
   "language": "python",
   "name": "head"
  },
  "language_info": {
   "codemirror_mode": {
    "name": "ipython",
    "version": 3
   },
   "file_extension": ".py",
   "mimetype": "text/x-python",
   "name": "python",
   "nbconvert_exporter": "python",
   "pygments_lexer": "ipython3",
   "version": "3.8.8"
  }
 },
 "nbformat": 4,
 "nbformat_minor": 5
}
