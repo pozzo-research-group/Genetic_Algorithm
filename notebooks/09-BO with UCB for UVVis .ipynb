{
 "cells": [
  {
   "cell_type": "code",
   "execution_count": 1,
   "id": "eded52d2",
   "metadata": {},
   "outputs": [],
   "source": [
    "%load_ext autoreload\n",
    "%autoreload 2"
   ]
  },
  {
   "cell_type": "code",
   "execution_count": 2,
   "id": "e61f9ea7",
   "metadata": {},
   "outputs": [],
   "source": [
    "import os, shutil\n",
    "import torch\n",
    "import time\n",
    "import warnings\n",
    "from botorch.exceptions import BadInitialCandidatesWarning\n",
    "import pdb\n",
    "import matplotlib.pyplot as plt\n",
    "\n",
    "tkwargs = {\n",
    "    \"dtype\": torch.double,\n",
    "    \"device\": torch.device(\"cuda\" if torch.cuda.is_available() else \"cpu\"),\n",
    "}\n",
    "import head\n",
    "import numpy as np\n",
    "from head.metrics import euclidean_dist\n",
    "from botorch.models.gp_regression import SingleTaskGP\n",
    "from botorch.models.transforms.outcome import Standardize\n",
    "from gpytorch.mlls.exact_marginal_log_likelihood import ExactMarginalLogLikelihood\n",
    "from botorch import fit_gpytorch_model\n",
    "from botorch.optim.optimize import optimize_acqf_discrete\n",
    "from botorch.acquisition.monte_carlo import qUpperConfidenceBound\n",
    "from botorch.acquisition.objective import LinearMCObjective\n",
    "from matplotlib.cm import ScalarMappable\n",
    "\n",
    "N_UVVIS_SAMPLES = 10\n",
    "N_SAS_SAMPLES = 100\n",
    "NUM_GRID_PERDIM = 100\n",
    "BATCH_SIZE = 5\n",
    "N_ITERATIONS = 10\n",
    "NUM_RESTARTS = 20 \n",
    "RAW_SAMPLES = 1024\n",
    "\n",
    "\n",
    "R_mu = 20\n",
    "R_sigma = 1e-2\n",
    "SHAPE_PARAM = 0.67\n",
    "\n",
    "expt = {}\n",
    "EXPT_ID = 0"
   ]
  },
  {
   "cell_type": "code",
   "execution_count": 3,
   "id": "6e6ca677",
   "metadata": {},
   "outputs": [
    {
     "data": {
      "image/png": "[encoded data removed]",
      "text/plain": [
       "<Figure size 576x288 with 2 Axes>"
      ]
     },
     "metadata": {
      "needs_background": "light"
     },
     "output_type": "display_data"
    }
   ],
   "source": [
    "sim = head.EmulatorMultiShape()\n",
    "sim.make_structure(r_mu=R_mu,r_sigma=R_sigma)\n",
    "\n",
    "fig, axs = plt.subplots(1,2,figsize=(4*2,4))\n",
    "\n",
    "sim.plot_radii(axs[0])\n",
    "axs[0].set_xlabel('radius')\n",
    "axs[0].set_ylabel('Probability density')\n",
    "\n",
    "q, st = sim.get_saxs(shape_param = SHAPE_PARAM, n_samples=N_SAS_SAMPLES)\n",
    "axs[1].loglog(q, st)\n",
    "plt.setp(axs[1], xlabel='q (1/A)', ylabel='I(q)')\n",
    "fig.suptitle('r = '+','.join('%.2f'%i for i in sim.radii))\n",
    "plt.show()"
   ]
  },
  {
   "cell_type": "code",
   "execution_count": 4,
   "id": "be2e4b72",
   "metadata": {},
   "outputs": [],
   "source": [
    "# define search space\n",
    "r_mu = [5,50]\n",
    "r_sigma = [0,1]\n",
    "shape_param = [0,1]\n",
    "bounds = torch.tensor((r_mu, r_sigma, shape_param)).T.to(**tkwargs)"
   ]
  },
  {
   "cell_type": "code",
   "execution_count": 5,
   "id": "5e02deca",
   "metadata": {},
   "outputs": [],
   "source": [
    "def oracle(x):\n",
    "    \"\"\"Scoring function at a given input location\n",
    "    Uses the simulator sim to generate response spectra at a given locations\n",
    "    and return a similarity score to target spectra\n",
    "    \"\"\"\n",
    "    global EXPT_ID\n",
    "    x_np = x.cpu().numpy()    \n",
    "    sim.make_structure(r_mu=x_np[0],r_sigma=x_np[1])\n",
    "    q, si = sim.get_saxs(x_np[2], n_samples=N_SAS_SAMPLES)\n",
    "    dist_sas = euclidean_dist(np.log10(si),np.log10(st))\n",
    "    expt[EXPT_ID] = [q, si, dist_sas]\n",
    "    EXPT_ID += 1\n",
    "    \n",
    "    return torch.tensor([dist_sas])\n",
    "\n",
    "def batch_oracle(x):\n",
    "    out = []\n",
    "    for xi in x.squeeze(1):\n",
    "        out.append(oracle(xi))\n",
    "    return torch.stack(out, dim=0).to(**tkwargs)"
   ]
  },
  {
   "cell_type": "code",
   "execution_count": 6,
   "id": "a7b53950",
   "metadata": {},
   "outputs": [
    {
     "name": "stdout",
     "output_type": "stream",
     "text": [
      "Generated 10 samples randomly torch.Size([10, 3]) torch.Size([10, 1])\n",
      "0\t[26.75195873  0.86088985  0.72363967]\t[-3.11499166]\n",
      "1\t[1.18323716e+01 2.01466959e-03 9.61144865e-02]\t[-10.15731907]\n",
      "2\t[45.32708228  0.92120826  0.99861127]\t[-5.76571178]\n",
      "3\t[26.23937786  0.93564725  0.76810813]\t[-3.15327883]\n",
      "4\t[44.87282068  0.14418328  0.52729291]\t[-5.71895075]\n",
      "5\t[20.58799163  0.26117662  0.80171251]\t[-0.40569425]\n",
      "6\t[48.21223527  0.49209988  0.59131134]\t[-6.14378929]\n",
      "7\t[15.49711935  0.99071431  0.27173284]\t[-7.81926537]\n",
      "8\t[42.6153931   0.97315371  0.8074227 ]\t[-5.53540468]\n",
      "9\t[48.98451835  0.74062717  0.56681347]\t[-6.24906874]\n"
     ]
    }
   ],
   "source": [
    "from botorch.utils.sampling import draw_sobol_samples\n",
    "\n",
    "def draw_random_batch(n=6):\n",
    "    train_x = draw_sobol_samples(\n",
    "        bounds=bounds,n=1, q=n, \n",
    "        seed=torch.randint(2021, (1,)).item()\n",
    "    ).squeeze(0)\n",
    "    train_obj = batch_oracle(train_x)\n",
    "    return train_x, train_obj\n",
    "\n",
    "N_INIT_SAMPLES = 10\n",
    "train_x, train_obj = draw_random_batch(n=N_INIT_SAMPLES)\n",
    "print('Generated %d samples randomly'%N_INIT_SAMPLES, train_x.shape, train_obj.shape)\n",
    "for i in range(N_INIT_SAMPLES):\n",
    "    print('%d\\t%s\\t%s'%(i, train_x[i,...].numpy(), train_obj[i,...].numpy()))"
   ]
  },
  {
   "cell_type": "code",
   "execution_count": 7,
   "id": "ffe7af52",
   "metadata": {},
   "outputs": [],
   "source": [
    "def initialize_model(train_x, train_obj):\n",
    "    # define models for objective and constraint\n",
    "    model = SingleTaskGP(train_x, train_obj, \n",
    "    outcome_transform=Standardize(m=train_obj.shape[-1]))\n",
    "    mll = ExactMarginalLogLikelihood(model.likelihood, model)\n",
    "    return mll, model\n",
    "\n",
    "mll, model = initialize_model(train_x, train_obj)\n",
    "\n",
    "# 3. Define acqusition function\n",
    "obj = LinearMCObjective(weights=torch.tensor([1.0]).to(**tkwargs))\n"
   ]
  },
  {
   "cell_type": "code",
   "execution_count": 8,
   "id": "91272d0e",
   "metadata": {},
   "outputs": [],
   "source": [
    "from botorch.optim.optimize import optimize_acqf\n",
    "\n",
    "\n",
    "def selector(f, q = BATCH_SIZE):\n",
    "    new_x, _ = optimize_acqf(\n",
    "        acq_function=f,\n",
    "        bounds=bounds,\n",
    "        q=q,\n",
    "        num_restarts=NUM_RESTARTS,\n",
    "        raw_samples=RAW_SAMPLES, \n",
    "        sequential=False,\n",
    "    )\n",
    "    new_obj = batch_oracle(new_x)\n",
    "    return new_x, new_obj"
   ]
  },
  {
   "cell_type": "code",
   "execution_count": 9,
   "id": "d58dc3aa",
   "metadata": {
    "scrolled": false
   },
   "outputs": [
    {
     "name": "stdout",
     "output_type": "stream",
     "text": [
      "Sampled ID \t Locations \t Objectives\n",
      "Iteration : 1/10\n",
      "0\t[25.21075059  0.06172679  0.20048933]\t[-4.21451807]\n",
      "1\t[20.58799156  0.26117659  0.80171246]\t[-0.51998234]\n",
      "2\t[27.61874036  0.30808596  0.52156567]\t[-3.32962632]\n",
      "3\t[32.23629807  0.0687384   0.96889376]\t[-4.01717329]\n",
      "4\t[23.46247945  0.16254481  0.30215832]\t[-4.42839336]\n",
      "Best -0.41\n",
      "Iteration : 2/10\n",
      "0\t[20.51773876  0.24443241  0.81858559]\t[-0.45298725]\n",
      "1\t[20.58771901  0.2199524   0.75587095]\t[-0.65670615]\n",
      "2\t[22.34344194  0.61698685  0.1918252 ]\t[-4.74003077]\n",
      "3\t[31.09999823  0.75987955  0.44543966]\t[-4.0550108]\n",
      "4\t[24.76138928  0.0890863   0.97416302]\t[-2.77115393]\n",
      "Best -0.41\n",
      "Iteration : 3/10\n",
      "0\t[20.59265982  0.25793602  0.90252818]\t[-0.53713632]\n",
      "1\t[13.96293899  0.93879404  0.66115203]\t[-3.41930962]\n",
      "2\t[20.5209335   0.32974875  0.84394564]\t[-0.70670259]\n",
      "3\t[8.4579086  0.70205701 0.74566715]\t[-6.21705008]\n",
      "4\t[27.07097065  0.54952627  0.80330489]\t[-3.21658826]\n",
      "Best -0.41\n",
      "Iteration : 4/10\n",
      "0\t[32.59603703  0.58535415  0.83456664]\t[-4.06734705]\n",
      "1\t[11.77365851  0.83604245  0.97161706]\t[-4.26214123]\n",
      "2\t[19.39467368  0.63645983  0.33892071]\t[-5.8868289]\n",
      "3\t[29.74820389  0.12540072  0.55697036]\t[-3.65905905]\n",
      "4\t[20.58481229  0.20373178  0.8494526 ]\t[-0.57646281]\n",
      "Best -0.41\n",
      "Iteration : 5/10\n",
      "0\t[48.82837858  0.44595875  0.95419044]\t[-6.14291716]\n",
      "1\t[14.4081549   0.60134084  0.36345604]\t[-8.42464447]\n",
      "2\t[33.45394058  0.79936135  0.58358117]\t[-4.17310619]\n",
      "3\t[21.48268526  0.32709969  0.8125731 ]\t[-1.15247869]\n",
      "4\t[20.55419295  0.25473747  0.83673967]\t[-0.45768905]\n",
      "Best -0.41\n",
      "Iteration : 6/10\n",
      "0\t[19.62012644  0.05431249  0.57733719]\t[-0.3517479]\n",
      "1\t[20.73312226  0.26188594  0.83593528]\t[-0.70306712]\n",
      "2\t[33.05011251  0.85041778  0.80435846]\t[-4.05925894]\n",
      "3\t[38.08710084  0.7706201   0.18170124]\t[-4.2798419]\n",
      "4\t[20.57953483  0.94631023  0.89904994]\t[-0.4320617]\n",
      "Best -0.35\n",
      "Iteration : 7/10\n",
      "0\t[11.97424045  0.09648586  0.78541242]\t[-4.31161976]\n",
      "1\t[31.71632999  0.24055158  0.19317493]\t[-4.07590151]\n",
      "2\t[46.76288184  0.52563303  0.68999811]\t[-5.93487358]\n",
      "3\t[19.42130873  0.91581001  0.61672934]\t[-0.37053201]\n",
      "4\t[19.82034962  0.07954593  0.72705118]\t[-0.14198171]\n",
      "Best -0.14\n",
      "Iteration : 8/10\n",
      "0\t[19.15558619  0.67903985  0.47117767]\t[-6.04394293]\n",
      "1\t[19.3420595   0.50300564  0.69010404]\t[-0.77459902]\n",
      "2\t[17.84379888  0.16272699  0.26143247]\t[-6.92961407]\n",
      "3\t[8.03961201 0.18706717 0.29665058]\t[-13.3718214]\n",
      "4\t[4.90030214e+01 4.76517483e-01 5.49361444e-04]\t[-5.50820732]\n",
      "Best -0.14\n",
      "Iteration : 9/10\n",
      "0\t[16.36459525  0.84555537  0.92414233]\t[-2.50546026]\n",
      "1\t[18.5756765   0.81639244  0.05193858]\t[-6.41388798]\n",
      "2\t[24.04696088  0.78908191  1.        ]\t[-2.55817795]\n",
      "3\t[21.8791794   0.37887658  0.29119226]\t[-4.80064487]\n",
      "4\t[19.77179021  1.          0.72267446]\t[-0.46028489]\n",
      "Best -0.14\n",
      "Iteration : 10/10\n"
     ]
    },
    {
     "ename": "ValueError",
     "evalue": "Domain error in arguments.",
     "output_type": "error",
     "traceback": [
      "\u001b[0;31m---------------------------------------------------------------------------\u001b[0m",
      "\u001b[0;31mValueError\u001b[0m                                Traceback (most recent call last)",
      "\u001b[0;32m/var/folders/84/z8kd1tl11hl96fsszww81rx40000gp/T/ipykernel_1478/2400009869.py\u001b[0m in \u001b[0;36m<module>\u001b[0;34m\u001b[0m\n\u001b[1;32m     13\u001b[0m \u001b[0;34m\u001b[0m\u001b[0m\n\u001b[1;32m     14\u001b[0m     \u001b[0;31m# optimize acquisition functions and get new observations\u001b[0m\u001b[0;34m\u001b[0m\u001b[0;34m\u001b[0m\u001b[0;34m\u001b[0m\u001b[0m\n\u001b[0;32m---> 15\u001b[0;31m     \u001b[0mnew_x\u001b[0m\u001b[0;34m,\u001b[0m \u001b[0mnew_obj\u001b[0m \u001b[0;34m=\u001b[0m \u001b[0mselector\u001b[0m\u001b[0;34m(\u001b[0m\u001b[0macquisition\u001b[0m\u001b[0;34m)\u001b[0m\u001b[0;34m\u001b[0m\u001b[0;34m\u001b[0m\u001b[0m\n\u001b[0m\u001b[1;32m     16\u001b[0m     \u001b[0;32mfor\u001b[0m \u001b[0mi\u001b[0m \u001b[0;32min\u001b[0m \u001b[0mrange\u001b[0m\u001b[0;34m(\u001b[0m\u001b[0mBATCH_SIZE\u001b[0m\u001b[0;34m)\u001b[0m\u001b[0;34m:\u001b[0m\u001b[0;34m\u001b[0m\u001b[0;34m\u001b[0m\u001b[0m\n\u001b[1;32m     17\u001b[0m         \u001b[0mprint\u001b[0m\u001b[0;34m(\u001b[0m\u001b[0;34m'%d\\t%s\\t%s'\u001b[0m\u001b[0;34m%\u001b[0m\u001b[0;34m(\u001b[0m\u001b[0mi\u001b[0m\u001b[0;34m,\u001b[0m \u001b[0mnew_x\u001b[0m\u001b[0;34m[\u001b[0m\u001b[0mi\u001b[0m\u001b[0;34m,\u001b[0m\u001b[0;34m...\u001b[0m\u001b[0;34m]\u001b[0m\u001b[0;34m.\u001b[0m\u001b[0mnumpy\u001b[0m\u001b[0;34m(\u001b[0m\u001b[0;34m)\u001b[0m\u001b[0;34m,\u001b[0m \u001b[0mnew_obj\u001b[0m\u001b[0;34m[\u001b[0m\u001b[0mi\u001b[0m\u001b[0;34m,\u001b[0m\u001b[0;34m...\u001b[0m\u001b[0;34m]\u001b[0m\u001b[0;34m.\u001b[0m\u001b[0mnumpy\u001b[0m\u001b[0;34m(\u001b[0m\u001b[0;34m)\u001b[0m\u001b[0;34m)\u001b[0m\u001b[0;34m)\u001b[0m\u001b[0;34m\u001b[0m\u001b[0;34m\u001b[0m\u001b[0m\n",
      "\u001b[0;32m/var/folders/84/z8kd1tl11hl96fsszww81rx40000gp/T/ipykernel_1478/433294230.py\u001b[0m in \u001b[0;36mselector\u001b[0;34m(f, q)\u001b[0m\n\u001b[1;32m     11\u001b[0m         \u001b[0msequential\u001b[0m\u001b[0;34m=\u001b[0m\u001b[0;32mFalse\u001b[0m\u001b[0;34m,\u001b[0m\u001b[0;34m\u001b[0m\u001b[0;34m\u001b[0m\u001b[0m\n\u001b[1;32m     12\u001b[0m     )\n\u001b[0;32m---> 13\u001b[0;31m     \u001b[0mnew_obj\u001b[0m \u001b[0;34m=\u001b[0m \u001b[0mbatch_oracle\u001b[0m\u001b[0;34m(\u001b[0m\u001b[0mnew_x\u001b[0m\u001b[0;34m)\u001b[0m\u001b[0;34m\u001b[0m\u001b[0;34m\u001b[0m\u001b[0m\n\u001b[0m\u001b[1;32m     14\u001b[0m     \u001b[0;32mreturn\u001b[0m \u001b[0mnew_x\u001b[0m\u001b[0;34m,\u001b[0m \u001b[0mnew_obj\u001b[0m\u001b[0;34m\u001b[0m\u001b[0;34m\u001b[0m\u001b[0m\n",
      "\u001b[0;32m/var/folders/84/z8kd1tl11hl96fsszww81rx40000gp/T/ipykernel_1478/1089474967.py\u001b[0m in \u001b[0;36mbatch_oracle\u001b[0;34m(x)\u001b[0m\n\u001b[1;32m     17\u001b[0m     \u001b[0mout\u001b[0m \u001b[0;34m=\u001b[0m \u001b[0;34m[\u001b[0m\u001b[0;34m]\u001b[0m\u001b[0;34m\u001b[0m\u001b[0;34m\u001b[0m\u001b[0m\n\u001b[1;32m     18\u001b[0m     \u001b[0;32mfor\u001b[0m \u001b[0mxi\u001b[0m \u001b[0;32min\u001b[0m \u001b[0mx\u001b[0m\u001b[0;34m.\u001b[0m\u001b[0msqueeze\u001b[0m\u001b[0;34m(\u001b[0m\u001b[0;36m1\u001b[0m\u001b[0;34m)\u001b[0m\u001b[0;34m:\u001b[0m\u001b[0;34m\u001b[0m\u001b[0;34m\u001b[0m\u001b[0m\n\u001b[0;32m---> 19\u001b[0;31m         \u001b[0mout\u001b[0m\u001b[0;34m.\u001b[0m\u001b[0mappend\u001b[0m\u001b[0;34m(\u001b[0m\u001b[0moracle\u001b[0m\u001b[0;34m(\u001b[0m\u001b[0mxi\u001b[0m\u001b[0;34m)\u001b[0m\u001b[0;34m)\u001b[0m\u001b[0;34m\u001b[0m\u001b[0;34m\u001b[0m\u001b[0m\n\u001b[0m\u001b[1;32m     20\u001b[0m     \u001b[0;32mreturn\u001b[0m \u001b[0mtorch\u001b[0m\u001b[0;34m.\u001b[0m\u001b[0mstack\u001b[0m\u001b[0;34m(\u001b[0m\u001b[0mout\u001b[0m\u001b[0;34m,\u001b[0m \u001b[0mdim\u001b[0m\u001b[0;34m=\u001b[0m\u001b[0;36m0\u001b[0m\u001b[0;34m)\u001b[0m\u001b[0;34m.\u001b[0m\u001b[0mto\u001b[0m\u001b[0;34m(\u001b[0m\u001b[0;34m**\u001b[0m\u001b[0mtkwargs\u001b[0m\u001b[0;34m)\u001b[0m\u001b[0;34m\u001b[0m\u001b[0;34m\u001b[0m\u001b[0m\n",
      "\u001b[0;32m/var/folders/84/z8kd1tl11hl96fsszww81rx40000gp/T/ipykernel_1478/1089474967.py\u001b[0m in \u001b[0;36moracle\u001b[0;34m(x)\u001b[0m\n\u001b[1;32m      6\u001b[0m     \u001b[0;32mglobal\u001b[0m \u001b[0mEXPT_ID\u001b[0m\u001b[0;34m\u001b[0m\u001b[0;34m\u001b[0m\u001b[0m\n\u001b[1;32m      7\u001b[0m     \u001b[0mx_np\u001b[0m \u001b[0;34m=\u001b[0m \u001b[0mx\u001b[0m\u001b[0;34m.\u001b[0m\u001b[0mcpu\u001b[0m\u001b[0;34m(\u001b[0m\u001b[0;34m)\u001b[0m\u001b[0;34m.\u001b[0m\u001b[0mnumpy\u001b[0m\u001b[0;34m(\u001b[0m\u001b[0;34m)\u001b[0m\u001b[0;34m\u001b[0m\u001b[0;34m\u001b[0m\u001b[0m\n\u001b[0;32m----> 8\u001b[0;31m     \u001b[0msim\u001b[0m\u001b[0;34m.\u001b[0m\u001b[0mmake_structure\u001b[0m\u001b[0;34m(\u001b[0m\u001b[0mr_mu\u001b[0m\u001b[0;34m=\u001b[0m\u001b[0mx_np\u001b[0m\u001b[0;34m[\u001b[0m\u001b[0;36m0\u001b[0m\u001b[0;34m]\u001b[0m\u001b[0;34m,\u001b[0m\u001b[0mr_sigma\u001b[0m\u001b[0;34m=\u001b[0m\u001b[0mx_np\u001b[0m\u001b[0;34m[\u001b[0m\u001b[0;36m1\u001b[0m\u001b[0;34m]\u001b[0m\u001b[0;34m)\u001b[0m\u001b[0;34m\u001b[0m\u001b[0;34m\u001b[0m\u001b[0m\n\u001b[0m\u001b[1;32m      9\u001b[0m     \u001b[0mq\u001b[0m\u001b[0;34m,\u001b[0m \u001b[0msi\u001b[0m \u001b[0;34m=\u001b[0m \u001b[0msim\u001b[0m\u001b[0;34m.\u001b[0m\u001b[0mget_saxs\u001b[0m\u001b[0;34m(\u001b[0m\u001b[0mx_np\u001b[0m\u001b[0;34m[\u001b[0m\u001b[0;36m2\u001b[0m\u001b[0;34m]\u001b[0m\u001b[0;34m,\u001b[0m \u001b[0mn_samples\u001b[0m\u001b[0;34m=\u001b[0m\u001b[0mN_SAS_SAMPLES\u001b[0m\u001b[0;34m)\u001b[0m\u001b[0;34m\u001b[0m\u001b[0;34m\u001b[0m\u001b[0m\n\u001b[1;32m     10\u001b[0m     \u001b[0mdist_sas\u001b[0m \u001b[0;34m=\u001b[0m \u001b[0meuclidean_dist\u001b[0m\u001b[0;34m(\u001b[0m\u001b[0mnp\u001b[0m\u001b[0;34m.\u001b[0m\u001b[0mlog10\u001b[0m\u001b[0;34m(\u001b[0m\u001b[0msi\u001b[0m\u001b[0;34m)\u001b[0m\u001b[0;34m,\u001b[0m\u001b[0mnp\u001b[0m\u001b[0;34m.\u001b[0m\u001b[0mlog10\u001b[0m\u001b[0;34m(\u001b[0m\u001b[0mst\u001b[0m\u001b[0;34m)\u001b[0m\u001b[0;34m)\u001b[0m\u001b[0;34m\u001b[0m\u001b[0;34m\u001b[0m\u001b[0m\n",
      "\u001b[0;32m~/Google Drive/Projects/Genetic_Algorithm/head/modelling.py\u001b[0m in \u001b[0;36mmake_structure\u001b[0;34m(self, r_mu, r_sigma, spatial)\u001b[0m\n\u001b[1;32m     55\u001b[0m         \u001b[0mself\u001b[0m\u001b[0;34m.\u001b[0m\u001b[0mradii_dist_kwargs\u001b[0m \u001b[0;34m=\u001b[0m \u001b[0;34m{\u001b[0m\u001b[0;34m's'\u001b[0m\u001b[0;34m:\u001b[0m \u001b[0mself\u001b[0m\u001b[0;34m.\u001b[0m\u001b[0mr_sigma\u001b[0m\u001b[0;34m,\u001b[0m \u001b[0;34m'loc'\u001b[0m\u001b[0;34m:\u001b[0m\u001b[0mself\u001b[0m\u001b[0;34m.\u001b[0m\u001b[0mr_mu\u001b[0m\u001b[0;34m,\u001b[0m \u001b[0;34m'scale'\u001b[0m\u001b[0;34m:\u001b[0m\u001b[0;36m1\u001b[0m\u001b[0;34m}\u001b[0m\u001b[0;34m\u001b[0m\u001b[0;34m\u001b[0m\u001b[0m\n\u001b[1;32m     56\u001b[0m         \u001b[0mself\u001b[0m\u001b[0;34m.\u001b[0m\u001b[0mradii_dist\u001b[0m \u001b[0;34m=\u001b[0m \u001b[0mstats\u001b[0m\u001b[0;34m.\u001b[0m\u001b[0mlognorm\u001b[0m\u001b[0;34m(\u001b[0m\u001b[0;34m**\u001b[0m\u001b[0mself\u001b[0m\u001b[0;34m.\u001b[0m\u001b[0mradii_dist_kwargs\u001b[0m\u001b[0;34m)\u001b[0m\u001b[0;34m\u001b[0m\u001b[0;34m\u001b[0m\u001b[0m\n\u001b[0;32m---> 57\u001b[0;31m         \u001b[0mself\u001b[0m\u001b[0;34m.\u001b[0m\u001b[0mradii\u001b[0m \u001b[0;34m=\u001b[0m \u001b[0mstats\u001b[0m\u001b[0;34m.\u001b[0m\u001b[0mlognorm\u001b[0m\u001b[0;34m.\u001b[0m\u001b[0mrvs\u001b[0m\u001b[0;34m(\u001b[0m\u001b[0msize\u001b[0m\u001b[0;34m=\u001b[0m\u001b[0mself\u001b[0m\u001b[0;34m.\u001b[0m\u001b[0mn_structures\u001b[0m\u001b[0;34m,\u001b[0m \u001b[0;34m**\u001b[0m\u001b[0mself\u001b[0m\u001b[0;34m.\u001b[0m\u001b[0mradii_dist_kwargs\u001b[0m\u001b[0;34m)\u001b[0m\u001b[0;34m\u001b[0m\u001b[0;34m\u001b[0m\u001b[0m\n\u001b[0m\u001b[1;32m     58\u001b[0m         \u001b[0mself\u001b[0m\u001b[0;34m.\u001b[0m\u001b[0mradii_nrs\u001b[0m \u001b[0;34m=\u001b[0m \u001b[0mself\u001b[0m\u001b[0;34m.\u001b[0m\u001b[0mradii\u001b[0m\u001b[0;34m/\u001b[0m\u001b[0mself\u001b[0m\u001b[0;34m.\u001b[0m\u001b[0mstep\u001b[0m\u001b[0;34m\u001b[0m\u001b[0;34m\u001b[0m\u001b[0m\n\u001b[1;32m     59\u001b[0m \u001b[0;34m\u001b[0m\u001b[0m\n",
      "\u001b[0;32m~/Google Drive/Projects/Genetic_Algorithm/env/lib/python3.8/site-packages/scipy/stats/_distn_infrastructure.py\u001b[0m in \u001b[0;36mrvs\u001b[0;34m(self, *args, **kwds)\u001b[0m\n\u001b[1;32m   1065\u001b[0m         \u001b[0mcond\u001b[0m \u001b[0;34m=\u001b[0m \u001b[0mlogical_and\u001b[0m\u001b[0;34m(\u001b[0m\u001b[0mself\u001b[0m\u001b[0;34m.\u001b[0m\u001b[0m_argcheck\u001b[0m\u001b[0;34m(\u001b[0m\u001b[0;34m*\u001b[0m\u001b[0margs\u001b[0m\u001b[0;34m)\u001b[0m\u001b[0;34m,\u001b[0m \u001b[0;34m(\u001b[0m\u001b[0mscale\u001b[0m \u001b[0;34m>=\u001b[0m \u001b[0;36m0\u001b[0m\u001b[0;34m)\u001b[0m\u001b[0;34m)\u001b[0m\u001b[0;34m\u001b[0m\u001b[0;34m\u001b[0m\u001b[0m\n\u001b[1;32m   1066\u001b[0m         \u001b[0;32mif\u001b[0m \u001b[0;32mnot\u001b[0m \u001b[0mnp\u001b[0m\u001b[0;34m.\u001b[0m\u001b[0mall\u001b[0m\u001b[0;34m(\u001b[0m\u001b[0mcond\u001b[0m\u001b[0;34m)\u001b[0m\u001b[0;34m:\u001b[0m\u001b[0;34m\u001b[0m\u001b[0;34m\u001b[0m\u001b[0m\n\u001b[0;32m-> 1067\u001b[0;31m             \u001b[0;32mraise\u001b[0m \u001b[0mValueError\u001b[0m\u001b[0;34m(\u001b[0m\u001b[0;34m\"Domain error in arguments.\"\u001b[0m\u001b[0;34m)\u001b[0m\u001b[0;34m\u001b[0m\u001b[0;34m\u001b[0m\u001b[0m\n\u001b[0m\u001b[1;32m   1068\u001b[0m \u001b[0;34m\u001b[0m\u001b[0m\n\u001b[1;32m   1069\u001b[0m         \u001b[0;32mif\u001b[0m \u001b[0mnp\u001b[0m\u001b[0;34m.\u001b[0m\u001b[0mall\u001b[0m\u001b[0;34m(\u001b[0m\u001b[0mscale\u001b[0m \u001b[0;34m==\u001b[0m \u001b[0;36m0\u001b[0m\u001b[0;34m)\u001b[0m\u001b[0;34m:\u001b[0m\u001b[0;34m\u001b[0m\u001b[0;34m\u001b[0m\u001b[0m\n",
      "\u001b[0;31mValueError\u001b[0m: Domain error in arguments."
     ]
    }
   ],
   "source": [
    "torch.manual_seed(2021)\n",
    "import pdb\n",
    "\n",
    "# run N_ITERATIONS rounds of BayesOpt after the initial random batch\n",
    "print('Sampled ID \\t Locations \\t Objectives')\n",
    "for iteration in range(1, N_ITERATIONS + 1):    \n",
    "    print('Iteration : %d/%d'%(iteration, N_ITERATIONS))\n",
    "    # fit the models\n",
    "    fit_gpytorch_model(mll)\n",
    "\n",
    "    # define the acquisition module\n",
    "    acquisition = qUpperConfidenceBound(model, beta=0.1, objective=obj)\n",
    "    \n",
    "    # optimize acquisition functions and get new observations\n",
    "    new_x, new_obj = selector(acquisition)\n",
    "    for i in range(BATCH_SIZE):\n",
    "        print('%d\\t%s\\t%s'%(i, new_x[i,...].numpy(), new_obj[i,...].numpy()))\n",
    "\n",
    "    # update training points\n",
    "    train_x = torch.cat([train_x, new_x])\n",
    "    train_obj = torch.cat([train_obj, new_obj])\n",
    "\n",
    "    # re-initialize\n",
    "    mll, model = initialize_model(train_x, train_obj)\n",
    "\n",
    "    best = train_obj.max(axis=0).values\n",
    "    print('Best %.2f'%(best))"
   ]
  },
  {
   "cell_type": "code",
   "execution_count": null,
   "id": "2ea21889",
   "metadata": {},
   "outputs": [],
   "source": [
    "# obtain best sample and corresponding objective\n",
    "from botorch.acquisition import PosteriorMean\n",
    "from botorch.acquisition.objective import ScalarizedObjective\n",
    "objective = ScalarizedObjective(weights=torch.tensor([1.0]).to(**tkwargs))\n",
    "\n",
    "print('Actual target : ', [R_mu, R_sigma])\n",
    "opt_x, opt_obj = selector(PosteriorMean(model, objective=objective), q=1)\n",
    "print('Optimal location: ',opt_x.numpy(),'\\nOptimal model scores: ', opt_obj.numpy())"
   ]
  },
  {
   "cell_type": "code",
   "execution_count": null,
   "id": "997c5178",
   "metadata": {
    "scrolled": false
   },
   "outputs": [],
   "source": [
    "batch_number = torch.cat(\n",
    "    [torch.zeros(N_INIT_SAMPLES), \n",
    "     torch.arange(1, N_ITERATIONS+1).repeat(BATCH_SIZE, 1).t().reshape(-1)]\n",
    ").numpy()\n",
    "\n",
    "for b in np.unique(batch_number):\n",
    "    fig, ax = plt.subplots(1,1)\n",
    "    fig.suptitle('Batch number %d'%b)\n",
    "    for i in np.argwhere(batch_number==b).squeeze():\n",
    "        ax.loglog(expt[i][0], expt[i][1], label='%.2f'%expt[i][2])\n",
    "    ax.legend()\n",
    "    plt.show()"
   ]
  },
  {
   "cell_type": "code",
   "execution_count": null,
   "id": "f608304f",
   "metadata": {},
   "outputs": [],
   "source": []
  }
 ],
 "metadata": {
  "kernelspec": {
   "display_name": "head",
   "language": "python",
   "name": "head"
  },
  "language_info": {
   "codemirror_mode": {
    "name": "ipython",
    "version": 3
   },
   "file_extension": ".py",
   "mimetype": "text/x-python",
   "name": "python",
   "nbconvert_exporter": "python",
   "pygments_lexer": "ipython3",
   "version": "3.8.8"
  }
 },
 "nbformat": 4,
 "nbformat_minor": 5
}
