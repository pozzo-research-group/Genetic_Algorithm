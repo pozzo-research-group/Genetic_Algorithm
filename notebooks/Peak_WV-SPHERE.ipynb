{
 "cells": [
  {
   "cell_type": "code",
   "execution_count": 5,
   "id": "2ac69037",
   "metadata": {},
   "outputs": [],
   "source": [
    "from head import opentrons\n",
    "import pandas as pd\n",
    "import numpy as np\n",
    "from scipy.spatial import distance\n",
    "import warnings\n",
    "import matplotlib.pyplot as plt\n",
    "warnings.filterwarnings(\"ignore\")"
   ]
  },
  {
   "cell_type": "code",
   "execution_count": 6,
   "id": "fdf80a0e",
   "metadata": {},
   "outputs": [],
   "source": [
    "class Simulator:\n",
    "    def __init__(self):\n",
    "        self.domain = np.linspace(-5,5,num=100)\n",
    "        \n",
    "    def generate(self, mu, sig):\n",
    "        scale = 1/(np.sqrt(2*np.pi)*sig)\n",
    "        return scale*np.exp(-np.power(self.domain - mu, 2.) / (2 * np.power(sig, 2.)))\n",
    "    \n",
    "    def process_batch(self, Cb, fname):\n",
    "        out = []\n",
    "        for c in Cb:\n",
    "            out.append(self.generate(*c))\n",
    "        out = np.asarray(out)\n",
    "        df = pd.DataFrame(out.T, index=self.domain)\n",
    "        df.to_excel(fname, engine='openpyxl')\n",
    "        \n",
    "        return \n",
    "    \n",
    "    def make_target(self, ct):\n",
    "        return self.domain, self.generate(*ct)"
   ]
  },
  {
   "cell_type": "code",
   "execution_count": 7,
   "id": "accd39c5",
   "metadata": {},
   "outputs": [],
   "source": [
    "def APdist(f1,f2):\n",
    "    distance = (np.abs((np.argmax(f1) - np.argmax(f2))/100) + np.abs(np.max(f1) - np.max(f2)))\n",
    "    return -distance\n",
    "    "
   ]
  },
  {
   "cell_type": "code",
   "execution_count": 8,
   "id": "db1b0bf2",
   "metadata": {},
   "outputs": [
    {
     "data": {
      "text/plain": [
       "[<matplotlib.lines.Line2D at 0x7febe3ecaf40>]"
      ]
     },
     "execution_count": 8,
     "metadata": {},
     "output_type": "execute_result"
    },
    {
     "data": {
      "image/png": "[encoded data removed]",
      "text/plain": [
       "<Figure size 432x288 with 1 Axes>"
      ]
     },
     "metadata": {
      "needs_background": "light"
     },
     "output_type": "display_data"
    }
   ],
   "source": [
    "AG = [10,150]\n",
    "AA = [10,150]\n",
    "bounds = [AG, AA]\n",
    "target = pd.read_excel('Target_Sphere.xlsx')\n",
    "target = np.asarray(target)\n",
    "xt = target[:,0]\n",
    "yt = target[:,1]\n",
    "plt.plot(xt,yt)"
   ]
  },
  {
   "cell_type": "code",
   "execution_count": 9,
   "id": "8734df44",
   "metadata": {},
   "outputs": [
    {
     "name": "stderr",
     "output_type": "stream",
     "text": [
      "INFO: Getting suggestions for iteration 0\n",
      "INFO: Iteration : 0, Samples to be made\n",
      "INFO: 0\t[66.33221434 22.86868734]\n",
      "INFO: 1\t[31.51409796 50.72001452]\n",
      "INFO: 2\t[99.64753031 72.19297898]\n",
      "INFO: 3\t[119.38123297 145.11514165]\n",
      "INFO: ==============================\n"
     ]
    }
   ],
   "source": [
    "optim = opentrons.Optimizer(xt, yt, \n",
    "                            bounds, \n",
    "                            savedir = '../data_peakwv_SPHERE',\n",
    "                            batch_size=4,\n",
    "                            metric = APdist\n",
    "                           )\n",
    "optim.save()"
   ]
  },
  {
   "cell_type": "code",
   "execution_count": 11,
   "id": "aee04e11",
   "metadata": {},
   "outputs": [
    {
     "name": "stderr",
     "output_type": "stream",
     "text": [
      "INFO: Getting suggestions for iteration 1\n",
      "INFO: Iteration : 1, Samples to be made\n",
      "INFO: 0\t[10.14000001 97.98382673]\n",
      "INFO: 1\t[10.14000001 10.14000001]\n",
      "INFO: 2\t[ 10.14000001 150.        ]\n",
      "INFO: 3\t[ 57.37780995 150.        ]\n",
      "INFO: ==============================\n",
      "INFO: Iteration : 2 Best estimate [[31.85951226 28.56930588]] with predicted score : [[-0.86059724]]\n"
     ]
    }
   ],
   "source": [
    "# random iteration\n",
    "optim.save()\n",
    "optim.update('../data_peakwv_SPHERE/0.xlsx')\n",
    "optim.suggest_next()\n",
    "optim.get_current_best()\n",
    "optim.save()"
   ]
  },
  {
   "cell_type": "code",
   "execution_count": 12,
   "id": "9d7e43ef",
   "metadata": {},
   "outputs": [
    {
     "name": "stderr",
     "output_type": "stream",
     "text": [
      "INFO: Getting suggestions for iteration 2\n",
      "INFO: Iteration : 2, Samples to be made\n",
      "INFO: 0\t[150.          82.56988061]\n",
      "INFO: 1\t[150.          10.14000001]\n",
      "INFO: 2\t[ 10.14000001 124.38963819]\n",
      "INFO: 3\t[150. 150.]\n",
      "INFO: ==============================\n",
      "INFO: Iteration : 3 Best estimate [[ 10.14000001 125.25905939]] with predicted score : [[-0.13825314]]\n"
     ]
    }
   ],
   "source": [
    "# random iteration\n",
    "optim.save()\n",
    "optim.update('../data_peakwv_SPHERE/1.xlsx')\n",
    "optim.save()\n",
    "optim.suggest_next()\n",
    "optim.get_current_best()\n",
    "optim.save()"
   ]
  },
  {
   "cell_type": "code",
   "execution_count": 15,
   "id": "c8c5e61f",
   "metadata": {},
   "outputs": [
    {
     "name": "stderr",
     "output_type": "stream",
     "text": [
      "INFO: Getting suggestions for iteration 3\n",
      "INFO: Iteration : 3, Samples to be made\n",
      "INFO: 0\t[108.89023383  79.46922983]\n",
      "INFO: 1\t[ 21.00072737 120.57929457]\n",
      "INFO: 2\t[10.14000001 60.11925805]\n",
      "INFO: 3\t[ 20.99645904 138.94616768]\n",
      "INFO: ==============================\n",
      "INFO: Iteration : 4 Best estimate [[ 10.14000001 124.06722852]] with predicted score : [[-0.09357291]]\n"
     ]
    }
   ],
   "source": [
    "# random iteration\n",
    "optim.save()\n",
    "optim.update('../data_peakwv_SPHERE/2.xlsx')\n",
    "optim.save()\n",
    "optim.suggest_next()\n",
    "optim.get_current_best()\n",
    "optim.save()"
   ]
  },
  {
   "cell_type": "code",
   "execution_count": 18,
   "id": "de6b89ad",
   "metadata": {},
   "outputs": [
    {
     "name": "stderr",
     "output_type": "stream",
     "text": [
      "INFO: Getting suggestions for iteration 4\n",
      "INFO: Iteration : 4, Samples to be made\n",
      "INFO: 0\t[140.89062784 150.        ]\n",
      "INFO: 1\t[132.47784309 150.        ]\n",
      "INFO: 2\t[129.21337052  10.14000001]\n",
      "INFO: 3\t[140.24442767  10.14000001]\n",
      "INFO: ==============================\n",
      "INFO: Iteration : 5 Best estimate [[ 10.14000001 125.58858494]] with predicted score : [[-0.09474583]]\n"
     ]
    }
   ],
   "source": [
    "# random iteration\n",
    "optim.save()\n",
    "optim.update('../data_peakwv_SPHERE/3.xlsx')\n",
    "optim.save()\n",
    "optim.suggest_next()\n",
    "optim.get_current_best()\n",
    "optim.save()"
   ]
  },
  {
   "cell_type": "code",
   "execution_count": 19,
   "id": "2f970c2a",
   "metadata": {},
   "outputs": [
    {
     "name": "stderr",
     "output_type": "stream",
     "text": [
      "INFO: Getting suggestions for iteration 5\n",
      "INFO: Iteration : 5, Samples to be made\n",
      "INFO: 0\t[131.64218425  69.70927151]\n",
      "INFO: 1\t[41.72508292 10.14000001]\n",
      "INFO: 2\t[49.65161357 10.14000001]\n",
      "INFO: 3\t[ 78.33878846 150.        ]\n",
      "INFO: ==============================\n",
      "INFO: Iteration : 6 Best estimate [[ 10.14000001 125.48257323]] with predicted score : [[-0.09541653]]\n"
     ]
    }
   ],
   "source": [
    "# random iteration\n",
    "optim.save()\n",
    "optim.update('../data_peakwv_SPHERE/4.xlsx')\n",
    "optim.save()\n",
    "optim.suggest_next()\n",
    "optim.get_current_best()\n",
    "optim.save()"
   ]
  },
  {
   "cell_type": "code",
   "execution_count": 20,
   "id": "68afdaee",
   "metadata": {},
   "outputs": [
    {
     "name": "stderr",
     "output_type": "stream",
     "text": [
      "INFO: Getting suggestions for iteration 6\n",
      "INFO: Iteration : 6, Samples to be made\n",
      "INFO: 0\t[80.26030911 10.14000001]\n",
      "INFO: 1\t[121.03755575  10.14000001]\n",
      "INFO: 2\t[79.24840646 76.3255548 ]\n",
      "INFO: 3\t[ 85.09418191 150.        ]\n",
      "INFO: ==============================\n",
      "INFO: Iteration : 7 Best estimate [[ 10.14000001 125.40971642]] with predicted score : [[-0.09529174]]\n"
     ]
    }
   ],
   "source": [
    "# random iteration\n",
    "optim.save()\n",
    "optim.update('../data_peakwv_SPHERE/5.xlsx')\n",
    "optim.save()\n",
    "optim.suggest_next()\n",
    "optim.get_current_best()\n",
    "optim.save()"
   ]
  },
  {
   "cell_type": "code",
   "execution_count": 21,
   "id": "d9d529eb",
   "metadata": {},
   "outputs": [
    {
     "name": "stderr",
     "output_type": "stream",
     "text": [
      "INFO: Getting suggestions for iteration 7\n",
      "INFO: Iteration : 7, Samples to be made\n",
      "INFO: 0\t[137.19885815  36.98756794]\n",
      "INFO: 1\t[97.56250026 10.14000001]\n",
      "INFO: 2\t[75.40746881 96.71800853]\n",
      "INFO: 3\t[23.60630669 10.14000001]\n",
      "INFO: ==============================\n",
      "INFO: Iteration : 8 Best estimate [[ 10.14000001 126.1540915 ]] with predicted score : [[-0.09918605]]\n"
     ]
    }
   ],
   "source": [
    "# random iteration\n",
    "optim.save()\n",
    "optim.update('../data_peakwv_SPHERE/6.xlsx')\n",
    "optim.save()\n",
    "optim.suggest_next()\n",
    "optim.get_current_best()\n",
    "optim.save()"
   ]
  },
  {
   "cell_type": "code",
   "execution_count": null,
   "id": "3d432a1d",
   "metadata": {},
   "outputs": [],
   "source": []
  },
  {
   "cell_type": "code",
   "execution_count": null,
   "id": "d850bd2f",
   "metadata": {},
   "outputs": [],
   "source": []
  },
  {
   "cell_type": "code",
   "execution_count": null,
   "id": "501c3d40",
   "metadata": {},
   "outputs": [],
   "source": []
  },
  {
   "cell_type": "code",
   "execution_count": null,
   "id": "df66bd52",
   "metadata": {},
   "outputs": [],
   "source": []
  },
  {
   "cell_type": "code",
   "execution_count": 22,
   "id": "d975d9f4",
   "metadata": {},
   "outputs": [
    {
     "data": {
      "image/png": "[encoded data removed]",
      "text/plain": [
       "<Figure size 432x288 with 2 Axes>"
      ]
     },
     "metadata": {
      "needs_background": "light"
     },
     "output_type": "display_data"
    }
   ],
   "source": [
    "import matplotlib.pyplot as plt\n",
    "from matplotlib.colors import LightSource\n",
    "from matplotlib import cm\n",
    "from matplotlib.colors import Normalize\n",
    "import head\n",
    "import torch\n",
    "target = [10,90]\n",
    "tkwargs = {\n",
    "    \"dtype\": torch.double,\n",
    "    \"device\": torch.device(\"cuda\" if torch.cuda.is_available() else \"cpu\"),\n",
    "}\n",
    "\n",
    "fig, ax = plt.subplots(subplot_kw={'projection':'3d'})\n",
    "\n",
    "ax.set_xlabel(r'$\\mu$', fontsize=18)\n",
    "ax.set_ylabel(r'$\\sigma$', fontsize=18)\n",
    "with torch.no_grad():\n",
    "    num_grid_spacing = 20\n",
    "    mu_grid = np.linspace(*bounds[0], num=num_grid_spacing)\n",
    "    sig_grid = np.linspace(*bounds[1], num=num_grid_spacing)\n",
    "    test_x = head.Grid(mu_grid, sig_grid).points\n",
    "    posterior = optim.model.posterior(optim.inp.transform(torch.tensor(test_x).to(**tkwargs)))\n",
    "    posterior_mean = posterior.mean.cpu().numpy()\n",
    "    lower, upper = posterior.mvn.confidence_region()\n",
    "    confidence = np.abs((lower-upper).numpy())\n",
    "    ls = LightSource(0, 0)\n",
    "    rgb = ls.shade(confidence.reshape(num_grid_spacing,num_grid_spacing), \n",
    "                   cmap=cm.coolwarm, vert_exag=0.1, blend_mode='soft')\n",
    "    XX, YY = np.meshgrid(mu_grid, sig_grid)\n",
    "    Z = posterior_mean.reshape(num_grid_spacing,num_grid_spacing)\n",
    "    sc = ax.plot_surface(XX, YY, Z, \n",
    "                    rstride=1, cstride=1, \n",
    "                    facecolors=rgb,\n",
    "                    linewidth=0, antialiased=False, shade=False)\n",
    "    ax.contour(XX, YY, Z, zdir='z', offset=-1.4, cmap=cm.viridis)\n",
    "    ax.scatter(target[0], target[1], zs=-1.4, zdir='z', marker='*', s=200,color='k')\n",
    "    ax.set_title('Model approximation for f(x)')\n",
    "    cmap = cm.get_cmap('coolwarm')\n",
    "    norm = Normalize(vmin=confidence.min(), vmax = confidence.max())\n",
    "    cax = plt.axes([0.95, 0.2, 0.01, 0.6])        \n",
    "    cbar = fig.colorbar(cm.ScalarMappable(norm=norm, cmap=cmap), cax=cax)\n",
    "    cbar.ax.set_ylabel('Uncertainity', rotation=270)\n",
    "    cbar.ax.get_yaxis().labelpad = 15\n",
    "    \n",
    "plt.show()"
   ]
  },
  {
   "cell_type": "code",
   "execution_count": 23,
   "id": "211fc280",
   "metadata": {},
   "outputs": [
    {
     "data": {
      "image/png": "[encoded data removed]",
      "text/plain": [
       "<Figure size 432x288 with 2 Axes>"
      ]
     },
     "metadata": {
      "needs_background": "light"
     },
     "output_type": "display_data"
    }
   ],
   "source": [
    "fig, ax = plt.subplots()\n",
    "im = ax.contourf(XX, YY, Z, cmap=cm.Blues)\n",
    "ax.scatter(target[0], target[1], \n",
    "           marker='*', s=200,color='tab:red', lw=2.0,fc='none', label='Target')\n",
    "opt_x = optim.best_loc[-1][0]\n",
    "ax.scatter(opt_x[0], opt_x[1], \n",
    "           marker='*', s=200,lw=2.0,fc='none',color='k', label='Estimate')\n",
    "train_x_unscaled = optim.inp.inverse(optim.train_x)\n",
    "ax.scatter(train_x_unscaled[:,0], train_x_unscaled[:,1], \n",
    "           marker='o', fc='none', edgecolors=(0,0,0), lw=2.0, alpha=0.1, label='Collected')\n",
    "ax.legend()\n",
    "ax.set_xlim(bounds[0])\n",
    "ax.set_ylim(bounds[1])\n",
    "ax.set_xlabel(r'$\\mu$')\n",
    "ax.set_ylabel(r'$\\sigma$')\n",
    "\n",
    "cmap = cm.get_cmap('coolwarm')\n",
    "norm = Normalize(vmin=confidence.min(), vmax = confidence.max())\n",
    "cax = plt.axes([0.95, 0.2, 0.03, 0.6])        \n",
    "cbar = fig.colorbar(im, cax=cax)\n",
    "cbar.ax.set_ylabel('Distance', rotation=270)\n",
    "cbar.ax.get_yaxis().labelpad = 15\n",
    "plt.show()"
   ]
  },
  {
   "cell_type": "code",
   "execution_count": 25,
   "id": "4944accf",
   "metadata": {},
   "outputs": [],
   "source": [
    "save_dir = '../data_peakwv_SPHERE/'\n",
    "np.save(save_dir+'confidence.npy', confidence)\n",
    "np.save(save_dir+'opt_x.npy', opt_x)\n",
    "np.save(save_dir+'posterior_mean.npy', posterior_mean)\n",
    "np.save(save_dir+'lower.npy', lower)\n",
    "np.save(save_dir+'upper.npy', upper)"
   ]
  },
  {
   "cell_type": "code",
   "execution_count": null,
   "id": "7ad4f21b",
   "metadata": {},
   "outputs": [],
   "source": []
  }
 ],
 "metadata": {
  "kernelspec": {
   "display_name": "Python 3",
   "language": "python",
   "name": "python3"
  },
  "language_info": {
   "codemirror_mode": {
    "name": "ipython",
    "version": 3
   },
   "file_extension": ".py",
   "mimetype": "text/x-python",
   "name": "python",
   "nbconvert_exporter": "python",
   "pygments_lexer": "ipython3",
   "version": "3.9.1"
  }
 },
 "nbformat": 4,
 "nbformat_minor": 5
}
