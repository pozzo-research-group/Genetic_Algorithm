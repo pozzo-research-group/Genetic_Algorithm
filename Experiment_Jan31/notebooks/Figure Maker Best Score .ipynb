{
 "cells": [
  {
   "cell_type": "code",
   "execution_count": 1,
   "id": "a86be28a",
   "metadata": {},
   "outputs": [],
   "source": [
    "import numpy as np \n",
    "import pandas as pd\n",
    "import matplotlib.pyplot as plt\n",
    "from matplotlib import cm\n",
    "from matplotlib.colors import Normalize\n",
    "import matplotlib\n",
    "plt.rcParams.update({\n",
    "                     \"axes.spines.right\" : False,\n",
    "                     \"axes.spines.top\" : False,\n",
    "                     \"font.size\": 15,\n",
    "                     \"savefig.dpi\": 400,\n",
    "                     \"savefig.bbox\": 'tight',\n",
    "                     'text.latex.preamble': r'\\usepackage{amsfonts}'\n",
    "                    }\n",
    "                   )"
   ]
  },
  {
   "cell_type": "markdown",
   "id": "9414d183",
   "metadata": {},
   "source": [
    "### Load all x and y values "
   ]
  },
  {
   "cell_type": "code",
   "execution_count": 2,
   "id": "b60f03f6",
   "metadata": {},
   "outputs": [],
   "source": [
    "folder_name = '../data_peakwv_SPHERE/'\n",
    "metric_name = 'peakwv_SPHERE'\n",
    "iteration = 8\n",
    "for i in range(1,iteration):\n",
    "    s_array = np.load(folder_name + str(i) + '/spectra.npy')\n",
    "    obj = np.load(folder_name + str(i) + '/new_obj.npy')\n",
    "    if i == 1:\n",
    "        s_array_all = s_array\n",
    "        obj_all = obj\n",
    "    else:\n",
    "        s_array_all = np.vstack((s_array_all, s_array))\n",
    "        obj_all = np.vstack((obj_all, obj))\n",
    "all_spectra = s_array_all"
   ]
  },
  {
   "cell_type": "code",
   "execution_count": 3,
   "id": "e62beb94",
   "metadata": {},
   "outputs": [],
   "source": [
    "all_x = np.load(folder_name + str(iteration-1) + '/train_x.npy') #All x_values from 0th iteration to iteration-1 "
   ]
  },
  {
   "cell_type": "code",
   "execution_count": 4,
   "id": "65633ca9",
   "metadata": {},
   "outputs": [],
   "source": [
    "array = np.hstack((obj_all, all_x, all_spectra))"
   ]
  },
  {
   "cell_type": "code",
   "execution_count": 5,
   "id": "d34bb575",
   "metadata": {},
   "outputs": [],
   "source": [
    "sorted_array = array[np.argsort(array[:, 0])]"
   ]
  },
  {
   "cell_type": "markdown",
   "id": "333adb56",
   "metadata": {},
   "source": [
    "### Find the best sample in each iteration "
   ]
  },
  {
   "cell_type": "code",
   "execution_count": 6,
   "id": "9e84c948",
   "metadata": {},
   "outputs": [],
   "source": [
    "best_score = []\n",
    "wavelength = np.load(folder_name + '1/wavelengths.npy')\n",
    "for i in range(1,iteration):\n",
    "    s_array = np.load(folder_name + str(i) + '/spectra.npy')\n",
    "    obj = np.load(folder_name + str(i) + '/new_obj.npy')\n",
    "    x = np.load(folder_name + str(i) + '/new_x.npy')\n",
    "    array = np.hstack((obj, x, s_array))\n",
    "    sorted_array = array[np.argsort(array[:, 0])]\n",
    "    best_x = sorted_array[-1,1:3]\n",
    "    best_y = sorted_array[-1,3:]\n",
    "    best_score.append(sorted_array[-1,0])\n",
    "    if i == 1:\n",
    "        all_best_x = best_x\n",
    "        all_best_y = best_y\n",
    "    else:\n",
    "        all_best_x = np.vstack((all_best_x, best_x))\n",
    "        all_best_y = np.vstack((all_best_y, best_y))"
   ]
  },
  {
   "cell_type": "markdown",
   "id": "e7ede1d5",
   "metadata": {},
   "source": [
    "### Plot data "
   ]
  },
  {
   "cell_type": "code",
   "execution_count": 7,
   "id": "06400c2c",
   "metadata": {},
   "outputs": [],
   "source": [
    "target = pd.read_excel('Target_SPHERE.xlsx')\n",
    "target = np.asarray(target)\n",
    "target_spectra = target[:,1].reshape(-1,1)"
   ]
  },
  {
   "cell_type": "code",
   "execution_count": 8,
   "id": "6ad511e1",
   "metadata": {},
   "outputs": [],
   "source": [
    "#target = pd.read_excel('Target_ROD.xlsx')\n",
    "#target = target['B8'].values.reshape(-1,1)"
   ]
  },
  {
   "cell_type": "code",
   "execution_count": 9,
   "id": "9e546279",
   "metadata": {},
   "outputs": [
    {
     "data": {
      "image/png": "[encoded data removed]",
      "text/plain": [
       "<Figure size 504x288 with 1 Axes>"
      ]
     },
     "metadata": {
      "needs_background": "light"
     },
     "output_type": "display_data"
    }
   ],
   "source": [
    "cumulative_best = [best_score[0]]\n",
    "for i in range(1, len(best_score)):\n",
    "    if best_score[i] > best_score[i-1]:\n",
    "        cumulative_best.append(best_score[i])\n",
    "    else:\n",
    "        cumulative_best.append(cumulative_best[i-1])\n",
    "itr = np.linspace(0,iteration -2, iteration -1)\n",
    "fig, ax = plt.subplots(figsize=(7,4))\n",
    "plt.plot(itr, cumulative_best, '-o')\n",
    "plt.xlabel('Batch Number', fontsize = 15)\n",
    "plt.ylabel('Similarity Score', fontsize = 15)\n",
    "plt.savefig('../figures/' + metric_name + 'cumulative_best.png')"
   ]
  },
  {
   "cell_type": "code",
   "execution_count": null,
   "id": "491a6076",
   "metadata": {},
   "outputs": [],
   "source": []
  }
 ],
 "metadata": {
  "kernelspec": {
   "display_name": "Python 3",
   "language": "python",
   "name": "python3"
  },
  "language_info": {
   "codemirror_mode": {
    "name": "ipython",
    "version": 3
   },
   "file_extension": ".py",
   "mimetype": "text/x-python",
   "name": "python",
   "nbconvert_exporter": "python",
   "pygments_lexer": "ipython3",
   "version": "3.9.1"
  }
 },
 "nbformat": 4,
 "nbformat_minor": 5
}
