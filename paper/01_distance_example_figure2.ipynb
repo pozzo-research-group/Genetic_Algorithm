{
 "cells": [
  {
   "cell_type": "code",
   "execution_count": 1,
   "id": "0a0a475b",
   "metadata": {},
   "outputs": [
    {
     "name": "stderr",
     "output_type": "stream",
     "text": [
      "INFO: Using numpy backend\n"
     ]
    }
   ],
   "source": [
    "import numpy as np\n",
    "import matplotlib.pyplot as plt\n",
    "from matplotlib import cm\n",
    "import matplotlib\n",
    "plt.rcParams.update({\"text.usetex\": True,\n",
    "                     \"axes.spines.right\" : False,\n",
    "                     \"axes.spines.top\" : False,\n",
    "                     \"font.size\": 20,\n",
    "                     \"savefig.dpi\": 500,\n",
    "                     \"savefig.bbox\": 'tight',\n",
    "                     'text.latex.preamble': r'\\usepackage{amsfonts}\\usepackage[version=4]{mhchem}'\n",
    "                    }\n",
    "                   )\n",
    "\n",
    "from geomstats.geometry.euclidean import Euclidean\n",
    "from geomstats.geometry.functions import SRVF, ProbabilityDistributions, L2Space\n",
    "from geomstats.information_geometry.normal import NormalDistributions\n",
    "from geomstats.geometry.discrete_curves import DiscreteCurves\n",
    "import geomstats.backend as gs\n",
    "\n",
    "from head.distances import AmplitudePhaseDistance"
   ]
  },
  {
   "cell_type": "code",
   "execution_count": 2,
   "id": "ea1d0ee8",
   "metadata": {},
   "outputs": [],
   "source": [
    "N_SAMPLES = 100\n",
    "lambda_ = np.linspace(-5,5,num=N_SAMPLES)\n",
    "\n",
    "Rn = Euclidean(N_SAMPLES)\n",
    "srvf = SRVF(lambda_)\n",
    "L2 = L2Space(lambda_)\n",
    "normal = NormalDistributions()\n",
    "pdist = ProbabilityDistributions(lambda_)\n",
    "\n",
    "def gaussian(mu,sig):\n",
    "    scale = 1/(np.sqrt(2*np.pi)*sig)\n",
    "    return scale*np.exp(-np.power(lambda_ - mu, 2.) / (2 * np.power(sig, 2.)))"
   ]
  },
  {
   "cell_type": "code",
   "execution_count": 3,
   "id": "603d3623",
   "metadata": {},
   "outputs": [
    {
     "name": "stdout",
     "output_type": "stream",
     "text": [
      "Euclidean/MSE distance : [3.34, 3.34, 3.01]\n",
      "SRSF distance : [1.78, 1.78, 1.61]\n",
      "Amplitude-Phase distance : [0.55, 0.62, 0.57]\n",
      "L2 distance : [0.34, 0.34, 0.30]\n"
     ]
    },
    {
     "data": {
      "image/png": "[encoded data removed]",
      "text/plain": [
       "<Figure size 432x288 with 1 Axes>"
      ]
     },
     "metadata": {
      "needs_background": "light"
     },
     "output_type": "display_data"
    }
   ],
   "source": [
    "fig, ax = plt.subplots()\n",
    "y0 = gaussian(3,0.5)\n",
    "y1 = gaussian(-2,0.5)\n",
    "y2 = gaussian(-3,0.5)\n",
    "y3 = gaussian(-2,0.8)\n",
    "ax.plot(lambda_, y0, lw=2.0, label=r'$f_{0}$')\n",
    "ax.plot(lambda_, y1, color='k', lw=2.0, label=r'$f_{1}$')\n",
    "ax.plot(lambda_, y2, ls='--', color='k', lw=2.0, label=r'$f_{2}$')\n",
    "ax.plot(lambda_, y3, ls='dashdot', color='k', lw=2.0, label=r'$f_{3}$')\n",
    "print('Euclidean/MSE distance : [%.2f, %.2f, %.2f]'%(\n",
    "    Rn.metric.dist(y0, y1), \n",
    "    Rn.metric.dist(y0, y2),\n",
    "    Rn.metric.dist(y0, y3)\n",
    "))\n",
    "print('SRSF distance : [%.2f, %.2f, %.2f]'%(\n",
    "    srvf.metric.dist(y0, y1), \n",
    "    srvf.metric.dist(y0, y2),\n",
    "    srvf.metric.dist(y0, y3)\n",
    "))\n",
    "print('Amplitude-Phase distance : [%.2f, %.2f, %.2f]'%(\n",
    "    sum(AmplitudePhaseDistance(y0, y1, lambda_)), \n",
    "    sum(AmplitudePhaseDistance(y0, y2, lambda_)),\n",
    "    sum(AmplitudePhaseDistance(y0, y3, lambda_)),\n",
    "))\n",
    "print('L2 distance : [%.2f, %.2f, %.2f]'%(\n",
    "    L2.metric.dist(y0, y1), \n",
    "    L2.metric.dist(y0, y2),\n",
    "    L2.metric.dist(y0, y3)\n",
    "))\n",
    "ax.set_xlabel(r'$\\lambda$')\n",
    "ax.set_ylabel(r'$f(\\lambda)$')\n",
    "ax.legend()\n",
    "plt.savefig('../figures/flat_metrics.pdf')\n",
    "plt.show()"
   ]
  },
  {
   "cell_type": "code",
   "execution_count": 4,
   "id": "5d8e21e2",
   "metadata": {},
   "outputs": [
    {
     "data": {
      "text/plain": [
       "9.880239520958087"
      ]
     },
     "execution_count": 4,
     "metadata": {},
     "output_type": "execute_result"
    }
   ],
   "source": [
    "100*((3.34-3.01)/(3.34))"
   ]
  },
  {
   "cell_type": "code",
   "execution_count": 5,
   "id": "ef8b9e3f",
   "metadata": {},
   "outputs": [
    {
     "data": {
      "text/plain": [
       "9.550561797752804"
      ]
     },
     "execution_count": 5,
     "metadata": {},
     "output_type": "execute_result"
    }
   ],
   "source": [
    "100*((1.78-1.61)/(1.78))"
   ]
  },
  {
   "cell_type": "code",
   "execution_count": 6,
   "id": "32941312",
   "metadata": {},
   "outputs": [
    {
     "data": {
      "text/plain": [
       "3.508771929824545"
      ]
     },
     "execution_count": 6,
     "metadata": {},
     "output_type": "execute_result"
    }
   ],
   "source": [
    "100*((0.57-0.55)/(0.57))"
   ]
  },
  {
   "cell_type": "code",
   "execution_count": 7,
   "id": "1098bed7",
   "metadata": {},
   "outputs": [
    {
     "data": {
      "text/plain": [
       "11.764705882352951"
      ]
     },
     "execution_count": 7,
     "metadata": {},
     "output_type": "execute_result"
    }
   ],
   "source": [
    "100*((0.34-0.30)/(0.34))"
   ]
  },
  {
   "cell_type": "code",
   "execution_count": null,
   "id": "f323bfff",
   "metadata": {},
   "outputs": [],
   "source": []
  }
 ],
 "metadata": {
  "kernelspec": {
   "display_name": "Python [conda env:srsf] *",
   "language": "python",
   "name": "conda-env-srsf-py"
  },
  "language_info": {
   "codemirror_mode": {
    "name": "ipython",
    "version": 3
   },
   "file_extension": ".py",
   "mimetype": "text/x-python",
   "name": "python",
   "nbconvert_exporter": "python",
   "pygments_lexer": "ipython3",
   "version": "3.9.7"
  }
 },
 "nbformat": 4,
 "nbformat_minor": 5
}
